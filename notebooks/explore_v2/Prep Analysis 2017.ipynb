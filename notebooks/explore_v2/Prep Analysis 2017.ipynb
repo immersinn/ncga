{
 "cells": [
  {
   "cell_type": "code",
   "execution_count": 1,
   "metadata": {
    "collapsed": true
   },
   "outputs": [],
   "source": [
    "import sys\n",
    "import os"
   ]
  },
  {
   "cell_type": "code",
   "execution_count": 2,
   "metadata": {
    "collapsed": true
   },
   "outputs": [],
   "source": [
    "from importlib import reload"
   ]
  },
  {
   "cell_type": "code",
   "execution_count": 3,
   "metadata": {
    "collapsed": true
   },
   "outputs": [],
   "source": [
    "sys.path.append(os.path.join(os.path.abspath('../..'), 'src'))"
   ]
  },
  {
   "cell_type": "code",
   "execution_count": 4,
   "metadata": {
    "collapsed": false
   },
   "outputs": [],
   "source": [
    "import mysql_utils\n",
    "import mongo_utils"
   ]
  },
  {
   "cell_type": "code",
   "execution_count": 5,
   "metadata": {
    "collapsed": false
   },
   "outputs": [],
   "source": [
    "with mysql_utils.curWith(\"SELECT * FROM bills WHERE session = '2017' LIMIT 200\") as cur:\n",
    "    bill_info = mysql_utils.dfDocsFromCursor(cur)"
   ]
  },
  {
   "cell_type": "code",
   "execution_count": 6,
   "metadata": {
    "collapsed": false
   },
   "outputs": [
    {
     "data": {
      "text/html": [
       "<div>\n",
       "<table border=\"1\" class=\"dataframe\">\n",
       "  <thead>\n",
       "    <tr style=\"text-align: right;\">\n",
       "      <th></th>\n",
       "      <th>id</th>\n",
       "      <th>bill_id</th>\n",
       "      <th>session</th>\n",
       "      <th>date_filed</th>\n",
       "      <th>title</th>\n",
       "      <th>link</th>\n",
       "      <th>page_scraped</th>\n",
       "    </tr>\n",
       "  </thead>\n",
       "  <tbody>\n",
       "    <tr>\n",
       "      <th>0</th>\n",
       "      <td>1</td>\n",
       "      <td>H1</td>\n",
       "      <td>2017</td>\n",
       "      <td>2017-01-11</td>\n",
       "      <td>2017 House Temporary Rules.</td>\n",
       "      <td>/gascripts/BillLookUp/BillLookUp.pl?Session=20...</td>\n",
       "      <td>1</td>\n",
       "    </tr>\n",
       "    <tr>\n",
       "      <th>1</th>\n",
       "      <td>2</td>\n",
       "      <td>S1</td>\n",
       "      <td>2017</td>\n",
       "      <td>2017-01-11</td>\n",
       "      <td>2017 Senate Permanent Rules.</td>\n",
       "      <td>/gascripts/BillLookUp/BillLookUp.pl?Session=20...</td>\n",
       "      <td>1</td>\n",
       "    </tr>\n",
       "    <tr>\n",
       "      <th>2</th>\n",
       "      <td>3</td>\n",
       "      <td>S2</td>\n",
       "      <td>2017</td>\n",
       "      <td>2017-01-11</td>\n",
       "      <td>Adjourn Organizational Session.</td>\n",
       "      <td>/gascripts/BillLookUp/BillLookUp.pl?Session=20...</td>\n",
       "      <td>1</td>\n",
       "    </tr>\n",
       "    <tr>\n",
       "      <th>3</th>\n",
       "      <td>4</td>\n",
       "      <td>H2</td>\n",
       "      <td>2017</td>\n",
       "      <td>2017-01-25</td>\n",
       "      <td>Provide Certain Property Tax Relief.</td>\n",
       "      <td>/gascripts/BillLookUp/BillLookUp.pl?Session=20...</td>\n",
       "      <td>1</td>\n",
       "    </tr>\n",
       "    <tr>\n",
       "      <th>4</th>\n",
       "      <td>5</td>\n",
       "      <td>H3</td>\n",
       "      <td>2017</td>\n",
       "      <td>2017-01-25</td>\n",
       "      <td>Eminent Domain.</td>\n",
       "      <td>/gascripts/BillLookUp/BillLookUp.pl?Session=20...</td>\n",
       "      <td>1</td>\n",
       "    </tr>\n",
       "  </tbody>\n",
       "</table>\n",
       "</div>"
      ],
      "text/plain": [
       "   id bill_id  session  date_filed                                 title  \\\n",
       "0   1      H1     2017  2017-01-11           2017 House Temporary Rules.   \n",
       "1   2      S1     2017  2017-01-11          2017 Senate Permanent Rules.   \n",
       "2   3      S2     2017  2017-01-11       Adjourn Organizational Session.   \n",
       "3   4      H2     2017  2017-01-25  Provide Certain Property Tax Relief.   \n",
       "4   5      H3     2017  2017-01-25                       Eminent Domain.   \n",
       "\n",
       "                                                link  page_scraped  \n",
       "0  /gascripts/BillLookUp/BillLookUp.pl?Session=20...             1  \n",
       "1  /gascripts/BillLookUp/BillLookUp.pl?Session=20...             1  \n",
       "2  /gascripts/BillLookUp/BillLookUp.pl?Session=20...             1  \n",
       "3  /gascripts/BillLookUp/BillLookUp.pl?Session=20...             1  \n",
       "4  /gascripts/BillLookUp/BillLookUp.pl?Session=20...             1  "
      ]
     },
     "execution_count": 6,
     "metadata": {},
     "output_type": "execute_result"
    }
   ],
   "source": [
    "bill_info.head()"
   ]
  },
  {
   "cell_type": "code",
   "execution_count": 7,
   "metadata": {
    "collapsed": true
   },
   "outputs": [],
   "source": [
    "bill_ids = [int(i) for i in list(bill_info.id)]"
   ]
  },
  {
   "cell_type": "code",
   "execution_count": 8,
   "metadata": {
    "collapsed": false
   },
   "outputs": [],
   "source": [
    "with mongo_utils.collWith('ncga', 'bill_pages') as coll:\n",
    "    bill_pages = mongo_utils.dfDocsFromCursor(coll.find({'bill_id' : {'$in' : bill_ids}}, {'_id' : 0}))"
   ]
  },
  {
   "cell_type": "code",
   "execution_count": 9,
   "metadata": {
    "collapsed": false
   },
   "outputs": [
    {
     "data": {
      "text/html": [
       "<div>\n",
       "<table border=\"1\" class=\"dataframe\">\n",
       "  <thead>\n",
       "    <tr style=\"text-align: right;\">\n",
       "      <th></th>\n",
       "      <th>bill_id</th>\n",
       "      <th>html</th>\n",
       "    </tr>\n",
       "  </thead>\n",
       "  <tbody>\n",
       "    <tr>\n",
       "      <th>0</th>\n",
       "      <td>1</td>\n",
       "      <td>&lt;!doctype html&gt;\\n&lt;html&gt;\\n&lt;head&gt;\\n\\t&lt;meta name=...</td>\n",
       "    </tr>\n",
       "    <tr>\n",
       "      <th>1</th>\n",
       "      <td>2</td>\n",
       "      <td>b'&lt;!doctype html&gt;\\n&lt;html&gt;\\n&lt;head&gt;\\n\\t&lt;meta nam...</td>\n",
       "    </tr>\n",
       "    <tr>\n",
       "      <th>2</th>\n",
       "      <td>3</td>\n",
       "      <td>b'&lt;!doctype html&gt;\\n&lt;html&gt;\\n&lt;head&gt;\\n\\t&lt;meta nam...</td>\n",
       "    </tr>\n",
       "    <tr>\n",
       "      <th>3</th>\n",
       "      <td>4</td>\n",
       "      <td>b'&lt;!doctype html&gt;\\n&lt;html&gt;\\n&lt;head&gt;\\n\\t&lt;meta nam...</td>\n",
       "    </tr>\n",
       "    <tr>\n",
       "      <th>4</th>\n",
       "      <td>5</td>\n",
       "      <td>b'&lt;!doctype html&gt;\\n&lt;html&gt;\\n&lt;head&gt;\\n\\t&lt;meta nam...</td>\n",
       "    </tr>\n",
       "  </tbody>\n",
       "</table>\n",
       "</div>"
      ],
      "text/plain": [
       "   bill_id                                               html\n",
       "0        1  <!doctype html>\\n<html>\\n<head>\\n\\t<meta name=...\n",
       "1        2  b'<!doctype html>\\n<html>\\n<head>\\n\\t<meta nam...\n",
       "2        3  b'<!doctype html>\\n<html>\\n<head>\\n\\t<meta nam...\n",
       "3        4  b'<!doctype html>\\n<html>\\n<head>\\n\\t<meta nam...\n",
       "4        5  b'<!doctype html>\\n<html>\\n<head>\\n\\t<meta nam..."
      ]
     },
     "execution_count": 9,
     "metadata": {},
     "output_type": "execute_result"
    }
   ],
   "source": [
    "bill_pages.head()"
   ]
  },
  {
   "cell_type": "code",
   "execution_count": 10,
   "metadata": {
    "collapsed": true
   },
   "outputs": [],
   "source": [
    "from bs4 import BeautifulSoup as bs"
   ]
  },
  {
   "cell_type": "code",
   "execution_count": 11,
   "metadata": {
    "collapsed": true
   },
   "outputs": [],
   "source": [
    "import billpage_proc"
   ]
  },
  {
   "cell_type": "code",
   "execution_count": 12,
   "metadata": {
    "collapsed": false
   },
   "outputs": [],
   "source": [
    "bill_pages['soup'] = bill_pages.html.apply(lambda x: bs(x, 'html.parser'))"
   ]
  },
  {
   "cell_type": "code",
   "execution_count": 18,
   "metadata": {
    "collapsed": false,
    "scrolled": false
   },
   "outputs": [],
   "source": [
    "bill_pages['meta'] = bill_pages.soup.apply(billpage_proc.get_meta)"
   ]
  },
  {
   "cell_type": "code",
   "execution_count": 19,
   "metadata": {
    "collapsed": false
   },
   "outputs": [
    {
     "data": {
      "text/html": [
       "<div>\n",
       "<table border=\"1\" class=\"dataframe\">\n",
       "  <thead>\n",
       "    <tr style=\"text-align: right;\">\n",
       "      <th></th>\n",
       "      <th>bill_id</th>\n",
       "      <th>html</th>\n",
       "      <th>soup</th>\n",
       "      <th>meta</th>\n",
       "    </tr>\n",
       "  </thead>\n",
       "  <tbody>\n",
       "    <tr>\n",
       "      <th>0</th>\n",
       "      <td>1</td>\n",
       "      <td>&lt;!doctype html&gt;\\n&lt;html&gt;\\n&lt;head&gt;\\n\\t&lt;meta name=...</td>\n",
       "      <td>&lt;!DOCTYPE doctype html&gt;\n",
       "\n",
       "&lt;html&gt;\n",
       "&lt;head&gt;\n",
       "&lt;meta c...</td>\n",
       "      <td>[{'label': 'Last Action', 'content': 'Adopted ...</td>\n",
       "    </tr>\n",
       "    <tr>\n",
       "      <th>1</th>\n",
       "      <td>2</td>\n",
       "      <td>b'&lt;!doctype html&gt;\\n&lt;html&gt;\\n&lt;head&gt;\\n\\t&lt;meta nam...</td>\n",
       "      <td>&lt;!DOCTYPE doctype html&gt;\n",
       "\n",
       "&lt;html&gt;\n",
       "&lt;head&gt;\n",
       "&lt;meta c...</td>\n",
       "      <td>[{'label': 'Last Action', 'content': 'Adopted ...</td>\n",
       "    </tr>\n",
       "    <tr>\n",
       "      <th>2</th>\n",
       "      <td>3</td>\n",
       "      <td>b'&lt;!doctype html&gt;\\n&lt;html&gt;\\n&lt;head&gt;\\n\\t&lt;meta nam...</td>\n",
       "      <td>&lt;!DOCTYPE doctype html&gt;\n",
       "\n",
       "&lt;html&gt;\n",
       "&lt;head&gt;\n",
       "&lt;meta c...</td>\n",
       "      <td>[{'label': 'Last Action', 'content': 'Ch. Res ...</td>\n",
       "    </tr>\n",
       "    <tr>\n",
       "      <th>3</th>\n",
       "      <td>4</td>\n",
       "      <td>b'&lt;!doctype html&gt;\\n&lt;html&gt;\\n&lt;head&gt;\\n\\t&lt;meta nam...</td>\n",
       "      <td>&lt;!DOCTYPE doctype html&gt;\n",
       "\n",
       "&lt;html&gt;\n",
       "&lt;head&gt;\n",
       "&lt;meta c...</td>\n",
       "      <td>[{'label': 'Last Action', 'content': 'Re-ref C...</td>\n",
       "    </tr>\n",
       "    <tr>\n",
       "      <th>4</th>\n",
       "      <td>5</td>\n",
       "      <td>b'&lt;!doctype html&gt;\\n&lt;html&gt;\\n&lt;head&gt;\\n\\t&lt;meta nam...</td>\n",
       "      <td>&lt;!DOCTYPE doctype html&gt;\n",
       "\n",
       "&lt;html&gt;\n",
       "&lt;head&gt;\n",
       "&lt;meta c...</td>\n",
       "      <td>[{'label': 'Last Action', 'content': 'Ref To C...</td>\n",
       "    </tr>\n",
       "  </tbody>\n",
       "</table>\n",
       "</div>"
      ],
      "text/plain": [
       "   bill_id                                               html  \\\n",
       "0        1  <!doctype html>\\n<html>\\n<head>\\n\\t<meta name=...   \n",
       "1        2  b'<!doctype html>\\n<html>\\n<head>\\n\\t<meta nam...   \n",
       "2        3  b'<!doctype html>\\n<html>\\n<head>\\n\\t<meta nam...   \n",
       "3        4  b'<!doctype html>\\n<html>\\n<head>\\n\\t<meta nam...   \n",
       "4        5  b'<!doctype html>\\n<html>\\n<head>\\n\\t<meta nam...   \n",
       "\n",
       "                                                soup  \\\n",
       "0  <!DOCTYPE doctype html>\n",
       "\n",
       "<html>\n",
       "<head>\n",
       "<meta c...   \n",
       "1  <!DOCTYPE doctype html>\n",
       "\n",
       "<html>\n",
       "<head>\n",
       "<meta c...   \n",
       "2  <!DOCTYPE doctype html>\n",
       "\n",
       "<html>\n",
       "<head>\n",
       "<meta c...   \n",
       "3  <!DOCTYPE doctype html>\n",
       "\n",
       "<html>\n",
       "<head>\n",
       "<meta c...   \n",
       "4  <!DOCTYPE doctype html>\n",
       "\n",
       "<html>\n",
       "<head>\n",
       "<meta c...   \n",
       "\n",
       "                                                meta  \n",
       "0  [{'label': 'Last Action', 'content': 'Adopted ...  \n",
       "1  [{'label': 'Last Action', 'content': 'Adopted ...  \n",
       "2  [{'label': 'Last Action', 'content': 'Ch. Res ...  \n",
       "3  [{'label': 'Last Action', 'content': 'Re-ref C...  \n",
       "4  [{'label': 'Last Action', 'content': 'Ref To C...  "
      ]
     },
     "execution_count": 19,
     "metadata": {},
     "output_type": "execute_result"
    }
   ],
   "source": [
    "bill_pages.head()"
   ]
  },
  {
   "cell_type": "code",
   "execution_count": 21,
   "metadata": {
    "collapsed": false
   },
   "outputs": [
    {
     "ename": "IndexError",
     "evalue": "list index out of range",
     "output_type": "error",
     "traceback": [
      "\u001b[0;31m---------------------------------------------------------------------------\u001b[0m",
      "\u001b[0;31mIndexError\u001b[0m                                Traceback (most recent call last)",
      "\u001b[0;32m<ipython-input-21-311ff59ae86d>\u001b[0m in \u001b[0;36m<module>\u001b[0;34m()\u001b[0m\n\u001b[0;32m----> 1\u001b[0;31m \u001b[0mbill_pages\u001b[0m\u001b[0;34m[\u001b[0m\u001b[0;34m'ses_and_ed'\u001b[0m\u001b[0;34m]\u001b[0m \u001b[0;34m=\u001b[0m \u001b[0mbill_pages\u001b[0m\u001b[0;34m.\u001b[0m\u001b[0msoup\u001b[0m\u001b[0;34m.\u001b[0m\u001b[0mapply\u001b[0m\u001b[0;34m(\u001b[0m\u001b[0mbillpage_proc\u001b[0m\u001b[0;34m.\u001b[0m\u001b[0mget_session_and_editions\u001b[0m\u001b[0;34m)\u001b[0m\u001b[0;34m\u001b[0m\u001b[0m\n\u001b[0m",
      "\u001b[0;32m/home/immersinn/.virtualenvs/ncga/lib/python3.5/site-packages/pandas/core/series.py\u001b[0m in \u001b[0;36mapply\u001b[0;34m(self, func, convert_dtype, args, **kwds)\u001b[0m\n\u001b[1;32m   2292\u001b[0m             \u001b[0;32melse\u001b[0m\u001b[0;34m:\u001b[0m\u001b[0;34m\u001b[0m\u001b[0m\n\u001b[1;32m   2293\u001b[0m                 \u001b[0mvalues\u001b[0m \u001b[0;34m=\u001b[0m \u001b[0mself\u001b[0m\u001b[0;34m.\u001b[0m\u001b[0masobject\u001b[0m\u001b[0;34m\u001b[0m\u001b[0m\n\u001b[0;32m-> 2294\u001b[0;31m                 \u001b[0mmapped\u001b[0m \u001b[0;34m=\u001b[0m \u001b[0mlib\u001b[0m\u001b[0;34m.\u001b[0m\u001b[0mmap_infer\u001b[0m\u001b[0;34m(\u001b[0m\u001b[0mvalues\u001b[0m\u001b[0;34m,\u001b[0m \u001b[0mf\u001b[0m\u001b[0;34m,\u001b[0m \u001b[0mconvert\u001b[0m\u001b[0;34m=\u001b[0m\u001b[0mconvert_dtype\u001b[0m\u001b[0;34m)\u001b[0m\u001b[0;34m\u001b[0m\u001b[0m\n\u001b[0m\u001b[1;32m   2295\u001b[0m \u001b[0;34m\u001b[0m\u001b[0m\n\u001b[1;32m   2296\u001b[0m         \u001b[0;32mif\u001b[0m \u001b[0mlen\u001b[0m\u001b[0;34m(\u001b[0m\u001b[0mmapped\u001b[0m\u001b[0;34m)\u001b[0m \u001b[0;32mand\u001b[0m \u001b[0misinstance\u001b[0m\u001b[0;34m(\u001b[0m\u001b[0mmapped\u001b[0m\u001b[0;34m[\u001b[0m\u001b[0;36m0\u001b[0m\u001b[0;34m]\u001b[0m\u001b[0;34m,\u001b[0m \u001b[0mSeries\u001b[0m\u001b[0;34m)\u001b[0m\u001b[0;34m:\u001b[0m\u001b[0;34m\u001b[0m\u001b[0m\n",
      "\u001b[0;32mpandas/src/inference.pyx\u001b[0m in \u001b[0;36mpandas.lib.map_infer (pandas/lib.c:66124)\u001b[0;34m()\u001b[0m\n",
      "\u001b[0;32m/home/immersinn/gits/ncga/src/billpage_proc.py\u001b[0m in \u001b[0;36mget_session_and_editions\u001b[0;34m(soup)\u001b[0m\n\u001b[1;32m     88\u001b[0m                     'content' : bill_summaries.find('a')['href']})\n\u001b[1;32m     89\u001b[0m \u001b[0;34m\u001b[0m\u001b[0m\n\u001b[0;32m---> 90\u001b[0;31m     \u001b[0mheader\u001b[0m \u001b[0;34m=\u001b[0m \u001b[0mentries\u001b[0m\u001b[0;34m[\u001b[0m\u001b[0;36m1\u001b[0m\u001b[0;34m]\u001b[0m\u001b[0;34m\u001b[0m\u001b[0m\n\u001b[0m\u001b[1;32m     91\u001b[0m     \u001b[0mheader_values\u001b[0m \u001b[0;34m=\u001b[0m \u001b[0;34m[\u001b[0m\u001b[0mth\u001b[0m\u001b[0;34m.\u001b[0m\u001b[0mtext\u001b[0m \u001b[0;32mfor\u001b[0m \u001b[0mth\u001b[0m \u001b[0;32min\u001b[0m \u001b[0mheader\u001b[0m\u001b[0;34m.\u001b[0m\u001b[0mfind_all\u001b[0m\u001b[0;34m(\u001b[0m\u001b[0;34m'th'\u001b[0m\u001b[0;34m)\u001b[0m\u001b[0;34m]\u001b[0m\u001b[0;34m\u001b[0m\u001b[0m\n\u001b[1;32m     92\u001b[0m     \u001b[0medition_content\u001b[0m \u001b[0;34m=\u001b[0m \u001b[0mget_edition_content\u001b[0m\u001b[0;34m(\u001b[0m\u001b[0mentries\u001b[0m\u001b[0;34m[\u001b[0m\u001b[0;36m2\u001b[0m\u001b[0;34m:\u001b[0m\u001b[0;34m]\u001b[0m\u001b[0;34m,\u001b[0m \u001b[0mheader_values\u001b[0m\u001b[0;34m)\u001b[0m\u001b[0;34m\u001b[0m\u001b[0m\n",
      "\u001b[0;31mIndexError\u001b[0m: list index out of range"
     ]
    }
   ],
   "source": [
    "bill_pages['ses_and_ed'] = bill_pages.soup.apply(billpage_proc.get_session_and_editions)"
   ]
  },
  {
   "cell_type": "code",
   "execution_count": null,
   "metadata": {
    "collapsed": true
   },
   "outputs": [],
   "source": []
  }
 ],
 "metadata": {
  "kernelspec": {
   "display_name": "ncga (P3)",
   "language": "python",
   "name": "ncga (p3)"
  },
  "language_info": {
   "codemirror_mode": {
    "name": "ipython",
    "version": 3
   },
   "file_extension": ".py",
   "mimetype": "text/x-python",
   "name": "python",
   "nbconvert_exporter": "python",
   "pygments_lexer": "ipython3",
   "version": "3.5.2"
  }
 },
 "nbformat": 4,
 "nbformat_minor": 2
}
