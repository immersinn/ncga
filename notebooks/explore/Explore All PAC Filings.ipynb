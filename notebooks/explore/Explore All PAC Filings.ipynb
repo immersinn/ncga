{
 "cells": [
  {
   "cell_type": "code",
   "execution_count": 1,
   "metadata": {
    "collapsed": true
   },
   "outputs": [],
   "source": [
    "import os\n",
    "import sys"
   ]
  },
  {
   "cell_type": "code",
   "execution_count": 2,
   "metadata": {
    "collapsed": true
   },
   "outputs": [],
   "source": [
    "import pandas"
   ]
  },
  {
   "cell_type": "code",
   "execution_count": 3,
   "metadata": {
    "collapsed": false
   },
   "outputs": [],
   "source": [
    "sys.path.append(os.path.join(os.path.abspath('../..'), 'src'))"
   ]
  },
  {
   "cell_type": "code",
   "execution_count": 4,
   "metadata": {
    "collapsed": false
   },
   "outputs": [],
   "source": [
    "import utils"
   ]
  },
  {
   "cell_type": "code",
   "execution_count": 5,
   "metadata": {
    "collapsed": false
   },
   "outputs": [],
   "source": [
    "with open('/home/immersinn/Dropbox/Analytics/NCGA/PACDocs/NC Campaign Document Search By Type-2014.html') as f:\n",
    "    html = f.read()"
   ]
  },
  {
   "cell_type": "code",
   "execution_count": 6,
   "metadata": {
    "collapsed": false
   },
   "outputs": [],
   "source": [
    "from bs4 import BeautifulSoup as bs"
   ]
  },
  {
   "cell_type": "code",
   "execution_count": 7,
   "metadata": {
    "collapsed": true
   },
   "outputs": [],
   "source": [
    "soup = bs(html, 'html.parser')"
   ]
  },
  {
   "cell_type": "code",
   "execution_count": 8,
   "metadata": {
    "collapsed": true
   },
   "outputs": [],
   "source": [
    "tables = soup.find_all('table')"
   ]
  },
  {
   "cell_type": "code",
   "execution_count": 9,
   "metadata": {
    "collapsed": false
   },
   "outputs": [
    {
     "data": {
      "text/plain": [
       "1"
      ]
     },
     "execution_count": 9,
     "metadata": {},
     "output_type": "execute_result"
    }
   ],
   "source": [
    "len(tables)"
   ]
  },
  {
   "cell_type": "code",
   "execution_count": 10,
   "metadata": {
    "collapsed": true
   },
   "outputs": [],
   "source": [
    "table = tables[0]"
   ]
  },
  {
   "cell_type": "code",
   "execution_count": 11,
   "metadata": {
    "collapsed": true
   },
   "outputs": [],
   "source": [
    "rows = table.find_all('tr')"
   ]
  },
  {
   "cell_type": "code",
   "execution_count": 12,
   "metadata": {
    "collapsed": false
   },
   "outputs": [
    {
     "data": {
      "text/plain": [
       "12590"
      ]
     },
     "execution_count": 12,
     "metadata": {},
     "output_type": "execute_result"
    }
   ],
   "source": [
    "len(rows)"
   ]
  },
  {
   "cell_type": "code",
   "execution_count": 13,
   "metadata": {
    "collapsed": false
   },
   "outputs": [
    {
     "data": {
      "text/plain": [
       "['Committee Name',\n",
       " 'Report Year',\n",
       " 'Report Type',\n",
       " 'Amend',\n",
       " 'Received Date',\n",
       " 'Start Date',\n",
       " 'End Date',\n",
       " 'Image',\n",
       " 'Data']"
      ]
     },
     "execution_count": 13,
     "metadata": {},
     "output_type": "execute_result"
    }
   ],
   "source": [
    "header = rows[0]\n",
    "col_names = [h.text for h in header.find_all('td')]\n",
    "col_names"
   ]
  },
  {
   "cell_type": "code",
   "execution_count": 14,
   "metadata": {
    "collapsed": true
   },
   "outputs": [],
   "source": [
    "sub_info = rows[1:100]"
   ]
  },
  {
   "cell_type": "code",
   "execution_count": 15,
   "metadata": {
    "collapsed": false
   },
   "outputs": [
    {
     "data": {
      "text/plain": [
       "[<td nowrap=\"nowrap\">01ST CONG DIST DEC</td>,\n",
       " <td align=\"center\" nowrap=\"nowrap\" style=\"font-weight:normal;font-style:normal;text-decoration:none;\">2014</td>,\n",
       " <td nowrap=\"nowrap\">Fourth Quarter</td>,\n",
       " <td align=\"center\" nowrap=\"nowrap\" style=\"font-weight:normal;font-style:normal;text-decoration:none;\">N</td>,\n",
       " <td align=\"center\" nowrap=\"nowrap\" style=\"font-weight:normal;font-style:normal;text-decoration:none;\">01/06/2015</td>,\n",
       " <td align=\"center\" nowrap=\"nowrap\" style=\"font-weight:normal;font-style:normal;text-decoration:none;\">10/19/2014</td>,\n",
       " <td align=\"center\" nowrap=\"nowrap\" style=\"font-weight:normal;font-style:normal;text-decoration:none;\">12/31/2014</td>,\n",
       " <td align=\"center\" nowrap=\"nowrap\" style=\"font-weight:normal;font-style:normal;text-decoration:none;\"><a href=\"http://cf.ncsbe.gov/CFOrgLkup/cf_report_image.aspx?DID=182000\">IMAGE</a></td>,\n",
       " <td align=\"center\" nowrap=\"nowrap\" style=\"font-weight:normal;font-style:normal;text-decoration:none;\"><a href=\"http://cf.ncsbe.gov/CFOrgLkup/cf_report_sections.aspx?RID=132598&amp;SID=STA-C3826N-C-001&amp;CN=01ST%20CONG%20DIST%20DEC&amp;RN=2014%20Fourth%20Quarter\">DATA</a></td>]"
      ]
     },
     "execution_count": 15,
     "metadata": {},
     "output_type": "execute_result"
    }
   ],
   "source": [
    "sub_info[0].find_all('td')"
   ]
  },
  {
   "cell_type": "code",
   "execution_count": 16,
   "metadata": {
    "collapsed": false
   },
   "outputs": [
    {
     "name": "stdout",
     "output_type": "stream",
     "text": [
      "Committee Name - 01ST CONG DIST DEC\n",
      "Report Year - 2014\n",
      "Report Type - Penalty Assessment Letter\n",
      "Amend -  \n",
      "Received Date - 10/30/2014\n",
      "Start Date -  \n",
      "End Date -  \n",
      "Image - IMAGE: http://cf.ncsbe.gov/CFOrgLkup/cf_report_image.aspx?DID=179531\n",
      "Data - NO DATA LINK\n"
     ]
    }
   ],
   "source": [
    "for cn,col in zip(col_names, sub_info[3].find_all('td')):\n",
    "    a = col.find('a')\n",
    "    if a:\n",
    "        try:\n",
    "            print(cn + ' - ' + col.text + ': ' + col.find('a')['href'])\n",
    "        except KeyError:\n",
    "            print(cn + ' - ' + 'NO DATA LINK')\n",
    "    else:\n",
    "        print(cn + ' - ' + col.text)"
   ]
  },
  {
   "cell_type": "code",
   "execution_count": 17,
   "metadata": {
    "collapsed": true
   },
   "outputs": [],
   "source": [
    "def process_table(table, limit=100):\n",
    "    \n",
    "    def process_row(row):\n",
    "        data = {}\n",
    "        for cn, col in zip(col_names, row.find_all('td')):\n",
    "            a = col.find('a')\n",
    "            if a:\n",
    "                try:\n",
    "                    data[cn] = a['href']\n",
    "                except KeyError:\n",
    "                    data[cn] = ''\n",
    "            else:\n",
    "                data[cn] = col.text.strip()\n",
    "        return(data)\n",
    "\n",
    "    rows = table.find_all('tr')\n",
    "    col_names = [h.text for h in rows[0].find_all('td')]\n",
    "    \n",
    "    data = [process_row(row) for row in rows[1:limit]]\n",
    "    df = pandas.DataFrame(data)\n",
    "    df = df[col_names]\n",
    "    \n",
    "    return(df)"
   ]
  },
  {
   "cell_type": "code",
   "execution_count": 18,
   "metadata": {
    "collapsed": false
   },
   "outputs": [],
   "source": [
    "df = process_table(table, limit=100)"
   ]
  },
  {
   "cell_type": "code",
   "execution_count": 42,
   "metadata": {
    "collapsed": false
   },
   "outputs": [
    {
     "data": {
      "text/plain": [
       "(99, 9)"
      ]
     },
     "execution_count": 42,
     "metadata": {},
     "output_type": "execute_result"
    }
   ],
   "source": [
    "df.shape"
   ]
  },
  {
   "cell_type": "code",
   "execution_count": 20,
   "metadata": {
    "collapsed": false
   },
   "outputs": [
    {
     "data": {
      "text/html": [
       "<div>\n",
       "<table border=\"1\" class=\"dataframe\">\n",
       "  <thead>\n",
       "    <tr style=\"text-align: right;\">\n",
       "      <th></th>\n",
       "      <th>Committee Name</th>\n",
       "      <th>Report Year</th>\n",
       "      <th>Report Type</th>\n",
       "      <th>Amend</th>\n",
       "      <th>Received Date</th>\n",
       "      <th>Start Date</th>\n",
       "      <th>End Date</th>\n",
       "      <th>Image</th>\n",
       "      <th>Data</th>\n",
       "    </tr>\n",
       "  </thead>\n",
       "  <tbody>\n",
       "    <tr>\n",
       "      <th>0</th>\n",
       "      <td>01ST CONG DIST DEC</td>\n",
       "      <td>2014</td>\n",
       "      <td>Fourth Quarter</td>\n",
       "      <td>N</td>\n",
       "      <td>01/06/2015</td>\n",
       "      <td>10/19/2014</td>\n",
       "      <td>12/31/2014</td>\n",
       "      <td>http://cf.ncsbe.gov/CFOrgLkup/cf_report_image....</td>\n",
       "      <td>http://cf.ncsbe.gov/CFOrgLkup/cf_report_sectio...</td>\n",
       "    </tr>\n",
       "    <tr>\n",
       "      <th>1</th>\n",
       "      <td>01ST CONG DIST DEC</td>\n",
       "      <td>2014</td>\n",
       "      <td>Third Quarter</td>\n",
       "      <td>Y</td>\n",
       "      <td>01/06/2015</td>\n",
       "      <td>07/01/2014</td>\n",
       "      <td>10/18/2014</td>\n",
       "      <td>http://cf.ncsbe.gov/CFOrgLkup/cf_report_image....</td>\n",
       "      <td>http://cf.ncsbe.gov/CFOrgLkup/cf_report_sectio...</td>\n",
       "    </tr>\n",
       "    <tr>\n",
       "      <th>2</th>\n",
       "      <td>01ST CONG DIST DEC</td>\n",
       "      <td>2014</td>\n",
       "      <td>Paid Penalty Assessment or Forfeiture</td>\n",
       "      <td></td>\n",
       "      <td>11/07/2014</td>\n",
       "      <td></td>\n",
       "      <td></td>\n",
       "      <td>http://cf.ncsbe.gov/CFOrgLkup/cf_report_image....</td>\n",
       "      <td></td>\n",
       "    </tr>\n",
       "    <tr>\n",
       "      <th>3</th>\n",
       "      <td>01ST CONG DIST DEC</td>\n",
       "      <td>2014</td>\n",
       "      <td>Penalty Assessment Letter</td>\n",
       "      <td></td>\n",
       "      <td>10/30/2014</td>\n",
       "      <td></td>\n",
       "      <td></td>\n",
       "      <td>http://cf.ncsbe.gov/CFOrgLkup/cf_report_image....</td>\n",
       "      <td></td>\n",
       "    </tr>\n",
       "    <tr>\n",
       "      <th>4</th>\n",
       "      <td>01ST CONG DIST DEC</td>\n",
       "      <td>2014</td>\n",
       "      <td>Third Quarter</td>\n",
       "      <td>N</td>\n",
       "      <td>10/27/2014</td>\n",
       "      <td>07/01/2014</td>\n",
       "      <td>10/18/2014</td>\n",
       "      <td>http://cf.ncsbe.gov/CFOrgLkup/cf_report_image....</td>\n",
       "      <td></td>\n",
       "    </tr>\n",
       "  </tbody>\n",
       "</table>\n",
       "</div>"
      ],
      "text/plain": [
       "       Committee Name Report Year                            Report Type  \\\n",
       "0  01ST CONG DIST DEC        2014                         Fourth Quarter   \n",
       "1  01ST CONG DIST DEC        2014                          Third Quarter   \n",
       "2  01ST CONG DIST DEC        2014  Paid Penalty Assessment or Forfeiture   \n",
       "3  01ST CONG DIST DEC        2014              Penalty Assessment Letter   \n",
       "4  01ST CONG DIST DEC        2014                          Third Quarter   \n",
       "\n",
       "  Amend Received Date  Start Date    End Date  \\\n",
       "0     N    01/06/2015  10/19/2014  12/31/2014   \n",
       "1     Y    01/06/2015  07/01/2014  10/18/2014   \n",
       "2          11/07/2014                           \n",
       "3          10/30/2014                           \n",
       "4     N    10/27/2014  07/01/2014  10/18/2014   \n",
       "\n",
       "                                               Image  \\\n",
       "0  http://cf.ncsbe.gov/CFOrgLkup/cf_report_image....   \n",
       "1  http://cf.ncsbe.gov/CFOrgLkup/cf_report_image....   \n",
       "2  http://cf.ncsbe.gov/CFOrgLkup/cf_report_image....   \n",
       "3  http://cf.ncsbe.gov/CFOrgLkup/cf_report_image....   \n",
       "4  http://cf.ncsbe.gov/CFOrgLkup/cf_report_image....   \n",
       "\n",
       "                                                Data  \n",
       "0  http://cf.ncsbe.gov/CFOrgLkup/cf_report_sectio...  \n",
       "1  http://cf.ncsbe.gov/CFOrgLkup/cf_report_sectio...  \n",
       "2                                                     \n",
       "3                                                     \n",
       "4                                                     "
      ]
     },
     "execution_count": 20,
     "metadata": {},
     "output_type": "execute_result"
    }
   ],
   "source": [
    "df.head()"
   ]
  },
  {
   "cell_type": "code",
   "execution_count": 21,
   "metadata": {
    "collapsed": false
   },
   "outputs": [
    {
     "data": {
      "text/plain": [
       "array(['Fourth Quarter', 'Third Quarter',\n",
       "       'Paid Penalty Assessment or Forfeiture',\n",
       "       'Penalty Assessment Letter', 'Second Quarter', 'First Quarter', '',\n",
       "       'Certification of Treasurer',\n",
       "       'Political Party Executive Committee Exempt Sales Plan',\n",
       "       'Penalty Appeal', 'Miscellaneous Correspondence',\n",
       "       'Year End Semi-Annual', 'Mid Year Semi-Annual',\n",
       "       'Correspondence Returned Undeliverable or Unclaimed',\n",
       "       'Non-Compliance Letter'], dtype=object)"
      ]
     },
     "execution_count": 21,
     "metadata": {},
     "output_type": "execute_result"
    }
   ],
   "source": [
    "df['Report Type'].unique()"
   ]
  },
  {
   "cell_type": "markdown",
   "metadata": {},
   "source": [
    "## Test Code"
   ]
  },
  {
   "cell_type": "code",
   "execution_count": 37,
   "metadata": {
    "collapsed": false
   },
   "outputs": [
    {
     "data": {
      "text/plain": [
       "<module 'process_NCCampaignDocument_data' from '/home/immersinn/gits/ncga/src/process_NCCampaignDocument_data.py'>"
      ]
     },
     "execution_count": 37,
     "metadata": {},
     "output_type": "execute_result"
    }
   ],
   "source": [
    "reload(process_NCCampaignDocument_data)"
   ]
  },
  {
   "cell_type": "code",
   "execution_count": 31,
   "metadata": {
    "collapsed": true
   },
   "outputs": [],
   "source": [
    "import process_NCCampaignDocument_data"
   ]
  },
  {
   "cell_type": "code",
   "execution_count": 65,
   "metadata": {
    "collapsed": false
   },
   "outputs": [],
   "source": [
    "df2015 = process_NCCampaignDocument_data.lae_nccd('2015')"
   ]
  },
  {
   "cell_type": "code",
   "execution_count": 66,
   "metadata": {
    "collapsed": false
   },
   "outputs": [
    {
     "data": {
      "text/plain": [
       "(8988, 9)"
      ]
     },
     "execution_count": 66,
     "metadata": {},
     "output_type": "execute_result"
    }
   ],
   "source": [
    "df2015.shape"
   ]
  },
  {
   "cell_type": "code",
   "execution_count": 67,
   "metadata": {
    "collapsed": false
   },
   "outputs": [
    {
     "data": {
      "text/html": [
       "<div>\n",
       "<table border=\"1\" class=\"dataframe\">\n",
       "  <thead>\n",
       "    <tr style=\"text-align: right;\">\n",
       "      <th></th>\n",
       "      <th>committee</th>\n",
       "      <th>report_year</th>\n",
       "      <th>report_type</th>\n",
       "      <th>amend</th>\n",
       "      <th>rec_date</th>\n",
       "      <th>start_date</th>\n",
       "      <th>end_date</th>\n",
       "      <th>image_link</th>\n",
       "      <th>data_link</th>\n",
       "    </tr>\n",
       "  </thead>\n",
       "  <tbody>\n",
       "    <tr>\n",
       "      <th>0</th>\n",
       "      <td>01ST CONG DIST DEC</td>\n",
       "      <td>2015</td>\n",
       "      <td>Year End Semi-Annual</td>\n",
       "      <td>0</td>\n",
       "      <td>2016-01-26</td>\n",
       "      <td>2015-07-01</td>\n",
       "      <td>2015-12-31</td>\n",
       "      <td>http://cf.ncsbe.gov/CFOrgLkup/cf_report_image....</td>\n",
       "      <td></td>\n",
       "    </tr>\n",
       "    <tr>\n",
       "      <th>1</th>\n",
       "      <td>01ST CONG DIST DEC</td>\n",
       "      <td>2015</td>\n",
       "      <td>Mid Year Semi-Annual</td>\n",
       "      <td>1</td>\n",
       "      <td>2015-08-07</td>\n",
       "      <td>2015-01-01</td>\n",
       "      <td>2015-06-30</td>\n",
       "      <td>http://cf.ncsbe.gov/CFOrgLkup/cf_report_image....</td>\n",
       "      <td>http://cf.ncsbe.gov/CFOrgLkup/cf_report_sectio...</td>\n",
       "    </tr>\n",
       "    <tr>\n",
       "      <th>2</th>\n",
       "      <td>01ST CONG DIST DEC</td>\n",
       "      <td>2015</td>\n",
       "      <td>Mid Year Semi-Annual</td>\n",
       "      <td>0</td>\n",
       "      <td>2015-07-29</td>\n",
       "      <td>2015-01-01</td>\n",
       "      <td>2015-06-30</td>\n",
       "      <td>http://cf.ncsbe.gov/CFOrgLkup/cf_report_image....</td>\n",
       "      <td></td>\n",
       "    </tr>\n",
       "    <tr>\n",
       "      <th>3</th>\n",
       "      <td>01ST CONG DIST REC</td>\n",
       "      <td>2015</td>\n",
       "      <td>Year End Semi-Annual</td>\n",
       "      <td>0</td>\n",
       "      <td>2016-01-25</td>\n",
       "      <td>2015-07-01</td>\n",
       "      <td>2015-12-31</td>\n",
       "      <td>http://cf.ncsbe.gov/CFOrgLkup/cf_report_image....</td>\n",
       "      <td></td>\n",
       "    </tr>\n",
       "    <tr>\n",
       "      <th>4</th>\n",
       "      <td>01ST CONG DIST REC</td>\n",
       "      <td>2015</td>\n",
       "      <td>Mid Year Semi-Annual</td>\n",
       "      <td>0</td>\n",
       "      <td>2015-07-16</td>\n",
       "      <td>2015-01-01</td>\n",
       "      <td>2015-06-30</td>\n",
       "      <td>http://cf.ncsbe.gov/CFOrgLkup/cf_report_image....</td>\n",
       "      <td>http://cf.ncsbe.gov/CFOrgLkup/cf_report_sectio...</td>\n",
       "    </tr>\n",
       "  </tbody>\n",
       "</table>\n",
       "</div>"
      ],
      "text/plain": [
       "            committee report_year           report_type  amend    rec_date  \\\n",
       "0  01ST CONG DIST DEC        2015  Year End Semi-Annual      0  2016-01-26   \n",
       "1  01ST CONG DIST DEC        2015  Mid Year Semi-Annual      1  2015-08-07   \n",
       "2  01ST CONG DIST DEC        2015  Mid Year Semi-Annual      0  2015-07-29   \n",
       "3  01ST CONG DIST REC        2015  Year End Semi-Annual      0  2016-01-25   \n",
       "4  01ST CONG DIST REC        2015  Mid Year Semi-Annual      0  2015-07-16   \n",
       "\n",
       "   start_date    end_date                                         image_link  \\\n",
       "0  2015-07-01  2015-12-31  http://cf.ncsbe.gov/CFOrgLkup/cf_report_image....   \n",
       "1  2015-01-01  2015-06-30  http://cf.ncsbe.gov/CFOrgLkup/cf_report_image....   \n",
       "2  2015-01-01  2015-06-30  http://cf.ncsbe.gov/CFOrgLkup/cf_report_image....   \n",
       "3  2015-07-01  2015-12-31  http://cf.ncsbe.gov/CFOrgLkup/cf_report_image....   \n",
       "4  2015-01-01  2015-06-30  http://cf.ncsbe.gov/CFOrgLkup/cf_report_image....   \n",
       "\n",
       "                                           data_link  \n",
       "0                                                     \n",
       "1  http://cf.ncsbe.gov/CFOrgLkup/cf_report_sectio...  \n",
       "2                                                     \n",
       "3                                                     \n",
       "4  http://cf.ncsbe.gov/CFOrgLkup/cf_report_sectio...  "
      ]
     },
     "execution_count": 67,
     "metadata": {},
     "output_type": "execute_result"
    }
   ],
   "source": [
    "df2015.head()"
   ]
  },
  {
   "cell_type": "code",
   "execution_count": 68,
   "metadata": {
    "collapsed": false
   },
   "outputs": [
    {
     "data": {
      "text/html": [
       "<div>\n",
       "<table border=\"1\" class=\"dataframe\">\n",
       "  <thead>\n",
       "    <tr style=\"text-align: right;\">\n",
       "      <th></th>\n",
       "      <th>committee</th>\n",
       "      <th>report_year</th>\n",
       "      <th>report_type</th>\n",
       "      <th>amend</th>\n",
       "      <th>rec_date</th>\n",
       "      <th>start_date</th>\n",
       "      <th>end_date</th>\n",
       "      <th>image_link</th>\n",
       "      <th>data_link</th>\n",
       "    </tr>\n",
       "  </thead>\n",
       "  <tbody>\n",
       "    <tr>\n",
       "      <th>8983</th>\n",
       "      <td>ZENECA INC PAC</td>\n",
       "      <td>2015</td>\n",
       "      <td>Year End Semi-Annual</td>\n",
       "      <td>0</td>\n",
       "      <td>2016-01-29</td>\n",
       "      <td>2015-07-01</td>\n",
       "      <td>2015-12-31</td>\n",
       "      <td>http://cf.ncsbe.gov/CFOrgLkup/cf_report_image....</td>\n",
       "      <td></td>\n",
       "    </tr>\n",
       "    <tr>\n",
       "      <th>8984</th>\n",
       "      <td>ZENECA INC PAC</td>\n",
       "      <td>2015</td>\n",
       "      <td>Mid Year Semi-Annual</td>\n",
       "      <td>0</td>\n",
       "      <td>2015-07-30</td>\n",
       "      <td>2015-01-01</td>\n",
       "      <td>2015-06-30</td>\n",
       "      <td>http://cf.ncsbe.gov/CFOrgLkup/cf_report_image....</td>\n",
       "      <td></td>\n",
       "    </tr>\n",
       "    <tr>\n",
       "      <th>8985</th>\n",
       "      <td>ZUMWALT A VOICE FOR MOORE COUNTY</td>\n",
       "      <td>2015</td>\n",
       "      <td>Year End Semi-Annual</td>\n",
       "      <td>0</td>\n",
       "      <td>2016-02-01</td>\n",
       "      <td>2015-12-23</td>\n",
       "      <td>2015-12-31</td>\n",
       "      <td>http://cf.ncsbe.gov/CFOrgLkup/cf_report_image....</td>\n",
       "      <td>http://cf.ncsbe.gov/CFOrgLkup/cf_report_sectio...</td>\n",
       "    </tr>\n",
       "    <tr>\n",
       "      <th>8986</th>\n",
       "      <td>ZUMWALT A VOICE FOR MOORE COUNTY</td>\n",
       "      <td>2015</td>\n",
       "      <td></td>\n",
       "      <td>0</td>\n",
       "      <td>2015-12-28</td>\n",
       "      <td></td>\n",
       "      <td></td>\n",
       "      <td>http://cf.ncsbe.gov/CFOrgLkup/cf_report_image....</td>\n",
       "      <td></td>\n",
       "    </tr>\n",
       "    <tr>\n",
       "      <th>8987</th>\n",
       "      <td>ZUMWALT A VOICE FOR MOORE COUNTY</td>\n",
       "      <td>2015</td>\n",
       "      <td>Certification of Treasurer</td>\n",
       "      <td>0</td>\n",
       "      <td>2015-12-28</td>\n",
       "      <td></td>\n",
       "      <td></td>\n",
       "      <td>http://cf.ncsbe.gov/CFOrgLkup/cf_report_image....</td>\n",
       "      <td></td>\n",
       "    </tr>\n",
       "  </tbody>\n",
       "</table>\n",
       "</div>"
      ],
      "text/plain": [
       "                             committee report_year  \\\n",
       "8983                    ZENECA INC PAC        2015   \n",
       "8984                    ZENECA INC PAC        2015   \n",
       "8985  ZUMWALT A VOICE FOR MOORE COUNTY        2015   \n",
       "8986  ZUMWALT A VOICE FOR MOORE COUNTY        2015   \n",
       "8987  ZUMWALT A VOICE FOR MOORE COUNTY        2015   \n",
       "\n",
       "                     report_type  amend    rec_date  start_date    end_date  \\\n",
       "8983        Year End Semi-Annual      0  2016-01-29  2015-07-01  2015-12-31   \n",
       "8984        Mid Year Semi-Annual      0  2015-07-30  2015-01-01  2015-06-30   \n",
       "8985        Year End Semi-Annual      0  2016-02-01  2015-12-23  2015-12-31   \n",
       "8986                                  0  2015-12-28                           \n",
       "8987  Certification of Treasurer      0  2015-12-28                           \n",
       "\n",
       "                                             image_link  \\\n",
       "8983  http://cf.ncsbe.gov/CFOrgLkup/cf_report_image....   \n",
       "8984  http://cf.ncsbe.gov/CFOrgLkup/cf_report_image....   \n",
       "8985  http://cf.ncsbe.gov/CFOrgLkup/cf_report_image....   \n",
       "8986  http://cf.ncsbe.gov/CFOrgLkup/cf_report_image....   \n",
       "8987  http://cf.ncsbe.gov/CFOrgLkup/cf_report_image....   \n",
       "\n",
       "                                              data_link  \n",
       "8983                                                     \n",
       "8984                                                     \n",
       "8985  http://cf.ncsbe.gov/CFOrgLkup/cf_report_sectio...  \n",
       "8986                                                     \n",
       "8987                                                     "
      ]
     },
     "execution_count": 68,
     "metadata": {},
     "output_type": "execute_result"
    }
   ],
   "source": [
    "df2015.tail()"
   ]
  },
  {
   "cell_type": "code",
   "execution_count": 70,
   "metadata": {
    "collapsed": false
   },
   "outputs": [
    {
     "data": {
      "text/html": [
       "<div>\n",
       "<table border=\"1\" class=\"dataframe\">\n",
       "  <thead>\n",
       "    <tr style=\"text-align: right;\">\n",
       "      <th></th>\n",
       "      <th>committee</th>\n",
       "      <th>report_year</th>\n",
       "      <th>report_type</th>\n",
       "      <th>amend</th>\n",
       "      <th>rec_date</th>\n",
       "      <th>start_date</th>\n",
       "      <th>end_date</th>\n",
       "      <th>image_link</th>\n",
       "      <th>data_link</th>\n",
       "    </tr>\n",
       "  </thead>\n",
       "  <tbody>\n",
       "  </tbody>\n",
       "</table>\n",
       "</div>"
      ],
      "text/plain": [
       "Empty DataFrame\n",
       "Columns: [committee, report_year, report_type, amend, rec_date, start_date, end_date, image_link, data_link]\n",
       "Index: []"
      ]
     },
     "execution_count": 70,
     "metadata": {},
     "output_type": "execute_result"
    }
   ],
   "source": [
    "df2015[df2015.data_link=='MISSING DATA']"
   ]
  },
  {
   "cell_type": "code",
   "execution_count": 46,
   "metadata": {
    "collapsed": false
   },
   "outputs": [
    {
     "data": {
      "text/plain": [
       "count    6725.000000\n",
       "mean       31.903792\n",
       "std        62.597587\n",
       "min         0.000000\n",
       "25%         0.000000\n",
       "50%         0.000000\n",
       "75%         0.000000\n",
       "max       241.000000\n",
       "Name: Data, dtype: float64"
      ]
     },
     "execution_count": 46,
     "metadata": {},
     "output_type": "execute_result"
    }
   ],
   "source": [
    "df2015[''].apply(len).describe()"
   ]
  },
  {
   "cell_type": "code",
   "execution_count": 50,
   "metadata": {
    "collapsed": false
   },
   "outputs": [
    {
     "data": {
      "text/plain": [
       "['01', '26', '2016']"
      ]
     },
     "execution_count": 50,
     "metadata": {},
     "output_type": "execute_result"
    }
   ],
   "source": [
    "df2015['Received Date'][0].split('/')"
   ]
  },
  {
   "cell_type": "code",
   "execution_count": 51,
   "metadata": {
    "collapsed": false
   },
   "outputs": [
    {
     "data": {
      "text/plain": [
       "Index(['Committee Name', 'Report Year', 'Report Type', 'Amend',\n",
       "       'Received Date', 'Start Date', 'End Date', 'Image', 'Data'],\n",
       "      dtype='object')"
      ]
     },
     "execution_count": 51,
     "metadata": {},
     "output_type": "execute_result"
    }
   ],
   "source": [
    "df2014.columns"
   ]
  },
  {
   "cell_type": "code",
   "execution_count": 52,
   "metadata": {
    "collapsed": true
   },
   "outputs": [],
   "source": [
    "col_mapping = {'Committee Name' : 'committee', \n",
    "               'Report Year' : 'report_year',\n",
    "               'Report Type' : 'report_type',\n",
    "               'Amend' : 'amend',\n",
    "               'Received Date' : 'rec_date',\n",
    "               'Start Date' : 'start_date',\n",
    "               'End Date' : 'end_date',\n",
    "               'Image' : 'image_link',\n",
    "               'Data' : 'data_link',\n",
    "               }"
   ]
  },
  {
   "cell_type": "code",
   "execution_count": 53,
   "metadata": {
    "collapsed": true
   },
   "outputs": [],
   "source": [
    "df2014.columns = [col_mapping[c] for c in df2015.columns]"
   ]
  },
  {
   "cell_type": "code",
   "execution_count": 54,
   "metadata": {
    "collapsed": false
   },
   "outputs": [
    {
     "data": {
      "text/html": [
       "<div>\n",
       "<table border=\"1\" class=\"dataframe\">\n",
       "  <thead>\n",
       "    <tr style=\"text-align: right;\">\n",
       "      <th></th>\n",
       "      <th>committee</th>\n",
       "      <th>report_year</th>\n",
       "      <th>report_type</th>\n",
       "      <th>amend</th>\n",
       "      <th>rec_date</th>\n",
       "      <th>start_date</th>\n",
       "      <th>end_date</th>\n",
       "      <th>image_link</th>\n",
       "      <th>data_link</th>\n",
       "    </tr>\n",
       "  </thead>\n",
       "  <tbody>\n",
       "    <tr>\n",
       "      <th>0</th>\n",
       "      <td>01ST CONG DIST DEC</td>\n",
       "      <td>2015</td>\n",
       "      <td>Year End Semi-Annual</td>\n",
       "      <td>N</td>\n",
       "      <td>01/26/2016</td>\n",
       "      <td>07/01/2015</td>\n",
       "      <td>12/31/2015</td>\n",
       "      <td>http://cf.ncsbe.gov/CFOrgLkup/cf_report_image....</td>\n",
       "      <td></td>\n",
       "    </tr>\n",
       "    <tr>\n",
       "      <th>1</th>\n",
       "      <td>01ST CONG DIST DEC</td>\n",
       "      <td>2015</td>\n",
       "      <td>Mid Year Semi-Annual</td>\n",
       "      <td>Y</td>\n",
       "      <td>08/07/2015</td>\n",
       "      <td>01/01/2015</td>\n",
       "      <td>06/30/2015</td>\n",
       "      <td>http://cf.ncsbe.gov/CFOrgLkup/cf_report_image....</td>\n",
       "      <td>http://cf.ncsbe.gov/CFOrgLkup/cf_report_sectio...</td>\n",
       "    </tr>\n",
       "    <tr>\n",
       "      <th>2</th>\n",
       "      <td>01ST CONG DIST DEC</td>\n",
       "      <td>2015</td>\n",
       "      <td>Mid Year Semi-Annual</td>\n",
       "      <td>N</td>\n",
       "      <td>07/29/2015</td>\n",
       "      <td>01/01/2015</td>\n",
       "      <td>06/30/2015</td>\n",
       "      <td>http://cf.ncsbe.gov/CFOrgLkup/cf_report_image....</td>\n",
       "      <td></td>\n",
       "    </tr>\n",
       "    <tr>\n",
       "      <th>3</th>\n",
       "      <td>01ST CONG DIST REC</td>\n",
       "      <td>2015</td>\n",
       "      <td>Year End Semi-Annual</td>\n",
       "      <td>N</td>\n",
       "      <td>01/25/2016</td>\n",
       "      <td>07/01/2015</td>\n",
       "      <td>12/31/2015</td>\n",
       "      <td>http://cf.ncsbe.gov/CFOrgLkup/cf_report_image....</td>\n",
       "      <td></td>\n",
       "    </tr>\n",
       "    <tr>\n",
       "      <th>4</th>\n",
       "      <td>01ST CONG DIST REC</td>\n",
       "      <td>2015</td>\n",
       "      <td>Mid Year Semi-Annual</td>\n",
       "      <td>N</td>\n",
       "      <td>07/16/2015</td>\n",
       "      <td>01/01/2015</td>\n",
       "      <td>06/30/2015</td>\n",
       "      <td>http://cf.ncsbe.gov/CFOrgLkup/cf_report_image....</td>\n",
       "      <td>http://cf.ncsbe.gov/CFOrgLkup/cf_report_sectio...</td>\n",
       "    </tr>\n",
       "  </tbody>\n",
       "</table>\n",
       "</div>"
      ],
      "text/plain": [
       "            committee report_year           report_type amend    rec_date  \\\n",
       "0  01ST CONG DIST DEC        2015  Year End Semi-Annual     N  01/26/2016   \n",
       "1  01ST CONG DIST DEC        2015  Mid Year Semi-Annual     Y  08/07/2015   \n",
       "2  01ST CONG DIST DEC        2015  Mid Year Semi-Annual     N  07/29/2015   \n",
       "3  01ST CONG DIST REC        2015  Year End Semi-Annual     N  01/25/2016   \n",
       "4  01ST CONG DIST REC        2015  Mid Year Semi-Annual     N  07/16/2015   \n",
       "\n",
       "   start_date    end_date                                         image_link  \\\n",
       "0  07/01/2015  12/31/2015  http://cf.ncsbe.gov/CFOrgLkup/cf_report_image....   \n",
       "1  01/01/2015  06/30/2015  http://cf.ncsbe.gov/CFOrgLkup/cf_report_image....   \n",
       "2  01/01/2015  06/30/2015  http://cf.ncsbe.gov/CFOrgLkup/cf_report_image....   \n",
       "3  07/01/2015  12/31/2015  http://cf.ncsbe.gov/CFOrgLkup/cf_report_image....   \n",
       "4  01/01/2015  06/30/2015  http://cf.ncsbe.gov/CFOrgLkup/cf_report_image....   \n",
       "\n",
       "                                           data_link  \n",
       "0                                                     \n",
       "1  http://cf.ncsbe.gov/CFOrgLkup/cf_report_sectio...  \n",
       "2                                                     \n",
       "3                                                     \n",
       "4  http://cf.ncsbe.gov/CFOrgLkup/cf_report_sectio...  "
      ]
     },
     "execution_count": 54,
     "metadata": {},
     "output_type": "execute_result"
    }
   ],
   "source": [
    "df2015.head()"
   ]
  },
  {
   "cell_type": "markdown",
   "metadata": {},
   "source": [
    "## All Data"
   ]
  },
  {
   "cell_type": "code",
   "execution_count": 96,
   "metadata": {
    "collapsed": false
   },
   "outputs": [],
   "source": [
    "import init_NCCampaignDocument_table"
   ]
  },
  {
   "cell_type": "code",
   "execution_count": 139,
   "metadata": {
    "collapsed": false
   },
   "outputs": [
    {
     "data": {
      "text/plain": [
       "<module 'init_NCCampaignDocument_table' from '/home/immersinn/gits/ncga/src/init_NCCampaignDocument_table.py'>"
      ]
     },
     "execution_count": 139,
     "metadata": {},
     "output_type": "execute_result"
    }
   ],
   "source": [
    "reload(init_NCCampaignDocument_table)"
   ]
  },
  {
   "cell_type": "code",
   "execution_count": 143,
   "metadata": {
    "collapsed": false
   },
   "outputs": [],
   "source": [
    "df2014 = init_NCCampaignDocument_table.lae_nccd('2014')"
   ]
  },
  {
   "cell_type": "code",
   "execution_count": 144,
   "metadata": {
    "collapsed": false
   },
   "outputs": [
    {
     "data": {
      "text/plain": [
       "(13611, 9)"
      ]
     },
     "execution_count": 144,
     "metadata": {},
     "output_type": "execute_result"
    }
   ],
   "source": [
    "df2014.shape"
   ]
  },
  {
   "cell_type": "code",
   "execution_count": 145,
   "metadata": {
    "collapsed": false
   },
   "outputs": [
    {
     "data": {
      "text/html": [
       "<div>\n",
       "<table border=\"1\" class=\"dataframe\">\n",
       "  <thead>\n",
       "    <tr style=\"text-align: right;\">\n",
       "      <th></th>\n",
       "      <th>committee</th>\n",
       "      <th>report_year</th>\n",
       "      <th>report_type</th>\n",
       "      <th>amend</th>\n",
       "      <th>rec_date</th>\n",
       "      <th>start_date</th>\n",
       "      <th>end_date</th>\n",
       "      <th>image_link</th>\n",
       "      <th>data_link</th>\n",
       "    </tr>\n",
       "  </thead>\n",
       "  <tbody>\n",
       "    <tr>\n",
       "      <th>0</th>\n",
       "      <td>01ST CONG DIST DEC</td>\n",
       "      <td>2014</td>\n",
       "      <td>Fourth Quarter</td>\n",
       "      <td>0</td>\n",
       "      <td>2015-01-06</td>\n",
       "      <td>2014-10-19</td>\n",
       "      <td>2014-12-31</td>\n",
       "      <td>http://cf.ncsbe.gov/CFOrgLkup/cf_report_image....</td>\n",
       "      <td>http://cf.ncsbe.gov/CFOrgLkup/cf_report_sectio...</td>\n",
       "    </tr>\n",
       "    <tr>\n",
       "      <th>1</th>\n",
       "      <td>01ST CONG DIST DEC</td>\n",
       "      <td>2014</td>\n",
       "      <td>Third Quarter</td>\n",
       "      <td>1</td>\n",
       "      <td>2015-01-06</td>\n",
       "      <td>2014-07-01</td>\n",
       "      <td>2014-10-18</td>\n",
       "      <td>http://cf.ncsbe.gov/CFOrgLkup/cf_report_image....</td>\n",
       "      <td>http://cf.ncsbe.gov/CFOrgLkup/cf_report_sectio...</td>\n",
       "    </tr>\n",
       "    <tr>\n",
       "      <th>2</th>\n",
       "      <td>01ST CONG DIST DEC</td>\n",
       "      <td>2014</td>\n",
       "      <td>Paid Penalty Assessment or Forfeiture</td>\n",
       "      <td>0</td>\n",
       "      <td>2014-11-07</td>\n",
       "      <td></td>\n",
       "      <td></td>\n",
       "      <td>http://cf.ncsbe.gov/CFOrgLkup/cf_report_image....</td>\n",
       "      <td></td>\n",
       "    </tr>\n",
       "    <tr>\n",
       "      <th>3</th>\n",
       "      <td>01ST CONG DIST DEC</td>\n",
       "      <td>2014</td>\n",
       "      <td>Penalty Assessment Letter</td>\n",
       "      <td>0</td>\n",
       "      <td>2014-10-30</td>\n",
       "      <td></td>\n",
       "      <td></td>\n",
       "      <td>http://cf.ncsbe.gov/CFOrgLkup/cf_report_image....</td>\n",
       "      <td></td>\n",
       "    </tr>\n",
       "    <tr>\n",
       "      <th>4</th>\n",
       "      <td>01ST CONG DIST DEC</td>\n",
       "      <td>2014</td>\n",
       "      <td>Third Quarter</td>\n",
       "      <td>0</td>\n",
       "      <td>2014-10-27</td>\n",
       "      <td>2014-07-01</td>\n",
       "      <td>2014-10-18</td>\n",
       "      <td>http://cf.ncsbe.gov/CFOrgLkup/cf_report_image....</td>\n",
       "      <td></td>\n",
       "    </tr>\n",
       "  </tbody>\n",
       "</table>\n",
       "</div>"
      ],
      "text/plain": [
       "            committee report_year                            report_type  \\\n",
       "0  01ST CONG DIST DEC        2014                         Fourth Quarter   \n",
       "1  01ST CONG DIST DEC        2014                          Third Quarter   \n",
       "2  01ST CONG DIST DEC        2014  Paid Penalty Assessment or Forfeiture   \n",
       "3  01ST CONG DIST DEC        2014              Penalty Assessment Letter   \n",
       "4  01ST CONG DIST DEC        2014                          Third Quarter   \n",
       "\n",
       "  amend    rec_date  start_date    end_date  \\\n",
       "0     0  2015-01-06  2014-10-19  2014-12-31   \n",
       "1     1  2015-01-06  2014-07-01  2014-10-18   \n",
       "2     0  2014-11-07                           \n",
       "3     0  2014-10-30                           \n",
       "4     0  2014-10-27  2014-07-01  2014-10-18   \n",
       "\n",
       "                                          image_link  \\\n",
       "0  http://cf.ncsbe.gov/CFOrgLkup/cf_report_image....   \n",
       "1  http://cf.ncsbe.gov/CFOrgLkup/cf_report_image....   \n",
       "2  http://cf.ncsbe.gov/CFOrgLkup/cf_report_image....   \n",
       "3  http://cf.ncsbe.gov/CFOrgLkup/cf_report_image....   \n",
       "4  http://cf.ncsbe.gov/CFOrgLkup/cf_report_image....   \n",
       "\n",
       "                                           data_link  \n",
       "0  http://cf.ncsbe.gov/CFOrgLkup/cf_report_sectio...  \n",
       "1  http://cf.ncsbe.gov/CFOrgLkup/cf_report_sectio...  \n",
       "2                                                     \n",
       "3                                                     \n",
       "4                                                     "
      ]
     },
     "execution_count": 145,
     "metadata": {},
     "output_type": "execute_result"
    }
   ],
   "source": [
    "df2014.head()"
   ]
  },
  {
   "cell_type": "code",
   "execution_count": 146,
   "metadata": {
    "collapsed": false
   },
   "outputs": [
    {
     "data": {
      "text/html": [
       "<div>\n",
       "<table border=\"1\" class=\"dataframe\">\n",
       "  <thead>\n",
       "    <tr style=\"text-align: right;\">\n",
       "      <th></th>\n",
       "      <th>committee</th>\n",
       "      <th>report_year</th>\n",
       "      <th>report_type</th>\n",
       "      <th>amend</th>\n",
       "      <th>rec_date</th>\n",
       "      <th>start_date</th>\n",
       "      <th>end_date</th>\n",
       "      <th>image_link</th>\n",
       "      <th>data_link</th>\n",
       "    </tr>\n",
       "  </thead>\n",
       "  <tbody>\n",
       "    <tr>\n",
       "      <th>13606</th>\n",
       "      <td>YOUNTS FOR NC HOUSE</td>\n",
       "      <td>2014</td>\n",
       "      <td>48-Hour</td>\n",
       "      <td>0</td>\n",
       "      <td>2014-04-30</td>\n",
       "      <td></td>\n",
       "      <td></td>\n",
       "      <td>http://cf.ncsbe.gov/CFOrgLkup/cf_report_image....</td>\n",
       "      <td></td>\n",
       "    </tr>\n",
       "    <tr>\n",
       "      <th>13607</th>\n",
       "      <td>YOUNTS FOR NC HOUSE</td>\n",
       "      <td>2014</td>\n",
       "      <td>48-Hour</td>\n",
       "      <td>0</td>\n",
       "      <td>2014-04-28</td>\n",
       "      <td></td>\n",
       "      <td></td>\n",
       "      <td>http://cf.ncsbe.gov/CFOrgLkup/cf_report_image....</td>\n",
       "      <td></td>\n",
       "    </tr>\n",
       "    <tr>\n",
       "      <th>13608</th>\n",
       "      <td>ZENECA INC PAC</td>\n",
       "      <td>2014</td>\n",
       "      <td>Fourth Quarter</td>\n",
       "      <td>0</td>\n",
       "      <td>2015-01-12</td>\n",
       "      <td>2014-10-19</td>\n",
       "      <td>2014-12-31</td>\n",
       "      <td>http://cf.ncsbe.gov/CFOrgLkup/cf_report_image....</td>\n",
       "      <td></td>\n",
       "    </tr>\n",
       "    <tr>\n",
       "      <th>13609</th>\n",
       "      <td>ZENECA INC PAC</td>\n",
       "      <td>2014</td>\n",
       "      <td>Third Quarter</td>\n",
       "      <td>0</td>\n",
       "      <td>2014-10-23</td>\n",
       "      <td>2014-07-01</td>\n",
       "      <td>2014-10-18</td>\n",
       "      <td>http://cf.ncsbe.gov/CFOrgLkup/cf_report_image....</td>\n",
       "      <td></td>\n",
       "    </tr>\n",
       "    <tr>\n",
       "      <th>13610</th>\n",
       "      <td>ZENECA INC PAC</td>\n",
       "      <td>2014</td>\n",
       "      <td>Second Quarter</td>\n",
       "      <td>0</td>\n",
       "      <td>2014-07-09</td>\n",
       "      <td>2014-04-20</td>\n",
       "      <td>2014-06-30</td>\n",
       "      <td>http://cf.ncsbe.gov/CFOrgLkup/cf_report_image....</td>\n",
       "      <td></td>\n",
       "    </tr>\n",
       "  </tbody>\n",
       "</table>\n",
       "</div>"
      ],
      "text/plain": [
       "                 committee report_year     report_type amend    rec_date  \\\n",
       "13606  YOUNTS FOR NC HOUSE        2014         48-Hour     0  2014-04-30   \n",
       "13607  YOUNTS FOR NC HOUSE        2014         48-Hour     0  2014-04-28   \n",
       "13608       ZENECA INC PAC        2014  Fourth Quarter     0  2015-01-12   \n",
       "13609       ZENECA INC PAC        2014   Third Quarter     0  2014-10-23   \n",
       "13610       ZENECA INC PAC        2014  Second Quarter     0  2014-07-09   \n",
       "\n",
       "       start_date    end_date  \\\n",
       "13606                           \n",
       "13607                           \n",
       "13608  2014-10-19  2014-12-31   \n",
       "13609  2014-07-01  2014-10-18   \n",
       "13610  2014-04-20  2014-06-30   \n",
       "\n",
       "                                              image_link data_link  \n",
       "13606  http://cf.ncsbe.gov/CFOrgLkup/cf_report_image....            \n",
       "13607  http://cf.ncsbe.gov/CFOrgLkup/cf_report_image....            \n",
       "13608  http://cf.ncsbe.gov/CFOrgLkup/cf_report_image....            \n",
       "13609  http://cf.ncsbe.gov/CFOrgLkup/cf_report_image....            \n",
       "13610  http://cf.ncsbe.gov/CFOrgLkup/cf_report_image....            "
      ]
     },
     "execution_count": 146,
     "metadata": {},
     "output_type": "execute_result"
    }
   ],
   "source": [
    "df2014.tail()"
   ]
  },
  {
   "cell_type": "code",
   "execution_count": 147,
   "metadata": {
    "collapsed": false
   },
   "outputs": [
    {
     "data": {
      "text/plain": [
       "count    13611.000000\n",
       "mean        24.992359\n",
       "std         10.785938\n",
       "min          5.000000\n",
       "25%         17.500000\n",
       "50%         25.000000\n",
       "75%         31.000000\n",
       "max         89.000000\n",
       "Name: committee, dtype: float64"
      ]
     },
     "execution_count": 147,
     "metadata": {},
     "output_type": "execute_result"
    }
   ],
   "source": [
    "df2014.committee.apply(len).describe()"
   ]
  },
  {
   "cell_type": "code",
   "execution_count": 149,
   "metadata": {
    "collapsed": false
   },
   "outputs": [
    {
     "data": {
      "text/plain": [
       "count    13611.000000\n",
       "mean        60.923812\n",
       "std          2.154536\n",
       "min          0.000000\n",
       "25%         61.000000\n",
       "50%         61.000000\n",
       "75%         61.000000\n",
       "max         61.000000\n",
       "Name: image_link, dtype: float64"
      ]
     },
     "execution_count": 149,
     "metadata": {},
     "output_type": "execute_result"
    }
   ],
   "source": [
    "df2014.image_link.apply(len).describe()"
   ]
  },
  {
   "cell_type": "code",
   "execution_count": 150,
   "metadata": {
    "collapsed": false
   },
   "outputs": [
    {
     "data": {
      "text/plain": [
       "count    13611.000000\n",
       "mean        46.788774\n",
       "std         68.847038\n",
       "min          0.000000\n",
       "25%          0.000000\n",
       "50%          0.000000\n",
       "75%        134.000000\n",
       "max        241.000000\n",
       "Name: data_link, dtype: float64"
      ]
     },
     "execution_count": 150,
     "metadata": {},
     "output_type": "execute_result"
    }
   ],
   "source": [
    "df2014.data_link.apply(len).describe()"
   ]
  },
  {
   "cell_type": "code",
   "execution_count": 151,
   "metadata": {
    "collapsed": false
   },
   "outputs": [
    {
     "data": {
      "text/plain": [
       "count          13611\n",
       "unique           520\n",
       "top       2014-04-28\n",
       "freq             538\n",
       "Name: rec_date, dtype: object"
      ]
     },
     "execution_count": 151,
     "metadata": {},
     "output_type": "execute_result"
    }
   ],
   "source": [
    "df2014.rec_date.describe()"
   ]
  },
  {
   "cell_type": "markdown",
   "metadata": {},
   "source": [
    "## Names of all Report Types"
   ]
  },
  {
   "cell_type": "markdown",
   "metadata": {},
   "source": [
    "### From Selection Box"
   ]
  },
  {
   "cell_type": "code",
   "execution_count": 3,
   "metadata": {
    "collapsed": true
   },
   "outputs": [],
   "source": [
    "with open('/home/immersinn/gits/ncga/references/report_type_names.txt', 'r') as f:\n",
    "    rtn = f.readlines()"
   ]
  },
  {
   "cell_type": "code",
   "execution_count": 4,
   "metadata": {
    "collapsed": true
   },
   "outputs": [],
   "source": [
    "def process_rtn_entry(ent):\n",
    "    ent = ent.strip('\\n')\n",
    "    ent = ent.split(' - ')[1]\n",
    "    ent = ent.split(' (')[0]\n",
    "    return(ent)"
   ]
  },
  {
   "cell_type": "code",
   "execution_count": 5,
   "metadata": {
    "collapsed": false
   },
   "outputs": [
    {
     "data": {
      "text/plain": [
       "['24-Hour Electioneering Communications',\n",
       " '48-Hour',\n",
       " 'Annual',\n",
       " 'Audit Letter',\n",
       " 'Campaign Reporter',\n",
       " 'Candidate Designation of Committee Funds',\n",
       " 'Candidate Specific Communications',\n",
       " 'Certification of Inactive Status',\n",
       " 'Certification of Incorporated Political Committee',\n",
       " 'Certification of Return to Active Status',\n",
       " 'Certification of Threshold',\n",
       " 'Certification of Treasurer',\n",
       " 'Certification to Close Committee',\n",
       " 'Contribution from a Business Account Statement',\n",
       " 'Correspondence Returned Undeliverable or Unclaimed',\n",
       " 'Declaration of Intent',\n",
       " 'Deferred Notice',\n",
       " 'District Attorney Letter',\n",
       " 'Electioneering Communications Report',\n",
       " 'Federal Mid Year',\n",
       " 'Federal Year End',\n",
       " 'Final',\n",
       " 'First Quarter',\n",
       " 'Forgiven Loan Statement',\n",
       " 'Fourth Quarter',\n",
       " 'Independent Expenditure Political Committee Certification',\n",
       " 'Independent Expenditure Report',\n",
       " 'Independent Expenditure for Registered Committees',\n",
       " 'Independent Expenditure for non-Committees',\n",
       " 'Interim',\n",
       " 'Judicial Qualifying Contributions Report',\n",
       " 'Loan Proceeds Statement',\n",
       " 'Mid Year Semi-Annual',\n",
       " 'Miscellaneous Correspondence',\n",
       " 'Monthly',\n",
       " 'Municipal Voter-Owned Election Qualifying Contributions',\n",
       " 'Non-Compliance Letter',\n",
       " 'Non-Participating Candidate',\n",
       " 'Notice of Candidacy',\n",
       " 'Notice of Termination of Active Status',\n",
       " 'Notification of Change to Reporting Schedule',\n",
       " 'Organizational',\n",
       " 'Other',\n",
       " 'Paid Penalty Assessment or Forfeiture',\n",
       " 'Penalty Appeal',\n",
       " 'Penalty Appeal Decision',\n",
       " 'Penalty Assessment',\n",
       " 'Penalty Assessment Letter',\n",
       " 'Penalty Resolution Agreement Executed',\n",
       " 'Penalty Resolution Agreement Proposal',\n",
       " 'Penalty Waiver Letter',\n",
       " 'Political Party Executive Committee Exempt Sales Plan',\n",
       " 'Post General',\n",
       " 'Post Primary',\n",
       " 'Pre-Election',\n",
       " 'Pre-Primary',\n",
       " 'Pre-Referendum',\n",
       " 'Pre-Runoff',\n",
       " 'Rescind Letter',\n",
       " 'Second Quarter',\n",
       " 'Signed Penalty Waiver Agreement',\n",
       " 'Special',\n",
       " 'Statement of Organization',\n",
       " 'Supplemental Final',\n",
       " 'Ten-day',\n",
       " 'Third Quarter',\n",
       " 'Thirty-day',\n",
       " 'Thirty-five-day',\n",
       " 'Twelve-day',\n",
       " 'Voter-Owned Election Qualifying Contributions',\n",
       " 'Weekly',\n",
       " 'Year End Semi-Annual']"
      ]
     },
     "execution_count": 5,
     "metadata": {},
     "output_type": "execute_result"
    }
   ],
   "source": [
    "rtns = list(set([process_rtn_entry(r) for r in rtn]))\n",
    "rtns = sorted(rtns)\n",
    "rtns"
   ]
  },
  {
   "cell_type": "code",
   "execution_count": 9,
   "metadata": {
    "collapsed": false
   },
   "outputs": [
    {
     "data": {
      "text/plain": [
       "\"'24-Hour Electioneering Communications','48-Hour','Annual','Audit Letter','Campaign Reporter','Candidate Designation of Committee Funds','Candidate Specific Communications','Certification of Inactive Status','Certification of Incorporated Political Committee','Certification of Return to Active Status','Certification of Threshold','Certification of Treasurer','Certification to Close Committee','Contribution from a Business Account Statement','Correspondence Returned Undeliverable or Unclaimed','Declaration of Intent','Deferred Notice','District Attorney Letter','Electioneering Communications Report','Federal Mid Year','Federal Year End','Final','First Quarter','Forgiven Loan Statement','Fourth Quarter','Independent Expenditure Political Committee Certification','Independent Expenditure Report','Independent Expenditure for Registered Committees','Independent Expenditure for non-Committees','Interim','Judicial Qualifying Contributions Report','Loan Proceeds Statement','Mid Year Semi-Annual','Miscellaneous Correspondence','Monthly','Municipal Voter-Owned Election Qualifying Contributions','Non-Compliance Letter','Non-Participating Candidate','Notice of Candidacy','Notice of Termination of Active Status','Notification of Change to Reporting Schedule','Organizational','Other','Paid Penalty Assessment or Forfeiture','Penalty Appeal','Penalty Appeal Decision','Penalty Assessment','Penalty Assessment Letter','Penalty Resolution Agreement Executed','Penalty Resolution Agreement Proposal','Penalty Waiver Letter','Political Party Executive Committee Exempt Sales Plan','Post General','Post Primary','Pre-Election','Pre-Primary','Pre-Referendum','Pre-Runoff','Rescind Letter','Second Quarter','Signed Penalty Waiver Agreement','Special','Statement of Organization','Supplemental Final','Ten-day','Third Quarter','Thirty-day','Thirty-five-day','Twelve-day','Voter-Owned Election Qualifying Contributions','Weekly','Year End Semi-Annual'\""
      ]
     },
     "execution_count": 9,
     "metadata": {},
     "output_type": "execute_result"
    }
   ],
   "source": [
    "','.join([\"'\" + r + \"'\" for r in rtns])"
   ]
  },
  {
   "cell_type": "markdown",
   "metadata": {},
   "source": [
    "### From Data"
   ]
  },
  {
   "cell_type": "code",
   "execution_count": 164,
   "metadata": {
    "collapsed": false
   },
   "outputs": [
    {
     "data": {
      "text/plain": [
       "['',\n",
       " '24-Hour Electioneering Communications',\n",
       " '48-Hour',\n",
       " 'Annual',\n",
       " 'Audit Letter',\n",
       " 'Candidate Designation of Committee Funds',\n",
       " 'Certification of Inactive Status',\n",
       " 'Certification of Incorporated Political Committee',\n",
       " 'Certification of Return to Active Status',\n",
       " 'Certification of Threshold',\n",
       " 'Certification of Treasurer',\n",
       " 'Certification to Close Committee',\n",
       " 'Contribution from a Business Account Statement',\n",
       " 'Correspondence Returned Undeliverable or Unclaimed',\n",
       " 'Deferred Notice',\n",
       " 'District Attorney Letter',\n",
       " 'Electioneering Communications Report',\n",
       " 'Final',\n",
       " 'First Quarter',\n",
       " 'Forgiven Loan Statement',\n",
       " 'Fourth Quarter',\n",
       " 'Independent Expenditure Report',\n",
       " 'Independent Expenditure for Registered Committees',\n",
       " 'Independent Expenditure for non-Committees',\n",
       " 'Loan Proceeds Statement',\n",
       " 'Mid Year Semi-Annual',\n",
       " 'Miscellaneous Correspondence',\n",
       " 'Non-Compliance Letter',\n",
       " 'Notice of Candidacy',\n",
       " 'Notice of Termination of Active Status',\n",
       " 'Organizational',\n",
       " 'Paid Penalty Assessment or Forfeiture',\n",
       " 'Penalty Appeal',\n",
       " 'Penalty Appeal Decision',\n",
       " 'Penalty Assessment - 30 Days Aged',\n",
       " 'Penalty Assessment Letter',\n",
       " 'Penalty Resolution Agreement Executed',\n",
       " 'Penalty Waiver Letter',\n",
       " 'Political Party Executive Committee Exempt Sales Plan',\n",
       " 'Pre-Election',\n",
       " 'Pre-Primary',\n",
       " 'Pre-Referendum',\n",
       " 'Pre-Runoff',\n",
       " 'Second Quarter',\n",
       " 'Special',\n",
       " 'Supplemental Final',\n",
       " 'Ten-day',\n",
       " 'Third Quarter',\n",
       " 'Thirty-five-day',\n",
       " 'Year End Semi-Annual']"
      ]
     },
     "execution_count": 164,
     "metadata": {},
     "output_type": "execute_result"
    }
   ],
   "source": [
    "sorted(dfall.report_type.unique())"
   ]
  }
 ],
 "metadata": {
  "kernelspec": {
   "display_name": "ncga (P3)",
   "language": "python",
   "name": "ncga (p3)"
  },
  "language_info": {
   "codemirror_mode": {
    "name": "ipython",
    "version": 3
   },
   "file_extension": ".py",
   "mimetype": "text/x-python",
   "name": "python",
   "nbconvert_exporter": "python",
   "pygments_lexer": "ipython3",
   "version": "3.5.2"
  }
 },
 "nbformat": 4,
 "nbformat_minor": 2
}
