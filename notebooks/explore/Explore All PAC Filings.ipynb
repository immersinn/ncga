{
 "cells": [
  {
   "cell_type": "code",
   "execution_count": 34,
   "metadata": {
    "collapsed": true
   },
   "outputs": [],
   "source": [
    "import os\n",
    "import sys"
   ]
  },
  {
   "cell_type": "code",
   "execution_count": 35,
   "metadata": {
    "collapsed": true
   },
   "outputs": [],
   "source": [
    "import pandas"
   ]
  },
  {
   "cell_type": "code",
   "execution_count": 2,
   "metadata": {
    "collapsed": false
   },
   "outputs": [],
   "source": [
    "sys.path.append(os.path.join(os.path.abspath('../..'), 'src'))"
   ]
  },
  {
   "cell_type": "code",
   "execution_count": 3,
   "metadata": {
    "collapsed": false
   },
   "outputs": [],
   "source": [
    "import utils"
   ]
  },
  {
   "cell_type": "code",
   "execution_count": 4,
   "metadata": {
    "collapsed": false
   },
   "outputs": [],
   "source": [
    "with open('/home/immersinn/Dropbox/Analytics/NCGA/PACDocs/NC Campaign Document Search By Type-2014.html') as f:\n",
    "    html = f.read()"
   ]
  },
  {
   "cell_type": "code",
   "execution_count": 5,
   "metadata": {
    "collapsed": false
   },
   "outputs": [],
   "source": [
    "from bs4 import BeautifulSoup as bs"
   ]
  },
  {
   "cell_type": "code",
   "execution_count": 6,
   "metadata": {
    "collapsed": true
   },
   "outputs": [],
   "source": [
    "soup = bs(html, 'html.parser')"
   ]
  },
  {
   "cell_type": "code",
   "execution_count": 7,
   "metadata": {
    "collapsed": true
   },
   "outputs": [],
   "source": [
    "tables = soup.find_all('table')"
   ]
  },
  {
   "cell_type": "code",
   "execution_count": 8,
   "metadata": {
    "collapsed": false
   },
   "outputs": [
    {
     "data": {
      "text/plain": [
       "1"
      ]
     },
     "execution_count": 8,
     "metadata": {},
     "output_type": "execute_result"
    }
   ],
   "source": [
    "len(tables)"
   ]
  },
  {
   "cell_type": "code",
   "execution_count": 9,
   "metadata": {
    "collapsed": true
   },
   "outputs": [],
   "source": [
    "table = tables[0]"
   ]
  },
  {
   "cell_type": "code",
   "execution_count": 10,
   "metadata": {
    "collapsed": true
   },
   "outputs": [],
   "source": [
    "rows = table.find_all('tr')"
   ]
  },
  {
   "cell_type": "code",
   "execution_count": 11,
   "metadata": {
    "collapsed": false
   },
   "outputs": [
    {
     "data": {
      "text/plain": [
       "12590"
      ]
     },
     "execution_count": 11,
     "metadata": {},
     "output_type": "execute_result"
    }
   ],
   "source": [
    "len(rows)"
   ]
  },
  {
   "cell_type": "code",
   "execution_count": 17,
   "metadata": {
    "collapsed": false
   },
   "outputs": [
    {
     "data": {
      "text/plain": [
       "['Committee Name',\n",
       " 'Report Year',\n",
       " 'Report Type',\n",
       " 'Amend',\n",
       " 'Received Date',\n",
       " 'Start Date',\n",
       " 'End Date',\n",
       " 'Image',\n",
       " 'Data']"
      ]
     },
     "execution_count": 17,
     "metadata": {},
     "output_type": "execute_result"
    }
   ],
   "source": [
    "header = rows[0]\n",
    "col_names = [h.text for h in header.find_all('td')]\n",
    "col_names"
   ]
  },
  {
   "cell_type": "code",
   "execution_count": 18,
   "metadata": {
    "collapsed": true
   },
   "outputs": [],
   "source": [
    "sub_info = rows[1:100]"
   ]
  },
  {
   "cell_type": "code",
   "execution_count": 21,
   "metadata": {
    "collapsed": false
   },
   "outputs": [
    {
     "data": {
      "text/plain": [
       "[<td nowrap=\"nowrap\">01ST CONG DIST DEC</td>,\n",
       " <td align=\"center\" nowrap=\"nowrap\" style=\"font-weight:normal;font-style:normal;text-decoration:none;\">2014</td>,\n",
       " <td nowrap=\"nowrap\">Fourth Quarter</td>,\n",
       " <td align=\"center\" nowrap=\"nowrap\" style=\"font-weight:normal;font-style:normal;text-decoration:none;\">N</td>,\n",
       " <td align=\"center\" nowrap=\"nowrap\" style=\"font-weight:normal;font-style:normal;text-decoration:none;\">01/06/2015</td>,\n",
       " <td align=\"center\" nowrap=\"nowrap\" style=\"font-weight:normal;font-style:normal;text-decoration:none;\">10/19/2014</td>,\n",
       " <td align=\"center\" nowrap=\"nowrap\" style=\"font-weight:normal;font-style:normal;text-decoration:none;\">12/31/2014</td>,\n",
       " <td align=\"center\" nowrap=\"nowrap\" style=\"font-weight:normal;font-style:normal;text-decoration:none;\"><a href=\"http://cf.ncsbe.gov/CFOrgLkup/cf_report_image.aspx?DID=182000\">IMAGE</a></td>,\n",
       " <td align=\"center\" nowrap=\"nowrap\" style=\"font-weight:normal;font-style:normal;text-decoration:none;\"><a href=\"http://cf.ncsbe.gov/CFOrgLkup/cf_report_sections.aspx?RID=132598&amp;SID=STA-C3826N-C-001&amp;CN=01ST%20CONG%20DIST%20DEC&amp;RN=2014%20Fourth%20Quarter\">DATA</a></td>]"
      ]
     },
     "execution_count": 21,
     "metadata": {},
     "output_type": "execute_result"
    }
   ],
   "source": [
    "sub_info[0].find_all('td')"
   ]
  },
  {
   "cell_type": "code",
   "execution_count": 28,
   "metadata": {
    "collapsed": false
   },
   "outputs": [
    {
     "name": "stdout",
     "output_type": "stream",
     "text": [
      "Committee Name - 01ST CONG DIST DEC\n",
      "Report Year - 2014\n",
      "Report Type - Penalty Assessment Letter\n",
      "Amend -  \n",
      "Received Date - 10/30/2014\n",
      "Start Date -  \n",
      "End Date -  \n",
      "Image - IMAGE: http://cf.ncsbe.gov/CFOrgLkup/cf_report_image.aspx?DID=179531\n",
      "Data - NO DATA LINK\n"
     ]
    }
   ],
   "source": [
    "for cn,col in zip(col_names, sub_info[3].find_all('td')):\n",
    "    a = col.find('a')\n",
    "    if a:\n",
    "        try:\n",
    "            print(cn + ' - ' + col.text + ': ' + col.find('a')['href'])\n",
    "        except KeyError:\n",
    "            print(cn + ' - ' + 'NO DATA LINK')\n",
    "    else:\n",
    "        print(cn + ' - ' + col.text)"
   ]
  },
  {
   "cell_type": "code",
   "execution_count": 44,
   "metadata": {
    "collapsed": true
   },
   "outputs": [],
   "source": [
    "def process_table(table, limit=100):\n",
    "    \n",
    "    def process_row(row):\n",
    "        data = {}\n",
    "        for cn, col in zip(col_names, row.find_all('td')):\n",
    "            a = col.find('a')\n",
    "            if a:\n",
    "                try:\n",
    "                    data[cn] = a['href']\n",
    "                except KeyError:\n",
    "                    data[cn] = ''\n",
    "            else:\n",
    "                data[cn] = col.text.strip()\n",
    "        return(data)\n",
    "\n",
    "    rows = table.find_all('tr')\n",
    "    col_names = [h.text for h in rows[0].find_all('td')]\n",
    "    \n",
    "    data = [process_row(row) for row in rows[1:limit]]\n",
    "    df = pandas.DataFrame(data)\n",
    "    df = df[col_names]\n",
    "    \n",
    "    return(df)"
   ]
  },
  {
   "cell_type": "code",
   "execution_count": 45,
   "metadata": {
    "collapsed": false
   },
   "outputs": [],
   "source": [
    "df = process_table(table, limit=100)"
   ]
  },
  {
   "cell_type": "code",
   "execution_count": 46,
   "metadata": {
    "collapsed": false
   },
   "outputs": [
    {
     "data": {
      "text/plain": [
       "(99, 9)"
      ]
     },
     "execution_count": 46,
     "metadata": {},
     "output_type": "execute_result"
    }
   ],
   "source": [
    "df.shape"
   ]
  },
  {
   "cell_type": "code",
   "execution_count": 47,
   "metadata": {
    "collapsed": false
   },
   "outputs": [
    {
     "data": {
      "text/html": [
       "<div>\n",
       "<table border=\"1\" class=\"dataframe\">\n",
       "  <thead>\n",
       "    <tr style=\"text-align: right;\">\n",
       "      <th></th>\n",
       "      <th>Committee Name</th>\n",
       "      <th>Report Year</th>\n",
       "      <th>Report Type</th>\n",
       "      <th>Amend</th>\n",
       "      <th>Received Date</th>\n",
       "      <th>Start Date</th>\n",
       "      <th>End Date</th>\n",
       "      <th>Image</th>\n",
       "      <th>Data</th>\n",
       "    </tr>\n",
       "  </thead>\n",
       "  <tbody>\n",
       "    <tr>\n",
       "      <th>0</th>\n",
       "      <td>01ST CONG DIST DEC</td>\n",
       "      <td>2014</td>\n",
       "      <td>Fourth Quarter</td>\n",
       "      <td>N</td>\n",
       "      <td>01/06/2015</td>\n",
       "      <td>10/19/2014</td>\n",
       "      <td>12/31/2014</td>\n",
       "      <td>http://cf.ncsbe.gov/CFOrgLkup/cf_report_image....</td>\n",
       "      <td>http://cf.ncsbe.gov/CFOrgLkup/cf_report_sectio...</td>\n",
       "    </tr>\n",
       "    <tr>\n",
       "      <th>1</th>\n",
       "      <td>01ST CONG DIST DEC</td>\n",
       "      <td>2014</td>\n",
       "      <td>Third Quarter</td>\n",
       "      <td>Y</td>\n",
       "      <td>01/06/2015</td>\n",
       "      <td>07/01/2014</td>\n",
       "      <td>10/18/2014</td>\n",
       "      <td>http://cf.ncsbe.gov/CFOrgLkup/cf_report_image....</td>\n",
       "      <td>http://cf.ncsbe.gov/CFOrgLkup/cf_report_sectio...</td>\n",
       "    </tr>\n",
       "    <tr>\n",
       "      <th>2</th>\n",
       "      <td>01ST CONG DIST DEC</td>\n",
       "      <td>2014</td>\n",
       "      <td>Paid Penalty Assessment or Forfeiture</td>\n",
       "      <td></td>\n",
       "      <td>11/07/2014</td>\n",
       "      <td></td>\n",
       "      <td></td>\n",
       "      <td>http://cf.ncsbe.gov/CFOrgLkup/cf_report_image....</td>\n",
       "      <td></td>\n",
       "    </tr>\n",
       "    <tr>\n",
       "      <th>3</th>\n",
       "      <td>01ST CONG DIST DEC</td>\n",
       "      <td>2014</td>\n",
       "      <td>Penalty Assessment Letter</td>\n",
       "      <td></td>\n",
       "      <td>10/30/2014</td>\n",
       "      <td></td>\n",
       "      <td></td>\n",
       "      <td>http://cf.ncsbe.gov/CFOrgLkup/cf_report_image....</td>\n",
       "      <td></td>\n",
       "    </tr>\n",
       "    <tr>\n",
       "      <th>4</th>\n",
       "      <td>01ST CONG DIST DEC</td>\n",
       "      <td>2014</td>\n",
       "      <td>Third Quarter</td>\n",
       "      <td>N</td>\n",
       "      <td>10/27/2014</td>\n",
       "      <td>07/01/2014</td>\n",
       "      <td>10/18/2014</td>\n",
       "      <td>http://cf.ncsbe.gov/CFOrgLkup/cf_report_image....</td>\n",
       "      <td></td>\n",
       "    </tr>\n",
       "  </tbody>\n",
       "</table>\n",
       "</div>"
      ],
      "text/plain": [
       "       Committee Name Report Year                            Report Type  \\\n",
       "0  01ST CONG DIST DEC        2014                         Fourth Quarter   \n",
       "1  01ST CONG DIST DEC        2014                          Third Quarter   \n",
       "2  01ST CONG DIST DEC        2014  Paid Penalty Assessment or Forfeiture   \n",
       "3  01ST CONG DIST DEC        2014              Penalty Assessment Letter   \n",
       "4  01ST CONG DIST DEC        2014                          Third Quarter   \n",
       "\n",
       "  Amend Received Date  Start Date    End Date  \\\n",
       "0     N    01/06/2015  10/19/2014  12/31/2014   \n",
       "1     Y    01/06/2015  07/01/2014  10/18/2014   \n",
       "2          11/07/2014                           \n",
       "3          10/30/2014                           \n",
       "4     N    10/27/2014  07/01/2014  10/18/2014   \n",
       "\n",
       "                                               Image  \\\n",
       "0  http://cf.ncsbe.gov/CFOrgLkup/cf_report_image....   \n",
       "1  http://cf.ncsbe.gov/CFOrgLkup/cf_report_image....   \n",
       "2  http://cf.ncsbe.gov/CFOrgLkup/cf_report_image....   \n",
       "3  http://cf.ncsbe.gov/CFOrgLkup/cf_report_image....   \n",
       "4  http://cf.ncsbe.gov/CFOrgLkup/cf_report_image....   \n",
       "\n",
       "                                                Data  \n",
       "0  http://cf.ncsbe.gov/CFOrgLkup/cf_report_sectio...  \n",
       "1  http://cf.ncsbe.gov/CFOrgLkup/cf_report_sectio...  \n",
       "2                                                     \n",
       "3                                                     \n",
       "4                                                     "
      ]
     },
     "execution_count": 47,
     "metadata": {},
     "output_type": "execute_result"
    }
   ],
   "source": [
    "df.head()"
   ]
  },
  {
   "cell_type": "code",
   "execution_count": 48,
   "metadata": {
    "collapsed": false
   },
   "outputs": [
    {
     "data": {
      "text/plain": [
       "array(['Fourth Quarter', 'Third Quarter',\n",
       "       'Paid Penalty Assessment or Forfeiture',\n",
       "       'Penalty Assessment Letter', 'Second Quarter', 'First Quarter', '',\n",
       "       'Certification of Treasurer',\n",
       "       'Political Party Executive Committee Exempt Sales Plan',\n",
       "       'Penalty Appeal', 'Miscellaneous Correspondence',\n",
       "       'Year End Semi-Annual', 'Mid Year Semi-Annual',\n",
       "       'Correspondence Returned Undeliverable or Unclaimed',\n",
       "       'Non-Compliance Letter'], dtype=object)"
      ]
     },
     "execution_count": 48,
     "metadata": {},
     "output_type": "execute_result"
    }
   ],
   "source": [
    "df['Report Type'].unique()"
   ]
  },
  {
   "cell_type": "code",
   "execution_count": 50,
   "metadata": {
    "collapsed": false
   },
   "outputs": [
    {
     "ename": "TabError",
     "evalue": "inconsistent use of tabs and spaces in indentation (extract_NCCampaignDocument_data.py, line 47)",
     "output_type": "error",
     "traceback": [
      "\u001b[0;36m  File \u001b[0;32m\"/home/immersinn/gits/ncga/src/extract_NCCampaignDocument_data.py\"\u001b[0;36m, line \u001b[0;32m47\u001b[0m\n\u001b[0;31m    if limit==-1:\u001b[0m\n\u001b[0m                 ^\u001b[0m\n\u001b[0;31mTabError\u001b[0m\u001b[0;31m:\u001b[0m inconsistent use of tabs and spaces in indentation\n"
     ]
    }
   ],
   "source": [
    "import extract_NCCampaignDocument_data"
   ]
  },
  {
   "cell_type": "code",
   "execution_count": null,
   "metadata": {
    "collapsed": true
   },
   "outputs": [],
   "source": []
  }
 ],
 "metadata": {
  "kernelspec": {
   "display_name": "ncga",
   "language": "python",
   "name": "ncga"
  },
  "language_info": {
   "codemirror_mode": {
    "name": "ipython",
    "version": 3
   },
   "file_extension": ".py",
   "mimetype": "text/x-python",
   "name": "python",
   "nbconvert_exporter": "python",
   "pygments_lexer": "ipython3",
   "version": "3.5.2"
  }
 },
 "nbformat": 4,
 "nbformat_minor": 2
}
