{
 "cells": [
  {
   "cell_type": "code",
   "execution_count": 37,
   "metadata": {
    "collapsed": true
   },
   "outputs": [],
   "source": [
    "import os\n",
    "import sys"
   ]
  },
  {
   "cell_type": "code",
   "execution_count": 38,
   "metadata": {
    "collapsed": true
   },
   "outputs": [],
   "source": [
    "from importlib import reload"
   ]
  },
  {
   "cell_type": "code",
   "execution_count": 2,
   "metadata": {
    "collapsed": true
   },
   "outputs": [],
   "source": [
    "import pandas"
   ]
  },
  {
   "cell_type": "code",
   "execution_count": 3,
   "metadata": {
    "collapsed": false
   },
   "outputs": [],
   "source": [
    "sys.path.append(os.path.join(os.path.abspath('../..'), 'src'))"
   ]
  },
  {
   "cell_type": "code",
   "execution_count": 4,
   "metadata": {
    "collapsed": false
   },
   "outputs": [],
   "source": [
    "import utils"
   ]
  },
  {
   "cell_type": "code",
   "execution_count": 7,
   "metadata": {
    "collapsed": false
   },
   "outputs": [],
   "source": [
    "import init_NCCampaignDocument_table"
   ]
  },
  {
   "cell_type": "code",
   "execution_count": 53,
   "metadata": {
    "collapsed": false
   },
   "outputs": [
    {
     "data": {
      "text/plain": [
       "<module 'init_NCCampaignDocument_table' from '/home/immersinn/gits/ncga/src/init_NCCampaignDocument_table.py'>"
      ]
     },
     "execution_count": 53,
     "metadata": {},
     "output_type": "execute_result"
    }
   ],
   "source": [
    "reload(init_NCCampaignDocument_table)"
   ]
  },
  {
   "cell_type": "code",
   "execution_count": 88,
   "metadata": {
    "collapsed": false
   },
   "outputs": [],
   "source": [
    "enum_options = '24-Hour Electioneering Communications','48-Hour','Annual','Audit Letter','Campaign Reporter','Candidate Designation of Committee Funds','Candidate Specific Communications','Certification of Inactive Status','Certification of Incorporated Political Committee','Certification of Return to Active Status','Certification of Threshold','Certification of Treasurer','Certification to Close Committee','Contribution from a Business Account Statement','Correspondence Returned Undeliverable or Unclaimed','Declaration of Intent','Deferred Notice','District Attorney Letter','Electioneering Communications Report','Federal Mid Year','Federal Year End','Final','First Quarter','Forgiven Loan Statement','Fourth Quarter','Independent Expenditure Political Committee Certification','Independent Expenditure Report','Independent Expenditure for Registered Committees','Independent Expenditure for non-Committees','Interim','Judicial Qualifying Contributions Report','Loan Proceeds Statement','Mid Year Semi-Annual','Miscellaneous Correspondence','Monthly','Municipal Voter-Owned Election Qualifying Contributions','Non-Compliance Letter','Non-Participating Candidate','Notice of Candidacy','Notice of Termination of Active Status','Notification of Change to Reporting Schedule','Organizational','Other','Paid Penalty Assessment or Forfeiture','Penalty Appeal','Penalty Appeal Decision','Penalty Assessment','Penalty Assessment Letter','Penalty Resolution Agreement Executed','Penalty Resolution Agreement Proposal','Penalty Waiver Letter','Political Party Executive Committee Exempt Sales Plan','Post General','Post Primary','Pre-Election','Pre-Primary','Pre-Referendum','Pre-Runoff','Rescind Letter','Second Quarter','Signed Penalty Waiver Agreement','Special','Statement of Organization','Supplemental Final','Ten-day','Third Quarter','Thirty-day','Thirty-five-day','Twelve-day','Voter-Owned Election Qualifying Contributions','Weekly','Year End Semi-Annual'\n",
    "enum_options = set(enum_options)"
   ]
  },
  {
   "cell_type": "code",
   "execution_count": 89,
   "metadata": {
    "collapsed": false
   },
   "outputs": [
    {
     "data": {
      "text/plain": [
       "['Post Primary', '48-Hour', 'Independent Expenditure Report']"
      ]
     },
     "execution_count": 89,
     "metadata": {},
     "output_type": "execute_result"
    }
   ],
   "source": [
    "list(enum_options)[:3]"
   ]
  },
  {
   "cell_type": "markdown",
   "metadata": {},
   "source": [
    "## Load 2014"
   ]
  },
  {
   "cell_type": "code",
   "execution_count": 70,
   "metadata": {
    "collapsed": false
   },
   "outputs": [],
   "source": [
    "df = init_NCCampaignDocument_table.load_all()"
   ]
  },
  {
   "cell_type": "code",
   "execution_count": 86,
   "metadata": {
    "collapsed": false
   },
   "outputs": [
    {
     "data": {
      "text/plain": [
       "(35050, 9)"
      ]
     },
     "execution_count": 86,
     "metadata": {},
     "output_type": "execute_result"
    }
   ],
   "source": [
    "df.shape"
   ]
  },
  {
   "cell_type": "code",
   "execution_count": 87,
   "metadata": {
    "collapsed": false
   },
   "outputs": [
    {
     "data": {
      "text/html": [
       "<div>\n",
       "<table border=\"1\" class=\"dataframe\">\n",
       "  <thead>\n",
       "    <tr style=\"text-align: right;\">\n",
       "      <th></th>\n",
       "      <th>committee</th>\n",
       "      <th>report_year</th>\n",
       "      <th>report_type</th>\n",
       "      <th>amend</th>\n",
       "      <th>rec_date</th>\n",
       "      <th>start_date</th>\n",
       "      <th>end_date</th>\n",
       "      <th>image_link</th>\n",
       "      <th>data_link</th>\n",
       "    </tr>\n",
       "  </thead>\n",
       "  <tbody>\n",
       "    <tr>\n",
       "      <th>0</th>\n",
       "      <td>01ST CONG DIST DEC</td>\n",
       "      <td>2014</td>\n",
       "      <td>Fourth Quarter</td>\n",
       "      <td>0</td>\n",
       "      <td>2015-01-06</td>\n",
       "      <td>2014-10-19</td>\n",
       "      <td>2014-12-31</td>\n",
       "      <td>http://cf.ncsbe.gov/CFOrgLkup/cf_report_image....</td>\n",
       "      <td>http://cf.ncsbe.gov/CFOrgLkup/cf_report_sectio...</td>\n",
       "    </tr>\n",
       "    <tr>\n",
       "      <th>1</th>\n",
       "      <td>01ST CONG DIST DEC</td>\n",
       "      <td>2014</td>\n",
       "      <td>Third Quarter</td>\n",
       "      <td>1</td>\n",
       "      <td>2015-01-06</td>\n",
       "      <td>2014-07-01</td>\n",
       "      <td>2014-10-18</td>\n",
       "      <td>http://cf.ncsbe.gov/CFOrgLkup/cf_report_image....</td>\n",
       "      <td>http://cf.ncsbe.gov/CFOrgLkup/cf_report_sectio...</td>\n",
       "    </tr>\n",
       "    <tr>\n",
       "      <th>2</th>\n",
       "      <td>01ST CONG DIST DEC</td>\n",
       "      <td>2014</td>\n",
       "      <td>Paid Penalty Assessment or Forfeiture</td>\n",
       "      <td>None</td>\n",
       "      <td>2014-11-07</td>\n",
       "      <td>None</td>\n",
       "      <td>None</td>\n",
       "      <td>http://cf.ncsbe.gov/CFOrgLkup/cf_report_image....</td>\n",
       "      <td></td>\n",
       "    </tr>\n",
       "    <tr>\n",
       "      <th>3</th>\n",
       "      <td>01ST CONG DIST DEC</td>\n",
       "      <td>2014</td>\n",
       "      <td>Penalty Assessment Letter</td>\n",
       "      <td>None</td>\n",
       "      <td>2014-10-30</td>\n",
       "      <td>None</td>\n",
       "      <td>None</td>\n",
       "      <td>http://cf.ncsbe.gov/CFOrgLkup/cf_report_image....</td>\n",
       "      <td></td>\n",
       "    </tr>\n",
       "    <tr>\n",
       "      <th>4</th>\n",
       "      <td>01ST CONG DIST DEC</td>\n",
       "      <td>2014</td>\n",
       "      <td>Third Quarter</td>\n",
       "      <td>0</td>\n",
       "      <td>2014-10-27</td>\n",
       "      <td>2014-07-01</td>\n",
       "      <td>2014-10-18</td>\n",
       "      <td>http://cf.ncsbe.gov/CFOrgLkup/cf_report_image....</td>\n",
       "      <td></td>\n",
       "    </tr>\n",
       "  </tbody>\n",
       "</table>\n",
       "</div>"
      ],
      "text/plain": [
       "            committee report_year                            report_type  \\\n",
       "0  01ST CONG DIST DEC        2014                         Fourth Quarter   \n",
       "1  01ST CONG DIST DEC        2014                          Third Quarter   \n",
       "2  01ST CONG DIST DEC        2014  Paid Penalty Assessment or Forfeiture   \n",
       "3  01ST CONG DIST DEC        2014              Penalty Assessment Letter   \n",
       "4  01ST CONG DIST DEC        2014                          Third Quarter   \n",
       "\n",
       "  amend    rec_date  start_date    end_date  \\\n",
       "0     0  2015-01-06  2014-10-19  2014-12-31   \n",
       "1     1  2015-01-06  2014-07-01  2014-10-18   \n",
       "2  None  2014-11-07        None        None   \n",
       "3  None  2014-10-30        None        None   \n",
       "4     0  2014-10-27  2014-07-01  2014-10-18   \n",
       "\n",
       "                                          image_link  \\\n",
       "0  http://cf.ncsbe.gov/CFOrgLkup/cf_report_image....   \n",
       "1  http://cf.ncsbe.gov/CFOrgLkup/cf_report_image....   \n",
       "2  http://cf.ncsbe.gov/CFOrgLkup/cf_report_image....   \n",
       "3  http://cf.ncsbe.gov/CFOrgLkup/cf_report_image....   \n",
       "4  http://cf.ncsbe.gov/CFOrgLkup/cf_report_image....   \n",
       "\n",
       "                                           data_link  \n",
       "0  http://cf.ncsbe.gov/CFOrgLkup/cf_report_sectio...  \n",
       "1  http://cf.ncsbe.gov/CFOrgLkup/cf_report_sectio...  \n",
       "2                                                     \n",
       "3                                                     \n",
       "4                                                     "
      ]
     },
     "execution_count": 87,
     "metadata": {},
     "output_type": "execute_result"
    }
   ],
   "source": [
    "df.head()"
   ]
  },
  {
   "cell_type": "code",
   "execution_count": 90,
   "metadata": {
    "collapsed": true
   },
   "outputs": [],
   "source": [
    "def test_member(rt):\n",
    "    if not rt:\n",
    "        return(0)\n",
    "    else:\n",
    "        if rt in enum_options:\n",
    "            return(0)\n",
    "        else:\n",
    "            return(1)\n",
    "\n",
    "nienum = df.report_type.apply(test_member)"
   ]
  },
  {
   "cell_type": "code",
   "execution_count": 93,
   "metadata": {
    "collapsed": false
   },
   "outputs": [],
   "source": [
    "import numpy"
   ]
  },
  {
   "cell_type": "code",
   "execution_count": 100,
   "metadata": {
    "collapsed": false
   },
   "outputs": [
    {
     "name": "stdout",
     "output_type": "stream",
     "text": [
      "Penalty Assessment - 30 Days Aged\n"
     ]
    }
   ],
   "source": [
    "for ind in numpy.where(nienum)[0]:\n",
    "    print(df.report_type[ind])"
   ]
  },
  {
   "cell_type": "markdown",
   "metadata": {},
   "source": [
    "## Try Inserts"
   ]
  },
  {
   "cell_type": "code",
   "execution_count": 65,
   "metadata": {
    "collapsed": true
   },
   "outputs": [],
   "source": [
    "keep = []\n",
    "count = 0\n",
    "for tup in df2014.itertuples():\n",
    "    keep.append(list(tup)[1:])\n",
    "    count += 1\n",
    "    if count > 5000:\n",
    "        break"
   ]
  },
  {
   "cell_type": "code",
   "execution_count": 66,
   "metadata": {
    "collapsed": false
   },
   "outputs": [
    {
     "data": {
      "text/plain": [
       "['01ST CONG DIST DEC',\n",
       " '2014',\n",
       " 'Fourth Quarter',\n",
       " '0',\n",
       " '2015-01-06',\n",
       " '2014-10-19',\n",
       " '2014-12-31',\n",
       " 'http://cf.ncsbe.gov/CFOrgLkup/cf_report_image.aspx?DID=182000',\n",
       " 'http://cf.ncsbe.gov/CFOrgLkup/cf_report_sections.aspx?RID=132598&SID=STA-C3826N-C-001&CN=01ST%20CONG%20DIST%20DEC&RN=2014%20Fourth%20Quarter']"
      ]
     },
     "execution_count": 66,
     "metadata": {},
     "output_type": "execute_result"
    }
   ],
   "source": [
    "keep[0]"
   ]
  },
  {
   "cell_type": "code",
   "execution_count": 67,
   "metadata": {
    "collapsed": false
   },
   "outputs": [
    {
     "data": {
      "text/plain": [
       "{'amend': '0',\n",
       " 'committee': '01ST CONG DIST DEC',\n",
       " 'data_link': 'http://cf.ncsbe.gov/CFOrgLkup/cf_report_sections.aspx?RID=132598&SID=STA-C3826N-C-001&CN=01ST%20CONG%20DIST%20DEC&RN=2014%20Fourth%20Quarter',\n",
       " 'end_date': '2014-12-31',\n",
       " 'image_link': 'http://cf.ncsbe.gov/CFOrgLkup/cf_report_image.aspx?DID=182000',\n",
       " 'rec_date': '2015-01-06',\n",
       " 'report_type': 'Fourth Quarter',\n",
       " 'report_year': '2014',\n",
       " 'start_date': '2014-10-19'}"
      ]
     },
     "execution_count": 67,
     "metadata": {},
     "output_type": "execute_result"
    }
   ],
   "source": [
    "keep = [{col:entry for col,entry in zip(df2014.columns, col)} for col in keep]\n",
    "keep[0]"
   ]
  },
  {
   "cell_type": "code",
   "execution_count": 14,
   "metadata": {
    "collapsed": true
   },
   "outputs": [],
   "source": [
    "import mysql_utils"
   ]
  },
  {
   "cell_type": "code",
   "execution_count": 182,
   "metadata": {
    "collapsed": false
   },
   "outputs": [
    {
     "data": {
      "text/plain": [
       "<module 'mysql_utils' from '/home/immersinn/gits/ncga/src/mysql_utils.py'>"
      ]
     },
     "execution_count": 182,
     "metadata": {},
     "output_type": "execute_result"
    }
   ],
   "source": [
    "reload(mysql_utils)"
   ]
  },
  {
   "cell_type": "code",
   "execution_count": 21,
   "metadata": {
    "collapsed": false
   },
   "outputs": [],
   "source": [
    "add_entry = (\"INSERT INTO \" + 'camp_doc_lu' + \" \"\n",
    "                 \"(committee, report_year, report_type, amend, rec_date, start_date, end_date, image_link, data_link) \"\n",
    "                 \"VALUES (%(committee)s, %(report_year)s, %(report_type)s, \"\n",
    "                 \"%(amend)s, %(rec_date)s, %(start_date)s, %(end_date)s, \"\n",
    "                 \"%(image_link)s, %(data_link)s)\")"
   ]
  },
  {
   "cell_type": "code",
   "execution_count": 22,
   "metadata": {
    "collapsed": false
   },
   "outputs": [
    {
     "data": {
      "text/plain": [
       "'INSERT INTO camp_doc_lu (committee, report_year, report_type, amend, rec_date, start_date, end_date, image_link, data_link) VALUES (%(committee)s, %(report_year)s, %(report_type)s, %(amend)s, %(rec_date)s, %(start_date)s, %(end_date)s, %(image_link)s, %(data_link)s)'"
      ]
     },
     "execution_count": 22,
     "metadata": {},
     "output_type": "execute_result"
    }
   ],
   "source": [
    "add_entry"
   ]
  },
  {
   "cell_type": "code",
   "execution_count": 68,
   "metadata": {
    "collapsed": false
   },
   "outputs": [],
   "source": [
    "with mysql_utils.curInsert() as cursor:\n",
    "    for i,entry in enumerate(keep):\n",
    "        cursor.execute(add_entry, entry)"
   ]
  },
  {
   "cell_type": "code",
   "execution_count": 69,
   "metadata": {
    "collapsed": false
   },
   "outputs": [
    {
     "data": {
      "text/plain": [
       "5000"
      ]
     },
     "execution_count": 69,
     "metadata": {},
     "output_type": "execute_result"
    }
   ],
   "source": [
    "i"
   ]
  },
  {
   "cell_type": "code",
   "execution_count": 52,
   "metadata": {
    "collapsed": false
   },
   "outputs": [
    {
     "data": {
      "text/plain": [
       "{'amend': '0',\n",
       " 'committee': '01ST CONG DIST REC',\n",
       " 'data_link': '',\n",
       " 'end_date': None,\n",
       " 'image_link': 'http://cf.ncsbe.gov/CFOrgLkup/cf_report_image.aspx?DID=172920',\n",
       " 'rec_date': '2014-04-29',\n",
       " 'report_type': '',\n",
       " 'report_year': '2014',\n",
       " 'start_date': None}"
      ]
     },
     "execution_count": 52,
     "metadata": {},
     "output_type": "execute_result"
    }
   ],
   "source": [
    "keep[13]"
   ]
  },
  {
   "cell_type": "code",
   "execution_count": null,
   "metadata": {
    "collapsed": true
   },
   "outputs": [],
   "source": []
  }
 ],
 "metadata": {
  "kernelspec": {
   "display_name": "ncga (P3)",
   "language": "python",
   "name": "ncga (p3)"
  },
  "language_info": {
   "codemirror_mode": {
    "name": "ipython",
    "version": 3
   },
   "file_extension": ".py",
   "mimetype": "text/x-python",
   "name": "python",
   "nbconvert_exporter": "python",
   "pygments_lexer": "ipython3",
   "version": "3.5.2"
  }
 },
 "nbformat": 4,
 "nbformat_minor": 2
}
