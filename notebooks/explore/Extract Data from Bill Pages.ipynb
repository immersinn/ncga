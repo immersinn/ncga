{
 "cells": [
  {
   "cell_type": "code",
   "execution_count": 2,
   "metadata": {
    "collapsed": true
   },
   "outputs": [],
   "source": [
    "from urllib.request import urlopen\n",
    "from bs4 import BeautifulSoup as bs\n",
    "import pickle"
   ]
  },
  {
   "cell_type": "code",
   "execution_count": 3,
   "metadata": {
    "collapsed": true
   },
   "outputs": [],
   "source": [
    "import pandas\n",
    "import sqlite3"
   ]
  },
  {
   "cell_type": "markdown",
   "metadata": {},
   "source": [
    "## Some Filenames"
   ]
  },
  {
   "cell_type": "code",
   "execution_count": 4,
   "metadata": {
    "collapsed": true
   },
   "outputs": [],
   "source": [
    "source_file = \"data/test_pages.pkl\"\n",
    "bill_links_file = \"data/bill_links_all.pkl\"\n",
    "keywords_file = \"data/bill_page_keywords.pkl\""
   ]
  },
  {
   "cell_type": "markdown",
   "metadata": {},
   "source": [
    "## Load Pages"
   ]
  },
  {
   "cell_type": "code",
   "execution_count": 5,
   "metadata": {
    "collapsed": true
   },
   "outputs": [],
   "source": [
    "with open(source_file, 'rb') as f1:\n",
    "    pages = pickle.load(f1)"
   ]
  },
  {
   "cell_type": "code",
   "execution_count": 6,
   "metadata": {
    "collapsed": false
   },
   "outputs": [
    {
     "data": {
      "text/plain": [
       "2100"
      ]
     },
     "execution_count": 6,
     "metadata": {},
     "output_type": "execute_result"
    }
   ],
   "source": [
    "len(pages)"
   ]
  },
  {
   "cell_type": "code",
   "execution_count": 7,
   "metadata": {
    "collapsed": true
   },
   "outputs": [],
   "source": [
    "bill_info = pandas.DataFrame([{k : page[k] for k in ['session', 'house', 'bill']} for page in pages])"
   ]
  },
  {
   "cell_type": "code",
   "execution_count": 8,
   "metadata": {
    "collapsed": false
   },
   "outputs": [
    {
     "data": {
      "text/html": [
       "<div>\n",
       "<table border=\"1\" class=\"dataframe\">\n",
       "  <thead>\n",
       "    <tr style=\"text-align: right;\">\n",
       "      <th></th>\n",
       "      <th>bill</th>\n",
       "      <th>house</th>\n",
       "      <th>session</th>\n",
       "    </tr>\n",
       "  </thead>\n",
       "  <tbody>\n",
       "    <tr>\n",
       "      <th>0</th>\n",
       "      <td>1</td>\n",
       "      <td>H</td>\n",
       "      <td>2015E4</td>\n",
       "    </tr>\n",
       "    <tr>\n",
       "      <th>1</th>\n",
       "      <td>2</td>\n",
       "      <td>H</td>\n",
       "      <td>2015E4</td>\n",
       "    </tr>\n",
       "    <tr>\n",
       "      <th>2</th>\n",
       "      <td>3</td>\n",
       "      <td>H</td>\n",
       "      <td>2015E4</td>\n",
       "    </tr>\n",
       "    <tr>\n",
       "      <th>3</th>\n",
       "      <td>4</td>\n",
       "      <td>H</td>\n",
       "      <td>2015E4</td>\n",
       "    </tr>\n",
       "    <tr>\n",
       "      <th>4</th>\n",
       "      <td>5</td>\n",
       "      <td>H</td>\n",
       "      <td>2015E4</td>\n",
       "    </tr>\n",
       "  </tbody>\n",
       "</table>\n",
       "</div>"
      ],
      "text/plain": [
       "   bill house session\n",
       "0     1     H  2015E4\n",
       "1     2     H  2015E4\n",
       "2     3     H  2015E4\n",
       "3     4     H  2015E4\n",
       "4     5     H  2015E4"
      ]
     },
     "execution_count": 8,
     "metadata": {},
     "output_type": "execute_result"
    }
   ],
   "source": [
    "bill_info.head()"
   ]
  },
  {
   "cell_type": "code",
   "execution_count": 9,
   "metadata": {
    "collapsed": false
   },
   "outputs": [
    {
     "data": {
      "text/plain": [
       "b'<!doctype html>\\n<html>\\n<head>\\n\\t<meta name=\"description\" content=\"The Official Site of the North Carolina General Assembly.\">\\n\\t<meta name=\"keywords\" content=\"NCGA, North Carolina General Assembly, offi'"
      ]
     },
     "execution_count": 9,
     "metadata": {},
     "output_type": "execute_result"
    }
   ],
   "source": [
    "pages[0]['page'][:200]"
   ]
  },
  {
   "cell_type": "code",
   "execution_count": 10,
   "metadata": {
    "collapsed": true
   },
   "outputs": [],
   "source": [
    "soups = [bs(page['page'], 'html.parser') for page in pages]"
   ]
  },
  {
   "cell_type": "markdown",
   "metadata": {},
   "source": [
    "## Make Soup and Extract Content of Interest"
   ]
  },
  {
   "cell_type": "markdown",
   "metadata": {},
   "source": [
    "### Titles"
   ]
  },
  {
   "cell_type": "code",
   "execution_count": 362,
   "metadata": {
    "collapsed": false
   },
   "outputs": [],
   "source": [
    "titles = [soup.find('div', {\"id\":\"title\"}).text.strip() for soup in soups]"
   ]
  },
  {
   "cell_type": "code",
   "execution_count": 363,
   "metadata": {
    "collapsed": false
   },
   "outputs": [
    {
     "data": {
      "text/plain": [
       "['House Rules for Fourth Extra Session.',\n",
       " 'Adjourn 2016 Fourth Extra Session Sine Die.',\n",
       " 'Regulatory Reform Act of 2016.',\n",
       " 'Terminate Agreement for Tolling of I-77.',\n",
       " 'Municipal Broadband Service Area.',\n",
       " 'Independent State CIO.',\n",
       " 'Study Validity of I-77 Tolling Contract.',\n",
       " 'Prohibit Discriminatory Profiling.',\n",
       " 'Dog Breeding Stds./Law Enforcement Tools.',\n",
       " 'Clarify Funding Eligibility/Charter Schools.',\n",
       " 'DOT/Moratorium on Reductions.',\n",
       " 'School Calendar Flex/CC.',\n",
       " 'Class Size Requirement Changes.',\n",
       " 'Greene County Funds.',\n",
       " 'Honor State Employees and Teachers.']"
      ]
     },
     "execution_count": 363,
     "metadata": {},
     "output_type": "execute_result"
    }
   ],
   "source": [
    "titles[:15]"
   ]
  },
  {
   "cell_type": "markdown",
   "metadata": {},
   "source": [
    "### Bill Content Links"
   ]
  },
  {
   "cell_type": "code",
   "execution_count": 13,
   "metadata": {
    "collapsed": false
   },
   "outputs": [],
   "source": [
    "soup = soups[0]"
   ]
  },
  {
   "cell_type": "code",
   "execution_count": 14,
   "metadata": {
    "collapsed": false
   },
   "outputs": [
    {
     "name": "stdout",
     "output_type": "stream",
     "text": [
      "18\n"
     ]
    }
   ],
   "source": [
    "tables = soup.find_all(\"table\")\n",
    "print(len(tables))"
   ]
  },
  {
   "cell_type": "code",
   "execution_count": 15,
   "metadata": {
    "collapsed": false
   },
   "outputs": [],
   "source": [
    "content_table = [t for t in tables if t.text.strip().startswith(\"View Available Bill Summaries\")][-1]"
   ]
  },
  {
   "cell_type": "code",
   "execution_count": 16,
   "metadata": {
    "collapsed": false
   },
   "outputs": [
    {
     "data": {
      "text/plain": [
       "<table cellspacing=\"0\" style=\"width: 100%; margin: 0px; padding: 0px;\">\n",
       "<tr><td colspan=\"2\" style=\"background-color: #ced0d2; padding: 0px; text-align: center; font-weight: bold;border-bottom: 1px solid #555;border-top: 1px solid #555;\"><a href=\"/gascripts/billsummaries/billsummaries.pl?Session=2015E4&amp;BillID=H1\">View Available Bill Summaries</a> </td></tr>\n",
       "<tr class=\"sectionBG1\">\n",
       "<th class=\"tableHeader\" style=\"border-bottom: 1px solid #555; padding-left: 5px;\">Bill Text</th><th class=\"tableHeader\" nowrap=\"\" style=\"border-bottom: 1px solid #555;\">Fiscal Note</th>\n",
       "</tr>\n",
       "<tr>\n",
       "<td nowrap=\"\" style=\"border-bottom: 1px dotted #DCDCDC; padding-left:4px; padding-bottom:4px; vertical-align: top;\"><a href=\"/Sessions/2015E4/Bills/House/PDF/H1v0.pdf\">Filed</a> <span style=\"font: 9px Arial;\">[<a href=\"/Sessions/2015E4/Bills/House/HTML/H1v0.html\">HTML</a>]</span></td>\n",
       "<td style=\"border-bottom: 1px dotted #DCDCDC; padding-left:4px; padding-bottom:4px; vertical-align: top;\"><a href=\"\"></a><div style=\"text-align: center;\"></div><a></a></td>\n",
       "</tr>\n",
       "<tr>\n",
       "<td nowrap=\"\" style=\"border-bottom: 1px dotted #DCDCDC; padding-left:4px; padding-bottom:4px; vertical-align: top;\"><a href=\"/Sessions/2015E4/Bills/House/PDF/H1v1.pdf\">Edition 1</a> <span style=\"font: 9px Arial;\">[<a href=\"/Sessions/2015E4/Bills/House/HTML/H1v1.html\">HTML</a>]</span></td>\n",
       "<td style=\"border-bottom: 1px dotted #DCDCDC; padding-left:4px; padding-bottom:4px; vertical-align: top;\"><a href=\"\"></a><div style=\"text-align: center;\"></div><a></a></td>\n",
       "</tr>\n",
       "<tr>\n",
       "<td nowrap=\"\" style=\"border-bottom: 1px dotted #DCDCDC; padding-left:4px; padding-bottom:4px; vertical-align: top;\"><a href=\"/Sessions/2015E4/Bills/House/PDF/H1v2.pdf\">Edition 2</a> <span style=\"font: 9px Arial;\">[<a href=\"/Sessions/2015E4/Bills/House/HTML/H1v2.html\">HTML</a>]</span></td>\n",
       "<td style=\"border-bottom: 1px dotted #DCDCDC; padding-left:4px; padding-bottom:4px; vertical-align: top;\"><a href=\"\"></a><div style=\"text-align: center;\"></div><a></a></td>\n",
       "</tr>\n",
       "<tr>\n",
       "<td nowrap=\"\" style=\"padding-bottom:4px; padding-left:4px; vertical-align: top;\"><a href=\"/Sessions/2015E4/Bills/House/PDF/H1v3.pdf\">Adopted</a> <span style=\"font: 9px Arial;\">[<a href=\"/Sessions/2015E4/Bills/House/HTML/H1v3.html\">HTML</a>]</span></td>\n",
       "<td style=\"padding-bottom:4px; padding-left:4px; vertical-align: top;\"><a href=\"\"></a><div style=\"text-align: center;\"></div><a></a></td>\n",
       "</tr>\n",
       "</table>"
      ]
     },
     "execution_count": 16,
     "metadata": {},
     "output_type": "execute_result"
    }
   ],
   "source": [
    "content_table"
   ]
  },
  {
   "cell_type": "code",
   "execution_count": 17,
   "metadata": {
    "collapsed": false
   },
   "outputs": [
    {
     "name": "stdout",
     "output_type": "stream",
     "text": [
      "Filed [HTML] - /Sessions/2015E4/Bills/House/PDF/H1v0.pdf - /Sessions/2015E4/Bills/House/HTML/H1v0.html\n",
      "Edition 1 [HTML] - /Sessions/2015E4/Bills/House/PDF/H1v1.pdf - /Sessions/2015E4/Bills/House/HTML/H1v1.html\n",
      "Edition 2 [HTML] - /Sessions/2015E4/Bills/House/PDF/H1v2.pdf - /Sessions/2015E4/Bills/House/HTML/H1v2.html\n",
      "Adopted [HTML] - /Sessions/2015E4/Bills/House/PDF/H1v3.pdf - /Sessions/2015E4/Bills/House/HTML/H1v3.html\n"
     ]
    }
   ],
   "source": [
    "for row in content_table.find_all('tr'):\n",
    "    cols = row.find_all('td')\n",
    "    if len(cols) > 1:\n",
    "        label = cols[0].text\n",
    "        links = cols[0].find_all('a')\n",
    "        pdf_link = links[0]['href']\n",
    "        html_link = links[1]['href']\n",
    "        print('{} - {} - {}'.format(label, pdf_link, html_link))"
   ]
  },
  {
   "cell_type": "code",
   "execution_count": 34,
   "metadata": {
    "collapsed": false
   },
   "outputs": [],
   "source": [
    "def extractBillLinks(soup, session, house, bill):\n",
    "    tables = soup.find_all(\"table\")\n",
    "    content_table = [t for t in tables if t.text.strip().startswith(\"View Available Bill Summaries\")][-1]\n",
    "    bill_text_links = []\n",
    "    for row in content_table.find_all('tr'):\n",
    "        cols = row.find_all('td')\n",
    "        if len(cols) > 1:\n",
    "            try:\n",
    "                label = cols[0].text.strip('[HTML]').strip().encode('utf8').replace(b'\\xc2\\xa0', b' ')\n",
    "                links = cols[0].find_all('a')\n",
    "                pdf_link = links[0]['href']\n",
    "                html_link = links[1]['href']\n",
    "                bill_text_links.append({'session' : session, 'house' : house, 'bill' : bill,\n",
    "                                        'label' : label, 'pdf' : pdf_link, 'html' : html_link})\n",
    "            except IndexError:\n",
    "                pass\n",
    "    return(bill_text_links)\n",
    "\n",
    "\n",
    "def extractBillFiledLinks(soup):\n",
    "    tables = soup.find_all(\"table\")\n",
    "    content_table = [t for t in tables if t.text.strip().startswith(\"View Available Bill Summaries\")][-1]\n",
    "    filed_links = {}\n",
    "    for row in content_table.find_all('tr'):\n",
    "        cols = row.find_all('td')\n",
    "        if len(cols) > 1:\n",
    "            label = cols[0].text.strip('[HTML]').strip().encode('utf8').replace(b'\\xc2\\xa0', b' ')\n",
    "            if label in [b'Filed']:\n",
    "                links = cols[0].find_all('a')\n",
    "                pdf_link = links[0]['href']\n",
    "                html_link = links[1]['href']\n",
    "                filed_links = {'label' : label, 'pdf' : pdf_link, 'html' : html_link}\n",
    "                break\n",
    "    return(filed_links)\n",
    "\n",
    "\n",
    "def extractBillFinalLinks(soup):\n",
    "    tables = soup.find_all(\"table\")\n",
    "    content_table = [t for t in tables if t.text.strip().startswith(\"View Available Bill Summaries\")][-1]\n",
    "    adopted_links = {}\n",
    "    for row in content_table.find_all('tr'):\n",
    "        cols = row.find_all('td')\n",
    "        if len(cols) > 1:\n",
    "            label = cols[0].text.strip('[HTML]').strip().encode('utf8').replace(b'\\xc2\\xa0', b' ')\n",
    "            if label in [b'Adopted', b'Ratified']:\n",
    "                links = cols[0].find_all('a')\n",
    "                pdf_link = links[0]['href']\n",
    "                html_link = links[1]['href']\n",
    "                adopted_links = {'label' : label, 'pdf' : pdf_link, 'html' : html_link}\n",
    "    return(adopted_links)"
   ]
  },
  {
   "cell_type": "code",
   "execution_count": 35,
   "metadata": {
    "collapsed": false
   },
   "outputs": [
    {
     "data": {
      "text/plain": [
       "[{'bill': 1,\n",
       "  'house': 'H',\n",
       "  'html': '/Sessions/2015E4/Bills/House/HTML/H1v0.html',\n",
       "  'label': b'Filed',\n",
       "  'pdf': '/Sessions/2015E4/Bills/House/PDF/H1v0.pdf',\n",
       "  'session': '2015E4'},\n",
       " {'bill': 1,\n",
       "  'house': 'H',\n",
       "  'html': '/Sessions/2015E4/Bills/House/HTML/H1v1.html',\n",
       "  'label': b'Edition 1',\n",
       "  'pdf': '/Sessions/2015E4/Bills/House/PDF/H1v1.pdf',\n",
       "  'session': '2015E4'},\n",
       " {'bill': 1,\n",
       "  'house': 'H',\n",
       "  'html': '/Sessions/2015E4/Bills/House/HTML/H1v2.html',\n",
       "  'label': b'Edition 2',\n",
       "  'pdf': '/Sessions/2015E4/Bills/House/PDF/H1v2.pdf',\n",
       "  'session': '2015E4'},\n",
       " {'bill': 1,\n",
       "  'house': 'H',\n",
       "  'html': '/Sessions/2015E4/Bills/House/HTML/H1v3.html',\n",
       "  'label': b'Adopted',\n",
       "  'pdf': '/Sessions/2015E4/Bills/House/PDF/H1v3.pdf',\n",
       "  'session': '2015E4'}]"
      ]
     },
     "execution_count": 35,
     "metadata": {},
     "output_type": "execute_result"
    }
   ],
   "source": [
    "extractBillLinks(soup, bill_info.session[0], bill_info.house[0], bill_info.bill[0])"
   ]
  },
  {
   "cell_type": "code",
   "execution_count": 20,
   "metadata": {
    "collapsed": false
   },
   "outputs": [
    {
     "data": {
      "text/plain": [
       "{'html': '/Sessions/2015E4/Bills/House/HTML/H1v0.html',\n",
       " 'label': b'Filed',\n",
       " 'pdf': '/Sessions/2015E4/Bills/House/PDF/H1v0.pdf'}"
      ]
     },
     "execution_count": 20,
     "metadata": {},
     "output_type": "execute_result"
    }
   ],
   "source": [
    "extractBillFiledLinks(soup)"
   ]
  },
  {
   "cell_type": "code",
   "execution_count": 21,
   "metadata": {
    "collapsed": false
   },
   "outputs": [
    {
     "data": {
      "text/plain": [
       "{'html': '/Sessions/2015E4/Bills/House/HTML/H1v3.html',\n",
       " 'label': b'Adopted',\n",
       " 'pdf': '/Sessions/2015E4/Bills/House/PDF/H1v3.pdf'}"
      ]
     },
     "execution_count": 21,
     "metadata": {},
     "output_type": "execute_result"
    }
   ],
   "source": [
    "extractBillFinalLinks(soup)"
   ]
  },
  {
   "cell_type": "markdown",
   "metadata": {},
   "source": [
    "#### All Links"
   ]
  },
  {
   "cell_type": "code",
   "execution_count": 36,
   "metadata": {
    "collapsed": true
   },
   "outputs": [],
   "source": [
    "bill_links = [extractBillLinks(soup, bi.session, bi.house, bi.bill) \\\n",
    "              for (bi, soup) in zip(bill_info.itertuples(), soups)]"
   ]
  },
  {
   "cell_type": "code",
   "execution_count": 39,
   "metadata": {
    "collapsed": false
   },
   "outputs": [],
   "source": [
    "bill_links = [item for sublist in bill_links for item in sublist]\n",
    "bill_links = pandas.DataFrame(bill_links)"
   ]
  },
  {
   "cell_type": "code",
   "execution_count": 41,
   "metadata": {
    "collapsed": true
   },
   "outputs": [],
   "source": [
    "bill_links = bill_links[['session', 'house', 'bill', 'label', 'html', 'pdf']]"
   ]
  },
  {
   "cell_type": "code",
   "execution_count": 43,
   "metadata": {
    "collapsed": false
   },
   "outputs": [
    {
     "data": {
      "text/html": [
       "<div>\n",
       "<table border=\"1\" class=\"dataframe\">\n",
       "  <thead>\n",
       "    <tr style=\"text-align: right;\">\n",
       "      <th></th>\n",
       "      <th>session</th>\n",
       "      <th>house</th>\n",
       "      <th>bill</th>\n",
       "      <th>label</th>\n",
       "      <th>html</th>\n",
       "      <th>pdf</th>\n",
       "    </tr>\n",
       "  </thead>\n",
       "  <tbody>\n",
       "    <tr>\n",
       "      <th>0</th>\n",
       "      <td>2015E4</td>\n",
       "      <td>H</td>\n",
       "      <td>1</td>\n",
       "      <td>b'Filed'</td>\n",
       "      <td>/Sessions/2015E4/Bills/House/HTML/H1v0.html</td>\n",
       "      <td>/Sessions/2015E4/Bills/House/PDF/H1v0.pdf</td>\n",
       "    </tr>\n",
       "    <tr>\n",
       "      <th>1</th>\n",
       "      <td>2015E4</td>\n",
       "      <td>H</td>\n",
       "      <td>1</td>\n",
       "      <td>b'Edition 1'</td>\n",
       "      <td>/Sessions/2015E4/Bills/House/HTML/H1v1.html</td>\n",
       "      <td>/Sessions/2015E4/Bills/House/PDF/H1v1.pdf</td>\n",
       "    </tr>\n",
       "    <tr>\n",
       "      <th>2</th>\n",
       "      <td>2015E4</td>\n",
       "      <td>H</td>\n",
       "      <td>1</td>\n",
       "      <td>b'Edition 2'</td>\n",
       "      <td>/Sessions/2015E4/Bills/House/HTML/H1v2.html</td>\n",
       "      <td>/Sessions/2015E4/Bills/House/PDF/H1v2.pdf</td>\n",
       "    </tr>\n",
       "    <tr>\n",
       "      <th>3</th>\n",
       "      <td>2015E4</td>\n",
       "      <td>H</td>\n",
       "      <td>1</td>\n",
       "      <td>b'Adopted'</td>\n",
       "      <td>/Sessions/2015E4/Bills/House/HTML/H1v3.html</td>\n",
       "      <td>/Sessions/2015E4/Bills/House/PDF/H1v3.pdf</td>\n",
       "    </tr>\n",
       "    <tr>\n",
       "      <th>4</th>\n",
       "      <td>2015E4</td>\n",
       "      <td>H</td>\n",
       "      <td>2</td>\n",
       "      <td>b'Filed'</td>\n",
       "      <td>/Sessions/2015E4/Bills/House/HTML/H2v0.html</td>\n",
       "      <td>/Sessions/2015E4/Bills/House/PDF/H2v0.pdf</td>\n",
       "    </tr>\n",
       "  </tbody>\n",
       "</table>\n",
       "</div>"
      ],
      "text/plain": [
       "  session house  bill         label  \\\n",
       "0  2015E4     H     1      b'Filed'   \n",
       "1  2015E4     H     1  b'Edition 1'   \n",
       "2  2015E4     H     1  b'Edition 2'   \n",
       "3  2015E4     H     1    b'Adopted'   \n",
       "4  2015E4     H     2      b'Filed'   \n",
       "\n",
       "                                          html  \\\n",
       "0  /Sessions/2015E4/Bills/House/HTML/H1v0.html   \n",
       "1  /Sessions/2015E4/Bills/House/HTML/H1v1.html   \n",
       "2  /Sessions/2015E4/Bills/House/HTML/H1v2.html   \n",
       "3  /Sessions/2015E4/Bills/House/HTML/H1v3.html   \n",
       "4  /Sessions/2015E4/Bills/House/HTML/H2v0.html   \n",
       "\n",
       "                                         pdf  \n",
       "0  /Sessions/2015E4/Bills/House/PDF/H1v0.pdf  \n",
       "1  /Sessions/2015E4/Bills/House/PDF/H1v1.pdf  \n",
       "2  /Sessions/2015E4/Bills/House/PDF/H1v2.pdf  \n",
       "3  /Sessions/2015E4/Bills/House/PDF/H1v3.pdf  \n",
       "4  /Sessions/2015E4/Bills/House/PDF/H2v0.pdf  "
      ]
     },
     "execution_count": 43,
     "metadata": {},
     "output_type": "execute_result"
    }
   ],
   "source": [
    "bill_links.head()"
   ]
  },
  {
   "cell_type": "code",
   "execution_count": 44,
   "metadata": {
    "collapsed": false
   },
   "outputs": [
    {
     "data": {
      "text/html": [
       "<div>\n",
       "<table border=\"1\" class=\"dataframe\">\n",
       "  <thead>\n",
       "    <tr style=\"text-align: right;\">\n",
       "      <th></th>\n",
       "      <th>session</th>\n",
       "      <th>house</th>\n",
       "      <th>bill</th>\n",
       "      <th>label</th>\n",
       "      <th>html</th>\n",
       "      <th>pdf</th>\n",
       "    </tr>\n",
       "  </thead>\n",
       "  <tbody>\n",
       "    <tr>\n",
       "      <th>6291</th>\n",
       "      <td>2015</td>\n",
       "      <td>S</td>\n",
       "      <td>902</td>\n",
       "      <td>b'Resolution 2016-22'</td>\n",
       "      <td>/Sessions/2015/Bills/Senate/HTML/S902v2.html</td>\n",
       "      <td>/Sessions/2015/Bills/Senate/PDF/S902v2.pdf</td>\n",
       "    </tr>\n",
       "    <tr>\n",
       "      <th>6292</th>\n",
       "      <td>2015</td>\n",
       "      <td>S</td>\n",
       "      <td>903</td>\n",
       "      <td>b'Filed'</td>\n",
       "      <td>/Sessions/2015/Bills/Senate/HTML/S903v0.html</td>\n",
       "      <td>/Sessions/2015/Bills/Senate/PDF/S903v0.pdf</td>\n",
       "    </tr>\n",
       "    <tr>\n",
       "      <th>6293</th>\n",
       "      <td>2015</td>\n",
       "      <td>S</td>\n",
       "      <td>903</td>\n",
       "      <td>b'Edition 1'</td>\n",
       "      <td>/Sessions/2015/Bills/Senate/HTML/S903v1.html</td>\n",
       "      <td>/Sessions/2015/Bills/Senate/PDF/S903v1.pdf</td>\n",
       "    </tr>\n",
       "    <tr>\n",
       "      <th>6294</th>\n",
       "      <td>2015</td>\n",
       "      <td>S</td>\n",
       "      <td>903</td>\n",
       "      <td>b'Edition 2'</td>\n",
       "      <td>/Sessions/2015/Bills/Senate/HTML/S903v2.html</td>\n",
       "      <td>/Sessions/2015/Bills/Senate/PDF/S903v2.pdf</td>\n",
       "    </tr>\n",
       "    <tr>\n",
       "      <th>6295</th>\n",
       "      <td>2015</td>\n",
       "      <td>S</td>\n",
       "      <td>903</td>\n",
       "      <td>b'Resolution 2016-23'</td>\n",
       "      <td>/Sessions/2015/Bills/Senate/HTML/S903v3.html</td>\n",
       "      <td>/Sessions/2015/Bills/Senate/PDF/S903v3.pdf</td>\n",
       "    </tr>\n",
       "  </tbody>\n",
       "</table>\n",
       "</div>"
      ],
      "text/plain": [
       "     session house  bill                  label  \\\n",
       "6291    2015     S   902  b'Resolution 2016-22'   \n",
       "6292    2015     S   903               b'Filed'   \n",
       "6293    2015     S   903           b'Edition 1'   \n",
       "6294    2015     S   903           b'Edition 2'   \n",
       "6295    2015     S   903  b'Resolution 2016-23'   \n",
       "\n",
       "                                              html  \\\n",
       "6291  /Sessions/2015/Bills/Senate/HTML/S902v2.html   \n",
       "6292  /Sessions/2015/Bills/Senate/HTML/S903v0.html   \n",
       "6293  /Sessions/2015/Bills/Senate/HTML/S903v1.html   \n",
       "6294  /Sessions/2015/Bills/Senate/HTML/S903v2.html   \n",
       "6295  /Sessions/2015/Bills/Senate/HTML/S903v3.html   \n",
       "\n",
       "                                             pdf  \n",
       "6291  /Sessions/2015/Bills/Senate/PDF/S902v2.pdf  \n",
       "6292  /Sessions/2015/Bills/Senate/PDF/S903v0.pdf  \n",
       "6293  /Sessions/2015/Bills/Senate/PDF/S903v1.pdf  \n",
       "6294  /Sessions/2015/Bills/Senate/PDF/S903v2.pdf  \n",
       "6295  /Sessions/2015/Bills/Senate/PDF/S903v3.pdf  "
      ]
     },
     "execution_count": 44,
     "metadata": {},
     "output_type": "execute_result"
    }
   ],
   "source": [
    "bill_links.tail()"
   ]
  },
  {
   "cell_type": "code",
   "execution_count": 45,
   "metadata": {
    "collapsed": true
   },
   "outputs": [],
   "source": [
    "with open(bill_links_file, 'wb') as f1:\n",
    "    pickle.dump(bill_links, f1)"
   ]
  },
  {
   "cell_type": "markdown",
   "metadata": {},
   "source": [
    "#### Filed Links Only"
   ]
  },
  {
   "cell_type": "code",
   "execution_count": 294,
   "metadata": {
    "collapsed": false
   },
   "outputs": [],
   "source": [
    "filed_bill_links = pandas.DataFrame([extractBillFiledLinks(soup) for soup in soups])"
   ]
  },
  {
   "cell_type": "code",
   "execution_count": 295,
   "metadata": {
    "collapsed": false
   },
   "outputs": [],
   "source": [
    "filed_bill_links = filed_bill_links.join(bill_info, how=\"left\")"
   ]
  },
  {
   "cell_type": "code",
   "execution_count": 296,
   "metadata": {
    "collapsed": true
   },
   "outputs": [],
   "source": [
    "filed_bill_links = filed_bill_links[['session', 'house', 'bill', 'label', 'html', 'pdf']]"
   ]
  },
  {
   "cell_type": "code",
   "execution_count": 297,
   "metadata": {
    "collapsed": false
   },
   "outputs": [
    {
     "data": {
      "text/html": [
       "<div>\n",
       "<table border=\"1\" class=\"dataframe\">\n",
       "  <thead>\n",
       "    <tr style=\"text-align: right;\">\n",
       "      <th></th>\n",
       "      <th>session</th>\n",
       "      <th>house</th>\n",
       "      <th>bill</th>\n",
       "      <th>label</th>\n",
       "      <th>html</th>\n",
       "      <th>pdf</th>\n",
       "    </tr>\n",
       "  </thead>\n",
       "  <tbody>\n",
       "    <tr>\n",
       "      <th>0</th>\n",
       "      <td>2015E4</td>\n",
       "      <td>H</td>\n",
       "      <td>1</td>\n",
       "      <td>b'Filed'</td>\n",
       "      <td>/Sessions/2015E4/Bills/House/HTML/H1v0.html</td>\n",
       "      <td>/Sessions/2015E4/Bills/House/PDF/H1v0.pdf</td>\n",
       "    </tr>\n",
       "    <tr>\n",
       "      <th>1</th>\n",
       "      <td>2015E4</td>\n",
       "      <td>H</td>\n",
       "      <td>2</td>\n",
       "      <td>b'Filed'</td>\n",
       "      <td>/Sessions/2015E4/Bills/House/HTML/H2v0.html</td>\n",
       "      <td>/Sessions/2015E4/Bills/House/PDF/H2v0.pdf</td>\n",
       "    </tr>\n",
       "    <tr>\n",
       "      <th>2</th>\n",
       "      <td>2015E4</td>\n",
       "      <td>H</td>\n",
       "      <td>3</td>\n",
       "      <td>b'Filed'</td>\n",
       "      <td>/Sessions/2015E4/Bills/House/HTML/H3v0.html</td>\n",
       "      <td>/Sessions/2015E4/Bills/House/PDF/H3v0.pdf</td>\n",
       "    </tr>\n",
       "    <tr>\n",
       "      <th>3</th>\n",
       "      <td>2015E4</td>\n",
       "      <td>H</td>\n",
       "      <td>4</td>\n",
       "      <td>b'Filed'</td>\n",
       "      <td>/Sessions/2015E4/Bills/House/HTML/H4v0.html</td>\n",
       "      <td>/Sessions/2015E4/Bills/House/PDF/H4v0.pdf</td>\n",
       "    </tr>\n",
       "    <tr>\n",
       "      <th>4</th>\n",
       "      <td>2015E4</td>\n",
       "      <td>H</td>\n",
       "      <td>5</td>\n",
       "      <td>b'Filed'</td>\n",
       "      <td>/Sessions/2015E4/Bills/House/HTML/H5v0.html</td>\n",
       "      <td>/Sessions/2015E4/Bills/House/PDF/H5v0.pdf</td>\n",
       "    </tr>\n",
       "  </tbody>\n",
       "</table>\n",
       "</div>"
      ],
      "text/plain": [
       "  session house  bill     label                                         html  \\\n",
       "0  2015E4     H     1  b'Filed'  /Sessions/2015E4/Bills/House/HTML/H1v0.html   \n",
       "1  2015E4     H     2  b'Filed'  /Sessions/2015E4/Bills/House/HTML/H2v0.html   \n",
       "2  2015E4     H     3  b'Filed'  /Sessions/2015E4/Bills/House/HTML/H3v0.html   \n",
       "3  2015E4     H     4  b'Filed'  /Sessions/2015E4/Bills/House/HTML/H4v0.html   \n",
       "4  2015E4     H     5  b'Filed'  /Sessions/2015E4/Bills/House/HTML/H5v0.html   \n",
       "\n",
       "                                         pdf  \n",
       "0  /Sessions/2015E4/Bills/House/PDF/H1v0.pdf  \n",
       "1  /Sessions/2015E4/Bills/House/PDF/H2v0.pdf  \n",
       "2  /Sessions/2015E4/Bills/House/PDF/H3v0.pdf  \n",
       "3  /Sessions/2015E4/Bills/House/PDF/H4v0.pdf  \n",
       "4  /Sessions/2015E4/Bills/House/PDF/H5v0.pdf  "
      ]
     },
     "execution_count": 297,
     "metadata": {},
     "output_type": "execute_result"
    }
   ],
   "source": [
    "filed_bill_links.head()"
   ]
  },
  {
   "cell_type": "code",
   "execution_count": 298,
   "metadata": {
    "collapsed": false
   },
   "outputs": [
    {
     "data": {
      "text/plain": [
       "(2100, 6)"
      ]
     },
     "execution_count": 298,
     "metadata": {},
     "output_type": "execute_result"
    }
   ],
   "source": [
    "filed_bill_links.shape"
   ]
  },
  {
   "cell_type": "markdown",
   "metadata": {},
   "source": [
    "#### Final Links Only"
   ]
  },
  {
   "cell_type": "code",
   "execution_count": 299,
   "metadata": {
    "collapsed": true
   },
   "outputs": [],
   "source": [
    "final_bill_links = pandas.DataFrame([extractBillFinalLinks(soup) for soup in soups])\n",
    "final_bill_links.dropna(inplace=True)"
   ]
  },
  {
   "cell_type": "code",
   "execution_count": 300,
   "metadata": {
    "collapsed": false
   },
   "outputs": [],
   "source": [
    "final_bill_links = final_bill_links.join(bill_info, how='left')"
   ]
  },
  {
   "cell_type": "code",
   "execution_count": 301,
   "metadata": {
    "collapsed": true
   },
   "outputs": [],
   "source": [
    "final_bill_links = final_bill_links[['session', 'house', 'bill', 'label', 'html', 'pdf']]"
   ]
  },
  {
   "cell_type": "code",
   "execution_count": 302,
   "metadata": {
    "collapsed": false
   },
   "outputs": [
    {
     "data": {
      "text/html": [
       "<div>\n",
       "<table border=\"1\" class=\"dataframe\">\n",
       "  <thead>\n",
       "    <tr style=\"text-align: right;\">\n",
       "      <th></th>\n",
       "      <th>session</th>\n",
       "      <th>house</th>\n",
       "      <th>bill</th>\n",
       "      <th>label</th>\n",
       "      <th>html</th>\n",
       "      <th>pdf</th>\n",
       "    </tr>\n",
       "  </thead>\n",
       "  <tbody>\n",
       "    <tr>\n",
       "      <th>0</th>\n",
       "      <td>2015E4</td>\n",
       "      <td>H</td>\n",
       "      <td>1</td>\n",
       "      <td>b'Adopted'</td>\n",
       "      <td>/Sessions/2015E4/Bills/House/HTML/H1v3.html</td>\n",
       "      <td>/Sessions/2015E4/Bills/House/PDF/H1v3.pdf</td>\n",
       "    </tr>\n",
       "    <tr>\n",
       "      <th>16</th>\n",
       "      <td>2015E4</td>\n",
       "      <td>H</td>\n",
       "      <td>17</td>\n",
       "      <td>b'Ratified'</td>\n",
       "      <td>/Sessions/2015E4/Bills/House/HTML/H17v6.html</td>\n",
       "      <td>/Sessions/2015E4/Bills/House/PDF/H17v6.pdf</td>\n",
       "    </tr>\n",
       "    <tr>\n",
       "      <th>24</th>\n",
       "      <td>2015E4</td>\n",
       "      <td>S</td>\n",
       "      <td>1</td>\n",
       "      <td>b'Adopted'</td>\n",
       "      <td>/Sessions/2015E4/Bills/Senate/HTML/S1v2.html</td>\n",
       "      <td>/Sessions/2015E4/Bills/Senate/PDF/S1v2.pdf</td>\n",
       "    </tr>\n",
       "    <tr>\n",
       "      <th>27</th>\n",
       "      <td>2015E4</td>\n",
       "      <td>S</td>\n",
       "      <td>4</td>\n",
       "      <td>b'Ratified'</td>\n",
       "      <td>/Sessions/2015E4/Bills/Senate/HTML/S4v6.html</td>\n",
       "      <td>/Sessions/2015E4/Bills/Senate/PDF/S4v6.pdf</td>\n",
       "    </tr>\n",
       "    <tr>\n",
       "      <th>31</th>\n",
       "      <td>2015E3</td>\n",
       "      <td>H</td>\n",
       "      <td>1</td>\n",
       "      <td>b'Adopted'</td>\n",
       "      <td>/Sessions/2015E3/Bills/House/HTML/H1v2.html</td>\n",
       "      <td>/Sessions/2015E3/Bills/House/PDF/H1v2.pdf</td>\n",
       "    </tr>\n",
       "  </tbody>\n",
       "</table>\n",
       "</div>"
      ],
      "text/plain": [
       "   session house  bill        label  \\\n",
       "0   2015E4     H     1   b'Adopted'   \n",
       "16  2015E4     H    17  b'Ratified'   \n",
       "24  2015E4     S     1   b'Adopted'   \n",
       "27  2015E4     S     4  b'Ratified'   \n",
       "31  2015E3     H     1   b'Adopted'   \n",
       "\n",
       "                                            html  \\\n",
       "0    /Sessions/2015E4/Bills/House/HTML/H1v3.html   \n",
       "16  /Sessions/2015E4/Bills/House/HTML/H17v6.html   \n",
       "24  /Sessions/2015E4/Bills/Senate/HTML/S1v2.html   \n",
       "27  /Sessions/2015E4/Bills/Senate/HTML/S4v6.html   \n",
       "31   /Sessions/2015E3/Bills/House/HTML/H1v2.html   \n",
       "\n",
       "                                           pdf  \n",
       "0    /Sessions/2015E4/Bills/House/PDF/H1v3.pdf  \n",
       "16  /Sessions/2015E4/Bills/House/PDF/H17v6.pdf  \n",
       "24  /Sessions/2015E4/Bills/Senate/PDF/S1v2.pdf  \n",
       "27  /Sessions/2015E4/Bills/Senate/PDF/S4v6.pdf  \n",
       "31   /Sessions/2015E3/Bills/House/PDF/H1v2.pdf  "
      ]
     },
     "execution_count": 302,
     "metadata": {},
     "output_type": "execute_result"
    }
   ],
   "source": [
    "final_bill_links.head()"
   ]
  },
  {
   "cell_type": "code",
   "execution_count": 303,
   "metadata": {
    "collapsed": false
   },
   "outputs": [
    {
     "data": {
      "text/plain": [
       "(459, 6)"
      ]
     },
     "execution_count": 303,
     "metadata": {},
     "output_type": "execute_result"
    }
   ],
   "source": [
    "final_bill_links.shape"
   ]
  },
  {
   "cell_type": "markdown",
   "metadata": {},
   "source": [
    "### Keywords"
   ]
  },
  {
   "cell_type": "code",
   "execution_count": 307,
   "metadata": {
    "collapsed": false
   },
   "outputs": [
    {
     "data": {
      "text/plain": [
       "80"
      ]
     },
     "execution_count": 307,
     "metadata": {},
     "output_type": "execute_result"
    }
   ],
   "source": [
    "ds = soup.find_all('tr')\n",
    "len(ds)"
   ]
  },
  {
   "cell_type": "code",
   "execution_count": 316,
   "metadata": {
    "collapsed": false
   },
   "outputs": [
    {
     "data": {
      "text/plain": [
       "11"
      ]
     },
     "execution_count": 316,
     "metadata": {},
     "output_type": "execute_result"
    }
   ],
   "source": [
    "trs = [tr for tr in ds if len(tr.find_all('th')) > 0]\n",
    "len(trs)"
   ]
  },
  {
   "cell_type": "code",
   "execution_count": 325,
   "metadata": {
    "collapsed": false
   },
   "outputs": [],
   "source": [
    "ths = [tr for tr in trs if tr.find('th').text.lower().startswith('keyword')]"
   ]
  },
  {
   "cell_type": "code",
   "execution_count": 331,
   "metadata": {
    "collapsed": false
   },
   "outputs": [],
   "source": [
    "keywords = [w.strip() for w in  ths[0].div.text.split(',')]"
   ]
  },
  {
   "cell_type": "code",
   "execution_count": 333,
   "metadata": {
    "collapsed": false
   },
   "outputs": [
    {
     "data": {
      "text/plain": [
       "['APPOINTMENTS',\n",
       " 'BOARDS',\n",
       " 'CHAPTERED',\n",
       " 'COMMERCE',\n",
       " 'COMMISSIONS',\n",
       " 'COUNCIL OF STATE',\n",
       " 'COUNTIES',\n",
       " 'COURT OF APPEALS',\n",
       " 'COURTS',\n",
       " 'ELECTIONS',\n",
       " 'ELECTIONS BOARDS',\n",
       " 'ELECTIONS',\n",
       " 'STATE BOARD OF',\n",
       " 'ETHICS',\n",
       " 'ETHICS COMN.',\n",
       " 'GENERAL ASSEMBLY',\n",
       " 'GOVERNOR',\n",
       " 'INDUSTRIAL COMN.',\n",
       " 'LOBBYING',\n",
       " 'LOCAL GOVERNMENT',\n",
       " 'MEMBERSHIP',\n",
       " 'POLITICAL ACTIVITY',\n",
       " 'POLITICAL PARTIES',\n",
       " 'PRESENTED',\n",
       " 'PRESIDENT PRO TEMPORE',\n",
       " 'PUBLIC',\n",
       " 'PUBLIC OFFICIALS',\n",
       " 'RATIFIED',\n",
       " 'REDISTRICTING',\n",
       " 'SECRETARY OF STATE',\n",
       " 'SPEAKER',\n",
       " 'SUPREME COURT',\n",
       " 'TERM LENGTHS & LIMITS']"
      ]
     },
     "execution_count": 333,
     "metadata": {},
     "output_type": "execute_result"
    }
   ],
   "source": [
    "keywords"
   ]
  },
  {
   "cell_type": "code",
   "execution_count": 335,
   "metadata": {
    "collapsed": true
   },
   "outputs": [],
   "source": [
    "def extractKeywords(soup):\n",
    "    ds = soup.find_all('tr')\n",
    "    trs = [tr for tr in ds if len(tr.find_all('th')) > 0]\n",
    "    ths = [tr for tr in trs if tr.find('th').text.lower().startswith('keyword')]\n",
    "    keywords = [w.strip() for w in  ths[0].div.text.split(',')]\n",
    "    return(keywords)"
   ]
  },
  {
   "cell_type": "code",
   "execution_count": 338,
   "metadata": {
    "collapsed": false
   },
   "outputs": [
    {
     "data": {
      "text/plain": [
       "['APPOINTMENTS',\n",
       " 'BOARDS',\n",
       " 'CHAPTERED',\n",
       " 'COMMERCE',\n",
       " 'COMMISSIONS',\n",
       " 'COUNCIL OF STATE',\n",
       " 'COUNTIES',\n",
       " 'COURT OF APPEALS',\n",
       " 'COURTS',\n",
       " 'ELECTIONS']"
      ]
     },
     "execution_count": 338,
     "metadata": {},
     "output_type": "execute_result"
    }
   ],
   "source": [
    "extractKeywords(soup)[:10]"
   ]
  },
  {
   "cell_type": "code",
   "execution_count": 348,
   "metadata": {
    "collapsed": true
   },
   "outputs": [],
   "source": [
    "keywords = [{'keywords' : extractKeywords(soup)} for soup in soups]"
   ]
  },
  {
   "cell_type": "code",
   "execution_count": 350,
   "metadata": {
    "collapsed": true
   },
   "outputs": [],
   "source": [
    "keywords = pandas.DataFrame.join(bill_info, pandas.DataFrame(keywords))"
   ]
  },
  {
   "cell_type": "code",
   "execution_count": 353,
   "metadata": {
    "collapsed": false
   },
   "outputs": [
    {
     "data": {
      "text/html": [
       "<div>\n",
       "<table border=\"1\" class=\"dataframe\">\n",
       "  <thead>\n",
       "    <tr style=\"text-align: right;\">\n",
       "      <th></th>\n",
       "      <th>bill</th>\n",
       "      <th>house</th>\n",
       "      <th>session</th>\n",
       "      <th>keywords</th>\n",
       "    </tr>\n",
       "  </thead>\n",
       "  <tbody>\n",
       "    <tr>\n",
       "      <th>0</th>\n",
       "      <td>1</td>\n",
       "      <td>H</td>\n",
       "      <td>2015E4</td>\n",
       "      <td>[ADOPTED, GENERAL ASSEMBLY, RESOLUTIONS, SIMPL...</td>\n",
       "    </tr>\n",
       "    <tr>\n",
       "      <th>1</th>\n",
       "      <td>2</td>\n",
       "      <td>H</td>\n",
       "      <td>2015E4</td>\n",
       "      <td>[ADJOURNMENT, GENERAL ASSEMBLY, RESOLUTIONS, J...</td>\n",
       "    </tr>\n",
       "    <tr>\n",
       "      <th>2</th>\n",
       "      <td>3</td>\n",
       "      <td>H</td>\n",
       "      <td>2015E4</td>\n",
       "      <td>[ADMINISTRATION DEPT., ADMINISTRATIVE CODE, AD...</td>\n",
       "    </tr>\n",
       "    <tr>\n",
       "      <th>3</th>\n",
       "      <td>4</td>\n",
       "      <td>H</td>\n",
       "      <td>2015E4</td>\n",
       "      <td>[BRIDGES, CONTRACTS, COUNTIES, INFRASTRUCTURE,...</td>\n",
       "    </tr>\n",
       "    <tr>\n",
       "      <th>4</th>\n",
       "      <td>5</td>\n",
       "      <td>H</td>\n",
       "      <td>2015E4</td>\n",
       "      <td>[COUNTIES, EDGECOMBE COUNTY, INFORMATION TECHN...</td>\n",
       "    </tr>\n",
       "  </tbody>\n",
       "</table>\n",
       "</div>"
      ],
      "text/plain": [
       "   bill house session                                           keywords\n",
       "0     1     H  2015E4  [ADOPTED, GENERAL ASSEMBLY, RESOLUTIONS, SIMPL...\n",
       "1     2     H  2015E4  [ADJOURNMENT, GENERAL ASSEMBLY, RESOLUTIONS, J...\n",
       "2     3     H  2015E4  [ADMINISTRATION DEPT., ADMINISTRATIVE CODE, AD...\n",
       "3     4     H  2015E4  [BRIDGES, CONTRACTS, COUNTIES, INFRASTRUCTURE,...\n",
       "4     5     H  2015E4  [COUNTIES, EDGECOMBE COUNTY, INFORMATION TECHN..."
      ]
     },
     "execution_count": 353,
     "metadata": {},
     "output_type": "execute_result"
    }
   ],
   "source": [
    "keywords.head()"
   ]
  },
  {
   "cell_type": "code",
   "execution_count": 355,
   "metadata": {
    "collapsed": true
   },
   "outputs": [],
   "source": [
    "with open(keywords_file, 'wb') as f1:\n",
    "    pickle.dump(keywords, f1)"
   ]
  },
  {
   "cell_type": "markdown",
   "metadata": {},
   "source": [
    "## General Analysis Ideas"
   ]
  },
  {
   "cell_type": "markdown",
   "metadata": {},
   "source": [
    "2. Get keywords associated with bills\n",
    "  1. Get filed bill texts\n",
    "  1. Can we get groups based on keywords - text?\n",
    "3. determine if bill ever passed\n",
    "  1. get passed bill texts\n",
    "  1. Can we get groups based on passed/accepted - text?"
   ]
  },
  {
   "cell_type": "markdown",
   "metadata": {},
   "source": [
    "### First Pass Storage"
   ]
  },
  {
   "cell_type": "markdown",
   "metadata": {},
   "source": [
    "1. Pages go to mongo? hdfs? (who cares??)\n",
    "2. general bill info to (My)SQL\n",
    "  1. just the session and house and ID info\n",
    "  2. also a sql assigned key? or will this just\n",
    "3. link info to a 'links' table\n",
    "  1. each line is a new bill state\n",
    "  2. so 'session - house - label - html_link - pdf_link'\n",
    "4. bill content table\n",
    "  1. raw text\n",
    "  2. hdfs?  mongo? (need key info...)\n",
    "4. events table (future)"
   ]
  }
 ],
 "metadata": {
  "kernelspec": {
   "display_name": "Python 3",
   "language": "python",
   "name": "python3"
  },
  "language_info": {
   "codemirror_mode": {
    "name": "ipython",
    "version": 3
   },
   "file_extension": ".py",
   "mimetype": "text/x-python",
   "name": "python",
   "nbconvert_exporter": "python",
   "pygments_lexer": "ipython3",
   "version": "3.5.2"
  },
  "widgets": {
   "state": {},
   "version": "1.1.2"
  }
 },
 "nbformat": 4,
 "nbformat_minor": 2
}
