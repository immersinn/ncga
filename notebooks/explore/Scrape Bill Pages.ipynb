{
 "cells": [
  {
   "cell_type": "code",
   "execution_count": 49,
   "metadata": {
    "collapsed": true
   },
   "outputs": [],
   "source": [
    "import time\n",
    "import pickle"
   ]
  },
  {
   "cell_type": "code",
   "execution_count": 2,
   "metadata": {
    "collapsed": true
   },
   "outputs": [],
   "source": [
    "from urllib.request import urlopen\n",
    "import requests\n",
    "from bs4 import BeautifulSoup as bs"
   ]
  },
  {
   "cell_type": "code",
   "execution_count": 3,
   "metadata": {
    "collapsed": true
   },
   "outputs": [],
   "source": [
    "import pandas"
   ]
  },
  {
   "cell_type": "markdown",
   "metadata": {},
   "source": [
    "## Build Bill URL and Request Page"
   ]
  },
  {
   "cell_type": "code",
   "execution_count": 4,
   "metadata": {
    "collapsed": true
   },
   "outputs": [],
   "source": [
    "bill_root = \"http://www.ncleg.net/gascripts/BillLookUp/BillLookUp.pl?\""
   ]
  },
  {
   "cell_type": "code",
   "execution_count": 5,
   "metadata": {
    "collapsed": true
   },
   "outputs": [],
   "source": [
    "session_head = \"Session=\"\n",
    "bill_head = \"BillID=\""
   ]
  },
  {
   "cell_type": "markdown",
   "metadata": {},
   "source": [
    "### Example"
   ]
  },
  {
   "cell_type": "code",
   "execution_count": 6,
   "metadata": {
    "collapsed": true
   },
   "outputs": [],
   "source": [
    "session = \"2015\"\n",
    "bill_id = \"H1\""
   ]
  },
  {
   "cell_type": "code",
   "execution_count": 7,
   "metadata": {
    "collapsed": true
   },
   "outputs": [],
   "source": [
    "def buildBillURL(session, bill_id):\n",
    "    return(bill_root + session_head + session + \"&\" + bill_head + bill_id)"
   ]
  },
  {
   "cell_type": "code",
   "execution_count": 8,
   "metadata": {
    "collapsed": false
   },
   "outputs": [
    {
     "data": {
      "text/plain": [
       "'http://www.ncleg.net/gascripts/BillLookUp/BillLookUp.pl?Session=2015&BillID=H1'"
      ]
     },
     "execution_count": 8,
     "metadata": {},
     "output_type": "execute_result"
    }
   ],
   "source": [
    "bill_url = buildBillURL(session=session, bill_id=bill_id)\n",
    "bill_url"
   ]
  },
  {
   "cell_type": "code",
   "execution_count": 9,
   "metadata": {
    "collapsed": true
   },
   "outputs": [],
   "source": [
    "page = urlopen(bill_url)"
   ]
  },
  {
   "cell_type": "code",
   "execution_count": 10,
   "metadata": {
    "collapsed": false
   },
   "outputs": [
    {
     "data": {
      "text/plain": [
       "200"
      ]
     },
     "execution_count": 10,
     "metadata": {},
     "output_type": "execute_result"
    }
   ],
   "source": [
    "page.status"
   ]
  },
  {
   "cell_type": "code",
   "execution_count": 11,
   "metadata": {
    "collapsed": false
   },
   "outputs": [
    {
     "data": {
      "text/plain": [
       "b'<!doctype html>\\n<html>\\n<head>\\n\\t<meta name=\"description\" content=\"The Official Site of the North Carolina General Assembly.\">\\n\\t<meta name=\"keywords\" content=\"NCGA, North Carolina General Assembly, offi'"
      ]
     },
     "execution_count": 11,
     "metadata": {},
     "output_type": "execute_result"
    }
   ],
   "source": [
    "page.read()[:200]"
   ]
  },
  {
   "cell_type": "code",
   "execution_count": 12,
   "metadata": {
    "collapsed": true
   },
   "outputs": [],
   "source": [
    "page.close()"
   ]
  },
  {
   "cell_type": "code",
   "execution_count": 13,
   "metadata": {
    "collapsed": false
   },
   "outputs": [],
   "source": [
    "pages = []\n",
    "for num in range(1,5):\n",
    "    bill_id = \"H\" + str(num)\n",
    "    bill_url = buildBillURL(session=session, bill_id=bill_id)\n",
    "    with urlopen(bill_url) as page:\n",
    "        if page.status < 300:\n",
    "            pages.append(page.read())"
   ]
  },
  {
   "cell_type": "code",
   "execution_count": 14,
   "metadata": {
    "collapsed": false
   },
   "outputs": [
    {
     "data": {
      "text/plain": [
       "4"
      ]
     },
     "execution_count": 14,
     "metadata": {},
     "output_type": "execute_result"
    }
   ],
   "source": [
    "len(pages)"
   ]
  },
  {
   "cell_type": "markdown",
   "metadata": {},
   "source": [
    "### More Stuff"
   ]
  },
  {
   "cell_type": "code",
   "execution_count": 15,
   "metadata": {
    "collapsed": false
   },
   "outputs": [
    {
     "data": {
      "text/plain": [
       "(33, 2)"
      ]
     },
     "execution_count": 15,
     "metadata": {},
     "output_type": "execute_result"
    }
   ],
   "source": [
    "# Session Values\n",
    "with open(\"data/ncga_sessionToSearch\", 'r') as f:\n",
    "    session_html = \"\".join(f.readlines())\n",
    "\n",
    "session_soup = bs(session_html, 'html.parser')\n",
    "sessions = session_soup.find_all('option')\n",
    "sessions = [{\"query_value\" : session['value'], \"name\" : session.text.strip()} \\\n",
    "            for session in sessions]\n",
    "sessions = pandas.DataFrame(sessions)\n",
    "sessions.shape"
   ]
  },
  {
   "cell_type": "code",
   "execution_count": 16,
   "metadata": {
    "collapsed": false
   },
   "outputs": [
    {
     "data": {
      "text/html": [
       "<div>\n",
       "<table border=\"1\" class=\"dataframe\">\n",
       "  <thead>\n",
       "    <tr style=\"text-align: right;\">\n",
       "      <th></th>\n",
       "      <th>name</th>\n",
       "      <th>query_value</th>\n",
       "    </tr>\n",
       "  </thead>\n",
       "  <tbody>\n",
       "    <tr>\n",
       "      <th>0</th>\n",
       "      <td>2016 Extra Session 4</td>\n",
       "      <td>2015E4</td>\n",
       "    </tr>\n",
       "    <tr>\n",
       "      <th>1</th>\n",
       "      <td>2016 Extra Session 3</td>\n",
       "      <td>2015E3</td>\n",
       "    </tr>\n",
       "    <tr>\n",
       "      <th>2</th>\n",
       "      <td>2016 Extra Session 2</td>\n",
       "      <td>2015E2</td>\n",
       "    </tr>\n",
       "    <tr>\n",
       "      <th>3</th>\n",
       "      <td>2016 Extra Session 1</td>\n",
       "      <td>2015E1</td>\n",
       "    </tr>\n",
       "    <tr>\n",
       "      <th>4</th>\n",
       "      <td>2015-2016 Session</td>\n",
       "      <td>2015</td>\n",
       "    </tr>\n",
       "  </tbody>\n",
       "</table>\n",
       "</div>"
      ],
      "text/plain": [
       "                   name query_value\n",
       "0  2016 Extra Session 4      2015E4\n",
       "1  2016 Extra Session 3      2015E3\n",
       "2  2016 Extra Session 2      2015E2\n",
       "3  2016 Extra Session 1      2015E1\n",
       "4     2015-2016 Session        2015"
      ]
     },
     "execution_count": 16,
     "metadata": {},
     "output_type": "execute_result"
    }
   ],
   "source": [
    "sessions_of_interest = sessions[:5]\n",
    "sessions_of_interest"
   ]
  },
  {
   "cell_type": "markdown",
   "metadata": {},
   "source": [
    "#### Identifying a \"Bad Page\" / \"Not a Bill\" Page"
   ]
  },
  {
   "cell_type": "code",
   "execution_count": 17,
   "metadata": {
    "collapsed": true
   },
   "outputs": [],
   "source": [
    "bad_page_ex = \"http://www.ncleg.net/gascripts/BillLookUp/BillLookUp.pl?Session=2015&BillID=H11111\""
   ]
  },
  {
   "cell_type": "code",
   "execution_count": 18,
   "metadata": {
    "collapsed": false
   },
   "outputs": [],
   "source": [
    "bad_page = urlopen(bad_page_ex)\n",
    "bad_soup = bs(bad_page, 'html.parser')"
   ]
  },
  {
   "cell_type": "code",
   "execution_count": 19,
   "metadata": {
    "collapsed": false
   },
   "outputs": [
    {
     "data": {
      "text/plain": [
       "<div id=\"title\">Bill H11111 Not Found</div>"
      ]
     },
     "execution_count": 19,
     "metadata": {},
     "output_type": "execute_result"
    }
   ],
   "source": [
    "# Find the body \"title\"\n",
    "bad_soup.find('div', {\"id\":\"title\"})"
   ]
  },
  {
   "cell_type": "code",
   "execution_count": 20,
   "metadata": {
    "collapsed": false
   },
   "outputs": [
    {
     "data": {
      "text/plain": [
       "True"
      ]
     },
     "execution_count": 20,
     "metadata": {},
     "output_type": "execute_result"
    }
   ],
   "source": [
    "# Create a flag\n",
    "bad_soup.find('div', {\"id\":\"title\"}).text.lower().find(\"not found\") > -1"
   ]
  },
  {
   "cell_type": "code",
   "execution_count": 40,
   "metadata": {
    "collapsed": true
   },
   "outputs": [],
   "source": [
    "def isEmptyPage(page):\n",
    "    soup = bs(page, 'html.parser')\n",
    "    return(soup.find('div', {\"id\":\"title\"}).text.lower().find(\"not found\") > -1)"
   ]
  },
  {
   "cell_type": "code",
   "execution_count": 27,
   "metadata": {
    "collapsed": false
   },
   "outputs": [
    {
     "data": {
      "text/plain": [
       "True"
      ]
     },
     "execution_count": 27,
     "metadata": {},
     "output_type": "execute_result"
    }
   ],
   "source": [
    "isEmptyPage(bad_page)"
   ]
  },
  {
   "cell_type": "markdown",
   "metadata": {},
   "source": [
    "#### Try the scrape..."
   ]
  },
  {
   "cell_type": "code",
   "execution_count": 69,
   "metadata": {
    "collapsed": false
   },
   "outputs": [
    {
     "data": {
      "text/plain": [
       "['2015E4', '2015E3', '2015E2', '2015E1', '2015']"
      ]
     },
     "execution_count": 69,
     "metadata": {},
     "output_type": "execute_result"
    }
   ],
   "source": [
    "sess = sessions_of_interest['query_value'].tolist()\n",
    "sess"
   ]
  },
  {
   "cell_type": "code",
   "execution_count": 75,
   "metadata": {
    "collapsed": false
   },
   "outputs": [
    {
     "name": "stdout",
     "output_type": "stream",
     "text": [
      "Session 2015E4\n",
      "  House H\n",
      "\tBill 1\n",
      "  Total bills in H session 2015E4: 24\n",
      "  House S\n",
      "\tBill 1\n",
      "  Total bills in S session 2015E4: 7\n",
      "Session 2015E3\n",
      "  House H\n",
      "\tBill 1\n",
      "  Total bills in H session 2015E3: 6\n",
      "  House S\n",
      "\tBill 1\n",
      "  Total bills in S session 2015E3: 1\n",
      "Session 2015E2\n",
      "  House H\n",
      "\tBill 1\n",
      "  Total bills in H session 2015E2: 3\n",
      "  House S\n",
      "\tBill 1\n",
      "  Total bills in S session 2015E2: 1\n",
      "Session 2015E1\n",
      "  House H\n",
      "\tBill 1\n",
      "  Total bills in H session 2015E1: 3\n",
      "  House S\n",
      "\tBill 1\n",
      "  Total bills in S session 2015E1: 2\n",
      "Session 2015\n",
      "  House H\n",
      "\tBill 1\n",
      "\tBill 100\n",
      "\tBill 200\n",
      "\tBill 300\n",
      "\tBill 400\n",
      "\tBill 500\n",
      "\tBill 600\n",
      "\tBill 700\n",
      "\tBill 800\n",
      "\tBill 900\n",
      "\tBill 1000\n",
      "\tBill 1100\n",
      "  Total bills in H session 2015: 1150\n",
      "  House S\n",
      "\tBill 1\n",
      "\tBill 100\n",
      "\tBill 200\n",
      "\tBill 300\n",
      "\tBill 400\n",
      "\tBill 500\n",
      "\tBill 600\n",
      "\tBill 700\n",
      "\tBill 800\n",
      "\tBill 900\n",
      "  Total bills in S session 2015: 903\n",
      "\n",
      "Total pages scrapped: 2100\n",
      "\n",
      "Pickling data...\n",
      "\n",
      "All done!\n",
      "\n",
      "\n",
      "CPU times: user 3min 18s, sys: 5.8 s, total: 3min 24s\n",
      "Wall time: 1h 25min 3s\n"
     ]
    }
   ],
   "source": [
    "%%time\n",
    "\n",
    "pages = []\n",
    "for ses in sess:\n",
    "    print('Session ' + ses)\n",
    "    for house_flag in [\"H\", \"S\"]:\n",
    "        print('  House ' + house_flag)\n",
    "        stop = False\n",
    "        counter = 1\n",
    "        repeat_flag = False\n",
    "        while not stop:\n",
    "            if counter == 1 or counter % 100 == 0:\n",
    "                print('\\tBill ' + str(counter))\n",
    "            time.sleep(0.75)\n",
    "            bill_id = house_flag + str(counter)\n",
    "            url = buildBillURL(session=ses, bill_id=bill_id)\n",
    "            with urlopen(url) as page:\n",
    "                if page.status < 300:\n",
    "                    page = page.read()\n",
    "                    if not isEmptyPage(page):\n",
    "                        pages.append({'session' : ses, 'house' : house_flag, 'page' : page, 'bill' : counter})\n",
    "                        counter += 1\n",
    "                    else:\n",
    "                        stop = True\n",
    "                    repeat_flag = False\n",
    "                else:\n",
    "                    if repeat_flag == True:\n",
    "                        stop = True\n",
    "                    else:\n",
    "                        repeat_flag = True\n",
    "         ## DO NOT COMMENT  FOR TESTING\n",
    "         #   if counter >= 1:\n",
    "         #       stop = True\n",
    "        print('  Total bills in {} session {}: {}'.format(house_flag, ses, counter-1))\n",
    "                \n",
    "#\n",
    "print('\\nTotal pages scrapped: {}'.format(len(pages)))\n",
    "                \n",
    "# Pickle the data\n",
    "print('\\nPickling data...')\n",
    "with open('data/test_pages.pkl', 'wb') as f1:\n",
    "    pickle.dump(pages, f1)\n",
    "    \n",
    "print('\\nAll done!')\n",
    "print('\\n')"
   ]
  },
  {
   "cell_type": "code",
   "execution_count": null,
   "metadata": {
    "collapsed": true
   },
   "outputs": [],
   "source": []
  }
 ],
 "metadata": {
  "kernelspec": {
   "display_name": "Python [default]",
   "language": "python",
   "name": "python3"
  },
  "language_info": {
   "codemirror_mode": {
    "name": "ipython",
    "version": 3
   },
   "file_extension": ".py",
   "mimetype": "text/x-python",
   "name": "python",
   "nbconvert_exporter": "python",
   "pygments_lexer": "ipython3",
   "version": "3.5.2"
  }
 },
 "nbformat": 4,
 "nbformat_minor": 2
}
