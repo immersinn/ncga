{
 "cells": [
  {
   "cell_type": "code",
   "execution_count": 50,
   "metadata": {
    "collapsed": true
   },
   "outputs": [],
   "source": [
    "import time\n",
    "from urllib.request import urlopen\n",
    "from urllib.error import HTTPError, URLError\n",
    "from bs4 import BeautifulSoup as bs\n",
    "import pickle"
   ]
  },
  {
   "cell_type": "code",
   "execution_count": 20,
   "metadata": {
    "collapsed": true
   },
   "outputs": [],
   "source": [
    "bill_links_file = \"data/bill_links_all.pkl\"\n",
    "bill_texts_file = \"data/bill_texts_filed.pkl\""
   ]
  },
  {
   "cell_type": "code",
   "execution_count": 24,
   "metadata": {
    "collapsed": true
   },
   "outputs": [],
   "source": [
    "with open(bill_links_file, 'rb') as f1:\n",
    "    bill_links = pickle.load(f1)"
   ]
  },
  {
   "cell_type": "code",
   "execution_count": 25,
   "metadata": {
    "collapsed": false
   },
   "outputs": [
    {
     "data": {
      "text/html": [
       "<div>\n",
       "<table border=\"1\" class=\"dataframe\">\n",
       "  <thead>\n",
       "    <tr style=\"text-align: right;\">\n",
       "      <th></th>\n",
       "      <th>session</th>\n",
       "      <th>house</th>\n",
       "      <th>bill</th>\n",
       "      <th>label</th>\n",
       "      <th>html</th>\n",
       "      <th>pdf</th>\n",
       "    </tr>\n",
       "  </thead>\n",
       "  <tbody>\n",
       "    <tr>\n",
       "      <th>0</th>\n",
       "      <td>2015E4</td>\n",
       "      <td>H</td>\n",
       "      <td>1</td>\n",
       "      <td>b'Filed'</td>\n",
       "      <td>/Sessions/2015E4/Bills/House/HTML/H1v0.html</td>\n",
       "      <td>/Sessions/2015E4/Bills/House/PDF/H1v0.pdf</td>\n",
       "    </tr>\n",
       "    <tr>\n",
       "      <th>1</th>\n",
       "      <td>2015E4</td>\n",
       "      <td>H</td>\n",
       "      <td>1</td>\n",
       "      <td>b'Edition 1'</td>\n",
       "      <td>/Sessions/2015E4/Bills/House/HTML/H1v1.html</td>\n",
       "      <td>/Sessions/2015E4/Bills/House/PDF/H1v1.pdf</td>\n",
       "    </tr>\n",
       "    <tr>\n",
       "      <th>2</th>\n",
       "      <td>2015E4</td>\n",
       "      <td>H</td>\n",
       "      <td>1</td>\n",
       "      <td>b'Edition 2'</td>\n",
       "      <td>/Sessions/2015E4/Bills/House/HTML/H1v2.html</td>\n",
       "      <td>/Sessions/2015E4/Bills/House/PDF/H1v2.pdf</td>\n",
       "    </tr>\n",
       "    <tr>\n",
       "      <th>3</th>\n",
       "      <td>2015E4</td>\n",
       "      <td>H</td>\n",
       "      <td>1</td>\n",
       "      <td>b'Adopted'</td>\n",
       "      <td>/Sessions/2015E4/Bills/House/HTML/H1v3.html</td>\n",
       "      <td>/Sessions/2015E4/Bills/House/PDF/H1v3.pdf</td>\n",
       "    </tr>\n",
       "    <tr>\n",
       "      <th>4</th>\n",
       "      <td>2015E4</td>\n",
       "      <td>H</td>\n",
       "      <td>2</td>\n",
       "      <td>b'Filed'</td>\n",
       "      <td>/Sessions/2015E4/Bills/House/HTML/H2v0.html</td>\n",
       "      <td>/Sessions/2015E4/Bills/House/PDF/H2v0.pdf</td>\n",
       "    </tr>\n",
       "  </tbody>\n",
       "</table>\n",
       "</div>"
      ],
      "text/plain": [
       "  session house  bill         label  \\\n",
       "0  2015E4     H     1      b'Filed'   \n",
       "1  2015E4     H     1  b'Edition 1'   \n",
       "2  2015E4     H     1  b'Edition 2'   \n",
       "3  2015E4     H     1    b'Adopted'   \n",
       "4  2015E4     H     2      b'Filed'   \n",
       "\n",
       "                                          html  \\\n",
       "0  /Sessions/2015E4/Bills/House/HTML/H1v0.html   \n",
       "1  /Sessions/2015E4/Bills/House/HTML/H1v1.html   \n",
       "2  /Sessions/2015E4/Bills/House/HTML/H1v2.html   \n",
       "3  /Sessions/2015E4/Bills/House/HTML/H1v3.html   \n",
       "4  /Sessions/2015E4/Bills/House/HTML/H2v0.html   \n",
       "\n",
       "                                         pdf  \n",
       "0  /Sessions/2015E4/Bills/House/PDF/H1v0.pdf  \n",
       "1  /Sessions/2015E4/Bills/House/PDF/H1v1.pdf  \n",
       "2  /Sessions/2015E4/Bills/House/PDF/H1v2.pdf  \n",
       "3  /Sessions/2015E4/Bills/House/PDF/H1v3.pdf  \n",
       "4  /Sessions/2015E4/Bills/House/PDF/H2v0.pdf  "
      ]
     },
     "execution_count": 25,
     "metadata": {},
     "output_type": "execute_result"
    }
   ],
   "source": [
    "bill_links.head()"
   ]
  },
  {
   "cell_type": "code",
   "execution_count": 26,
   "metadata": {
    "collapsed": false
   },
   "outputs": [
    {
     "data": {
      "text/html": [
       "<div>\n",
       "<table border=\"1\" class=\"dataframe\">\n",
       "  <thead>\n",
       "    <tr style=\"text-align: right;\">\n",
       "      <th></th>\n",
       "      <th>session</th>\n",
       "      <th>house</th>\n",
       "      <th>bill</th>\n",
       "      <th>label</th>\n",
       "      <th>html</th>\n",
       "      <th>pdf</th>\n",
       "    </tr>\n",
       "  </thead>\n",
       "  <tbody>\n",
       "    <tr>\n",
       "      <th>6291</th>\n",
       "      <td>2015</td>\n",
       "      <td>S</td>\n",
       "      <td>902</td>\n",
       "      <td>b'Resolution 2016-22'</td>\n",
       "      <td>/Sessions/2015/Bills/Senate/HTML/S902v2.html</td>\n",
       "      <td>/Sessions/2015/Bills/Senate/PDF/S902v2.pdf</td>\n",
       "    </tr>\n",
       "    <tr>\n",
       "      <th>6292</th>\n",
       "      <td>2015</td>\n",
       "      <td>S</td>\n",
       "      <td>903</td>\n",
       "      <td>b'Filed'</td>\n",
       "      <td>/Sessions/2015/Bills/Senate/HTML/S903v0.html</td>\n",
       "      <td>/Sessions/2015/Bills/Senate/PDF/S903v0.pdf</td>\n",
       "    </tr>\n",
       "    <tr>\n",
       "      <th>6293</th>\n",
       "      <td>2015</td>\n",
       "      <td>S</td>\n",
       "      <td>903</td>\n",
       "      <td>b'Edition 1'</td>\n",
       "      <td>/Sessions/2015/Bills/Senate/HTML/S903v1.html</td>\n",
       "      <td>/Sessions/2015/Bills/Senate/PDF/S903v1.pdf</td>\n",
       "    </tr>\n",
       "    <tr>\n",
       "      <th>6294</th>\n",
       "      <td>2015</td>\n",
       "      <td>S</td>\n",
       "      <td>903</td>\n",
       "      <td>b'Edition 2'</td>\n",
       "      <td>/Sessions/2015/Bills/Senate/HTML/S903v2.html</td>\n",
       "      <td>/Sessions/2015/Bills/Senate/PDF/S903v2.pdf</td>\n",
       "    </tr>\n",
       "    <tr>\n",
       "      <th>6295</th>\n",
       "      <td>2015</td>\n",
       "      <td>S</td>\n",
       "      <td>903</td>\n",
       "      <td>b'Resolution 2016-23'</td>\n",
       "      <td>/Sessions/2015/Bills/Senate/HTML/S903v3.html</td>\n",
       "      <td>/Sessions/2015/Bills/Senate/PDF/S903v3.pdf</td>\n",
       "    </tr>\n",
       "  </tbody>\n",
       "</table>\n",
       "</div>"
      ],
      "text/plain": [
       "     session house  bill                  label  \\\n",
       "6291    2015     S   902  b'Resolution 2016-22'   \n",
       "6292    2015     S   903               b'Filed'   \n",
       "6293    2015     S   903           b'Edition 1'   \n",
       "6294    2015     S   903           b'Edition 2'   \n",
       "6295    2015     S   903  b'Resolution 2016-23'   \n",
       "\n",
       "                                              html  \\\n",
       "6291  /Sessions/2015/Bills/Senate/HTML/S902v2.html   \n",
       "6292  /Sessions/2015/Bills/Senate/HTML/S903v0.html   \n",
       "6293  /Sessions/2015/Bills/Senate/HTML/S903v1.html   \n",
       "6294  /Sessions/2015/Bills/Senate/HTML/S903v2.html   \n",
       "6295  /Sessions/2015/Bills/Senate/HTML/S903v3.html   \n",
       "\n",
       "                                             pdf  \n",
       "6291  /Sessions/2015/Bills/Senate/PDF/S902v2.pdf  \n",
       "6292  /Sessions/2015/Bills/Senate/PDF/S903v0.pdf  \n",
       "6293  /Sessions/2015/Bills/Senate/PDF/S903v1.pdf  \n",
       "6294  /Sessions/2015/Bills/Senate/PDF/S903v2.pdf  \n",
       "6295  /Sessions/2015/Bills/Senate/PDF/S903v3.pdf  "
      ]
     },
     "execution_count": 26,
     "metadata": {},
     "output_type": "execute_result"
    }
   ],
   "source": [
    "bill_links.tail()"
   ]
  },
  {
   "cell_type": "code",
   "execution_count": 30,
   "metadata": {
    "collapsed": false
   },
   "outputs": [
    {
     "data": {
      "text/plain": [
       "count         6296\n",
       "unique         478\n",
       "top       b'Filed'\n",
       "freq          2100\n",
       "Name: label, dtype: object"
      ]
     },
     "execution_count": 30,
     "metadata": {},
     "output_type": "execute_result"
    }
   ],
   "source": [
    "bill_links.label.describe()"
   ]
  },
  {
   "cell_type": "code",
   "execution_count": 34,
   "metadata": {
    "collapsed": false
   },
   "outputs": [],
   "source": [
    "bill_links_filed = bill_links[bill_links.label==b'Filed']"
   ]
  },
  {
   "cell_type": "code",
   "execution_count": 36,
   "metadata": {
    "collapsed": false
   },
   "outputs": [
    {
     "data": {
      "text/html": [
       "<div>\n",
       "<table border=\"1\" class=\"dataframe\">\n",
       "  <thead>\n",
       "    <tr style=\"text-align: right;\">\n",
       "      <th></th>\n",
       "      <th>session</th>\n",
       "      <th>house</th>\n",
       "      <th>bill</th>\n",
       "      <th>label</th>\n",
       "      <th>html</th>\n",
       "      <th>pdf</th>\n",
       "    </tr>\n",
       "  </thead>\n",
       "  <tbody>\n",
       "    <tr>\n",
       "      <th>0</th>\n",
       "      <td>2015E4</td>\n",
       "      <td>H</td>\n",
       "      <td>1</td>\n",
       "      <td>b'Filed'</td>\n",
       "      <td>/Sessions/2015E4/Bills/House/HTML/H1v0.html</td>\n",
       "      <td>/Sessions/2015E4/Bills/House/PDF/H1v0.pdf</td>\n",
       "    </tr>\n",
       "    <tr>\n",
       "      <th>4</th>\n",
       "      <td>2015E4</td>\n",
       "      <td>H</td>\n",
       "      <td>2</td>\n",
       "      <td>b'Filed'</td>\n",
       "      <td>/Sessions/2015E4/Bills/House/HTML/H2v0.html</td>\n",
       "      <td>/Sessions/2015E4/Bills/House/PDF/H2v0.pdf</td>\n",
       "    </tr>\n",
       "    <tr>\n",
       "      <th>7</th>\n",
       "      <td>2015E4</td>\n",
       "      <td>H</td>\n",
       "      <td>3</td>\n",
       "      <td>b'Filed'</td>\n",
       "      <td>/Sessions/2015E4/Bills/House/HTML/H3v0.html</td>\n",
       "      <td>/Sessions/2015E4/Bills/House/PDF/H3v0.pdf</td>\n",
       "    </tr>\n",
       "    <tr>\n",
       "      <th>9</th>\n",
       "      <td>2015E4</td>\n",
       "      <td>H</td>\n",
       "      <td>4</td>\n",
       "      <td>b'Filed'</td>\n",
       "      <td>/Sessions/2015E4/Bills/House/HTML/H4v0.html</td>\n",
       "      <td>/Sessions/2015E4/Bills/House/PDF/H4v0.pdf</td>\n",
       "    </tr>\n",
       "    <tr>\n",
       "      <th>11</th>\n",
       "      <td>2015E4</td>\n",
       "      <td>H</td>\n",
       "      <td>5</td>\n",
       "      <td>b'Filed'</td>\n",
       "      <td>/Sessions/2015E4/Bills/House/HTML/H5v0.html</td>\n",
       "      <td>/Sessions/2015E4/Bills/House/PDF/H5v0.pdf</td>\n",
       "    </tr>\n",
       "  </tbody>\n",
       "</table>\n",
       "</div>"
      ],
      "text/plain": [
       "   session house  bill     label                                         html  \\\n",
       "0   2015E4     H     1  b'Filed'  /Sessions/2015E4/Bills/House/HTML/H1v0.html   \n",
       "4   2015E4     H     2  b'Filed'  /Sessions/2015E4/Bills/House/HTML/H2v0.html   \n",
       "7   2015E4     H     3  b'Filed'  /Sessions/2015E4/Bills/House/HTML/H3v0.html   \n",
       "9   2015E4     H     4  b'Filed'  /Sessions/2015E4/Bills/House/HTML/H4v0.html   \n",
       "11  2015E4     H     5  b'Filed'  /Sessions/2015E4/Bills/House/HTML/H5v0.html   \n",
       "\n",
       "                                          pdf  \n",
       "0   /Sessions/2015E4/Bills/House/PDF/H1v0.pdf  \n",
       "4   /Sessions/2015E4/Bills/House/PDF/H2v0.pdf  \n",
       "7   /Sessions/2015E4/Bills/House/PDF/H3v0.pdf  \n",
       "9   /Sessions/2015E4/Bills/House/PDF/H4v0.pdf  \n",
       "11  /Sessions/2015E4/Bills/House/PDF/H5v0.pdf  "
      ]
     },
     "execution_count": 36,
     "metadata": {},
     "output_type": "execute_result"
    }
   ],
   "source": [
    "bill_links_filed.head()"
   ]
  },
  {
   "cell_type": "code",
   "execution_count": 37,
   "metadata": {
    "collapsed": false
   },
   "outputs": [
    {
     "data": {
      "text/plain": [
       "(2100, 6)"
      ]
     },
     "execution_count": 37,
     "metadata": {},
     "output_type": "execute_result"
    }
   ],
   "source": [
    "bill_links_filed.shape"
   ]
  },
  {
   "cell_type": "code",
   "execution_count": 38,
   "metadata": {
    "collapsed": false
   },
   "outputs": [
    {
     "name": "stdout",
     "output_type": "stream",
     "text": [
      "/Sessions/2015E4/Bills/House/HTML/H1v0.html\n",
      "/Sessions/2015E4/Bills/House/HTML/H2v0.html\n",
      "/Sessions/2015E4/Bills/House/HTML/H3v0.html\n",
      "/Sessions/2015E4/Bills/House/HTML/H4v0.html\n",
      "/Sessions/2015E4/Bills/House/HTML/H5v0.html\n"
     ]
    }
   ],
   "source": [
    "for b in bill_links_filed.head().itertuples():\n",
    "    print(b.html)"
   ]
  },
  {
   "cell_type": "code",
   "execution_count": 52,
   "metadata": {
    "collapsed": false
   },
   "outputs": [
    {
     "name": "stdout",
     "output_type": "stream",
     "text": [
      "Scraping bill 'Filed' texts...\n",
      "Retrieveing text for Bill 2015E4-H-1...\n",
      "Retrieveing text for Bill 2015-H-54...\n",
      "Retrieveing text for Bill 2015-H-154...\n",
      "Retrieveing text for Bill 2015-H-254...\n",
      "Retrieveing text for Bill 2015-H-354...\n",
      "Retrieveing text for Bill 2015-H-454...\n",
      "Retrieveing text for Bill 2015-H-554...\n",
      "Retrieveing text for Bill 2015-H-654...\n",
      "Retrieveing text for Bill 2015-H-754...\n",
      "Retrieveing text for Bill 2015-H-854...\n",
      "Retrieveing text for Bill 2015-H-954...\n",
      "Retrieveing text for Bill 2015-H-1054...\n",
      "Retrieveing text for Bill 2015-S-4...\n",
      "Retrieveing text for Bill 2015-S-104...\n",
      "Retrieveing text for Bill 2015-S-204...\n",
      "Retrieveing text for Bill 2015-S-304...\n",
      "Retrieveing text for Bill 2015-S-404...\n",
      "Retrieveing text for Bill 2015-S-504...\n",
      "Retrieveing text for Bill 2015-S-604...\n",
      "Retrieveing text for Bill 2015-S-704...\n",
      "Retrieveing text for Bill 2015-S-804...\n",
      "\n",
      "Total pages scrapped: 2098\n",
      "\n",
      "Total pages skipped: 2\n",
      "\n",
      "Pickling data...\n",
      "\n",
      "All done!\n",
      "\n",
      "\n",
      "CPU times: user 4.48 s, sys: 2.19 s, total: 6.67 s\n",
      "Wall time: 53min 28s\n"
     ]
    }
   ],
   "source": [
    "%%time\n",
    "\n",
    "root = \"http://www.ncleg.net/\"\n",
    "bill_texts = []\n",
    "missed = []\n",
    "\n",
    "print(\"Scraping bill 'Filed' texts...\")\n",
    "\n",
    "for i,bill in enumerate(bill_links_filed.itertuples()):\n",
    "    \n",
    "    if i % 100 == 0:\n",
    "        print('Retrieveing text for Bill {}-{}-{}...'.format(bill.session, bill.house, bill.bill))\n",
    "    \n",
    "    url = root + bill.html\n",
    "    stop = False\n",
    "    repeat_flag = False\n",
    "    while not stop:\n",
    "        try:\n",
    "            with urlopen(url) as page:\n",
    "                if page.status < 300:\n",
    "                    page = page.read()\n",
    "                    bill_texts.append({'session' : bill.session, \n",
    "                                       'house' : bill.house, \n",
    "                                       'bill' : bill.bill,\n",
    "                                       'text' : page})\n",
    "                    stop = True\n",
    "                    repeat_flag = False\n",
    "                else:\n",
    "                    if repeat_flag == True:\n",
    "                        stop = True\n",
    "                    else:\n",
    "                        repeat_flag = True\n",
    "        except HTTPError:\n",
    "            if repeat_flag == True:\n",
    "                stop = True\n",
    "                missed.append({'session' : bill.session, \n",
    "                               'house' : bill.house,\n",
    "                               'bill' : bill.bill})\n",
    "            else:\n",
    "                repeat_flag = True\n",
    "                        \n",
    "    # Pause\n",
    "    time.sleep(1)\n",
    "\n",
    "#\n",
    "print('\\nTotal pages scrapped: {}'.format(len(bill_texts)))\n",
    "print('\\nTotal pages skipped: {}'.format(len(missed)))\n",
    "                \n",
    "# Pickle the data\n",
    "print('\\nPickling data...')\n",
    "with open(bill_texts_file, 'wb') as f1:\n",
    "    pickle.dump(bill_texts, f1)\n",
    "\n",
    "with open('data/missed_filed.pkl', 'wb') as f1:\n",
    "    pickle.dump(missed, f1)\n",
    "\n",
    "    \n",
    "print('\\nAll done!')\n",
    "print('\\n')"
   ]
  },
  {
   "cell_type": "code",
   "execution_count": 53,
   "metadata": {
    "collapsed": false
   },
   "outputs": [
    {
     "data": {
      "text/plain": [
       "[{'bill': 1, 'house': 'H', 'session': '2015'},\n",
       " {'bill': 2, 'house': 'H', 'session': '2015'}]"
      ]
     },
     "execution_count": 53,
     "metadata": {},
     "output_type": "execute_result"
    }
   ],
   "source": [
    "missed"
   ]
  },
  {
   "cell_type": "code",
   "execution_count": null,
   "metadata": {
    "collapsed": true
   },
   "outputs": [],
   "source": []
  }
 ],
 "metadata": {
  "kernelspec": {
   "display_name": "Python 3",
   "language": "python",
   "name": "python3"
  },
  "language_info": {
   "codemirror_mode": {
    "name": "ipython",
    "version": 3
   },
   "file_extension": ".py",
   "mimetype": "text/x-python",
   "name": "python",
   "nbconvert_exporter": "python",
   "pygments_lexer": "ipython3",
   "version": "3.5.2"
  },
  "widgets": {
   "state": {},
   "version": "1.1.2"
  }
 },
 "nbformat": 4,
 "nbformat_minor": 2
}
