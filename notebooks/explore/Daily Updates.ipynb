{
 "cells": [
  {
   "cell_type": "code",
   "execution_count": 97,
   "metadata": {
    "collapsed": true
   },
   "outputs": [],
   "source": [
    "import sys"
   ]
  },
  {
   "cell_type": "code",
   "execution_count": 98,
   "metadata": {
    "collapsed": true
   },
   "outputs": [],
   "source": [
    "sys.path.append(os.path.join(os.path.abspath('../..'), 'src'))"
   ]
  },
  {
   "cell_type": "code",
   "execution_count": 28,
   "metadata": {
    "collapsed": true
   },
   "outputs": [],
   "source": [
    "base = \"http://www.ncleg.net/gascripts/lastaction/todaysfiledaction.pl?\""
   ]
  },
  {
   "cell_type": "code",
   "execution_count": 73,
   "metadata": {
    "collapsed": false
   },
   "outputs": [
    {
     "data": {
      "text/plain": [
       "'Biennium=2017&ActionChamber=H&DateReport=03%2F21%2F2017'"
      ]
     },
     "execution_count": 73,
     "metadata": {},
     "output_type": "execute_result"
    }
   ],
   "source": [
    "# Form March 21 2017\n",
    "query_base = \"Biennium={0}&ActionChamber={1}&DateReport={2}\"\n",
    "query_base.format(\"2017\", \"H\", \"03%2F21%2F2017\")"
   ]
  },
  {
   "cell_type": "code",
   "execution_count": 24,
   "metadata": {
    "collapsed": true
   },
   "outputs": [],
   "source": [
    "import requests\n",
    "from bs4 import BeautifulSoup as bs\n",
    "from bs4 import SoupStrainer"
   ]
  },
  {
   "cell_type": "code",
   "execution_count": 107,
   "metadata": {
    "collapsed": true
   },
   "outputs": [],
   "source": [
    "def build_query_url_from_date(yr, mo, da, chamber):\n",
    "    \n",
    "    url_base = \"http://www.ncleg.net/gascripts/lastaction/todaysfiledaction.pl?\"\n",
    "    query_base = \"Biennium={0}&ActionChamber={1}&DateReport={2}\"\n",
    "    \n",
    "    def mdstr(md):\n",
    "        mdstr = str(md)\n",
    "        if md < 10:\n",
    "            mdstr = '0' + mdstr\n",
    "        return(mdstr)\n",
    "    \n",
    "    def ds_from_comps(yr, mo, da):\n",
    "        ds = mo + \"%2F\" + da + \"%2F\" + yr\n",
    "        return(ds)\n",
    "    \n",
    "    yr = str(yr)\n",
    "    mo = mdstr(mo)\n",
    "    da = mdstr(da)\n",
    "    ds = ds_from_comps(yr, mo, da)\n",
    "    \n",
    "    query = query_base.format(yr, chamber, ds)\n",
    "    return(url_base + query)"
   ]
  },
  {
   "cell_type": "code",
   "execution_count": 77,
   "metadata": {
    "collapsed": false
   },
   "outputs": [
    {
     "data": {
      "text/plain": [
       "'http://www.ncleg.net/gascripts/lastaction/todaysfiledaction.pl?Biennium=2017&ActionChamber=H&DateReport=03%2F15%2F2017'"
      ]
     },
     "execution_count": 77,
     "metadata": {},
     "output_type": "execute_result"
    }
   ],
   "source": [
    "query_url_from_date(2017, 3, 15, 'H')"
   ]
  },
  {
   "cell_type": "code",
   "execution_count": 29,
   "metadata": {
    "collapsed": false
   },
   "outputs": [
    {
     "data": {
      "text/plain": [
       "'http://www.ncleg.net/gascripts/lastaction/todaysfiledaction.pl?Biennium=2017&ActionChamber=H&DateReport=03%2F21%2F2017'"
      ]
     },
     "execution_count": 29,
     "metadata": {},
     "output_type": "execute_result"
    }
   ],
   "source": [
    "base+query"
   ]
  },
  {
   "cell_type": "code",
   "execution_count": 27,
   "metadata": {
    "collapsed": false
   },
   "outputs": [
    {
     "data": {
      "text/plain": [
       "'http://www.ncleg.net/gascripts/lastaction/todaysfiledaction.pl?Biennium=2017&ActionChamber=H&DateReport=03%2F21%2F2017'"
      ]
     },
     "execution_count": 27,
     "metadata": {},
     "output_type": "execute_result"
    }
   ],
   "source": [
    "\"http://www.ncleg.net/gascripts/lastaction/todaysfiledaction.pl?Biennium=2017&ActionChamber=H&DateReport=03%2F21%2F2017\""
   ]
  },
  {
   "cell_type": "code",
   "execution_count": 30,
   "metadata": {
    "collapsed": false
   },
   "outputs": [],
   "source": [
    "html = requests.get(base+query).content"
   ]
  },
  {
   "cell_type": "code",
   "execution_count": 31,
   "metadata": {
    "collapsed": false
   },
   "outputs": [],
   "source": [
    "soup = bs(html, 'html.parser')"
   ]
  },
  {
   "cell_type": "code",
   "execution_count": 11,
   "metadata": {
    "collapsed": true
   },
   "outputs": [],
   "source": [
    "tables = soup.find_all('table')"
   ]
  },
  {
   "cell_type": "code",
   "execution_count": 12,
   "metadata": {
    "collapsed": false
   },
   "outputs": [
    {
     "data": {
      "text/plain": [
       "10"
      ]
     },
     "execution_count": 12,
     "metadata": {},
     "output_type": "execute_result"
    }
   ],
   "source": [
    "len(tables)"
   ]
  },
  {
   "cell_type": "markdown",
   "metadata": {},
   "source": [
    "## Method 01: Grab the table, rely on table attributes"
   ]
  },
  {
   "cell_type": "code",
   "execution_count": 58,
   "metadata": {
    "collapsed": false
   },
   "outputs": [],
   "source": [
    "content_table_filter = SoupStrainer(\"table\",\n",
    "                                    {'border':0, 'cellpadding':2,})\n",
    "table = soup.find(content_table_filter)\n",
    "rows = table.find_all('tr', {'class':\"\"})\n",
    "header = rows[0]\n",
    "rows = rows[1:]"
   ]
  },
  {
   "cell_type": "code",
   "execution_count": 59,
   "metadata": {
    "collapsed": false
   },
   "outputs": [
    {
     "data": {
      "text/plain": [
       "['Bill', 'Short Title', 'Action', 'Date', 'Action\\xa0Text']"
      ]
     },
     "execution_count": 59,
     "metadata": {},
     "output_type": "execute_result"
    }
   ],
   "source": [
    "[tc.text for tc in header.find_all('th')]"
   ]
  },
  {
   "cell_type": "code",
   "execution_count": 60,
   "metadata": {
    "collapsed": false
   },
   "outputs": [
    {
     "data": {
      "text/plain": [
       "20"
      ]
     },
     "execution_count": 60,
     "metadata": {},
     "output_type": "execute_result"
    }
   ],
   "source": [
    "len(rows)"
   ]
  },
  {
   "cell_type": "code",
   "execution_count": 78,
   "metadata": {
    "collapsed": false
   },
   "outputs": [
    {
     "data": {
      "text/plain": [
       "<tr class=\"\">\n",
       "<td class=\"tableText\" style=\"vertical-align: top;\"><a href=\"/gascripts/BillLookUp/BillLookUp.pl?Session=2017&amp;BillID=H414\">H414</a></td>\n",
       "<td class=\"tableText\" style=\"vertical-align: top;\"><a href=\"/gascripts/BillLookUp/BillLookUp.pl?Session=2017&amp;BillID=H414\">Swain County/Official Trout Fishing Location.</a></td>\n",
       "<td class=\"tableText\" style=\"vertical-align: top; text-align: left;\">H</td>\n",
       "<td class=\"tableText\" style=\"vertical-align: top;\">03/21/2017</td>\n",
       "<td class=\"tableText\" style=\"vertical-align: top;\">Filed</td>\n",
       "</tr>"
      ]
     },
     "execution_count": 78,
     "metadata": {},
     "output_type": "execute_result"
    }
   ],
   "source": [
    "rows[0]"
   ]
  },
  {
   "cell_type": "code",
   "execution_count": 86,
   "metadata": {
    "collapsed": true
   },
   "outputs": [],
   "source": [
    "def extract_datarows_m01(soup):\n",
    "    \"\"\"\n",
    "    \"Dead-Reckon\" table and extract rows accordingly\n",
    "    \"\"\"\n",
    "    content_table_filter = SoupStrainer(\"table\",\n",
    "                                    {'border':0, 'cellpadding':2,})\n",
    "    table = soup.find(content_table_filter)\n",
    "    rows = table.find_all('tr', {'class':\"\"})\n",
    "    header = rows[0]\n",
    "    rows = rows[1:]\n",
    "    \n",
    "    return(header, rows)"
   ]
  },
  {
   "cell_type": "code",
   "execution_count": 94,
   "metadata": {
    "collapsed": false
   },
   "outputs": [
    {
     "data": {
      "text/plain": [
       "[<td class=\"tableText\" style=\"vertical-align: top;\"><a href=\"/gascripts/BillLookUp/BillLookUp.pl?Session=2017&amp;BillID=H414\">H414</a></td>,\n",
       " <td class=\"tableText\" style=\"vertical-align: top;\"><a href=\"/gascripts/BillLookUp/BillLookUp.pl?Session=2017&amp;BillID=H414\">Swain County/Official Trout Fishing Location.</a></td>,\n",
       " <td class=\"tableText\" style=\"vertical-align: top; text-align: left;\">H</td>,\n",
       " <td class=\"tableText\" style=\"vertical-align: top;\">03/21/2017</td>,\n",
       " <td class=\"tableText\" style=\"vertical-align: top;\">Filed</td>]"
      ]
     },
     "execution_count": 94,
     "metadata": {},
     "output_type": "execute_result"
    }
   ],
   "source": [
    "extract_datarows_m01(soup)[1][0].find_all('td')"
   ]
  },
  {
   "cell_type": "markdown",
   "metadata": {},
   "source": [
    "## Method 02: Grab the Rows by relying on the individual row formats"
   ]
  },
  {
   "cell_type": "markdown",
   "metadata": {},
   "source": [
    "Misses the header"
   ]
  },
  {
   "cell_type": "code",
   "execution_count": 62,
   "metadata": {
    "collapsed": true
   },
   "outputs": [],
   "source": [
    "rrr = soup.find_all(\"td\", class_=\"tableText\")"
   ]
  },
  {
   "cell_type": "code",
   "execution_count": 63,
   "metadata": {
    "collapsed": false
   },
   "outputs": [
    {
     "data": {
      "text/plain": [
       "100"
      ]
     },
     "execution_count": 63,
     "metadata": {},
     "output_type": "execute_result"
    }
   ],
   "source": [
    "len(rrr)"
   ]
  },
  {
   "cell_type": "code",
   "execution_count": 64,
   "metadata": {
    "collapsed": true
   },
   "outputs": [],
   "source": [
    "new_entries = []\n",
    "for i in range(0,len(rrr), 5):\n",
    "    new_entries.append(rrr[i:(i+5)])"
   ]
  },
  {
   "cell_type": "code",
   "execution_count": 85,
   "metadata": {
    "collapsed": false
   },
   "outputs": [
    {
     "data": {
      "text/plain": [
       "[<td class=\"tableText\" style=\"vertical-align: top;\"><a href=\"/gascripts/BillLookUp/BillLookUp.pl?Session=2017&amp;BillID=H414\">H414</a></td>,\n",
       " <td class=\"tableText\" style=\"vertical-align: top;\"><a href=\"/gascripts/BillLookUp/BillLookUp.pl?Session=2017&amp;BillID=H414\">Swain County/Official Trout Fishing Location.</a></td>,\n",
       " <td class=\"tableText\" style=\"vertical-align: top; text-align: left;\">H</td>,\n",
       " <td class=\"tableText\" style=\"vertical-align: top;\">03/21/2017</td>,\n",
       " <td class=\"tableText\" style=\"vertical-align: top;\">Filed</td>]"
      ]
     },
     "execution_count": 85,
     "metadata": {},
     "output_type": "execute_result"
    }
   ],
   "source": [
    "new_entries[0]"
   ]
  },
  {
   "cell_type": "code",
   "execution_count": 95,
   "metadata": {
    "collapsed": true
   },
   "outputs": [],
   "source": [
    "def extract_datarows_m02(soup):\n",
    "    \"\"\"\n",
    "    Pull all of the target columns and rebuild into sets of rows;\n",
    "    Convert easch back to a single bs4 tag object\n",
    "    \"\"\"\n",
    "    column_filter = SoupStrainer(\"td\", {\"class\":\"tableText\"})\n",
    "    columns = soup.find_all(column_filter)\n",
    "    \n",
    "    rows = []\n",
    "    for i in range(0,len(columns), 5):\n",
    "        rows.append(bs(\"<tr class=\"\">\\n\" + \\\n",
    "                       '\\n'.join([str(c) for c in columns[i:(i+5)]]) +\\\n",
    "                       \"\\n<\\tr>\",\n",
    "                      'html.parser'))\n",
    "        \n",
    "    return(rows)"
   ]
  },
  {
   "cell_type": "code",
   "execution_count": 96,
   "metadata": {
    "collapsed": false
   },
   "outputs": [
    {
     "data": {
      "text/plain": [
       "[<td class=\"tableText\" style=\"vertical-align: top;\"><a href=\"/gascripts/BillLookUp/BillLookUp.pl?Session=2017&amp;BillID=H414\">H414</a></td>,\n",
       " <td class=\"tableText\" style=\"vertical-align: top;\"><a href=\"/gascripts/BillLookUp/BillLookUp.pl?Session=2017&amp;BillID=H414\">Swain County/Official Trout Fishing Location.</a></td>,\n",
       " <td class=\"tableText\" style=\"vertical-align: top; text-align: left;\">H</td>,\n",
       " <td class=\"tableText\" style=\"vertical-align: top;\">03/21/2017</td>,\n",
       " <td class=\"tableText\" style=\"vertical-align: top;\">Filed</td>]"
      ]
     },
     "execution_count": 96,
     "metadata": {},
     "output_type": "execute_result"
    }
   ],
   "source": [
    "extract_datarows_m02(soup)[0].find_all('td')"
   ]
  },
  {
   "cell_type": "markdown",
   "metadata": {},
   "source": [
    "## Process Data From Rows"
   ]
  },
  {
   "cell_type": "code",
   "execution_count": 66,
   "metadata": {
    "collapsed": true
   },
   "outputs": [],
   "source": [
    "import pandas"
   ]
  },
  {
   "cell_type": "code",
   "execution_count": 71,
   "metadata": {
    "collapsed": false
   },
   "outputs": [],
   "source": [
    "# Columns are known:\n",
    "cols = ['Bill', 'Short Title', 'Action', 'Date', 'Action Text']\n",
    "\n",
    "# Cols with links go to the same place...?\n",
    "link_cols = set(['Bill', 'Short Title'])\n",
    "data = []\n",
    "\n",
    "for row in rows:\n",
    "    d = {}\n",
    "    for col,entry in zip(cols, row.find_all('td')):\n",
    "        d[col] = entry.text\n",
    "       # if col in link_cols:\n",
    "        if col == 'Bill':\n",
    "            link = entry.find('a')['href']\n",
    "            d['Link'] = link\n",
    "    data.append(d)\n",
    "    \n",
    "data = pandas.DataFrame(data)"
   ]
  },
  {
   "cell_type": "code",
   "execution_count": 72,
   "metadata": {
    "collapsed": false
   },
   "outputs": [
    {
     "data": {
      "text/html": [
       "<div>\n",
       "<table border=\"1\" class=\"dataframe\">\n",
       "  <thead>\n",
       "    <tr style=\"text-align: right;\">\n",
       "      <th></th>\n",
       "      <th>Action</th>\n",
       "      <th>Action Text</th>\n",
       "      <th>Bill</th>\n",
       "      <th>Date</th>\n",
       "      <th>Link</th>\n",
       "      <th>Short Title</th>\n",
       "    </tr>\n",
       "  </thead>\n",
       "  <tbody>\n",
       "    <tr>\n",
       "      <th>0</th>\n",
       "      <td>H</td>\n",
       "      <td>Filed</td>\n",
       "      <td>H414</td>\n",
       "      <td>03/21/2017</td>\n",
       "      <td>/gascripts/BillLookUp/BillLookUp.pl?Session=20...</td>\n",
       "      <td>Swain County/Official Trout Fishing Location.</td>\n",
       "    </tr>\n",
       "    <tr>\n",
       "      <th>1</th>\n",
       "      <td>H</td>\n",
       "      <td>Filed</td>\n",
       "      <td>H415</td>\n",
       "      <td>03/21/2017</td>\n",
       "      <td>/gascripts/BillLookUp/BillLookUp.pl?Session=20...</td>\n",
       "      <td>Hatteras Village Community Center District.</td>\n",
       "    </tr>\n",
       "    <tr>\n",
       "      <th>2</th>\n",
       "      <td>H</td>\n",
       "      <td>Filed</td>\n",
       "      <td>H416</td>\n",
       "      <td>03/21/2017</td>\n",
       "      <td>/gascripts/BillLookUp/BillLookUp.pl?Session=20...</td>\n",
       "      <td>Robeson County/Local Business Preference.</td>\n",
       "    </tr>\n",
       "    <tr>\n",
       "      <th>3</th>\n",
       "      <td>H</td>\n",
       "      <td>Filed</td>\n",
       "      <td>H417</td>\n",
       "      <td>03/21/2017</td>\n",
       "      <td>/gascripts/BillLookUp/BillLookUp.pl?Session=20...</td>\n",
       "      <td>Actually Get Rid of Common Core Act.</td>\n",
       "    </tr>\n",
       "    <tr>\n",
       "      <th>4</th>\n",
       "      <td>H</td>\n",
       "      <td>Filed</td>\n",
       "      <td>H418</td>\n",
       "      <td>03/21/2017</td>\n",
       "      <td>/gascripts/BillLookUp/BillLookUp.pl?Session=20...</td>\n",
       "      <td>SOS/Save Our Street Signs.</td>\n",
       "    </tr>\n",
       "  </tbody>\n",
       "</table>\n",
       "</div>"
      ],
      "text/plain": [
       "  Action Action Text  Bill        Date  \\\n",
       "0      H       Filed  H414  03/21/2017   \n",
       "1      H       Filed  H415  03/21/2017   \n",
       "2      H       Filed  H416  03/21/2017   \n",
       "3      H       Filed  H417  03/21/2017   \n",
       "4      H       Filed  H418  03/21/2017   \n",
       "\n",
       "                                                Link  \\\n",
       "0  /gascripts/BillLookUp/BillLookUp.pl?Session=20...   \n",
       "1  /gascripts/BillLookUp/BillLookUp.pl?Session=20...   \n",
       "2  /gascripts/BillLookUp/BillLookUp.pl?Session=20...   \n",
       "3  /gascripts/BillLookUp/BillLookUp.pl?Session=20...   \n",
       "4  /gascripts/BillLookUp/BillLookUp.pl?Session=20...   \n",
       "\n",
       "                                     Short Title  \n",
       "0  Swain County/Official Trout Fishing Location.  \n",
       "1    Hatteras Village Community Center District.  \n",
       "2      Robeson County/Local Business Preference.  \n",
       "3           Actually Get Rid of Common Core Act.  \n",
       "4                     SOS/Save Our Street Signs.  "
      ]
     },
     "execution_count": 72,
     "metadata": {},
     "output_type": "execute_result"
    }
   ],
   "source": [
    "data.head()"
   ]
  },
  {
   "cell_type": "markdown",
   "metadata": {},
   "source": [
    "# Test Full"
   ]
  },
  {
   "cell_type": "code",
   "execution_count": 103,
   "metadata": {
    "collapsed": true
   },
   "outputs": [],
   "source": [
    "from importlib import reload"
   ]
  },
  {
   "cell_type": "code",
   "execution_count": 104,
   "metadata": {
    "collapsed": false
   },
   "outputs": [],
   "source": [
    "import process_dailyupdates_pages"
   ]
  },
  {
   "cell_type": "code",
   "execution_count": 150,
   "metadata": {
    "collapsed": false
   },
   "outputs": [
    {
     "data": {
      "text/plain": [
       "<module 'process_dailyupdates_pages' from '/home/immersinn/gits/ncga/src/process_dailyupdates_pages.py'>"
      ]
     },
     "execution_count": 150,
     "metadata": {},
     "output_type": "execute_result"
    }
   ],
   "source": [
    "reload(process_dailyupdates_pages)"
   ]
  },
  {
   "cell_type": "code",
   "execution_count": 151,
   "metadata": {
    "collapsed": false
   },
   "outputs": [],
   "source": [
    "hdtoday = process_dailyupdates_pages.get_DailyUpdateForDateChamber(2017, 1, 15, 'H')"
   ]
  },
  {
   "cell_type": "code",
   "execution_count": 152,
   "metadata": {
    "collapsed": false
   },
   "outputs": [
    {
     "data": {
      "text/html": [
       "<div>\n",
       "<table border=\"1\" class=\"dataframe\">\n",
       "  <thead>\n",
       "    <tr style=\"text-align: right;\">\n",
       "      <th></th>\n",
       "      <th>Bill</th>\n",
       "      <th>Chamber</th>\n",
       "      <th>Date</th>\n",
       "      <th>Title</th>\n",
       "      <th>Link</th>\n",
       "      <th>Action</th>\n",
       "      <th>Session</th>\n",
       "    </tr>\n",
       "  </thead>\n",
       "  <tbody>\n",
       "  </tbody>\n",
       "</table>\n",
       "</div>"
      ],
      "text/plain": [
       "Empty DataFrame\n",
       "Columns: [Bill, Chamber, Date, Title, Link, Action, Session]\n",
       "Index: []"
      ]
     },
     "execution_count": 152,
     "metadata": {},
     "output_type": "execute_result"
    }
   ],
   "source": [
    "hdtoday.head()"
   ]
  },
  {
   "cell_type": "code",
   "execution_count": 128,
   "metadata": {
    "collapsed": true
   },
   "outputs": [],
   "source": [
    "import mysql_utils"
   ]
  },
  {
   "cell_type": "code",
   "execution_count": 144,
   "metadata": {
    "collapsed": false
   },
   "outputs": [
    {
     "data": {
      "text/plain": [
       "<module 'mysql_utils' from '/home/immersinn/gits/ncga/src/mysql_utils.py'>"
      ]
     },
     "execution_count": 144,
     "metadata": {},
     "output_type": "execute_result"
    }
   ],
   "source": [
    "reload(mysql_utils)"
   ]
  },
  {
   "cell_type": "code",
   "execution_count": 153,
   "metadata": {
    "collapsed": false
   },
   "outputs": [
    {
     "data": {
      "text/plain": [
       "'Pass'"
      ]
     },
     "execution_count": 153,
     "metadata": {},
     "output_type": "execute_result"
    }
   ],
   "source": [
    "mysql_utils.dump_filed_bills(hdtoday[hdtoday.Action=='Filed'])"
   ]
  },
  {
   "cell_type": "code",
   "execution_count": 146,
   "metadata": {
    "collapsed": false
   },
   "outputs": [
    {
     "data": {
      "text/plain": [
       "(27, 7)"
      ]
     },
     "execution_count": 146,
     "metadata": {},
     "output_type": "execute_result"
    }
   ],
   "source": [
    "hdtoday.shape"
   ]
  },
  {
   "cell_type": "code",
   "execution_count": null,
   "metadata": {
    "collapsed": true
   },
   "outputs": [],
   "source": []
  }
 ],
 "metadata": {
  "kernelspec": {
   "display_name": "ncga (P3)",
   "language": "python",
   "name": "ncga (p3)"
  },
  "language_info": {
   "codemirror_mode": {
    "name": "ipython",
    "version": 3
   },
   "file_extension": ".py",
   "mimetype": "text/x-python",
   "name": "python",
   "nbconvert_exporter": "python",
   "pygments_lexer": "ipython3",
   "version": "3.5.2"
  }
 },
 "nbformat": 4,
 "nbformat_minor": 2
}
