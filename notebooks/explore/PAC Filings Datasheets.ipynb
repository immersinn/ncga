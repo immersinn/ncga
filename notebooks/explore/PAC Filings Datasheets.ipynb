{
 "cells": [
  {
   "cell_type": "code",
   "execution_count": 1,
   "metadata": {
    "collapsed": true
   },
   "outputs": [],
   "source": [
    "import os\n",
    "import sys"
   ]
  },
  {
   "cell_type": "code",
   "execution_count": 2,
   "metadata": {
    "collapsed": true
   },
   "outputs": [],
   "source": [
    "sys.path.append(os.path.join(os.path.abspath('../..'), 'src'))"
   ]
  },
  {
   "cell_type": "code",
   "execution_count": 24,
   "metadata": {
    "collapsed": true
   },
   "outputs": [],
   "source": [
    "import mysql_utils"
   ]
  },
  {
   "cell_type": "markdown",
   "metadata": {},
   "source": [
    "## Get Overall Summary of Report Types"
   ]
  },
  {
   "cell_type": "code",
   "execution_count": 25,
   "metadata": {
    "collapsed": true
   },
   "outputs": [],
   "source": [
    "with mysql_utils.curWith(\"SELECT report_type,COUNT(*) as count FROM camp_doc_lu GROUP BY report_type ORDER BY count DESC\") as cur:\n",
    "    report_counts = mysql_utils.dfDocsFromCursor(cur)"
   ]
  },
  {
   "cell_type": "code",
   "execution_count": 26,
   "metadata": {
    "collapsed": false,
    "scrolled": true
   },
   "outputs": [
    {
     "data": {
      "text/html": [
       "<div>\n",
       "<table border=\"1\" class=\"dataframe\">\n",
       "  <thead>\n",
       "    <tr style=\"text-align: right;\">\n",
       "      <th></th>\n",
       "      <th>report_type</th>\n",
       "      <th>count</th>\n",
       "    </tr>\n",
       "  </thead>\n",
       "  <tbody>\n",
       "    <tr>\n",
       "      <th>0</th>\n",
       "      <td>First Quarter</td>\n",
       "      <td>3742</td>\n",
       "    </tr>\n",
       "    <tr>\n",
       "      <th>1</th>\n",
       "      <td>Third Quarter</td>\n",
       "      <td>3459</td>\n",
       "    </tr>\n",
       "    <tr>\n",
       "      <th>2</th>\n",
       "      <td>Second Quarter</td>\n",
       "      <td>3415</td>\n",
       "    </tr>\n",
       "    <tr>\n",
       "      <th>3</th>\n",
       "      <td>Fourth Quarter</td>\n",
       "      <td>3079</td>\n",
       "    </tr>\n",
       "    <tr>\n",
       "      <th>4</th>\n",
       "      <td>Miscellaneous Correspondence</td>\n",
       "      <td>2744</td>\n",
       "    </tr>\n",
       "    <tr>\n",
       "      <th>5</th>\n",
       "      <td>None</td>\n",
       "      <td>2660</td>\n",
       "    </tr>\n",
       "    <tr>\n",
       "      <th>6</th>\n",
       "      <td>48-Hour</td>\n",
       "      <td>2252</td>\n",
       "    </tr>\n",
       "    <tr>\n",
       "      <th>7</th>\n",
       "      <td>Year End Semi-Annual</td>\n",
       "      <td>2178</td>\n",
       "    </tr>\n",
       "    <tr>\n",
       "      <th>8</th>\n",
       "      <td>Mid Year Semi-Annual</td>\n",
       "      <td>1995</td>\n",
       "    </tr>\n",
       "    <tr>\n",
       "      <th>9</th>\n",
       "      <td>Penalty Assessment Letter</td>\n",
       "      <td>1508</td>\n",
       "    </tr>\n",
       "    <tr>\n",
       "      <th>10</th>\n",
       "      <td>Certification of Treasurer</td>\n",
       "      <td>1072</td>\n",
       "    </tr>\n",
       "    <tr>\n",
       "      <th>11</th>\n",
       "      <td>Organizational</td>\n",
       "      <td>946</td>\n",
       "    </tr>\n",
       "    <tr>\n",
       "      <th>12</th>\n",
       "      <td>Correspondence Returned Undeliverable or Uncla...</td>\n",
       "      <td>756</td>\n",
       "    </tr>\n",
       "    <tr>\n",
       "      <th>13</th>\n",
       "      <td>Non-Compliance Letter</td>\n",
       "      <td>708</td>\n",
       "    </tr>\n",
       "    <tr>\n",
       "      <th>14</th>\n",
       "      <td>Certification to Close Committee</td>\n",
       "      <td>632</td>\n",
       "    </tr>\n",
       "    <tr>\n",
       "      <th>15</th>\n",
       "      <td>Paid Penalty Assessment or Forfeiture</td>\n",
       "      <td>582</td>\n",
       "    </tr>\n",
       "    <tr>\n",
       "      <th>16</th>\n",
       "      <td>Penalty Appeal</td>\n",
       "      <td>581</td>\n",
       "    </tr>\n",
       "    <tr>\n",
       "      <th>17</th>\n",
       "      <td>Final</td>\n",
       "      <td>572</td>\n",
       "    </tr>\n",
       "    <tr>\n",
       "      <th>18</th>\n",
       "      <td>Candidate Designation of Committee Funds</td>\n",
       "      <td>417</td>\n",
       "    </tr>\n",
       "    <tr>\n",
       "      <th>19</th>\n",
       "      <td>Certification of Inactive Status</td>\n",
       "      <td>273</td>\n",
       "    </tr>\n",
       "    <tr>\n",
       "      <th>20</th>\n",
       "      <td>Certification of Threshold</td>\n",
       "      <td>214</td>\n",
       "    </tr>\n",
       "    <tr>\n",
       "      <th>21</th>\n",
       "      <td>Audit Letter</td>\n",
       "      <td>177</td>\n",
       "    </tr>\n",
       "    <tr>\n",
       "      <th>22</th>\n",
       "      <td>Political Party Executive Committee Exempt Sal...</td>\n",
       "      <td>176</td>\n",
       "    </tr>\n",
       "    <tr>\n",
       "      <th>23</th>\n",
       "      <td>Certification of Return to Active Status</td>\n",
       "      <td>161</td>\n",
       "    </tr>\n",
       "    <tr>\n",
       "      <th>24</th>\n",
       "      <td>Independent Expenditure Report</td>\n",
       "      <td>140</td>\n",
       "    </tr>\n",
       "    <tr>\n",
       "      <th>25</th>\n",
       "      <td>Independent Expenditure for Registered Committees</td>\n",
       "      <td>136</td>\n",
       "    </tr>\n",
       "    <tr>\n",
       "      <th>26</th>\n",
       "      <td>Notice of Termination of Active Status</td>\n",
       "      <td>90</td>\n",
       "    </tr>\n",
       "    <tr>\n",
       "      <th>27</th>\n",
       "      <td>Electioneering Communications Report</td>\n",
       "      <td>82</td>\n",
       "    </tr>\n",
       "    <tr>\n",
       "      <th>28</th>\n",
       "      <td>Loan Proceeds Statement</td>\n",
       "      <td>70</td>\n",
       "    </tr>\n",
       "    <tr>\n",
       "      <th>29</th>\n",
       "      <td>Penalty Waiver Letter</td>\n",
       "      <td>66</td>\n",
       "    </tr>\n",
       "    <tr>\n",
       "      <th>30</th>\n",
       "      <td>Independent Expenditure for non-Committees</td>\n",
       "      <td>55</td>\n",
       "    </tr>\n",
       "    <tr>\n",
       "      <th>31</th>\n",
       "      <td>Forgiven Loan Statement</td>\n",
       "      <td>31</td>\n",
       "    </tr>\n",
       "    <tr>\n",
       "      <th>32</th>\n",
       "      <td>Special</td>\n",
       "      <td>24</td>\n",
       "    </tr>\n",
       "    <tr>\n",
       "      <th>33</th>\n",
       "      <td>24-Hour Electioneering Communications</td>\n",
       "      <td>12</td>\n",
       "    </tr>\n",
       "    <tr>\n",
       "      <th>34</th>\n",
       "      <td>Pre-Referendum</td>\n",
       "      <td>8</td>\n",
       "    </tr>\n",
       "    <tr>\n",
       "      <th>35</th>\n",
       "      <td>Supplemental Final</td>\n",
       "      <td>7</td>\n",
       "    </tr>\n",
       "    <tr>\n",
       "      <th>36</th>\n",
       "      <td>Contribution from a Business Account Statement</td>\n",
       "      <td>7</td>\n",
       "    </tr>\n",
       "    <tr>\n",
       "      <th>37</th>\n",
       "      <td>Deferred Notice</td>\n",
       "      <td>5</td>\n",
       "    </tr>\n",
       "    <tr>\n",
       "      <th>38</th>\n",
       "      <td>Thirty-five-day</td>\n",
       "      <td>2</td>\n",
       "    </tr>\n",
       "    <tr>\n",
       "      <th>39</th>\n",
       "      <td>District Attorney Letter</td>\n",
       "      <td>2</td>\n",
       "    </tr>\n",
       "    <tr>\n",
       "      <th>40</th>\n",
       "      <td>Pre-Primary</td>\n",
       "      <td>2</td>\n",
       "    </tr>\n",
       "    <tr>\n",
       "      <th>41</th>\n",
       "      <td>Annual</td>\n",
       "      <td>2</td>\n",
       "    </tr>\n",
       "    <tr>\n",
       "      <th>42</th>\n",
       "      <td>Ten-day</td>\n",
       "      <td>2</td>\n",
       "    </tr>\n",
       "    <tr>\n",
       "      <th>43</th>\n",
       "      <td>Certification of Incorporated Political Committee</td>\n",
       "      <td>2</td>\n",
       "    </tr>\n",
       "    <tr>\n",
       "      <th>44</th>\n",
       "      <td>Penalty Assessment - 30 Days Aged</td>\n",
       "      <td>1</td>\n",
       "    </tr>\n",
       "    <tr>\n",
       "      <th>45</th>\n",
       "      <td>Penalty Resolution Agreement Executed</td>\n",
       "      <td>1</td>\n",
       "    </tr>\n",
       "    <tr>\n",
       "      <th>46</th>\n",
       "      <td>Pre-Election</td>\n",
       "      <td>1</td>\n",
       "    </tr>\n",
       "    <tr>\n",
       "      <th>47</th>\n",
       "      <td>Notice of Candidacy</td>\n",
       "      <td>1</td>\n",
       "    </tr>\n",
       "    <tr>\n",
       "      <th>48</th>\n",
       "      <td>Penalty Appeal Decision</td>\n",
       "      <td>1</td>\n",
       "    </tr>\n",
       "    <tr>\n",
       "      <th>49</th>\n",
       "      <td>Pre-Runoff</td>\n",
       "      <td>1</td>\n",
       "    </tr>\n",
       "  </tbody>\n",
       "</table>\n",
       "</div>"
      ],
      "text/plain": [
       "                                          report_type  count\n",
       "0                                       First Quarter   3742\n",
       "1                                       Third Quarter   3459\n",
       "2                                      Second Quarter   3415\n",
       "3                                      Fourth Quarter   3079\n",
       "4                        Miscellaneous Correspondence   2744\n",
       "5                                                None   2660\n",
       "6                                             48-Hour   2252\n",
       "7                                Year End Semi-Annual   2178\n",
       "8                                Mid Year Semi-Annual   1995\n",
       "9                           Penalty Assessment Letter   1508\n",
       "10                         Certification of Treasurer   1072\n",
       "11                                     Organizational    946\n",
       "12  Correspondence Returned Undeliverable or Uncla...    756\n",
       "13                              Non-Compliance Letter    708\n",
       "14                   Certification to Close Committee    632\n",
       "15              Paid Penalty Assessment or Forfeiture    582\n",
       "16                                     Penalty Appeal    581\n",
       "17                                              Final    572\n",
       "18           Candidate Designation of Committee Funds    417\n",
       "19                   Certification of Inactive Status    273\n",
       "20                         Certification of Threshold    214\n",
       "21                                       Audit Letter    177\n",
       "22  Political Party Executive Committee Exempt Sal...    176\n",
       "23           Certification of Return to Active Status    161\n",
       "24                     Independent Expenditure Report    140\n",
       "25  Independent Expenditure for Registered Committees    136\n",
       "26             Notice of Termination of Active Status     90\n",
       "27               Electioneering Communications Report     82\n",
       "28                            Loan Proceeds Statement     70\n",
       "29                              Penalty Waiver Letter     66\n",
       "30         Independent Expenditure for non-Committees     55\n",
       "31                            Forgiven Loan Statement     31\n",
       "32                                            Special     24\n",
       "33              24-Hour Electioneering Communications     12\n",
       "34                                     Pre-Referendum      8\n",
       "35                                 Supplemental Final      7\n",
       "36     Contribution from a Business Account Statement      7\n",
       "37                                    Deferred Notice      5\n",
       "38                                    Thirty-five-day      2\n",
       "39                           District Attorney Letter      2\n",
       "40                                        Pre-Primary      2\n",
       "41                                             Annual      2\n",
       "42                                            Ten-day      2\n",
       "43  Certification of Incorporated Political Committee      2\n",
       "44                  Penalty Assessment - 30 Days Aged      1\n",
       "45              Penalty Resolution Agreement Executed      1\n",
       "46                                       Pre-Election      1\n",
       "47                                Notice of Candidacy      1\n",
       "48                            Penalty Appeal Decision      1\n",
       "49                                         Pre-Runoff      1"
      ]
     },
     "execution_count": 26,
     "metadata": {},
     "output_type": "execute_result"
    }
   ],
   "source": [
    "report_counts"
   ]
  },
  {
   "cell_type": "markdown",
   "metadata": {},
   "source": [
    "## Semi-Annual Reports"
   ]
  },
  {
   "cell_type": "code",
   "execution_count": 38,
   "metadata": {
    "collapsed": false
   },
   "outputs": [],
   "source": [
    "# Query\n",
    "report_types = ('Mid Year Semi-Annual', 'Year End Semi-Annual')\n",
    "semiann_query = \"SELECT * FROM camp_doc_lu WHERE report_type IN (\" + \\\n",
    "                ', '.join([\"'{}'\".format(report_types[i]) for i in range(len(report_types))]) +\\\n",
    "                \")\" +\\\n",
    "                \"AND report_year=2014\"\n",
    "with mysql_utils.curWith(semiann_query) as cur:\n",
    "    sadf = mysql_utils.dfDocsFromCursor(cur)"
   ]
  },
  {
   "cell_type": "code",
   "execution_count": 39,
   "metadata": {
    "collapsed": false
   },
   "outputs": [
    {
     "data": {
      "text/plain": [
       "(373, 10)"
      ]
     },
     "execution_count": 39,
     "metadata": {},
     "output_type": "execute_result"
    }
   ],
   "source": [
    "sadf.shape"
   ]
  },
  {
   "cell_type": "code",
   "execution_count": 40,
   "metadata": {
    "collapsed": false
   },
   "outputs": [
    {
     "data": {
      "text/html": [
       "<div>\n",
       "<table border=\"1\" class=\"dataframe\">\n",
       "  <thead>\n",
       "    <tr style=\"text-align: right;\">\n",
       "      <th></th>\n",
       "      <th>id</th>\n",
       "      <th>committee</th>\n",
       "      <th>report_year</th>\n",
       "      <th>report_type</th>\n",
       "      <th>amend</th>\n",
       "      <th>rec_date</th>\n",
       "      <th>start_date</th>\n",
       "      <th>end_date</th>\n",
       "      <th>image_link</th>\n",
       "      <th>data_link</th>\n",
       "    </tr>\n",
       "  </thead>\n",
       "  <tbody>\n",
       "    <tr>\n",
       "      <th>0</th>\n",
       "      <td>80</td>\n",
       "      <td>08TH CONG DIST BLACK CAUCUS PAC</td>\n",
       "      <td>2014</td>\n",
       "      <td>Year End Semi-Annual</td>\n",
       "      <td>0</td>\n",
       "      <td>2015-02-02</td>\n",
       "      <td>2014-01-01</td>\n",
       "      <td>2014-12-31</td>\n",
       "      <td>http://cf.ncsbe.gov/CFOrgLkup/cf_report_image....</td>\n",
       "      <td></td>\n",
       "    </tr>\n",
       "    <tr>\n",
       "      <th>1</th>\n",
       "      <td>83</td>\n",
       "      <td>08TH CONG DIST BLACK CAUCUS PAC</td>\n",
       "      <td>2014</td>\n",
       "      <td>Mid Year Semi-Annual</td>\n",
       "      <td>0</td>\n",
       "      <td>2014-07-25</td>\n",
       "      <td>2014-01-01</td>\n",
       "      <td>2014-06-30</td>\n",
       "      <td>http://cf.ncsbe.gov/CFOrgLkup/cf_report_image....</td>\n",
       "      <td></td>\n",
       "    </tr>\n",
       "    <tr>\n",
       "      <th>2</th>\n",
       "      <td>94</td>\n",
       "      <td>08TH CONG DIST DEC</td>\n",
       "      <td>2014</td>\n",
       "      <td>Mid Year Semi-Annual</td>\n",
       "      <td>0</td>\n",
       "      <td>2014-07-14</td>\n",
       "      <td>2014-01-01</td>\n",
       "      <td>2014-06-30</td>\n",
       "      <td>http://cf.ncsbe.gov/CFOrgLkup/cf_report_image....</td>\n",
       "      <td>http://cf.ncsbe.gov/CFOrgLkup/cf_report_sectio...</td>\n",
       "    </tr>\n",
       "    <tr>\n",
       "      <th>3</th>\n",
       "      <td>285</td>\n",
       "      <td>AJ DAOUD CAMPAIGN</td>\n",
       "      <td>2014</td>\n",
       "      <td>Mid Year Semi-Annual</td>\n",
       "      <td>0</td>\n",
       "      <td>2015-08-10</td>\n",
       "      <td>2014-01-01</td>\n",
       "      <td>2014-06-30</td>\n",
       "      <td>http://cf.ncsbe.gov/CFOrgLkup/cf_report_image....</td>\n",
       "      <td>http://cf.ncsbe.gov/CFOrgLkup/cf_report_sectio...</td>\n",
       "    </tr>\n",
       "    <tr>\n",
       "      <th>4</th>\n",
       "      <td>286</td>\n",
       "      <td>AJ DAOUD CAMPAIGN</td>\n",
       "      <td>2014</td>\n",
       "      <td>Year End Semi-Annual</td>\n",
       "      <td>1</td>\n",
       "      <td>2015-08-10</td>\n",
       "      <td>2014-07-01</td>\n",
       "      <td>2014-12-31</td>\n",
       "      <td>http://cf.ncsbe.gov/CFOrgLkup/cf_report_image....</td>\n",
       "      <td>http://cf.ncsbe.gov/CFOrgLkup/cf_report_sectio...</td>\n",
       "    </tr>\n",
       "  </tbody>\n",
       "</table>\n",
       "</div>"
      ],
      "text/plain": [
       "    id                        committee  report_year           report_type  \\\n",
       "0   80  08TH CONG DIST BLACK CAUCUS PAC         2014  Year End Semi-Annual   \n",
       "1   83  08TH CONG DIST BLACK CAUCUS PAC         2014  Mid Year Semi-Annual   \n",
       "2   94               08TH CONG DIST DEC         2014  Mid Year Semi-Annual   \n",
       "3  285                AJ DAOUD CAMPAIGN         2014  Mid Year Semi-Annual   \n",
       "4  286                AJ DAOUD CAMPAIGN         2014  Year End Semi-Annual   \n",
       "\n",
       "   amend    rec_date  start_date    end_date  \\\n",
       "0      0  2015-02-02  2014-01-01  2014-12-31   \n",
       "1      0  2014-07-25  2014-01-01  2014-06-30   \n",
       "2      0  2014-07-14  2014-01-01  2014-06-30   \n",
       "3      0  2015-08-10  2014-01-01  2014-06-30   \n",
       "4      1  2015-08-10  2014-07-01  2014-12-31   \n",
       "\n",
       "                                          image_link  \\\n",
       "0  http://cf.ncsbe.gov/CFOrgLkup/cf_report_image....   \n",
       "1  http://cf.ncsbe.gov/CFOrgLkup/cf_report_image....   \n",
       "2  http://cf.ncsbe.gov/CFOrgLkup/cf_report_image....   \n",
       "3  http://cf.ncsbe.gov/CFOrgLkup/cf_report_image....   \n",
       "4  http://cf.ncsbe.gov/CFOrgLkup/cf_report_image....   \n",
       "\n",
       "                                           data_link  \n",
       "0                                                     \n",
       "1                                                     \n",
       "2  http://cf.ncsbe.gov/CFOrgLkup/cf_report_sectio...  \n",
       "3  http://cf.ncsbe.gov/CFOrgLkup/cf_report_sectio...  \n",
       "4  http://cf.ncsbe.gov/CFOrgLkup/cf_report_sectio...  "
      ]
     },
     "execution_count": 40,
     "metadata": {},
     "output_type": "execute_result"
    }
   ],
   "source": [
    "sadf.head()"
   ]
  },
  {
   "cell_type": "markdown",
   "metadata": {},
   "source": [
    "# Quarterly Reports"
   ]
  },
  {
   "cell_type": "code",
   "execution_count": 32,
   "metadata": {
    "collapsed": false
   },
   "outputs": [],
   "source": [
    "# Query\n",
    "report_types = ('First Quarter', 'Second Quarter', 'Third Quarter', 'Fourth Quarter')\n",
    "quarterly_query = \"SELECT * FROM camp_doc_lu WHERE report_type IN (\" + \\\n",
    "                ', '.join([\"'{}'\".format(report_types[i]) for i in range(len(report_types))]) +\\\n",
    "                \")\" +\\\n",
    "                \"AND report_year=2014\"\n",
    "with mysql_utils.curWith(quarterly_query) as cur:\n",
    "    qdf = mysql_utils.dfDocsFromCursor(cur)"
   ]
  },
  {
   "cell_type": "code",
   "execution_count": 33,
   "metadata": {
    "collapsed": false
   },
   "outputs": [
    {
     "data": {
      "text/plain": [
       "(7124, 10)"
      ]
     },
     "execution_count": 33,
     "metadata": {},
     "output_type": "execute_result"
    }
   ],
   "source": [
    "qdf.shape"
   ]
  },
  {
   "cell_type": "code",
   "execution_count": 34,
   "metadata": {
    "collapsed": false
   },
   "outputs": [
    {
     "data": {
      "text/html": [
       "<div>\n",
       "<table border=\"1\" class=\"dataframe\">\n",
       "  <thead>\n",
       "    <tr style=\"text-align: right;\">\n",
       "      <th></th>\n",
       "      <th>id</th>\n",
       "      <th>committee</th>\n",
       "      <th>report_year</th>\n",
       "      <th>report_type</th>\n",
       "      <th>amend</th>\n",
       "      <th>rec_date</th>\n",
       "      <th>start_date</th>\n",
       "      <th>end_date</th>\n",
       "      <th>image_link</th>\n",
       "      <th>data_link</th>\n",
       "    </tr>\n",
       "  </thead>\n",
       "  <tbody>\n",
       "    <tr>\n",
       "      <th>0</th>\n",
       "      <td>1</td>\n",
       "      <td>01ST CONG DIST DEC</td>\n",
       "      <td>2014</td>\n",
       "      <td>Fourth Quarter</td>\n",
       "      <td>0</td>\n",
       "      <td>2015-01-06</td>\n",
       "      <td>2014-10-19</td>\n",
       "      <td>2014-12-31</td>\n",
       "      <td>http://cf.ncsbe.gov/CFOrgLkup/cf_report_image....</td>\n",
       "      <td>http://cf.ncsbe.gov/CFOrgLkup/cf_report_sectio...</td>\n",
       "    </tr>\n",
       "    <tr>\n",
       "      <th>1</th>\n",
       "      <td>2</td>\n",
       "      <td>01ST CONG DIST DEC</td>\n",
       "      <td>2014</td>\n",
       "      <td>Third Quarter</td>\n",
       "      <td>1</td>\n",
       "      <td>2015-01-06</td>\n",
       "      <td>2014-07-01</td>\n",
       "      <td>2014-10-18</td>\n",
       "      <td>http://cf.ncsbe.gov/CFOrgLkup/cf_report_image....</td>\n",
       "      <td>http://cf.ncsbe.gov/CFOrgLkup/cf_report_sectio...</td>\n",
       "    </tr>\n",
       "    <tr>\n",
       "      <th>2</th>\n",
       "      <td>5</td>\n",
       "      <td>01ST CONG DIST DEC</td>\n",
       "      <td>2014</td>\n",
       "      <td>Third Quarter</td>\n",
       "      <td>0</td>\n",
       "      <td>2014-10-27</td>\n",
       "      <td>2014-07-01</td>\n",
       "      <td>2014-10-18</td>\n",
       "      <td>http://cf.ncsbe.gov/CFOrgLkup/cf_report_image....</td>\n",
       "      <td></td>\n",
       "    </tr>\n",
       "    <tr>\n",
       "      <th>3</th>\n",
       "      <td>6</td>\n",
       "      <td>01ST CONG DIST DEC</td>\n",
       "      <td>2014</td>\n",
       "      <td>Second Quarter</td>\n",
       "      <td>0</td>\n",
       "      <td>2014-07-07</td>\n",
       "      <td>2014-04-01</td>\n",
       "      <td>2014-06-30</td>\n",
       "      <td>http://cf.ncsbe.gov/CFOrgLkup/cf_report_image....</td>\n",
       "      <td>http://cf.ncsbe.gov/CFOrgLkup/cf_report_sectio...</td>\n",
       "    </tr>\n",
       "    <tr>\n",
       "      <th>4</th>\n",
       "      <td>7</td>\n",
       "      <td>01ST CONG DIST DEC</td>\n",
       "      <td>2014</td>\n",
       "      <td>First Quarter</td>\n",
       "      <td>0</td>\n",
       "      <td>2014-04-29</td>\n",
       "      <td>2014-01-01</td>\n",
       "      <td>2014-03-31</td>\n",
       "      <td>http://cf.ncsbe.gov/CFOrgLkup/cf_report_image....</td>\n",
       "      <td>http://cf.ncsbe.gov/CFOrgLkup/cf_report_sectio...</td>\n",
       "    </tr>\n",
       "  </tbody>\n",
       "</table>\n",
       "</div>"
      ],
      "text/plain": [
       "   id           committee  report_year     report_type  amend    rec_date  \\\n",
       "0   1  01ST CONG DIST DEC         2014  Fourth Quarter      0  2015-01-06   \n",
       "1   2  01ST CONG DIST DEC         2014   Third Quarter      1  2015-01-06   \n",
       "2   5  01ST CONG DIST DEC         2014   Third Quarter      0  2014-10-27   \n",
       "3   6  01ST CONG DIST DEC         2014  Second Quarter      0  2014-07-07   \n",
       "4   7  01ST CONG DIST DEC         2014   First Quarter      0  2014-04-29   \n",
       "\n",
       "   start_date    end_date                                         image_link  \\\n",
       "0  2014-10-19  2014-12-31  http://cf.ncsbe.gov/CFOrgLkup/cf_report_image....   \n",
       "1  2014-07-01  2014-10-18  http://cf.ncsbe.gov/CFOrgLkup/cf_report_image....   \n",
       "2  2014-07-01  2014-10-18  http://cf.ncsbe.gov/CFOrgLkup/cf_report_image....   \n",
       "3  2014-04-01  2014-06-30  http://cf.ncsbe.gov/CFOrgLkup/cf_report_image....   \n",
       "4  2014-01-01  2014-03-31  http://cf.ncsbe.gov/CFOrgLkup/cf_report_image....   \n",
       "\n",
       "                                           data_link  \n",
       "0  http://cf.ncsbe.gov/CFOrgLkup/cf_report_sectio...  \n",
       "1  http://cf.ncsbe.gov/CFOrgLkup/cf_report_sectio...  \n",
       "2                                                     \n",
       "3  http://cf.ncsbe.gov/CFOrgLkup/cf_report_sectio...  \n",
       "4  http://cf.ncsbe.gov/CFOrgLkup/cf_report_sectio...  "
      ]
     },
     "execution_count": 34,
     "metadata": {},
     "output_type": "execute_result"
    }
   ],
   "source": [
    "qdf.head()"
   ]
  },
  {
   "cell_type": "code",
   "execution_count": 35,
   "metadata": {
    "collapsed": true
   },
   "outputs": [],
   "source": [
    "# Filter out reports without data links\n",
    "qdf = qdf[qdf.data_link != '']"
   ]
  },
  {
   "cell_type": "code",
   "execution_count": 36,
   "metadata": {
    "collapsed": false
   },
   "outputs": [
    {
     "data": {
      "text/plain": [
       "(3845, 10)"
      ]
     },
     "execution_count": 36,
     "metadata": {},
     "output_type": "execute_result"
    }
   ],
   "source": [
    "qdf.shape"
   ]
  },
  {
   "cell_type": "code",
   "execution_count": 37,
   "metadata": {
    "collapsed": false
   },
   "outputs": [
    {
     "data": {
      "text/html": [
       "<div>\n",
       "<table border=\"1\" class=\"dataframe\">\n",
       "  <thead>\n",
       "    <tr style=\"text-align: right;\">\n",
       "      <th></th>\n",
       "      <th>id</th>\n",
       "      <th>committee</th>\n",
       "      <th>report_year</th>\n",
       "      <th>report_type</th>\n",
       "      <th>amend</th>\n",
       "      <th>rec_date</th>\n",
       "      <th>start_date</th>\n",
       "      <th>end_date</th>\n",
       "      <th>image_link</th>\n",
       "      <th>data_link</th>\n",
       "    </tr>\n",
       "  </thead>\n",
       "  <tbody>\n",
       "    <tr>\n",
       "      <th>0</th>\n",
       "      <td>1</td>\n",
       "      <td>01ST CONG DIST DEC</td>\n",
       "      <td>2014</td>\n",
       "      <td>Fourth Quarter</td>\n",
       "      <td>0</td>\n",
       "      <td>2015-01-06</td>\n",
       "      <td>2014-10-19</td>\n",
       "      <td>2014-12-31</td>\n",
       "      <td>http://cf.ncsbe.gov/CFOrgLkup/cf_report_image....</td>\n",
       "      <td>http://cf.ncsbe.gov/CFOrgLkup/cf_report_sectio...</td>\n",
       "    </tr>\n",
       "    <tr>\n",
       "      <th>1</th>\n",
       "      <td>2</td>\n",
       "      <td>01ST CONG DIST DEC</td>\n",
       "      <td>2014</td>\n",
       "      <td>Third Quarter</td>\n",
       "      <td>1</td>\n",
       "      <td>2015-01-06</td>\n",
       "      <td>2014-07-01</td>\n",
       "      <td>2014-10-18</td>\n",
       "      <td>http://cf.ncsbe.gov/CFOrgLkup/cf_report_image....</td>\n",
       "      <td>http://cf.ncsbe.gov/CFOrgLkup/cf_report_sectio...</td>\n",
       "    </tr>\n",
       "    <tr>\n",
       "      <th>3</th>\n",
       "      <td>6</td>\n",
       "      <td>01ST CONG DIST DEC</td>\n",
       "      <td>2014</td>\n",
       "      <td>Second Quarter</td>\n",
       "      <td>0</td>\n",
       "      <td>2014-07-07</td>\n",
       "      <td>2014-04-01</td>\n",
       "      <td>2014-06-30</td>\n",
       "      <td>http://cf.ncsbe.gov/CFOrgLkup/cf_report_image....</td>\n",
       "      <td>http://cf.ncsbe.gov/CFOrgLkup/cf_report_sectio...</td>\n",
       "    </tr>\n",
       "    <tr>\n",
       "      <th>4</th>\n",
       "      <td>7</td>\n",
       "      <td>01ST CONG DIST DEC</td>\n",
       "      <td>2014</td>\n",
       "      <td>First Quarter</td>\n",
       "      <td>0</td>\n",
       "      <td>2014-04-29</td>\n",
       "      <td>2014-01-01</td>\n",
       "      <td>2014-03-31</td>\n",
       "      <td>http://cf.ncsbe.gov/CFOrgLkup/cf_report_image....</td>\n",
       "      <td>http://cf.ncsbe.gov/CFOrgLkup/cf_report_sectio...</td>\n",
       "    </tr>\n",
       "    <tr>\n",
       "      <th>5</th>\n",
       "      <td>8</td>\n",
       "      <td>01ST CONG DIST REC</td>\n",
       "      <td>2014</td>\n",
       "      <td>Fourth Quarter</td>\n",
       "      <td>0</td>\n",
       "      <td>2015-01-12</td>\n",
       "      <td>2014-10-19</td>\n",
       "      <td>2014-12-31</td>\n",
       "      <td>http://cf.ncsbe.gov/CFOrgLkup/cf_report_image....</td>\n",
       "      <td>http://cf.ncsbe.gov/CFOrgLkup/cf_report_sectio...</td>\n",
       "    </tr>\n",
       "  </tbody>\n",
       "</table>\n",
       "</div>"
      ],
      "text/plain": [
       "   id           committee  report_year     report_type  amend    rec_date  \\\n",
       "0   1  01ST CONG DIST DEC         2014  Fourth Quarter      0  2015-01-06   \n",
       "1   2  01ST CONG DIST DEC         2014   Third Quarter      1  2015-01-06   \n",
       "3   6  01ST CONG DIST DEC         2014  Second Quarter      0  2014-07-07   \n",
       "4   7  01ST CONG DIST DEC         2014   First Quarter      0  2014-04-29   \n",
       "5   8  01ST CONG DIST REC         2014  Fourth Quarter      0  2015-01-12   \n",
       "\n",
       "   start_date    end_date                                         image_link  \\\n",
       "0  2014-10-19  2014-12-31  http://cf.ncsbe.gov/CFOrgLkup/cf_report_image....   \n",
       "1  2014-07-01  2014-10-18  http://cf.ncsbe.gov/CFOrgLkup/cf_report_image....   \n",
       "3  2014-04-01  2014-06-30  http://cf.ncsbe.gov/CFOrgLkup/cf_report_image....   \n",
       "4  2014-01-01  2014-03-31  http://cf.ncsbe.gov/CFOrgLkup/cf_report_image....   \n",
       "5  2014-10-19  2014-12-31  http://cf.ncsbe.gov/CFOrgLkup/cf_report_image....   \n",
       "\n",
       "                                           data_link  \n",
       "0  http://cf.ncsbe.gov/CFOrgLkup/cf_report_sectio...  \n",
       "1  http://cf.ncsbe.gov/CFOrgLkup/cf_report_sectio...  \n",
       "3  http://cf.ncsbe.gov/CFOrgLkup/cf_report_sectio...  \n",
       "4  http://cf.ncsbe.gov/CFOrgLkup/cf_report_sectio...  \n",
       "5  http://cf.ncsbe.gov/CFOrgLkup/cf_report_sectio...  "
      ]
     },
     "execution_count": 37,
     "metadata": {},
     "output_type": "execute_result"
    }
   ],
   "source": [
    "qdf.head()"
   ]
  },
  {
   "cell_type": "markdown",
   "metadata": {},
   "source": [
    "# Data from \"Data\" Links"
   ]
  },
  {
   "cell_type": "code",
   "execution_count": 43,
   "metadata": {
    "collapsed": true
   },
   "outputs": [],
   "source": [
    "sub = qdf.sample(25)"
   ]
  },
  {
   "cell_type": "code",
   "execution_count": 45,
   "metadata": {
    "collapsed": true
   },
   "outputs": [],
   "source": [
    "from time import sleep\n",
    "import requests"
   ]
  },
  {
   "cell_type": "code",
   "execution_count": 46,
   "metadata": {
    "collapsed": true
   },
   "outputs": [],
   "source": [
    "data_pages = []\n",
    "for ind in list(sub.index):\n",
    "    did = sub.ix[ind]\n",
    "    link = sub.ix[ind]['data_link']\n",
    "    response = requests.get(link)\n",
    "    if response.status_code == requests.codes.ok:\n",
    "        data_pages.append({'did' : did,\n",
    "                           'html' : response.text})\n",
    "    sleep(1)"
   ]
  },
  {
   "cell_type": "code",
   "execution_count": 52,
   "metadata": {
    "collapsed": false
   },
   "outputs": [
    {
     "data": {
      "text/plain": [
       "25"
      ]
     },
     "execution_count": 52,
     "metadata": {},
     "output_type": "execute_result"
    }
   ],
   "source": [
    "len(data_pages)"
   ]
  },
  {
   "cell_type": "code",
   "execution_count": 47,
   "metadata": {
    "collapsed": true
   },
   "outputs": [],
   "source": [
    "import pickle"
   ]
  },
  {
   "cell_type": "code",
   "execution_count": 49,
   "metadata": {
    "collapsed": false
   },
   "outputs": [],
   "source": [
    "import utils"
   ]
  },
  {
   "cell_type": "code",
   "execution_count": 51,
   "metadata": {
    "collapsed": false
   },
   "outputs": [],
   "source": [
    "with open(os.path.join(utils.get_data_dir(), 'interim', 'data_html_sample.pkl'), 'wb') as f:\n",
    "    pickle.dump(data_pages, f)"
   ]
  },
  {
   "cell_type": "code",
   "execution_count": 53,
   "metadata": {
    "collapsed": true
   },
   "outputs": [],
   "source": [
    "import pandas"
   ]
  },
  {
   "cell_type": "code",
   "execution_count": 54,
   "metadata": {
    "collapsed": true
   },
   "outputs": [],
   "source": [
    "data_pages = pandas.DataFrame(data_pages)"
   ]
  },
  {
   "cell_type": "code",
   "execution_count": 55,
   "metadata": {
    "collapsed": true
   },
   "outputs": [],
   "source": [
    "from bs4 import BeautifulSoup as bs"
   ]
  },
  {
   "cell_type": "code",
   "execution_count": 56,
   "metadata": {
    "collapsed": true
   },
   "outputs": [],
   "source": [
    "data_pages['soup'] = data_pages.html.apply(lambda x: bs(x, 'html.parser'))"
   ]
  },
  {
   "cell_type": "code",
   "execution_count": null,
   "metadata": {
    "collapsed": true
   },
   "outputs": [],
   "source": []
  }
 ],
 "metadata": {
  "kernelspec": {
   "display_name": "ncga (P3)",
   "language": "python",
   "name": "ncga (p3)"
  },
  "language_info": {
   "codemirror_mode": {
    "name": "ipython",
    "version": 3
   },
   "file_extension": ".py",
   "mimetype": "text/x-python",
   "name": "python",
   "nbconvert_exporter": "python",
   "pygments_lexer": "ipython3",
   "version": "3.5.2"
  }
 },
 "nbformat": 4,
 "nbformat_minor": 2
}
