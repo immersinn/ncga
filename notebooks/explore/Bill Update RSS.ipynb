{
 "cells": [
  {
   "cell_type": "code",
   "execution_count": 1,
   "metadata": {
    "collapsed": true
   },
   "outputs": [],
   "source": [
    "import sys\n",
    "import os"
   ]
  },
  {
   "cell_type": "code",
   "execution_count": 4,
   "metadata": {
    "collapsed": true
   },
   "outputs": [],
   "source": [
    "main_repo_dir = os.path.abspath(os.path.join('../..'))\n",
    "sys.path.append(os.path.join(main_repo_dir, 'ncga'))"
   ]
  },
  {
   "cell_type": "code",
   "execution_count": 5,
   "metadata": {
    "collapsed": false
   },
   "outputs": [],
   "source": [
    "import extract_billpage_content as ebc"
   ]
  },
  {
   "cell_type": "code",
   "execution_count": 6,
   "metadata": {
    "collapsed": true
   },
   "outputs": [],
   "source": [
    "from importlib import reload"
   ]
  },
  {
   "cell_type": "code",
   "execution_count": 7,
   "metadata": {
    "collapsed": true
   },
   "outputs": [],
   "source": [
    "from bs4 import BeautifulSoup as bs"
   ]
  },
  {
   "cell_type": "code",
   "execution_count": 8,
   "metadata": {
    "collapsed": true
   },
   "outputs": [],
   "source": [
    "file_names = ['bill_0', 'bill_1']\n",
    "pages = []\n",
    "for fn in file_names:\n",
    "    with open(os.path.join(main_repo_dir,\n",
    "                           'ncga',\n",
    "                           \"tests/test_data/billpage_html\", fn + '.txt'),\n",
    "              'rb') as f:\n",
    "        pages.append(f.read())"
   ]
  },
  {
   "cell_type": "code",
   "execution_count": 9,
   "metadata": {
    "collapsed": true
   },
   "outputs": [],
   "source": [
    "soups = [bs(html, 'html.parser') for html in pages if html]"
   ]
  },
  {
   "cell_type": "code",
   "execution_count": 10,
   "metadata": {
    "collapsed": false
   },
   "outputs": [],
   "source": [
    "soup = soups[1]"
   ]
  },
  {
   "cell_type": "code",
   "execution_count": 11,
   "metadata": {
    "collapsed": false
   },
   "outputs": [
    {
     "data": {
      "text/plain": [
       "[{'html': '/Sessions/2017/Bills/House/HTML/H2v0.html',\n",
       "  'label': 'Filed',\n",
       "  'pdf': '/Sessions/2017/Bills/House/PDF/H2v0.pdf'},\n",
       " {'html': '/Sessions/2017/Bills/House/HTML/H2v1.html',\n",
       "  'label': 'Edition 1',\n",
       "  'pdf': '/Sessions/2017/Bills/House/PDF/H2v1.pdf'},\n",
       " {'html': '/Sessions/2017/Bills/House/HTML/H2v2.html',\n",
       "  'label': 'Edition 2',\n",
       "  'pdf': '/Sessions/2017/Bills/House/PDF/H2v2.pdf'},\n",
       " {'html': '/Sessions/2017/Bills/House/HTML/H2v3.html',\n",
       "  'label': 'Edition 3',\n",
       "  'pdf': '/Sessions/2017/Bills/House/PDF/H2v3.pdf'},\n",
       " {'html': '/Sessions/2017/Bills/House/HTML/H2v4.html',\n",
       "  'label': 'Edition 4',\n",
       "  'pdf': '/Sessions/2017/Bills/House/PDF/H2v4.pdf'}]"
      ]
     },
     "execution_count": 11,
     "metadata": {},
     "output_type": "execute_result"
    }
   ],
   "source": [
    "ebc.extract_links(soup)"
   ]
  },
  {
   "cell_type": "code",
   "execution_count": 14,
   "metadata": {
    "collapsed": false
   },
   "outputs": [
    {
     "data": {
      "text/plain": [
       "{'Counties': None,\n",
       " 'Keywords': ['ARMED FORCES',\n",
       "  'EMERGENCY SERVICES',\n",
       "  'ENVIRONMENT',\n",
       "  'FIREFIGHTERS & FIREFIGHTING',\n",
       "  'FORESTRY',\n",
       "  'LOCAL GOVERNMENT',\n",
       "  'PERSONNEL',\n",
       "  'PROPERTY',\n",
       "  'PUBLIC',\n",
       "  'REAL ESTATE',\n",
       "  'TAX EXEMPTIONS',\n",
       "  'TAXATION',\n",
       "  'TAXES',\n",
       "  'PROPERTY',\n",
       "  'VETERANS'],\n",
       " 'Sponsors': [{'chamber': 'H', 'userid': '489'},\n",
       "  {'chamber': 'H', 'userid': '632'},\n",
       "  {'chamber': 'H', 'userid': '645'},\n",
       "  {'chamber': 'H', 'userid': '658'},\n",
       "  {'chamber': 'H', 'userid': '688'},\n",
       "  {'chamber': 'H', 'userid': '661'},\n",
       "  {'chamber': 'H', 'userid': '690'},\n",
       "  {'chamber': 'H', 'userid': '691'},\n",
       "  {'chamber': 'H', 'userid': '582'},\n",
       "  {'chamber': 'H', 'userid': '716'},\n",
       "  {'chamber': 'H', 'userid': '613'},\n",
       "  {'chamber': 'H', 'userid': '463'},\n",
       "  {'chamber': 'H', 'userid': '709'},\n",
       "  {'chamber': 'H', 'userid': '504'},\n",
       "  {'chamber': 'H', 'userid': '720'},\n",
       "  {'chamber': 'H', 'userid': '650'},\n",
       "  {'chamber': 'H', 'userid': '560'},\n",
       "  {'chamber': 'H', 'userid': '598'},\n",
       "  {'chamber': 'H', 'userid': '595'},\n",
       "  {'chamber': 'H', 'userid': '723'},\n",
       "  {'chamber': 'H', 'userid': '667'},\n",
       "  {'chamber': 'H', 'userid': '635'},\n",
       "  {'chamber': 'H', 'userid': '497'},\n",
       "  {'chamber': 'H', 'userid': '393'},\n",
       "  {'chamber': 'H', 'userid': '706'},\n",
       "  {'chamber': 'H', 'userid': '727'},\n",
       "  {'chamber': 'H', 'userid': '696'},\n",
       "  {'chamber': 'H', 'userid': '630'},\n",
       "  {'chamber': 'H', 'userid': '728'},\n",
       "  {'chamber': 'H', 'userid': '721'}],\n",
       " 'Statutes': ['105 (Chapter); 105-277.1C',\n",
       "  '105-277.1E',\n",
       "  '105-282.1 (Sections)']}"
      ]
     },
     "execution_count": 14,
     "metadata": {},
     "output_type": "execute_result"
    }
   ],
   "source": [
    "ebc.extract_meta(soup)"
   ]
  },
  {
   "cell_type": "code",
   "execution_count": null,
   "metadata": {
    "collapsed": true
   },
   "outputs": [],
   "source": []
  }
 ],
 "metadata": {
  "kernelspec": {
   "display_name": "ncga (P3)",
   "language": "python",
   "name": "ncga (p3)"
  },
  "language_info": {
   "codemirror_mode": {
    "name": "ipython",
    "version": 3
   },
   "file_extension": ".py",
   "mimetype": "text/x-python",
   "name": "python",
   "nbconvert_exporter": "python",
   "pygments_lexer": "ipython3",
   "version": "3.5.2"
  }
 },
 "nbformat": 4,
 "nbformat_minor": 2
}
