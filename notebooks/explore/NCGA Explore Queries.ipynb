{
 "cells": [
  {
   "cell_type": "code",
   "execution_count": 19,
   "metadata": {
    "collapsed": true
   },
   "outputs": [],
   "source": [
    "from urllib.request import urlopen\n",
    "from bs4 import BeautifulSoup as bs"
   ]
  },
  {
   "cell_type": "code",
   "execution_count": 1,
   "metadata": {
    "collapsed": true
   },
   "outputs": [],
   "source": [
    "import requests"
   ]
  },
  {
   "cell_type": "code",
   "execution_count": 2,
   "metadata": {
    "collapsed": true
   },
   "outputs": [],
   "source": [
    "import ipyparallel as ipp"
   ]
  },
  {
   "cell_type": "code",
   "execution_count": 40,
   "metadata": {
    "collapsed": true
   },
   "outputs": [],
   "source": [
    "def counter(n):\n",
    "    total = 0\n",
    "    for i in range(1,n+1):\n",
    "        total += i\n",
    "    return(total)"
   ]
  },
  {
   "cell_type": "code",
   "execution_count": 43,
   "metadata": {
    "collapsed": true
   },
   "outputs": [],
   "source": [
    "def echo(x):\n",
    "    return(x)"
   ]
  },
  {
   "cell_type": "code",
   "execution_count": 38,
   "metadata": {
    "collapsed": true
   },
   "outputs": [],
   "source": [
    "def sumv2(x):\n",
    "    return(sum(x))"
   ]
  },
  {
   "cell_type": "code",
   "execution_count": 31,
   "metadata": {
    "collapsed": true
   },
   "outputs": [],
   "source": [
    "import numpy as np"
   ]
  },
  {
   "cell_type": "code",
   "execution_count": 44,
   "metadata": {
    "collapsed": false
   },
   "outputs": [
    {
     "name": "stdout",
     "output_type": "stream",
     "text": [
      "[0, 1, 2, 3]\n"
     ]
    }
   ],
   "source": [
    "rc = ipp.Client()\n",
    "print(rc.ids)"
   ]
  },
  {
   "cell_type": "code",
   "execution_count": 45,
   "metadata": {
    "collapsed": true
   },
   "outputs": [],
   "source": [
    "lv = rc.load_balanced_view()"
   ]
  },
  {
   "cell_type": "code",
   "execution_count": 48,
   "metadata": {
    "collapsed": false
   },
   "outputs": [
    {
     "data": {
      "text/plain": [
       "[0, 1, 3, 6, 10, 15, 21, 28, 36, 45]"
      ]
     },
     "execution_count": 48,
     "metadata": {},
     "output_type": "execute_result"
    }
   ],
   "source": [
    "lv.map_sync(counter, range(10))"
   ]
  },
  {
   "cell_type": "code",
   "execution_count": 25,
   "metadata": {
    "collapsed": false
   },
   "outputs": [
    {
     "data": {
      "text/plain": [
       "True"
      ]
     },
     "execution_count": 25,
     "metadata": {},
     "output_type": "execute_result"
    }
   ],
   "source": [
    "dv.wait()"
   ]
  },
  {
   "cell_type": "code",
   "execution_count": 10,
   "metadata": {
    "collapsed": false
   },
   "outputs": [
    {
     "ename": "CompositeError",
     "evalue": "one or more exceptions from call to method: <lambda>\n[2:apply]: NameError: name 'counter' is not defined\n[0:apply]: NameError: name 'counter' is not defined\n[1:apply]: NameError: name 'counter' is not defined\n[3:apply]: NameError: name 'counter' is not defined",
     "output_type": "error",
     "traceback": [
      "[2:apply]: ",
      "No traceback available",
      "",
      "[0:apply]: ",
      "No traceback available",
      "",
      "[1:apply]: ",
      "No traceback available",
      "",
      "[3:apply]: ",
      "No traceback available",
      ""
     ]
    }
   ],
   "source": [
    "results[0]"
   ]
  },
  {
   "cell_type": "markdown",
   "metadata": {},
   "source": [
    "## Session Information"
   ]
  },
  {
   "cell_type": "code",
   "execution_count": 7,
   "metadata": {
    "collapsed": true
   },
   "outputs": [],
   "source": [
    "# Session Values\n",
    "with open(\"data/ncga_sessions_html\", 'r') as f:\n",
    "    session_html = \"\".join(f.readlines())"
   ]
  },
  {
   "cell_type": "code",
   "execution_count": 10,
   "metadata": {
    "collapsed": false
   },
   "outputs": [
    {
     "name": "stdout",
     "output_type": "stream",
     "text": [
      "<option value=\"2015E4\">2016 Extra Session 4</option>\n",
      "<option value=\"2015E3\">2016 Extra Session 3</op\n"
     ]
    }
   ],
   "source": [
    "print(session_html[:100])"
   ]
  },
  {
   "cell_type": "code",
   "execution_count": 11,
   "metadata": {
    "collapsed": false
   },
   "outputs": [],
   "source": [
    "session_soup = bs(session_html, 'html.parser')"
   ]
  },
  {
   "cell_type": "code",
   "execution_count": 18,
   "metadata": {
    "collapsed": false
   },
   "outputs": [
    {
     "name": "stdout",
     "output_type": "stream",
     "text": [
      "33\n"
     ]
    },
    {
     "data": {
      "text/plain": [
       "{'name': '2016 Extra Session 4', 'query_value': '2015E4'}"
      ]
     },
     "execution_count": 18,
     "metadata": {},
     "output_type": "execute_result"
    }
   ],
   "source": [
    "sessions = session_soup.find_all('option')\n",
    "sessions = [{\"query_value\" : session['value'], \"name\" : session.text.strip()} \\\n",
    "            for session in sessions]\n",
    "print(len(sessions))\n",
    "sessions[0]"
   ]
  },
  {
   "cell_type": "markdown",
   "metadata": {},
   "source": [
    "## Query Stuff"
   ]
  },
  {
   "cell_type": "code",
   "execution_count": 53,
   "metadata": {
    "collapsed": true
   },
   "outputs": [],
   "source": [
    "query_root = \"http://www.ncleg.net/gascripts/\""
   ]
  },
  {
   "cell_type": "markdown",
   "metadata": {},
   "source": [
    "**Example 01:**\n",
    "\n",
    "> http://www.ncleg.net/gascripts/BillSearch/BillSearch.asp?typeToSearch=ALL&chamberToSearch=&sessionToSearch=2011&searchCriteria=filed&sortBy=relevance"
   ]
  },
  {
   "cell_type": "code",
   "execution_count": 22,
   "metadata": {
    "collapsed": true
   },
   "outputs": [],
   "source": [
    "query_attrs = ['typeToSearch=',\n",
    "               'chamberToSearch=',\n",
    "               'sessionToSearch=',\n",
    "               'searchCriteria=',\n",
    "               'sortBy=']"
   ]
  },
  {
   "cell_type": "code",
   "execution_count": 44,
   "metadata": {
    "collapsed": false
   },
   "outputs": [],
   "source": [
    "url = query_root + \"type=json&\" + \\\n",
    "\"&\".join([query_attrs[0] + \"ALL\" ,\n",
    "          query_attrs[1] + \"\",\n",
    "          query_attrs[2] + \"2015\",\n",
    "          query_attrs[3] + \"filed\",\n",
    "          query_attrs[4] + \"relevance\"])"
   ]
  },
  {
   "cell_type": "code",
   "execution_count": 45,
   "metadata": {
    "collapsed": false
   },
   "outputs": [
    {
     "data": {
      "text/plain": [
       "'http://www.ncleg.net/gascripts/BillSearch/BillSearch.asp?type=json&typeToSearch=ALL&chamberToSearch=&sessionToSearch=2015&searchCriteria=filed&sortBy=relevance'"
      ]
     },
     "execution_count": 45,
     "metadata": {},
     "output_type": "execute_result"
    }
   ],
   "source": [
    "url"
   ]
  },
  {
   "cell_type": "markdown",
   "metadata": {},
   "source": [
    "**Example 02:**\n",
    "\n",
    "The first is the info page about the bill, and the second is Version 1 of the bill in HTML format\n",
    "\n",
    "> http://www.ncleg.net/gascripts/BillLookUp/BillLookUp.pl?Session=2015&BillID=H123\n",
    "> http://www.ncleg.net/Sessions/2015/Bills/House/HTML/H123v1.html\n",
    "\n",
    "Method 2 is \"cleaner\" and a bit easier.  Don't need to worry about constructing a query that returns all of the Bills filed during a session.  Simply interate over URLs until we fail to retrieve pages (multiple times.  Stopping criteria can be interesting here...)"
   ]
  },
  {
   "cell_type": "code",
   "execution_count": 77,
   "metadata": {
    "collapsed": false
   },
   "outputs": [],
   "source": [
    "def buildMethod02URL(session, bill_id):\n",
    "    url = query_root + \"BillLookUp/BillLookUp.pl?\" +\\\n",
    "          \"Session=\" + str(session) + \"&\" +\\\n",
    "          \"BillID=\" + str(bill_id)\n",
    "    return(url)"
   ]
  },
  {
   "cell_type": "code",
   "execution_count": 78,
   "metadata": {
    "collapsed": false
   },
   "outputs": [
    {
     "data": {
      "text/plain": [
       "'http://www.ncleg.net/gascripts/BillLookUp/BillLookUp.pl?Session=2015&BillID=H1'"
      ]
     },
     "execution_count": 78,
     "metadata": {},
     "output_type": "execute_result"
    }
   ],
   "source": [
    "url = buildMethod02URL(2015, 'H1')\n",
    "url"
   ]
  },
  {
   "cell_type": "code",
   "execution_count": 79,
   "metadata": {
    "collapsed": false
   },
   "outputs": [],
   "source": [
    "bill_page = requests.get(url)"
   ]
  },
  {
   "cell_type": "code",
   "execution_count": 80,
   "metadata": {
    "collapsed": false
   },
   "outputs": [
    {
     "data": {
      "text/plain": [
       "200"
      ]
     },
     "execution_count": 80,
     "metadata": {},
     "output_type": "execute_result"
    }
   ],
   "source": [
    "bill_page.status_code"
   ]
  },
  {
   "cell_type": "code",
   "execution_count": 81,
   "metadata": {
    "collapsed": false
   },
   "outputs": [],
   "source": [
    "bill_soup = bs(bill_page.content, \"html.parser\")"
   ]
  },
  {
   "cell_type": "code",
   "execution_count": 93,
   "metadata": {
    "collapsed": false
   },
   "outputs": [
    {
     "name": "stdout",
     "output_type": "stream",
     "text": [
      "18\n"
     ]
    }
   ],
   "source": [
    "tables = bill_soup.find_all(\"table\")\n",
    "print(len(tables))"
   ]
  },
  {
   "cell_type": "code",
   "execution_count": 94,
   "metadata": {
    "collapsed": false
   },
   "outputs": [
    {
     "name": "stdout",
     "output_type": "stream",
     "text": [
      "<table align=\"center\" cellpadding=\"0\" cellspacing=\"0\" style=\"margin-right:0px; margin-top: 10px; margin-bottom: 10px; width: 100%;\">\n",
      "<tr>\n",
      "<td style=\"vertical-align: top; width: 35%; border: 1px solid #999;padding:0px;\">\n",
      "<table cellspacing=\"0\" style=\"width: 100%; margin: 0px; padding: 0px;\">\n",
      "<tr><td colspan=\"2\" style=\"background-color: #ced0d2; padding: 0px; text-align: center; font-weight: bold;border-bottom: 1px solid #555;border-top: 1px solid #555;\"><a href=\"/gascripts/billsummaries/billsummaries.pl?Session=2015&amp;BillID=H1\">View Available Bill Summaries</a> </td></tr>\n",
      "<tr class=\"sectionBG1\">\n",
      "<th class=\"tableHeader\" style=\"border-bottom: 1px solid #555; padding-left: 5px;\">Bill Text</th><th class=\"tableHeader\" nowrap=\"\" style=\"border-bottom: 1px solid #555;\">Fiscal Note</th>\n",
      "</tr>\n",
      "<tr>\n",
      "<td nowrap=\"\" style=\"border-bottom: 1px dotted #DCDCDC; padding-left:4px; padding-bottom:4px; vertical-align: top;\"><a href=\"/Sessions/2015/Bills/House/PDF/H1v0.pdf\">Filed</a> <span style=\"font: 9px Arial;\">[<a href=\"/Sessions/2015/Bills/House/HTML/H1v0.html\">HTML</a>]</span></td>\n",
      "<td style=\"border-bottom: 1px dotted #DCDCDC; padding-left:4px; padding-bottom:4px; vertical-align: top;\"><a href=\"\"></a><div style=\"text-align: center;\"></div><a></a></td>\n",
      "</tr>\n",
      "<tr>\n",
      "<td nowrap=\"\" style=\"border-bottom: 1px dotted #DCDCDC; padding-left:4px; padding-bottom:4px; vertical-align: top;\"><a href=\"/Sessions/2015/Bills/House/PDF/H1v1.pdf\">Edition 1</a> <span style=\"font: 9px Arial;\">[<a href=\"/Sessions/2015/Bills/House/HTML/H1v1.html\">HTML</a>]</span></td>\n",
      "<td style=\"border-bottom: 1px dotted #DCDCDC; padding-left:4px; padding-bottom:4px; vertical-align: top;\"><a href=\"\"></a><div style=\"text-align: center;\"></div><a></a></td>\n",
      "</tr>\n",
      "<tr>\n",
      "<td nowrap=\"\" style=\"padding-bottom:4px; padding-left:4px; vertical-align: top;\"><a href=\"/Sessions/2015/Bills/House/PDF/H1v2.pdf\">Adopted</a> <span style=\"font: 9px Arial;\">[<a href=\"/Sessions/2015/Bills/House/HTML/H1v2.html\">HTML</a>]</span></td>\n",
      "<td style=\"padding-bottom:4px; padding-left:4px; vertical-align: top;\"><a href=\"\"></a><div style=\"text-align: center;\"></div><a></a></td>\n",
      "</tr>\n",
      "</table>\n",
      "</td>\n",
      "<td style=\"width: 10px; padding-left: 5px; padding-right: 5px;\"> </td>\n",
      "<td style=\"vertical-align: top; width: 65%; padding-right: 10px; padding-bottom:0px; border: 1px solid #999;\">\n",
      "<table cellpadding=\"2\" cellspacing=\"0\" style=\"width: 100%;\">\n",
      "<tr>\n",
      "<td class=\"tableHeader\" style=\"background-color: #ced0d2 !important; white-space: nowrap; padding-right: 10px; border-right: 1px solid #999; padding-bottom: 10px; vertical-align: top; text-align: right;\">Last Action:</td></tr></table></td></tr></table>\n",
      "<table cellspacing=\"0\" style=\"width: 100%; margin: 0px; padding: 0px;\">\n",
      "<tr><td colspan=\"2\" style=\"background-color: #ced0d2; padding: 0px; text-align: center; font-weight: bold;border-bottom: 1px solid #555;border-top: 1px solid #555;\"><a href=\"/gascripts/billsummaries/billsummaries.pl?Session=2015&amp;BillID=H1\">View Available Bill Summaries</a> </td></tr>\n",
      "<tr class=\"sectionBG1\">\n",
      "<th class=\"tableHeader\" style=\"border-bottom: 1px solid #555; padding-left: 5px;\">Bill Text</th><th class=\"tableHeader\" nowrap=\"\" style=\"border-bottom: 1px solid #555;\">Fiscal Note</th>\n",
      "</tr>\n",
      "<tr>\n",
      "<td nowrap=\"\" style=\"border-bottom: 1px dotted #DCDCDC; padding-left:4px; padding-bottom:4px; vertical-align: top;\"><a href=\"/Sessions/2015/Bills/House/PDF/H1v0.pdf\">Filed</a> <span style=\"font: 9px Arial;\">[<a href=\"/Sessions/2015/Bills/House/HTML/H1v0.html\">HTML</a>]</span></td>\n",
      "<td style=\"border-bottom: 1px dotted #DCDCDC; padding-left:4px; padding-bottom:4px; vertical-align: top;\"><a href=\"\"></a><div style=\"text-align: center;\"></div><a></a></td>\n",
      "</tr>\n",
      "<tr>\n",
      "<td nowrap=\"\" style=\"border-bottom: 1px dotted #DCDCDC; padding-left:4px; padding-bottom:4px; vertical-align: top;\"><a href=\"/Sessions/2015/Bills/House/PDF/H1v1.pdf\">Edition 1</a> <span style=\"font: 9px Arial;\">[<a href=\"/Sessions/2015/Bills/House/HTML/H1v1.html\">HTML</a>]</span></td>\n",
      "<td style=\"border-bottom: 1px dotted #DCDCDC; padding-left:4px; padding-bottom:4px; vertical-align: top;\"><a href=\"\"></a><div style=\"text-align: center;\"></div><a></a></td>\n",
      "</tr>\n",
      "<tr>\n",
      "<td nowrap=\"\" style=\"padding-bottom:4px; padding-left:4px; vertical-align: top;\"><a href=\"/Sessions/2015/Bills/House/PDF/H1v2.pdf\">Adopted</a> <span style=\"font: 9px Arial;\">[<a href=\"/Sessions/2015/Bills/House/HTML/H1v2.html\">HTML</a>]</span></td>\n",
      "<td style=\"padding-bottom:4px; padding-left:4px; vertical-align: top;\"><a href=\"\"></a><div style=\"text-align: center;\"></div><a></a></td>\n",
      "</tr>\n",
      "</table>\n"
     ]
    }
   ],
   "source": [
    "for t in tables:\n",
    "    if t.text.strip().startswith(\"View Available Bill Summaries\"):\n",
    "        bill_content_table = t\n",
    "        print(t)"
   ]
  },
  {
   "cell_type": "code",
   "execution_count": 105,
   "metadata": {
    "collapsed": false
   },
   "outputs": [
    {
     "name": "stdout",
     "output_type": "stream",
     "text": [
      "[<a href=\"/gascripts/billsummaries/billsummaries.pl?Session=2015&amp;BillID=H1\">View Available Bill Summaries</a>]\n",
      "[]\n",
      "[<a href=\"/Sessions/2015/Bills/House/PDF/H1v0.pdf\">Filed</a>, <a href=\"/Sessions/2015/Bills/House/HTML/H1v0.html\">HTML</a>, <a href=\"\"></a>, <a></a>]\n",
      "[<a href=\"/Sessions/2015/Bills/House/PDF/H1v1.pdf\">Edition 1</a>, <a href=\"/Sessions/2015/Bills/House/HTML/H1v1.html\">HTML</a>, <a href=\"\"></a>, <a></a>]\n",
      "[<a href=\"/Sessions/2015/Bills/House/PDF/H1v2.pdf\">Adopted</a>, <a href=\"/Sessions/2015/Bills/House/HTML/H1v2.html\">HTML</a>, <a href=\"\"></a>, <a></a>]\n"
     ]
    }
   ],
   "source": [
    "for row in bill_content_table.find_all(\"tr\"):\n",
    "    print(row.find_all('a'))"
   ]
  },
  {
   "cell_type": "code",
   "execution_count": 52,
   "metadata": {
    "collapsed": false
   },
   "outputs": [],
   "source": [
    "soup = bs(t.content, 'html.parser')"
   ]
  },
  {
   "cell_type": "code",
   "execution_count": null,
   "metadata": {
    "collapsed": true
   },
   "outputs": [],
   "source": []
  }
 ],
 "metadata": {
  "kernelspec": {
   "display_name": "Python [default]",
   "language": "python",
   "name": "python3"
  },
  "language_info": {
   "codemirror_mode": {
    "name": "ipython",
    "version": 3
   },
   "file_extension": ".py",
   "mimetype": "text/x-python",
   "name": "python",
   "nbconvert_exporter": "python",
   "pygments_lexer": "ipython3",
   "version": "3.5.2"
  }
 },
 "nbformat": 4,
 "nbformat_minor": 2
}
