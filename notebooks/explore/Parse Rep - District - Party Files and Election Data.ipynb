{
 "cells": [
  {
   "cell_type": "code",
   "execution_count": 1,
   "metadata": {
    "collapsed": true
   },
   "outputs": [],
   "source": [
    "sys.path.append(os.path.join(os.path.abspath('../..'), 'src'))\n",
    "sys.path.append(os.path.join(os.path.abspath('../..'), 'data'))"
   ]
  },
  {
   "cell_type": "code",
   "execution_count": 2,
   "metadata": {
    "collapsed": false
   },
   "outputs": [],
   "source": [
    "import pandas"
   ]
  },
  {
   "cell_type": "code",
   "execution_count": 3,
   "metadata": {
    "collapsed": true
   },
   "outputs": [],
   "source": [
    "import utils"
   ]
  },
  {
   "cell_type": "code",
   "execution_count": 4,
   "metadata": {
    "collapsed": true
   },
   "outputs": [],
   "source": [
    "rep_data = utils.load_rep_data()"
   ]
  },
  {
   "cell_type": "code",
   "execution_count": 5,
   "metadata": {
    "collapsed": false
   },
   "outputs": [
    {
     "data": {
      "text/html": [
       "<div>\n",
       "<table border=\"1\" class=\"dataframe\">\n",
       "  <thead>\n",
       "    <tr style=\"text-align: right;\">\n",
       "      <th></th>\n",
       "      <th>Party</th>\n",
       "      <th>District</th>\n",
       "      <th>Member</th>\n",
       "      <th>Counties Represented</th>\n",
       "    </tr>\n",
       "  </thead>\n",
       "  <tbody>\n",
       "    <tr>\n",
       "      <th>0</th>\n",
       "      <td>(R)</td>\n",
       "      <td>District 96</td>\n",
       "      <td>Jay Adams</td>\n",
       "      <td>Catawba</td>\n",
       "    </tr>\n",
       "    <tr>\n",
       "      <th>1</th>\n",
       "      <td>(D)</td>\n",
       "      <td>District 41</td>\n",
       "      <td>Gale Adcock</td>\n",
       "      <td>Wake</td>\n",
       "    </tr>\n",
       "    <tr>\n",
       "      <th>2</th>\n",
       "      <td>(D)</td>\n",
       "      <td>District 115</td>\n",
       "      <td>John Ager</td>\n",
       "      <td>Buncombe</td>\n",
       "    </tr>\n",
       "    <tr>\n",
       "      <th>3</th>\n",
       "      <td>(D)</td>\n",
       "      <td>District 107</td>\n",
       "      <td>Kelly M. Alexander, Jr.</td>\n",
       "      <td>Mecklenburg</td>\n",
       "    </tr>\n",
       "    <tr>\n",
       "      <th>4</th>\n",
       "      <td>(R)</td>\n",
       "      <td>District 69</td>\n",
       "      <td>Dean Arp</td>\n",
       "      <td>Union</td>\n",
       "    </tr>\n",
       "  </tbody>\n",
       "</table>\n",
       "</div>"
      ],
      "text/plain": [
       "  Party      District                   Member Counties Represented\n",
       "0   (R)   District 96                Jay Adams              Catawba\n",
       "1   (D)   District 41              Gale Adcock                 Wake\n",
       "2   (D)  District 115                John Ager             Buncombe\n",
       "3   (D)  District 107  Kelly M. Alexander, Jr.          Mecklenburg\n",
       "4   (R)   District 69                 Dean Arp                Union"
      ]
     },
     "execution_count": 5,
     "metadata": {},
     "output_type": "execute_result"
    }
   ],
   "source": [
    "rep_data.head()"
   ]
  },
  {
   "cell_type": "code",
   "execution_count": 6,
   "metadata": {
    "collapsed": true
   },
   "outputs": [],
   "source": [
    "sen_data = utils.load_senator_data()"
   ]
  },
  {
   "cell_type": "code",
   "execution_count": 7,
   "metadata": {
    "collapsed": false
   },
   "outputs": [
    {
     "data": {
      "text/html": [
       "<div>\n",
       "<table border=\"1\" class=\"dataframe\">\n",
       "  <thead>\n",
       "    <tr style=\"text-align: right;\">\n",
       "      <th></th>\n",
       "      <th>Party</th>\n",
       "      <th>District</th>\n",
       "      <th>Member</th>\n",
       "      <th>Counties Represented</th>\n",
       "    </tr>\n",
       "  </thead>\n",
       "  <tbody>\n",
       "    <tr>\n",
       "      <th>0</th>\n",
       "      <td>(R)</td>\n",
       "      <td>District 15</td>\n",
       "      <td>John M. Alexander, Jr.</td>\n",
       "      <td>Wake</td>\n",
       "    </tr>\n",
       "    <tr>\n",
       "      <th>1</th>\n",
       "      <td>(R)</td>\n",
       "      <td>District 45</td>\n",
       "      <td>Deanna Ballard</td>\n",
       "      <td>Alleghany, Ashe, Avery, Caldwell, Watauga</td>\n",
       "    </tr>\n",
       "    <tr>\n",
       "      <th>2</th>\n",
       "      <td>(R)</td>\n",
       "      <td>District 18</td>\n",
       "      <td>Chad Barefoot</td>\n",
       "      <td>Franklin, Wake</td>\n",
       "    </tr>\n",
       "    <tr>\n",
       "      <th>3</th>\n",
       "      <td>(R)</td>\n",
       "      <td>District 17</td>\n",
       "      <td>Tamara Barringer</td>\n",
       "      <td>Wake</td>\n",
       "    </tr>\n",
       "    <tr>\n",
       "      <th>4</th>\n",
       "      <td>(R)</td>\n",
       "      <td>District 26</td>\n",
       "      <td>Phil Berger</td>\n",
       "      <td>Guilford, Rockingham</td>\n",
       "    </tr>\n",
       "  </tbody>\n",
       "</table>\n",
       "</div>"
      ],
      "text/plain": [
       "  Party     District                  Member  \\\n",
       "0   (R)  District 15  John M. Alexander, Jr.   \n",
       "1   (R)  District 45          Deanna Ballard   \n",
       "2   (R)  District 18           Chad Barefoot   \n",
       "3   (R)  District 17        Tamara Barringer   \n",
       "4   (R)  District 26             Phil Berger   \n",
       "\n",
       "                        Counties Represented  \n",
       "0                                       Wake  \n",
       "1  Alleghany, Ashe, Avery, Caldwell, Watauga  \n",
       "2                             Franklin, Wake  \n",
       "3                                       Wake  \n",
       "4                       Guilford, Rockingham  "
      ]
     },
     "execution_count": 7,
     "metadata": {},
     "output_type": "execute_result"
    }
   ],
   "source": [
    "sen_data.head()"
   ]
  },
  {
   "cell_type": "markdown",
   "metadata": {},
   "source": [
    "### 2016 Election Data"
   ]
  },
  {
   "cell_type": "code",
   "execution_count": 8,
   "metadata": {
    "collapsed": false,
    "scrolled": false
   },
   "outputs": [],
   "source": [
    "sen2016 = utils.load_election_data('senate')"
   ]
  },
  {
   "cell_type": "code",
   "execution_count": 9,
   "metadata": {
    "collapsed": false
   },
   "outputs": [
    {
     "data": {
      "text/html": [
       "<div>\n",
       "<table border=\"1\" class=\"dataframe\">\n",
       "  <thead>\n",
       "    <tr style=\"text-align: right;\">\n",
       "      <th></th>\n",
       "      <th>District</th>\n",
       "      <th>Session</th>\n",
       "      <th>Chamber</th>\n",
       "      <th>Name</th>\n",
       "      <th>Party</th>\n",
       "      <th>Incombant</th>\n",
       "      <th>Won</th>\n",
       "      <th>Votes</th>\n",
       "    </tr>\n",
       "  </thead>\n",
       "  <tbody>\n",
       "    <tr>\n",
       "      <th>0</th>\n",
       "      <td>1</td>\n",
       "      <td>2016</td>\n",
       "      <td>S</td>\n",
       "      <td>Brownie Futrell</td>\n",
       "      <td>D</td>\n",
       "      <td>False</td>\n",
       "      <td>False</td>\n",
       "      <td>36,759</td>\n",
       "    </tr>\n",
       "    <tr>\n",
       "      <th>1</th>\n",
       "      <td>1</td>\n",
       "      <td>2016</td>\n",
       "      <td>S</td>\n",
       "      <td>William Cook</td>\n",
       "      <td>R</td>\n",
       "      <td>True</td>\n",
       "      <td>True</td>\n",
       "      <td>53,138</td>\n",
       "    </tr>\n",
       "    <tr>\n",
       "      <th>2</th>\n",
       "      <td>2</td>\n",
       "      <td>2016</td>\n",
       "      <td>S</td>\n",
       "      <td>Dorothea White</td>\n",
       "      <td>D</td>\n",
       "      <td>False</td>\n",
       "      <td>False</td>\n",
       "      <td>39,505</td>\n",
       "    </tr>\n",
       "    <tr>\n",
       "      <th>3</th>\n",
       "      <td>2</td>\n",
       "      <td>2016</td>\n",
       "      <td>S</td>\n",
       "      <td>Norman Sanderson</td>\n",
       "      <td>R</td>\n",
       "      <td>True</td>\n",
       "      <td>True</td>\n",
       "      <td>58,032</td>\n",
       "    </tr>\n",
       "    <tr>\n",
       "      <th>4</th>\n",
       "      <td>3</td>\n",
       "      <td>2016</td>\n",
       "      <td>S</td>\n",
       "      <td>Erica Smith-Ingram</td>\n",
       "      <td>D</td>\n",
       "      <td>True</td>\n",
       "      <td>True</td>\n",
       "      <td>NA</td>\n",
       "    </tr>\n",
       "  </tbody>\n",
       "</table>\n",
       "</div>"
      ],
      "text/plain": [
       "  District Session Chamber                Name Party Incombant    Won   Votes\n",
       "0        1    2016       S     Brownie Futrell     D     False  False  36,759\n",
       "1        1    2016       S        William Cook     R      True   True  53,138\n",
       "2        2    2016       S      Dorothea White     D     False  False  39,505\n",
       "3        2    2016       S    Norman Sanderson     R      True   True  58,032\n",
       "4        3    2016       S  Erica Smith-Ingram     D      True   True      NA"
      ]
     },
     "execution_count": 9,
     "metadata": {},
     "output_type": "execute_result"
    }
   ],
   "source": [
    "sen2016.head()"
   ]
  },
  {
   "cell_type": "code",
   "execution_count": 10,
   "metadata": {
    "collapsed": false
   },
   "outputs": [
    {
     "data": {
      "text/plain": [
       "(88, 8)"
      ]
     },
     "execution_count": 10,
     "metadata": {},
     "output_type": "execute_result"
    }
   ],
   "source": [
    "sen2016.shape"
   ]
  },
  {
   "cell_type": "code",
   "execution_count": 11,
   "metadata": {
    "collapsed": false
   },
   "outputs": [
    {
     "data": {
      "text/plain": [
       "{'Chamber': 'S',\n",
       " 'District': '1',\n",
       " 'Incombant': False,\n",
       " 'Name': 'Brownie Futrell',\n",
       " 'Party': 'D',\n",
       " 'Session': '2016',\n",
       " 'Votes': '36,759',\n",
       " 'Won': False}"
      ]
     },
     "execution_count": 11,
     "metadata": {},
     "output_type": "execute_result"
    }
   ],
   "source": [
    "sen2016.ix[0].to_dict()"
   ]
  },
  {
   "cell_type": "code",
   "execution_count": 12,
   "metadata": {
    "collapsed": true
   },
   "outputs": [],
   "source": [
    "hou2016 = utils.load_election_data('house')"
   ]
  },
  {
   "cell_type": "code",
   "execution_count": 13,
   "metadata": {
    "collapsed": false
   },
   "outputs": [
    {
     "data": {
      "text/html": [
       "<div>\n",
       "<table border=\"1\" class=\"dataframe\">\n",
       "  <thead>\n",
       "    <tr style=\"text-align: right;\">\n",
       "      <th></th>\n",
       "      <th>District</th>\n",
       "      <th>Session</th>\n",
       "      <th>Chamber</th>\n",
       "      <th>Name</th>\n",
       "      <th>Party</th>\n",
       "      <th>Incombant</th>\n",
       "      <th>Won</th>\n",
       "      <th>Votes</th>\n",
       "    </tr>\n",
       "  </thead>\n",
       "  <tbody>\n",
       "    <tr>\n",
       "      <th>0</th>\n",
       "      <td>1</td>\n",
       "      <td>2016</td>\n",
       "      <td>H</td>\n",
       "      <td>Sam Davis</td>\n",
       "      <td>D</td>\n",
       "      <td>False</td>\n",
       "      <td>False</td>\n",
       "      <td>12,240</td>\n",
       "    </tr>\n",
       "    <tr>\n",
       "      <th>1</th>\n",
       "      <td>1</td>\n",
       "      <td>2016</td>\n",
       "      <td>H</td>\n",
       "      <td>Bob Steinburg</td>\n",
       "      <td>R</td>\n",
       "      <td>True</td>\n",
       "      <td>True</td>\n",
       "      <td>25,363</td>\n",
       "    </tr>\n",
       "    <tr>\n",
       "      <th>2</th>\n",
       "      <td>2</td>\n",
       "      <td>2016</td>\n",
       "      <td>H</td>\n",
       "      <td>Joe Parrish</td>\n",
       "      <td>D</td>\n",
       "      <td>False</td>\n",
       "      <td>False</td>\n",
       "      <td>14,775</td>\n",
       "    </tr>\n",
       "    <tr>\n",
       "      <th>3</th>\n",
       "      <td>2</td>\n",
       "      <td>2016</td>\n",
       "      <td>H</td>\n",
       "      <td>Larry Yarborough</td>\n",
       "      <td>R</td>\n",
       "      <td>True</td>\n",
       "      <td>True</td>\n",
       "      <td>22,760</td>\n",
       "    </tr>\n",
       "    <tr>\n",
       "      <th>4</th>\n",
       "      <td>3</td>\n",
       "      <td>2016</td>\n",
       "      <td>H</td>\n",
       "      <td>Marva Fisher Baldwin</td>\n",
       "      <td>D</td>\n",
       "      <td>False</td>\n",
       "      <td>False</td>\n",
       "      <td>12,638</td>\n",
       "    </tr>\n",
       "  </tbody>\n",
       "</table>\n",
       "</div>"
      ],
      "text/plain": [
       "  District Session Chamber                  Name Party Incombant    Won  \\\n",
       "0        1    2016       H             Sam Davis     D     False  False   \n",
       "1        1    2016       H         Bob Steinburg     R      True   True   \n",
       "2        2    2016       H           Joe Parrish     D     False  False   \n",
       "3        2    2016       H      Larry Yarborough     R      True   True   \n",
       "4        3    2016       H  Marva Fisher Baldwin     D     False  False   \n",
       "\n",
       "    Votes  \n",
       "0  12,240  \n",
       "1  25,363  \n",
       "2  14,775  \n",
       "3  22,760  \n",
       "4  12,638  "
      ]
     },
     "execution_count": 13,
     "metadata": {},
     "output_type": "execute_result"
    }
   ],
   "source": [
    "hou2016.head()"
   ]
  },
  {
   "cell_type": "code",
   "execution_count": 14,
   "metadata": {
    "collapsed": false
   },
   "outputs": [
    {
     "data": {
      "text/plain": [
       "(189, 8)"
      ]
     },
     "execution_count": 14,
     "metadata": {},
     "output_type": "execute_result"
    }
   ],
   "source": [
    "hou2016.shape"
   ]
  },
  {
   "cell_type": "code",
   "execution_count": 15,
   "metadata": {
    "collapsed": false
   },
   "outputs": [
    {
     "data": {
      "text/plain": [
       "{'Chamber': 'H',\n",
       " 'District': '1',\n",
       " 'Incombant': False,\n",
       " 'Name': 'Sam Davis',\n",
       " 'Party': 'D',\n",
       " 'Session': '2016',\n",
       " 'Votes': '12,240',\n",
       " 'Won': False}"
      ]
     },
     "execution_count": 15,
     "metadata": {},
     "output_type": "execute_result"
    }
   ],
   "source": [
    "hou2016.ix[0].to_dict()"
   ]
  },
  {
   "cell_type": "markdown",
   "metadata": {},
   "source": [
    "### 2014 Elections Data"
   ]
  },
  {
   "cell_type": "code",
   "execution_count": 16,
   "metadata": {
    "collapsed": true
   },
   "outputs": [],
   "source": [
    "sen2014 = utils.load_election_data('senate', '2014')"
   ]
  },
  {
   "cell_type": "code",
   "execution_count": 17,
   "metadata": {
    "collapsed": false
   },
   "outputs": [
    {
     "data": {
      "text/html": [
       "<div>\n",
       "<table border=\"1\" class=\"dataframe\">\n",
       "  <thead>\n",
       "    <tr style=\"text-align: right;\">\n",
       "      <th></th>\n",
       "      <th>District</th>\n",
       "      <th>Session</th>\n",
       "      <th>Chamber</th>\n",
       "      <th>Name</th>\n",
       "      <th>Party</th>\n",
       "      <th>Incombant</th>\n",
       "      <th>Won</th>\n",
       "      <th>Votes</th>\n",
       "    </tr>\n",
       "  </thead>\n",
       "  <tbody>\n",
       "    <tr>\n",
       "      <th>0</th>\n",
       "      <td>1</td>\n",
       "      <td>2014</td>\n",
       "      <td>S</td>\n",
       "      <td>Stan White</td>\n",
       "      <td>D</td>\n",
       "      <td>NA</td>\n",
       "      <td>False</td>\n",
       "      <td>27,957</td>\n",
       "    </tr>\n",
       "    <tr>\n",
       "      <th>1</th>\n",
       "      <td>1</td>\n",
       "      <td>2014</td>\n",
       "      <td>S</td>\n",
       "      <td>Bill Cook</td>\n",
       "      <td>R</td>\n",
       "      <td>NA</td>\n",
       "      <td>True</td>\n",
       "      <td>32,143</td>\n",
       "    </tr>\n",
       "    <tr>\n",
       "      <th>2</th>\n",
       "      <td>2</td>\n",
       "      <td>2014</td>\n",
       "      <td>S</td>\n",
       "      <td>Carroll Ipock II</td>\n",
       "      <td>D</td>\n",
       "      <td>NA</td>\n",
       "      <td>False</td>\n",
       "      <td>23,925</td>\n",
       "    </tr>\n",
       "    <tr>\n",
       "      <th>3</th>\n",
       "      <td>2</td>\n",
       "      <td>2014</td>\n",
       "      <td>S</td>\n",
       "      <td>Norman Sanderson</td>\n",
       "      <td>R</td>\n",
       "      <td>NA</td>\n",
       "      <td>True</td>\n",
       "      <td>36,562</td>\n",
       "    </tr>\n",
       "    <tr>\n",
       "      <th>4</th>\n",
       "      <td>3</td>\n",
       "      <td>2014</td>\n",
       "      <td>S</td>\n",
       "      <td>Erica Smith-Ingram</td>\n",
       "      <td>D</td>\n",
       "      <td>NA</td>\n",
       "      <td>True</td>\n",
       "      <td>NA</td>\n",
       "    </tr>\n",
       "  </tbody>\n",
       "</table>\n",
       "</div>"
      ],
      "text/plain": [
       "  District Session Chamber                Name Party Incombant    Won   Votes\n",
       "0        1    2014       S          Stan White     D        NA  False  27,957\n",
       "1        1    2014       S           Bill Cook     R        NA   True  32,143\n",
       "2        2    2014       S    Carroll Ipock II     D        NA  False  23,925\n",
       "3        2    2014       S    Norman Sanderson     R        NA   True  36,562\n",
       "4        3    2014       S  Erica Smith-Ingram     D        NA   True      NA"
      ]
     },
     "execution_count": 17,
     "metadata": {},
     "output_type": "execute_result"
    }
   ],
   "source": [
    "sen2014.head()"
   ]
  },
  {
   "cell_type": "code",
   "execution_count": 18,
   "metadata": {
    "collapsed": false
   },
   "outputs": [
    {
     "data": {
      "text/plain": [
       "(82, 8)"
      ]
     },
     "execution_count": 18,
     "metadata": {},
     "output_type": "execute_result"
    }
   ],
   "source": [
    "sen2014.shape"
   ]
  },
  {
   "cell_type": "code",
   "execution_count": 19,
   "metadata": {
    "collapsed": false
   },
   "outputs": [
    {
     "data": {
      "text/plain": [
       "{'Chamber': 'S',\n",
       " 'District': '1',\n",
       " 'Incombant': 'NA',\n",
       " 'Name': 'Stan White',\n",
       " 'Party': 'D',\n",
       " 'Session': '2014',\n",
       " 'Votes': '27,957',\n",
       " 'Won': False}"
      ]
     },
     "execution_count": 19,
     "metadata": {},
     "output_type": "execute_result"
    }
   ],
   "source": [
    "sen2014.ix[0].to_dict()"
   ]
  },
  {
   "cell_type": "code",
   "execution_count": 20,
   "metadata": {
    "collapsed": true
   },
   "outputs": [],
   "source": [
    "hou2014 = utils.load_election_data('house', '2014')"
   ]
  },
  {
   "cell_type": "code",
   "execution_count": 21,
   "metadata": {
    "collapsed": false
   },
   "outputs": [
    {
     "data": {
      "text/html": [
       "<div>\n",
       "<table border=\"1\" class=\"dataframe\">\n",
       "  <thead>\n",
       "    <tr style=\"text-align: right;\">\n",
       "      <th></th>\n",
       "      <th>District</th>\n",
       "      <th>Session</th>\n",
       "      <th>Chamber</th>\n",
       "      <th>Name</th>\n",
       "      <th>Party</th>\n",
       "      <th>Incombant</th>\n",
       "      <th>Won</th>\n",
       "      <th>Votes</th>\n",
       "    </tr>\n",
       "  </thead>\n",
       "  <tbody>\n",
       "    <tr>\n",
       "      <th>0</th>\n",
       "      <td>1</td>\n",
       "      <td>2014</td>\n",
       "      <td>H</td>\n",
       "      <td>Garry Meiggs</td>\n",
       "      <td>D</td>\n",
       "      <td>NA</td>\n",
       "      <td>False</td>\n",
       "      <td>10,082</td>\n",
       "    </tr>\n",
       "    <tr>\n",
       "      <th>1</th>\n",
       "      <td>1</td>\n",
       "      <td>2014</td>\n",
       "      <td>H</td>\n",
       "      <td>Bob Steinburg</td>\n",
       "      <td>R</td>\n",
       "      <td>NA</td>\n",
       "      <td>True</td>\n",
       "      <td>15,713</td>\n",
       "    </tr>\n",
       "    <tr>\n",
       "      <th>2</th>\n",
       "      <td>2</td>\n",
       "      <td>2014</td>\n",
       "      <td>H</td>\n",
       "      <td>Ray Jeffers</td>\n",
       "      <td>D</td>\n",
       "      <td>NA</td>\n",
       "      <td>False</td>\n",
       "      <td>10,259</td>\n",
       "    </tr>\n",
       "    <tr>\n",
       "      <th>3</th>\n",
       "      <td>2</td>\n",
       "      <td>2014</td>\n",
       "      <td>H</td>\n",
       "      <td>Larry Yarborough</td>\n",
       "      <td>R</td>\n",
       "      <td>NA</td>\n",
       "      <td>True</td>\n",
       "      <td>13,423</td>\n",
       "    </tr>\n",
       "    <tr>\n",
       "      <th>4</th>\n",
       "      <td>3</td>\n",
       "      <td>2014</td>\n",
       "      <td>H</td>\n",
       "      <td>Whit Whitley</td>\n",
       "      <td>D</td>\n",
       "      <td>NA</td>\n",
       "      <td>False</td>\n",
       "      <td>10,524</td>\n",
       "    </tr>\n",
       "  </tbody>\n",
       "</table>\n",
       "</div>"
      ],
      "text/plain": [
       "  District Session Chamber              Name Party Incombant    Won   Votes\n",
       "0        1    2014       H      Garry Meiggs     D        NA  False  10,082\n",
       "1        1    2014       H     Bob Steinburg     R        NA   True  15,713\n",
       "2        2    2014       H       Ray Jeffers     D        NA  False  10,259\n",
       "3        2    2014       H  Larry Yarborough     R        NA   True  13,423\n",
       "4        3    2014       H      Whit Whitley     D        NA  False  10,524"
      ]
     },
     "execution_count": 21,
     "metadata": {},
     "output_type": "execute_result"
    }
   ],
   "source": [
    "hou2014.head()"
   ]
  },
  {
   "cell_type": "code",
   "execution_count": 22,
   "metadata": {
    "collapsed": false
   },
   "outputs": [
    {
     "data": {
      "text/plain": [
       "(182, 8)"
      ]
     },
     "execution_count": 22,
     "metadata": {},
     "output_type": "execute_result"
    }
   ],
   "source": [
    "hou2014.shape"
   ]
  },
  {
   "cell_type": "code",
   "execution_count": 23,
   "metadata": {
    "collapsed": false
   },
   "outputs": [
    {
     "data": {
      "text/plain": [
       "{'Chamber': 'H',\n",
       " 'District': '1',\n",
       " 'Incombant': 'NA',\n",
       " 'Name': 'Garry Meiggs',\n",
       " 'Party': 'D',\n",
       " 'Session': '2014',\n",
       " 'Votes': '10,082',\n",
       " 'Won': False}"
      ]
     },
     "execution_count": 23,
     "metadata": {},
     "output_type": "execute_result"
    }
   ],
   "source": [
    "hou2014.ix[0].to_dict()"
   ]
  },
  {
   "cell_type": "code",
   "execution_count": null,
   "metadata": {
    "collapsed": true
   },
   "outputs": [],
   "source": []
  }
 ],
 "metadata": {
  "kernelspec": {
   "display_name": "ncga (P3)",
   "language": "python",
   "name": "ncga (p3)"
  },
  "language_info": {
   "codemirror_mode": {
    "name": "ipython",
    "version": 3
   },
   "file_extension": ".py",
   "mimetype": "text/x-python",
   "name": "python",
   "nbconvert_exporter": "python",
   "pygments_lexer": "ipython3",
   "version": "3.5.2"
  }
 },
 "nbformat": 4,
 "nbformat_minor": 2
}
