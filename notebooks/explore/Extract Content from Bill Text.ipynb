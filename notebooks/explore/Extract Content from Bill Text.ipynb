{
 "cells": [
  {
   "cell_type": "code",
   "execution_count": 8,
   "metadata": {
    "collapsed": true
   },
   "outputs": [],
   "source": [
    "import pickle\n",
    "from bs4 import BeautifulSoup as bs\n",
    "import pandas"
   ]
  },
  {
   "cell_type": "markdown",
   "metadata": {},
   "source": [
    "## Load Bills"
   ]
  },
  {
   "cell_type": "code",
   "execution_count": 3,
   "metadata": {
    "collapsed": true
   },
   "outputs": [],
   "source": [
    "bill_texts_file = \"data/bill_texts_filed.pkl\""
   ]
  },
  {
   "cell_type": "code",
   "execution_count": 4,
   "metadata": {
    "collapsed": true
   },
   "outputs": [],
   "source": [
    "with open(bill_texts_file, 'rb') as f1:\n",
    "    bill_texts_filed = pickle.load(f1)"
   ]
  },
  {
   "cell_type": "code",
   "execution_count": 9,
   "metadata": {
    "collapsed": true
   },
   "outputs": [],
   "source": [
    "bill_texts_filed = pandas.DataFrame(bill_texts_filed)"
   ]
  },
  {
   "cell_type": "code",
   "execution_count": 10,
   "metadata": {
    "collapsed": false
   },
   "outputs": [
    {
     "data": {
      "text/plain": [
       "(2098, 4)"
      ]
     },
     "execution_count": 10,
     "metadata": {},
     "output_type": "execute_result"
    }
   ],
   "source": [
    "bill_texts_filed.shape"
   ]
  },
  {
   "cell_type": "code",
   "execution_count": 12,
   "metadata": {
    "collapsed": false
   },
   "outputs": [
    {
     "data": {
      "text/html": [
       "<div>\n",
       "<table border=\"1\" class=\"dataframe\">\n",
       "  <thead>\n",
       "    <tr style=\"text-align: right;\">\n",
       "      <th></th>\n",
       "      <th>bill</th>\n",
       "      <th>house</th>\n",
       "      <th>session</th>\n",
       "      <th>text</th>\n",
       "    </tr>\n",
       "  </thead>\n",
       "  <tbody>\n",
       "    <tr>\n",
       "      <th>0</th>\n",
       "      <td>1</td>\n",
       "      <td>H</td>\n",
       "      <td>2015E4</td>\n",
       "      <td>b'&lt;html&gt;\\r\\n\\r\\n&lt;head&gt;\\r\\n&lt;meta http-equiv=Con...</td>\n",
       "    </tr>\n",
       "    <tr>\n",
       "      <th>1</th>\n",
       "      <td>2</td>\n",
       "      <td>H</td>\n",
       "      <td>2015E4</td>\n",
       "      <td>b'&lt;html&gt;\\r\\n\\r\\n&lt;head&gt;\\r\\n&lt;meta http-equiv=Con...</td>\n",
       "    </tr>\n",
       "    <tr>\n",
       "      <th>2</th>\n",
       "      <td>3</td>\n",
       "      <td>H</td>\n",
       "      <td>2015E4</td>\n",
       "      <td>b'&lt;html&gt;\\r\\n\\r\\n&lt;head&gt;\\r\\n&lt;meta http-equiv=Con...</td>\n",
       "    </tr>\n",
       "    <tr>\n",
       "      <th>3</th>\n",
       "      <td>4</td>\n",
       "      <td>H</td>\n",
       "      <td>2015E4</td>\n",
       "      <td>b'&lt;html&gt;\\r\\n\\r\\n&lt;head&gt;\\r\\n&lt;meta http-equiv=Con...</td>\n",
       "    </tr>\n",
       "    <tr>\n",
       "      <th>4</th>\n",
       "      <td>5</td>\n",
       "      <td>H</td>\n",
       "      <td>2015E4</td>\n",
       "      <td>b'&lt;html&gt;\\r\\n\\r\\n&lt;head&gt;\\r\\n&lt;meta http-equiv=Con...</td>\n",
       "    </tr>\n",
       "  </tbody>\n",
       "</table>\n",
       "</div>"
      ],
      "text/plain": [
       "   bill house session                                               text\n",
       "0     1     H  2015E4  b'<html>\\r\\n\\r\\n<head>\\r\\n<meta http-equiv=Con...\n",
       "1     2     H  2015E4  b'<html>\\r\\n\\r\\n<head>\\r\\n<meta http-equiv=Con...\n",
       "2     3     H  2015E4  b'<html>\\r\\n\\r\\n<head>\\r\\n<meta http-equiv=Con...\n",
       "3     4     H  2015E4  b'<html>\\r\\n\\r\\n<head>\\r\\n<meta http-equiv=Con...\n",
       "4     5     H  2015E4  b'<html>\\r\\n\\r\\n<head>\\r\\n<meta http-equiv=Con..."
      ]
     },
     "execution_count": 12,
     "metadata": {},
     "output_type": "execute_result"
    }
   ],
   "source": [
    "bill_texts_filed.head()"
   ]
  },
  {
   "cell_type": "markdown",
   "metadata": {},
   "source": [
    "## Extract Data"
   ]
  },
  {
   "cell_type": "code",
   "execution_count": 13,
   "metadata": {
    "collapsed": true
   },
   "outputs": [],
   "source": [
    "sample = bill_texts_filed.sample(25)"
   ]
  },
  {
   "cell_type": "code",
   "execution_count": 26,
   "metadata": {
    "collapsed": false
   },
   "outputs": [
    {
     "data": {
      "text/html": [
       "<div>\n",
       "<table border=\"1\" class=\"dataframe\">\n",
       "  <thead>\n",
       "    <tr style=\"text-align: right;\">\n",
       "      <th></th>\n",
       "      <th>bill</th>\n",
       "      <th>house</th>\n",
       "      <th>session</th>\n",
       "      <th>text</th>\n",
       "    </tr>\n",
       "  </thead>\n",
       "  <tbody>\n",
       "    <tr>\n",
       "      <th>952</th>\n",
       "      <td>908</td>\n",
       "      <td>H</td>\n",
       "      <td>2015</td>\n",
       "      <td>b'&lt;html&gt;\\r\\n\\r\\n&lt;head&gt;\\r\\n&lt;meta http-equiv=Con...</td>\n",
       "    </tr>\n",
       "    <tr>\n",
       "      <th>1850</th>\n",
       "      <td>656</td>\n",
       "      <td>S</td>\n",
       "      <td>2015</td>\n",
       "      <td>b'&lt;html&gt;\\r\\n\\r\\n&lt;head&gt;\\r\\n&lt;meta http-equiv=Con...</td>\n",
       "    </tr>\n",
       "    <tr>\n",
       "      <th>1027</th>\n",
       "      <td>983</td>\n",
       "      <td>H</td>\n",
       "      <td>2015</td>\n",
       "      <td>b'&lt;html&gt;\\r\\n\\r\\n&lt;head&gt;\\r\\n&lt;meta http-equiv=Con...</td>\n",
       "    </tr>\n",
       "    <tr>\n",
       "      <th>929</th>\n",
       "      <td>885</td>\n",
       "      <td>H</td>\n",
       "      <td>2015</td>\n",
       "      <td>b'&lt;html&gt;\\r\\n\\r\\n&lt;head&gt;\\r\\n&lt;meta http-equiv=Con...</td>\n",
       "    </tr>\n",
       "    <tr>\n",
       "      <th>1676</th>\n",
       "      <td>482</td>\n",
       "      <td>S</td>\n",
       "      <td>2015</td>\n",
       "      <td>b'&lt;html&gt;\\r\\n\\r\\n&lt;head&gt;\\r\\n&lt;meta http-equiv=Con...</td>\n",
       "    </tr>\n",
       "  </tbody>\n",
       "</table>\n",
       "</div>"
      ],
      "text/plain": [
       "      bill house session                                               text\n",
       "952    908     H    2015  b'<html>\\r\\n\\r\\n<head>\\r\\n<meta http-equiv=Con...\n",
       "1850   656     S    2015  b'<html>\\r\\n\\r\\n<head>\\r\\n<meta http-equiv=Con...\n",
       "1027   983     H    2015  b'<html>\\r\\n\\r\\n<head>\\r\\n<meta http-equiv=Con...\n",
       "929    885     H    2015  b'<html>\\r\\n\\r\\n<head>\\r\\n<meta http-equiv=Con...\n",
       "1676   482     S    2015  b'<html>\\r\\n\\r\\n<head>\\r\\n<meta http-equiv=Con..."
      ]
     },
     "execution_count": 26,
     "metadata": {},
     "output_type": "execute_result"
    }
   ],
   "source": [
    "sample.head()"
   ]
  },
  {
   "cell_type": "markdown",
   "metadata": {},
   "source": [
    "### Get some Examples"
   ]
  },
  {
   "cell_type": "code",
   "execution_count": 16,
   "metadata": {
    "collapsed": false
   },
   "outputs": [],
   "source": [
    "ht = sample.text[952]\n",
    "st = sample.text[1850]"
   ]
  },
  {
   "cell_type": "code",
   "execution_count": 17,
   "metadata": {
    "collapsed": true
   },
   "outputs": [],
   "source": [
    "hs = bs(ht, 'html.parser')\n",
    "ss = bs(st, 'html.parser')"
   ]
  },
  {
   "cell_type": "code",
   "execution_count": 18,
   "metadata": {
    "collapsed": true
   },
   "outputs": [],
   "source": [
    "hs = hs.body\n",
    "ss = ss.body"
   ]
  },
  {
   "cell_type": "code",
   "execution_count": 20,
   "metadata": {
    "collapsed": false
   },
   "outputs": [
    {
     "data": {
      "text/plain": [
       "<body lang=\"EN-US\">\n",
       "<div class=\"WordSection1\">\n",
       "<p align=\"center\" class=\"nonumber\" style=\"margin-top:24.0pt;text-align:center\"><b>GENERAL\n",
       "ASSEMBLY OF NORTH CAROLINA</b></p>\n",
       "<p align=\"center\" class=\"nonumber\" style=\"margin-top:3.0pt;margin-right:0in;\n",
       "margin-bottom:6.0pt;margin-left:0in;text-align:center\"><b>SESSION 2015</b></p>\n",
       "<p align=\"left\" class=\"nonumber\" style=\"text-align:left\"><b>H                                                                                                                                                   D</b></p>\n",
       "<p align=\"center\" class=\"nonumber\" style=\"text-align:center\"><b>HOUSE\n",
       "DRH10271-LRa-136A  (04/02)</b></p>\n",
       "<p align=\"center\" class=\"nonumber\" style=\"text-align:center\"><b> </b></p>\n",
       "<p align=\"center\" class=\"nonumber\" style=\"text-align:center\"><b> </b></p>\n",
       "<p align=\"center\" class=\"nonumber\" style=\"text-align:center\"><b> </b></p>\n",
       "<table border=\"1\" cellpadding=\"0\" cellspacing=\"0\" class=\"MsoNormalTable\" style=\"width:6.55in;border-collapse:collapse;border:none\" width=\"629\">\n",
       "<tr>\n",
       "<td colspan=\"2\" style=\"width:408.25pt;border:none;\n",
       "  border-bottom:solid windowtext 1.0pt;padding:0in .05in 0in 5.4pt\" valign=\"top\" width=\"544\">\n",
       "<p align=\"left\" class=\"nonumber\" style=\"margin-bottom:6.0pt;text-align:left\">Short\n",
       "  Title:        DEM/Emp. Retention Funds/LRC Study.</p>\n",
       "</td>\n",
       "<td style=\"width:63.35pt;border:none;border-bottom:solid windowtext 1.0pt;\n",
       "  padding:0in .05in 0in 5.4pt\" valign=\"top\" width=\"84\">\n",
       "<p align=\"right\" class=\"nonumber\" style=\"margin-bottom:6.0pt;text-align:right\">(Public)</p>\n",
       "</td>\n",
       "</tr>\n",
       "<tr>\n",
       "<td style=\"width:1.0in;border:none;border-bottom:solid windowtext 1.0pt;\n",
       "  padding:0in .05in 0in 5.4pt\" valign=\"top\" width=\"96\">\n",
       "<p align=\"left\" class=\"nonumber\" style=\"margin-top:3.0pt;margin-right:0in;\n",
       "  margin-bottom:3.0pt;margin-left:0in;text-align:left\">Sponsors:</p>\n",
       "</td>\n",
       "<td colspan=\"2\" style=\"width:5.55in;border:none;\n",
       "  border-bottom:solid windowtext 1.0pt;padding:0in .05in 0in 5.4pt\" valign=\"top\" width=\"533\">\n",
       "<p class=\"nonumber\" style=\"margin-top:3.0pt;margin-right:0in;margin-bottom:\n",
       "  3.0pt;margin-left:0in\">Representative Whitmire.</p>\n",
       "</td>\n",
       "</tr>\n",
       "<tr>\n",
       "<td style=\"width:1.0in;border:none;border-bottom:solid windowtext 1.0pt;\n",
       "  padding:0in .05in 0in 5.4pt\" valign=\"top\" width=\"96\">\n",
       "<p align=\"left\" class=\"nonumber\" style=\"margin-top:3.0pt;margin-right:0in;\n",
       "  margin-bottom:3.0pt;margin-left:0in;text-align:left\">Referred to:</p>\n",
       "</td>\n",
       "<td colspan=\"2\" style=\"width:5.55in;border:none;\n",
       "  border-bottom:solid windowtext 1.0pt;padding:0in .05in 0in 5.4pt\" valign=\"top\" width=\"533\">\n",
       "<p class=\"nonumber\" style=\"margin-top:3.0pt;margin-right:0in;margin-bottom:\n",
       "  3.0pt;margin-left:0in\"> </p>\n",
       "</td>\n",
       "</tr>\n",
       "<tr height=\"0\">\n",
       "<td style=\"border:none\" width=\"96\"></td>\n",
       "<td style=\"border:none\" width=\"448\"></td>\n",
       "<td style=\"border:none\" width=\"84\"></td>\n",
       "</tr>\n",
       "</table>\n",
       "<p align=\"left\" class=\"nonumber\" style=\"margin-top:6.0pt;text-align:left\"> </p>\n",
       "<p align=\"center\" class=\"aBase\" style=\"text-align:center\">A BILL TO BE ENTITLED</p>\n",
       "<p class=\"aLongTitle\"><span style='font-family:\"Times New Roman\",\"serif\"'>AN ACT to\n",
       "appropriate funds to the department of public safety for retention‑based\n",
       "salary adjustments for division of emergency management employees and\n",
       "authorizing the legislative research commission to review whether there should\n",
       "be established an emergency management preparedness and response fee to support\n",
       "the work of the division.</span></p>\n",
       "<p class=\"aBase\">The General Assembly of North Carolina enacts:</p>\n",
       "<p class=\"aBillSection\"><b>SECTION 1.(a)</b>  There is appropriated from the\n",
       "General Fund to the Department of Public Safety the sum of four hundred six\n",
       "thousand four hundred fifty‑nine dollars ($406,459) for the 2015‑2016\n",
       "fiscal year and the sum of four hundred six thousand four hundred fifty‑nine\n",
       "dollars ($406,459) for the 2016‑2017 fiscal year to provide salary\n",
       "adjustments for the retention of employees in the Division of Emergency\n",
       "Management.</p>\n",
       "<p class=\"aBillSection\"><b>SECTION 1.(b)</b>  This section becomes effective July\n",
       "1, 2015.</p>\n",
       "<p class=\"aBillSection\"><b>SECTION 2.</b>  The Legislative Research Commission\n",
       "shall study whether an emergency management preparedness and response fee\n",
       "should be assessed on each homeowners', mobile home owners', tenant homeowners',\n",
       "and condominium unit owners' property insurance policy issued in this State for\n",
       "the purpose of funding the operations of the Division of Emergency Management\n",
       "of the Department of Public Safety. The Legislative Research Commission may\n",
       "submit a report of its findings and recommendations to the 2015 General\n",
       "Assembly, prior to the convening of the 2016 Regular Session, by filing the\n",
       "report with the Speaker of the House of Representatives and the President Pro\n",
       "Tempore of the Senate, with a copy of the report submitted to the respective\n",
       "Chairs of the House of Representatives and Senate Appropriations Committees on\n",
       "Justice and Public Safety.</p>\n",
       "<p class=\"aBillSection\"><b>SECTION 3.</b>  This act is effective when it becomes\n",
       "law.</p>\n",
       "</div>\n",
       "</body>"
      ]
     },
     "execution_count": 20,
     "metadata": {},
     "output_type": "execute_result"
    }
   ],
   "source": [
    "hs"
   ]
  },
  {
   "cell_type": "code",
   "execution_count": 21,
   "metadata": {
    "collapsed": true
   },
   "outputs": [
    {
     "data": {
      "text/plain": [
       "<body lang=\"EN-US\">\n",
       "<div class=\"WordSection1\">\n",
       "<p align=\"center\" class=\"nonumber\" style=\"margin-top:24.0pt;text-align:center\"><b>GENERAL\n",
       "ASSEMBLY OF NORTH CAROLINA</b></p>\n",
       "<p align=\"center\" class=\"nonumber\" style=\"margin-top:3.0pt;margin-right:0in;\n",
       "margin-bottom:6.0pt;margin-left:0in;text-align:center\"><b>SESSION 2015</b></p>\n",
       "<p align=\"left\" class=\"nonumber\" style=\"text-align:left\"><b>S                                                                                                                                                    D</b></p>\n",
       "<p align=\"center\" class=\"nonumber\" style=\"text-align:center\"><b>SENATE\n",
       "DRS45321-LRf-105  (03/14)</b></p>\n",
       "<p align=\"center\" class=\"nonumber\" style=\"text-align:center\"><b> </b></p>\n",
       "<p align=\"center\" class=\"nonumber\" style=\"text-align:center\"><b> </b></p>\n",
       "<p align=\"center\" class=\"nonumber\" style=\"text-align:center\"><b> </b></p>\n",
       "<table border=\"1\" cellpadding=\"0\" cellspacing=\"0\" class=\"MsoNormalTable\" style=\"width:6.55in;border-collapse:collapse;border:none\" width=\"629\">\n",
       "<tr>\n",
       "<td colspan=\"2\" style=\"width:408.25pt;border:none;\n",
       "  border-bottom:solid windowtext 1.0pt;padding:0in .05in 0in 5.4pt\" valign=\"top\" width=\"544\">\n",
       "<p align=\"left\" class=\"nonumber\" style=\"margin-bottom:6.0pt;text-align:left\">Short\n",
       "  Title:        WC/2015 Omnibus Law Changes.</p>\n",
       "</td>\n",
       "<td style=\"width:63.35pt;border:none;border-bottom:solid windowtext 1.0pt;\n",
       "  padding:0in .05in 0in 5.4pt\" valign=\"top\" width=\"84\">\n",
       "<p align=\"right\" class=\"nonumber\" style=\"margin-bottom:6.0pt;text-align:right\">(Public)</p>\n",
       "</td>\n",
       "</tr>\n",
       "<tr>\n",
       "<td style=\"width:1.0in;border:none;border-bottom:solid windowtext 1.0pt;\n",
       "  padding:0in .05in 0in 5.4pt\" valign=\"top\" width=\"96\">\n",
       "<p align=\"left\" class=\"nonumber\" style=\"margin-top:3.0pt;margin-right:0in;\n",
       "  margin-bottom:3.0pt;margin-left:0in;text-align:left\">Sponsors:</p>\n",
       "</td>\n",
       "<td colspan=\"2\" style=\"width:5.55in;border:none;\n",
       "  border-bottom:solid windowtext 1.0pt;padding:0in .05in 0in 5.4pt\" valign=\"top\" width=\"533\">\n",
       "<p class=\"nonumber\" style=\"margin-top:3.0pt;margin-right:0in;margin-bottom:\n",
       "  3.0pt;margin-left:0in\">Senator Lee (Primary Sponsor).</p>\n",
       "</td>\n",
       "</tr>\n",
       "<tr>\n",
       "<td style=\"width:1.0in;border:none;border-bottom:solid windowtext 1.0pt;\n",
       "  padding:0in .05in 0in 5.4pt\" valign=\"top\" width=\"96\">\n",
       "<p align=\"left\" class=\"nonumber\" style=\"margin-top:3.0pt;margin-right:0in;\n",
       "  margin-bottom:3.0pt;margin-left:0in;text-align:left\">Referred to:</p>\n",
       "</td>\n",
       "<td colspan=\"2\" style=\"width:5.55in;border:none;\n",
       "  border-bottom:solid windowtext 1.0pt;padding:0in .05in 0in 5.4pt\" valign=\"top\" width=\"533\">\n",
       "<p class=\"nonumber\" style=\"margin-top:3.0pt;margin-right:0in;margin-bottom:\n",
       "  3.0pt;margin-left:0in\"> </p>\n",
       "</td>\n",
       "</tr>\n",
       "<tr height=\"0\">\n",
       "<td style=\"border:none\" width=\"96\"></td>\n",
       "<td style=\"border:none\" width=\"448\"></td>\n",
       "<td style=\"border:none\" width=\"84\"></td>\n",
       "</tr>\n",
       "</table>\n",
       "<p align=\"left\" class=\"nonumber\" style=\"margin-top:6.0pt;text-align:left\"> </p>\n",
       "<p align=\"center\" class=\"aBase\" style=\"text-align:center\">A BILL TO BE ENTITLED</p>\n",
       "<p class=\"aLongTitle\"><span style='font-family:\"Times New Roman\",\"serif\"'>AN ACT clarifying\n",
       "the authority and duties of industrial commission fraud investigators and making\n",
       "technical, conforming, and other changes to the workers' compensation laws of\n",
       "north carolina.</span></p>\n",
       "<p class=\"aBase\">The General Assembly of North Carolina enacts:</p>\n",
       "<p class=\"aBillSection\"><b>SECTION 1.(a)</b>  Article 1 of Chapter 97 of the\n",
       "General Statutes is amended by adding a new section to read:</p>\n",
       "<p class=\"aSection\"><span style=\"font-weight:normal\">\"</span><u>§ 97‑79.1. \n",
       "Authority of Industrial Commission fraud investigators; inspection of records.</u></p>\n",
       "<p class=\"aMargin1\"><u>(a)</u>        <u>The Commission shall establish a Criminal\n",
       "Investigation Unit to operate as a law enforcement agency for the enforcement\n",
       "of this Chapter. Members of the unit shall serve as fraud investigators and\n",
       "must be sworn law enforcement officers duly appointed and certified by the\n",
       "North Carolina Criminal Justice Education and Training Standards Commission.</u></p>\n",
       "<p class=\"aMargin1\"><u>(b)</u>        <u>A fraud investigator employed by the\n",
       "Commission, who has sworn the oath prescribed for a law enforcement officer, shall\n",
       "have the following authority:</u></p>\n",
       "<p class=\"aBlock1\"><u>(1)</u>        <u>To make arrests and take other\n",
       "investigatory and enforcement actions for both felonies and misdemeanors and to\n",
       "charge for infractions for violations of the laws of the State, with the\n",
       "primary responsibility of enforcing the Workers' Compensation Act.</u></p>\n",
       "<p class=\"aBlock1\"><u>(2)</u>        <u>To act as a State law enforcement officer\n",
       "with jurisdiction throughout the State.</u></p>\n",
       "<p class=\"aBlock1\"><u>(3)</u>        <u>To serve and execute orders issued by the\n",
       "Commission in connection with contempt proceedings. While serving and executing\n",
       "such an order, a fraud investigator has the same authority and power possessed\n",
       "by a local law officer or sheriff's deputy when executing an arrest warrant.</u></p>\n",
       "<p class=\"aBlock1\"><u>(4)</u>        <u>To inspect records of business kept under\n",
       "G.S. 58‑2‑185 by insurance companies, agents, or brokers doing\n",
       "any kind of business in this State involving workers' compensation.</u></p>\n",
       "<p class=\"aMargin1\"><u>(c)</u>        <u>Each insurance company, agent, or broker\n",
       "keeping records under G.S. 58‑2‑185 shall furnish copies of these\n",
       "records to the Commission's fraud investigators on demand, and the original\n",
       "books of records shall be open to the inspection of the Commissioner when\n",
       "demanded. Any person who refuses, on demand, to exhibit the records of business\n",
       "as provided by this subsection or who knowingly makes a false statement in\n",
       "regard to the records when demanded is guilty of a Class 1 misdemeanor.</u>\"</p>\n",
       "<p class=\"aBillSection\"><b>SECTION 1.(b)</b>  G.S. 143‑166.13 is amended\n",
       "by adding a new subdivision to read:</p>\n",
       "<p class=\"aBlock1\">\"<u>(20)</u>    <u>Sworn State Law‑Enforcement\n",
       "Officers with the power of arrest, Industrial Commission Fraud Investigators,\n",
       "Department of Commerce.</u>\"</p>\n",
       "<p class=\"aBillSection\"><b>SECTION 2.</b>  G.S. 97‑88.2(b) reads as\n",
       "rewritten:</p>\n",
       "<p class=\"aMargin1\">\"(b)      The Commission shall:</p>\n",
       "<p class=\"aBlock1\">(1)        Perform investigations regarding all cases of\n",
       "suspected fraud and all violations related to workers' compensation claims, by\n",
       "or against insurers or self‑funded employers, and refer possible criminal\n",
       "violations to the <s>appropriate prosecutorial authorities;</s><u>Criminal Investigation\n",
       "Unit.</u></p>\n",
       "<p class=\"aBlock1\">(2)        Conduct administrative violation proceedings; and</p>\n",
       "<p class=\"aBlock1\">(3)        Assess and collect civil penalties and restitution.</p>\n",
       "<p class=\"aMargin1\">The Commission may employ sworn law enforcement officers <s>duly\n",
       "appointed and certified through the North Carolina Criminal Justice Education\n",
       "and Training Standards Commission </s><u>pursuant to G.S. 97‑79.1 </u>to\n",
       "<u>enforce the laws and </u>conduct the investigations mandated by this <s>subsection.</s><u>section.</u>\"</p>\n",
       "<p class=\"aBillSection\"><b>SECTION 3.</b>  G.S. 97‑73(d) reads as\n",
       "rewritten:</p>\n",
       "<p class=\"aMargin1\">\"(d)      Safety. – A fee in the amount set by the Industrial\n",
       "Commission is imposed on an employer for whom the Industrial Commission\n",
       "provides an educational training program on how to prevent or reduce accidents\n",
       "or injuries that result in workers' compensation claims or a person for whom\n",
       "the Industrial Commission provides other educational services. <u>The\n",
       "Commission may set a reasonable fee imposed for a review of the safety rules. </u>The\n",
       "fees are departmental receipts.\"</p>\n",
       "<p class=\"aBillSection\"><b>SECTION 4.</b>  G.S. 97‑87(c)(5) reads as\n",
       "rewritten</p>\n",
       "<p class=\"aBlock1\">\"(5)      If any party disputes the decision of the\n",
       "Commission entered under subdivision (c)(4) of this section, the party may\n",
       "appeal to the full Commission within 10 days of the entry of the decision of\n",
       "the Commission. The nonappealing party may file a response within 10 days of\n",
       "receiving notice of appeal. The notice of appeal shall request one of the\n",
       "following:</p>\n",
       "<p class=\"aBlock2\">a.         The Commission reconsider the decision entered\n",
       "based on the record and any additional evidence that parties submit with the\n",
       "notice and response.</p>\n",
       "<p class=\"aBlock2\">b.         A de novo evidentiary hearing before the <s>full </s>Commission.\"</p>\n",
       "<p class=\"aBillSection\"><b>SECTION 5.</b>  G.S. 97‑87(c)(7) reads as\n",
       "rewritten:</p>\n",
       "<p class=\"aMargin1\">\"(c)       When an award or portion of an award provides\n",
       "for periodic payments to be made on or after the date of the award, a judgment\n",
       "may be docketed as provided in subsection (d) of this section, in an amount\n",
       "equal to the sum stated in any Certificate of Accrued Arrearages that is issued\n",
       "by the Commission under this subsection. If any payment that has accrued after\n",
       "the date of the award, or after the date specified in the most recent\n",
       "Certificate of Accrued Arrearages issued under this subsection, is not received\n",
       "by the claimant when due, the following procedure is available for obtaining a\n",
       "Certificate of Accrued Arrearages:</p>\n",
       "<p class=\"aBlock1\">…</p>\n",
       "<p class=\"aBlock1\">(7)        If a notice of appeal is given under sub‑subdivision\n",
       "(c)(5)a. of this section, the Commission shall issue its decision within 10\n",
       "days of the filing of the response under subdivision (c)(5)b. of this section.\n",
       "If a notice of appeal is given under sub‑subdivision (c)(5) of this\n",
       "section, the Commission shall either <u>(i) </u>conduct an evidentiary hearing\n",
       "and issue its decision on the appeal within 90 days of the filing of the <s>response\n",
       "</s><u>response, or when a response is due if no response is filed, </u>under\n",
       "subdivision (c)(5) of this section or <u>(ii) </u>deny the request for the\n",
       "evidentiary hearing and issue its decision within 10 days of the filing of the\n",
       "response under subdivision (c)(5) of this section. Further appeals are governed\n",
       "by G.S. 97‑86.\"</p>\n",
       "<p class=\"aBillSection\"><b>SECTION 6.</b>  G.S. 97‑92(d) reads as\n",
       "rewritten:</p>\n",
       "<p class=\"aMargin1\">\"(d)      The said report shall contain the name,\n",
       "nature, and location of the business of the employer and name, age, sex, <s>and\n",
       "wages </s><u>wages, if available, </u>and occupation of the injured employee,\n",
       "and shall state the date and hour of the accident causing injury, the nature\n",
       "and cause of the injury, and such other information as may be required by the\n",
       "Commission.\"</p>\n",
       "<p class=\"aBillSection\"><b>SECTION 7.</b>  G.S. 97‑101 reads as\n",
       "rewritten:</p>\n",
       "<p class=\"aSection\"><span style=\"font-weight:normal\">\"</span>§ 97‑101. \n",
       "Collection of fines and penalties.</p>\n",
       "<p class=\"aMargin1\">The Industrial Commission shall have the power by civil\n",
       "action brought in its own name to enforce the collection of any fines or\n",
       "penalties provided by this <s>Article, and fines or penalties collected by the\n",
       "Commission shall become a part of the maintenance fund referred to in\n",
       "subsection (j) of G.S. 97‑100.</s><u>Article.</u>\"</p>\n",
       "<p class=\"aBillSection\"><b>SECTION 8.</b>  G.S. 97‑26.2 reads as\n",
       "rewritten:</p>\n",
       "<p class=\"aSection\"><span style=\"font-weight:normal\">\"</span>§ 97‑26.2. \n",
       "Reimbursement for prescription <s>drugs </s><u>drugs, prescribed over‑the‑counter\n",
       "drugs, </u>and professional pharmaceutical services.</p>\n",
       "<p class=\"aMargin1\">(a)        The reimbursement for prescription <s>drugs </s><u>drugs,\n",
       "prescribed over‑the‑counter drugs, </u>and professional\n",
       "pharmaceutical services shall be limited to <u>no greater than </u>ninety‑five\n",
       "percent (95%) of the average wholesale price (AWP) of the product, calculated\n",
       "on a per unit basis, as of the date of dispensing.</p>\n",
       "<p class=\"aMargin1\">(b)        All of the following shall apply to the\n",
       "reimbursement for prescription drugs and professional pharmaceutical services:</p>\n",
       "<p class=\"aBlock1\">(1)        A health care provider seeking reimbursement for <s>drugs\n",
       "dispensed by a physician </s><u>health care provider dispensed prescription\n",
       "drugs, prescribed over‑the‑counter drugs, and pharmaceutical\n",
       "services </u>shall include the original manufacturer's National Drug Code (NDC)\n",
       "number, as assigned by the United States Food and Drug Administration, on <s>the\n",
       "bills and reports required by this section.</s><u>any billing documents or\n",
       "invoices issued.</u></p>\n",
       "<p class=\"aBlock1\">(2)        In no event may a <s>physician </s><u>health care\n",
       "provider </u>receive reimbursement in excess of ninety‑five percent (95%)\n",
       "of the AWP of the drugs dispensed by a <s>physician, </s><u>health care\n",
       "provider, </u>as determined by reference to the original manufacturer's NDC\n",
       "number.</p>\n",
       "<p class=\"aBlock1\">(3)        A repackaged NDC number may not be <u>individually </u>used\n",
       "<u>on any billing documents or invoices issued </u>and will not be considered\n",
       "the original manufacturer's NDC number. <u>A repackaged NDC number may only\n",
       "appear in conjunction with the manufacturer's NDC number. </u>If a health care\n",
       "provider seeking reimbursement for drugs dispensed by a <s>physician </s><u>health\n",
       "care provider </u>does not include the original manufacturer's NDC number on <s>the\n",
       "bills and reports required by this section, </s><u>any billing documents or\n",
       "invoices issued, </u>reimbursement shall be limited to one hundred percent\n",
       "(100%) of the AWP of the least expensive clinically equivalent drug, calculated\n",
       "on a per unit basis.</p>\n",
       "<p class=\"aBlock1\">(4)        No outpatient provider, other than a licensed\n",
       "pharmacy, may receive reimbursement for a Schedule II controlled substance, as\n",
       "defined in G.S. 90‑90, or a Schedule III controlled substance, as\n",
       "defined in G.S. 90‑91, <u>or a Schedule IV controlled substance, as\n",
       "defined by G.S. 90‑92, </u>dispensed in excess of an initial five‑day\n",
       "supply, commencing upon the employee's initial treatment following injury. <u>Only\n",
       "the initial health care provider providing the employee's initial treatment\n",
       "following injury may seek reimbursement for dispensing controlled substances as\n",
       "described in this section, and any subsequent dispensing of controlled\n",
       "substances by another health care provider will be ineligible for reimbursement.\n",
       "</u>Reimbursement under this subdivision shall be made for the five‑day\n",
       "supply at the rates provided in this section.</p>\n",
       "<p class=\"aBlock1\">(5)        For purposes of this section, the term \"clinically\n",
       "equivalent\" means a drug has chemical equivalents which, when administered\n",
       "in the same amounts, will provide essentially the same therapeutic effect as\n",
       "measured by the control of a symptom or disease.\"</p>\n",
       "<p class=\"aBillSection\"><b>SECTION 9.</b>  G.S. 97‑200(a) reads as\n",
       "rewritten:</p>\n",
       "<p class=\"aMargin1\">\"(a)       A self‑insurer shall not utilize any\n",
       "claims adjuster unless the adjuster is licensed under <s>G.S. 58‑33‑25.</s><u>G.S. 58‑33‑26.</u>\"</p>\n",
       "<p class=\"aBillSection\"><b>SECTION 10.</b>  This act is effective when it becomes\n",
       "law.</p>\n",
       "</div>\n",
       "</body>"
      ]
     },
     "execution_count": 21,
     "metadata": {},
     "output_type": "execute_result"
    }
   ],
   "source": [
    "ss"
   ]
  },
  {
   "cell_type": "markdown",
   "metadata": {},
   "source": [
    "### Raw Text Extraction"
   ]
  },
  {
   "cell_type": "code",
   "execution_count": 129,
   "metadata": {
    "collapsed": true
   },
   "outputs": [],
   "source": [
    "def cleanRawText(text):\n",
    "    \"\"\"\n",
    "    vtype text: str\n",
    "    \n",
    "    rtype text: str / utf8\n",
    "    \"\"\"\n",
    "    text = text.encode('ascii', 'replace')\n",
    "    text = text.replace(b'?', b'')\n",
    "    text = text.replace(b'\\r\\n', b'\\n')\n",
    "    text = text.replace(b'\\n', b' ')\n",
    "    text = text.strip()\n",
    "    text = text.decode('utf8')\n",
    "    return(text)"
   ]
  },
  {
   "cell_type": "code",
   "execution_count": 162,
   "metadata": {
    "collapsed": true
   },
   "outputs": [],
   "source": [
    "def extractRawText(body):\n",
    "    \"\"\"\n",
    "    vtype body: bs4.element.Tag\n",
    "    \n",
    "    rtype raw_text: str\n",
    "    \"\"\"\n",
    "    paras = body.find_all('p')\n",
    "    texts = [p.text for p in paras]\n",
    "    texts = [t.strip() for t in texts]\n",
    "    raw_text = '\\n\\n'.join(texts)\n",
    "    raw_text = cleanRawText(raw_text)\n",
    "    return(raw_text)"
   ]
  },
  {
   "cell_type": "code",
   "execution_count": 163,
   "metadata": {
    "collapsed": false
   },
   "outputs": [
    {
     "data": {
      "text/plain": [
       "'GENERAL ASSEMBLY OF NORTH CAROLINA  SESSION 2015  H D  HOUSE DRH10271-LRa-136A (04/02)        Short   Title: DEM/Emp. Retention Funds/LRC Study.  (Public)  Sponsors:  Representative Whitmire.  Referred to:      A BILL TO BE ENTITLED  AN ACT to appropriate funds to the department of public safety for retentionbased salary adjustments for division of emergency management employees and authorizing the legislative research commission to review whether there should be established an emergency managem'"
      ]
     },
     "execution_count": 163,
     "metadata": {},
     "output_type": "execute_result"
    }
   ],
   "source": [
    "hrt = extractRawText(hs)\n",
    "hrt[:500]"
   ]
  },
  {
   "cell_type": "code",
   "execution_count": 164,
   "metadata": {
    "collapsed": false
   },
   "outputs": [
    {
     "data": {
      "text/plain": [
       "'ided in this section.  (5) For purposes of this section, the term \"clinically equivalent\" means a drug has chemical equivalents which, when administered in the same amounts, will provide essentially the same therapeutic effect as measured by the control of a symptom or disease.\"  SECTION 9. G.S.97200(a) reads as rewritten:  \"(a) A selfinsurer shall not utilize any claims adjuster unless the adjuster is licensed under G.S.583325.G.S.583326.\"  SECTION 10. This act is effective when it becomes law.'"
      ]
     },
     "execution_count": 164,
     "metadata": {},
     "output_type": "execute_result"
    }
   ],
   "source": [
    "srt = extractRawText(ss)\n",
    "srt[-500:]"
   ]
  },
  {
   "cell_type": "code",
   "execution_count": 165,
   "metadata": {
    "collapsed": true
   },
   "outputs": [],
   "source": [
    "text = hrt"
   ]
  },
  {
   "cell_type": "code",
   "execution_count": 166,
   "metadata": {
    "collapsed": false,
    "scrolled": true
   },
   "outputs": [
    {
     "data": {
      "text/plain": [
       "b'GENERAL ASSEMBLY OF NORTH CAROLINA  SESSION 2015  H D  HOUSE DRH10271-LRa-136A (04/02)        Short   Title: DEM/Emp. Retention Funds/LRC Study.  (Public)  Sponsors:  Representative Whitmire.  Referred to:      A BILL TO BE ENTITLED  AN ACT to appropriate funds to the department of public safety for retentionbased salary adjustments for division of emergency management employees and authorizing the legislative research commission to review whether there should be established an emergency managem'"
      ]
     },
     "execution_count": 166,
     "metadata": {},
     "output_type": "execute_result"
    }
   ],
   "source": [
    "text = text.encode('ascii', 'replace')\n",
    "text[:500]"
   ]
  },
  {
   "cell_type": "code",
   "execution_count": 167,
   "metadata": {
    "collapsed": false
   },
   "outputs": [
    {
     "data": {
      "text/plain": [
       "b'GENERAL ASSEMBLY OF NORTH CAROLINA  SESSION 2015  H D  HOUSE DRH10271-LRa-136A (04/02)        Short   Title: DEM/Emp. Retention Funds/LRC Study.  (Public)  Sponsors:  Representative Whitmire.  Referred to:      A BILL TO BE ENTITLED  AN ACT to appropriate funds to the department of public safety for retentionbased salary adjustments for division of emergency management employees and authorizing the legislative research commission to review whether there should be established an emergency managem'"
      ]
     },
     "execution_count": 167,
     "metadata": {},
     "output_type": "execute_result"
    }
   ],
   "source": [
    "text = text.replace(b'?', b'')\n",
    "text[:500]"
   ]
  },
  {
   "cell_type": "code",
   "execution_count": 168,
   "metadata": {
    "collapsed": false
   },
   "outputs": [
    {
     "data": {
      "text/plain": [
       "b'GENERAL ASSEMBLY OF NORTH CAROLINA  SESSION 2015  H D  HOUSE DRH10271-LRa-136A (04/02)        Short   Title: DEM/Emp. Retention Funds/LRC Study.  (Public)  Sponsors:  Representative Whitmire.  Referred to:      A BILL TO BE ENTITLED  AN ACT to appropriate funds to the department of public safety for retentionbased salary adjustments for division of emergency management employees and authorizing the legislative research commission to review whether there should be established an emergency managem'"
      ]
     },
     "execution_count": 168,
     "metadata": {},
     "output_type": "execute_result"
    }
   ],
   "source": [
    "text = text.replace(b'\\r\\n', b'\\n')\n",
    "text[:500]"
   ]
  },
  {
   "cell_type": "code",
   "execution_count": 169,
   "metadata": {
    "collapsed": false
   },
   "outputs": [
    {
     "data": {
      "text/plain": [
       "b'GENERAL ASSEMBLY OF NORTH CAROLINA  SESSION 2015  H D  HOUSE DRH10271-LRa-136A (04/02)        Short   Title: DEM/Emp. Retention Funds/LRC Study.  (Public)  Sponsors:  Representative Whitmire.  Referred to:      A BILL TO BE ENTITLED  AN ACT to appropriate funds to the department of public safety for retentionbased salary adjustments for division of emergency management employees and authorizing the legislative research commission to review whether there should be established an emergency managem'"
      ]
     },
     "execution_count": 169,
     "metadata": {},
     "output_type": "execute_result"
    }
   ],
   "source": [
    "text = text.replace(b'\\n', b' ')\n",
    "text[:500]"
   ]
  },
  {
   "cell_type": "markdown",
   "metadata": {},
   "source": [
    "#### Test Code"
   ]
  },
  {
   "cell_type": "code",
   "execution_count": 170,
   "metadata": {
    "collapsed": false
   },
   "outputs": [
    {
     "data": {
      "text/plain": [
       "'GENERAL ASSEMBLY OF NORTH CAROLINA  SESSION 2015  H D  HOUSE DRH10271-LRa-136A (04/02)        Short   Title: DEM/Emp. Retention Funds/LRC Study.  (Public)  Sponsors:  Representative Whitmire.  Referred to:      A BILL TO BE ENTITLED  AN ACT to appropriate funds to the department of public safety for retentionbased salary adjustments for division of emergency management employees and authorizing the legislative research commission to review whether there should be established an emergency managem'"
      ]
     },
     "execution_count": 170,
     "metadata": {},
     "output_type": "execute_result"
    }
   ],
   "source": [
    "cleanRawText(extractRawText(hs))[:500]"
   ]
  },
  {
   "cell_type": "code",
   "execution_count": 171,
   "metadata": {
    "collapsed": false
   },
   "outputs": [
    {
     "data": {
      "text/plain": [
       "\"GENERAL ASSEMBLY OF NORTH CAROLINA  SESSION 2015  S D  SENATE DRS45321-LRf-105 (03/14)        Short   Title: WC/2015 Omnibus Law Changes.  (Public)  Sponsors:  Senator Lee (Primary Sponsor).  Referred to:      A BILL TO BE ENTITLED  AN ACT clarifying the authority and duties of industrial commission fraud investigators and making technical, conforming, and other changes to the workers' compensation laws of north carolina.  The General Assembly of North Carolina enacts:  SECTION 1.(a) Article 1 o\""
      ]
     },
     "execution_count": 171,
     "metadata": {},
     "output_type": "execute_result"
    }
   ],
   "source": [
    "cleanRawText(extractRawText(ss))[:500]"
   ]
  },
  {
   "cell_type": "markdown",
   "metadata": {},
   "source": [
    "### (Select) Metadata Extraction"
   ]
  },
  {
   "cell_type": "markdown",
   "metadata": {},
   "source": [
    "#### \"Long Title\" / Description"
   ]
  },
  {
   "cell_type": "code",
   "execution_count": 138,
   "metadata": {
    "collapsed": false
   },
   "outputs": [],
   "source": [
    "def extractLongTitle(body):\n",
    "    return(cleanRawText(body.find('p', {'class':'aLongTitle'}).text))"
   ]
  },
  {
   "cell_type": "code",
   "execution_count": 139,
   "metadata": {
    "collapsed": false
   },
   "outputs": [
    {
     "data": {
      "text/plain": [
       "'AN ACT to appropriate funds to the department of public safety for retentionbased salary adjustments for division of emergency management employees and authorizing the legislative research commission to review whether there should be established an emergency management preparedness and response fee to support the work of the division.'"
      ]
     },
     "execution_count": 139,
     "metadata": {},
     "output_type": "execute_result"
    }
   ],
   "source": [
    "extractLongTitle(hs)"
   ]
  },
  {
   "cell_type": "code",
   "execution_count": 140,
   "metadata": {
    "collapsed": false
   },
   "outputs": [
    {
     "data": {
      "text/plain": [
       "\"AN ACT clarifying the authority and duties of industrial commission fraud investigators and making technical, conforming, and other changes to the workers' compensation laws of north carolina.\""
      ]
     },
     "execution_count": 140,
     "metadata": {},
     "output_type": "execute_result"
    }
   ],
   "source": [
    "extractLongTitle(ss)"
   ]
  },
  {
   "cell_type": "markdown",
   "metadata": {},
   "source": [
    "#### Table Content"
   ]
  },
  {
   "cell_type": "code",
   "execution_count": 66,
   "metadata": {
    "collapsed": false
   },
   "outputs": [
    {
     "data": {
      "text/plain": [
       "[<p align=\"left\" class=\"nonumber\" style=\"margin-bottom:6.0pt;text-align:left\">Short\n",
       "   Title:        DEM/Emp. Retention Funds/LRC Study.</p>,\n",
       " <p align=\"left\" class=\"nonumber\" style=\"margin-top:3.0pt;margin-right:0in;\n",
       "   margin-bottom:3.0pt;margin-left:0in;text-align:left\">Sponsors:</p>,\n",
       " <p align=\"left\" class=\"nonumber\" style=\"margin-top:3.0pt;margin-right:0in;\n",
       "   margin-bottom:3.0pt;margin-left:0in;text-align:left\">Referred to:</p>]"
      ]
     },
     "execution_count": 66,
     "metadata": {},
     "output_type": "execute_result"
    }
   ],
   "source": [
    "[tr.find('p') for tr in hs.find('table').find_all('tr') if tr.find('p')]"
   ]
  },
  {
   "cell_type": "code",
   "execution_count": 67,
   "metadata": {
    "collapsed": false
   },
   "outputs": [
    {
     "data": {
      "text/plain": [
       "[<p align=\"left\" class=\"nonumber\" style=\"margin-bottom:6.0pt;text-align:left\">Short\n",
       "   Title:        WC/2015 Omnibus Law Changes.</p>,\n",
       " <p align=\"left\" class=\"nonumber\" style=\"margin-top:3.0pt;margin-right:0in;\n",
       "   margin-bottom:3.0pt;margin-left:0in;text-align:left\">Sponsors:</p>,\n",
       " <p align=\"left\" class=\"nonumber\" style=\"margin-top:3.0pt;margin-right:0in;\n",
       "   margin-bottom:3.0pt;margin-left:0in;text-align:left\">Referred to:</p>]"
      ]
     },
     "execution_count": 67,
     "metadata": {},
     "output_type": "execute_result"
    }
   ],
   "source": [
    "[tr.find('p') for tr in ss.find('table').find_all('tr') if tr.find('p')]"
   ]
  },
  {
   "cell_type": "code",
   "execution_count": 87,
   "metadata": {
    "collapsed": false
   },
   "outputs": [
    {
     "name": "stdout",
     "output_type": "stream",
     "text": [
      "ATTR: b'Short   Title'; VALUE: b'DEM/Emp. Retention Funds/LRC Study.  (Public) '\n",
      "ATTR: b'Sponsors'; VALUE: b' Representative Whitmire. '\n",
      "ATTR: b'Referred to'; VALUE: b'  '\n"
     ]
    }
   ],
   "source": [
    "for row in c:\n",
    "    attr = cleanRawText(row.find('p').text)\n",
    "    value = cleanRawText(row.find_all('td')[-1].text)\n",
    "    if attr.lower().startswith(b'short'):\n",
    "        d = attr.split(b': ')\n",
    "        attr = d[0]\n",
    "        value = d[1].strip() + b' ' + value\n",
    "    attr = attr.strip().strip(b':')\n",
    "    print('ATTR: {}; VALUE: {}'.format(attr, value))"
   ]
  },
  {
   "cell_type": "code",
   "execution_count": 149,
   "metadata": {
    "collapsed": true
   },
   "outputs": [],
   "source": [
    "def extractTableContent(body):\n",
    "    info = {}\n",
    "    contents = [tr for tr in body.find('table').find_all('tr') if tr.find('p')]\n",
    "    for row in contents:\n",
    "        attr = cleanRawText(row.find('p').text)\n",
    "        value = cleanRawText(row.find_all('td')[-1].text)\n",
    "        if attr.lower().startswith('short'):\n",
    "            d = attr.split(': ')\n",
    "            attr = d[0]\n",
    "            value = d[1].strip() + ' ' + value\n",
    "        attr = attr.strip().strip(':')\n",
    "        info[attr] = value\n",
    "    return(info)"
   ]
  },
  {
   "cell_type": "code",
   "execution_count": 150,
   "metadata": {
    "collapsed": false
   },
   "outputs": [
    {
     "data": {
      "text/plain": [
       "{'Referred to': '',\n",
       " 'Short   Title': 'DEM/Emp. Retention Funds/LRC Study. (Public)',\n",
       " 'Sponsors': 'Representative Whitmire.'}"
      ]
     },
     "execution_count": 150,
     "metadata": {},
     "output_type": "execute_result"
    }
   ],
   "source": [
    "extractTableContent(hs)"
   ]
  },
  {
   "cell_type": "code",
   "execution_count": 151,
   "metadata": {
    "collapsed": false
   },
   "outputs": [
    {
     "data": {
      "text/plain": [
       "{'Referred to': '',\n",
       " 'Short   Title': 'WC/2015 Omnibus Law Changes. (Public)',\n",
       " 'Sponsors': 'Senator Lee (Primary Sponsor).'}"
      ]
     },
     "execution_count": 151,
     "metadata": {},
     "output_type": "execute_result"
    }
   ],
   "source": [
    "extractTableContent(ss)"
   ]
  },
  {
   "cell_type": "markdown",
   "metadata": {},
   "source": [
    "## Test Bed"
   ]
  },
  {
   "cell_type": "code",
   "execution_count": 92,
   "metadata": {
    "collapsed": false
   },
   "outputs": [],
   "source": [
    "soups = [bs(t, 'html.parser') for t in sample.text]"
   ]
  },
  {
   "cell_type": "markdown",
   "metadata": {},
   "source": [
    "### Text"
   ]
  },
  {
   "cell_type": "code",
   "execution_count": 141,
   "metadata": {
    "collapsed": true
   },
   "outputs": [],
   "source": [
    "rts = [extractRawText(soup) for soup in soups]"
   ]
  },
  {
   "cell_type": "code",
   "execution_count": 142,
   "metadata": {
    "collapsed": false
   },
   "outputs": [],
   "source": [
    "crts = [cleanRawText(rt) for rt in rts]"
   ]
  },
  {
   "cell_type": "code",
   "execution_count": 143,
   "metadata": {
    "collapsed": false,
    "scrolled": false
   },
   "outputs": [
    {
     "name": "stdout",
     "output_type": "stream",
     "text": [
      "GENERAL ASSEMBLY OF NORTH CAROLINA  SESSION 2015  H D  HOUSE DRH10271-LRa-136A (04/02)        Short \n",
      "ions Committees on Justice and Public Safety.  SECTION 3. This act is effective when it becomes law.\n",
      "\n",
      "\n",
      "GENERAL ASSEMBLY OF NORTH CAROLINA  SESSION 2015  S D  SENATE DRS45321-LRf-105 (03/14)        Short \n",
      "er is licensed under G.S.583325.G.S.583326.\"  SECTION 10. This act is effective when it becomes law.\n",
      "\n",
      "\n",
      "GENERAL ASSEMBLY OF NORTH CAROLINA  SESSION 2015  H D  HOUSE BILL DRH10476-MGf-142 (03/14)        Sh\n",
      " (5) Any illicit spirituous liquor.  (6) Mash.\"  SECTION 6. This act becomes effective July 1, 2016.\n",
      "\n",
      "\n",
      "GENERAL ASSEMBLY OF NORTH CAROLINA  SESSION 2015  H D  HOUSE DRH10335-LR-125 (03/27)        Short   \n",
      "shall be calculated to the nearest cent (1).\"  SECTION 2. This act is effective when it becomes law.\n",
      "\n",
      "\n",
      "GENERAL ASSEMBLY OF NORTH CAROLINA  SESSION 2015  S D  SENATE DRS15195-ML-136 (03/10)        Short  \n",
      "(e), 57D941(b), (d), and (f), and 57D942(b).\"  SECTION 2. This act is effective when it becomes law.\n",
      "\n",
      "\n",
      "GENERAL ASSEMBLY OF NORTH CAROLINA  SESSION 2015  H D  HOUSE DRH20066-ST-18A (01/29)        Short   \n",
      "ecomes effective May 1, 2015, and applies to zoning ordinance changes adopted on or after that date.\n",
      "\n",
      "\n",
      "GENERAL ASSEMBLY OF NORTH CAROLINA  SESSION 2015  H D  HOUSE DRH20143-LL-147 (03/24)        Short   \n",
      " act becomes effective July 1, 2015, and applies to eligible retirees who die on or after that date.\n",
      "\n",
      "\n",
      "GENERAL ASSEMBLY OF NORTH CAROLINA  SESSION 2015  S D  SENATE DRS45308-ML-5C* (01/07)        Short  \n",
      "t becomes effective December 1, 2015, and applies to any misconduct committed on or after that date.\n",
      "\n",
      "\n",
      "GENERAL ASSEMBLY OF NORTH CAROLINA  SESSION 2015  H D  HOUSE DRH30090-LL-112 (3/4)        Short   Ti\n",
      ", 2015, and applies to persons placed on probation or postrelease supervision on or after that date.\n",
      "\n",
      "\n",
      "GENERAL ASSEMBLY OF NORTH CAROLINA  SESSION 2015  H D  HOUSE DRH40369-LR-138 (04/02)        Short   \n",
      "3. This act becomes effective January 1, 2016, and applies to sick leave used on or after that date.\n",
      "\n",
      "\n",
      "GENERAL ASSEMBLY OF NORTH CAROLINA  SESSION 2015  S D  SENATE BILL DRS15327-MLf-265A (04/26)        \n",
      " this act become effective July 1, 2016. The remainder of this act is effective when it becomes law.\n",
      "\n",
      "\n",
      "GENERAL ASSEMBLY OF NORTH CAROLINA  SESSION 2015  S D  SENATE BILL DRS25292-TAz-9A* (03/15)        S\n",
      "Human Services on or before December 1, 2016.  SECTION 3. This act is effective when it becomes law.\n",
      "\n",
      "\n",
      "GENERAL ASSEMBLY OF NORTH CAROLINA  SESSION 2015  H D  HOUSE DRH40397-MGfqq-4A* (11/10)        Short\n",
      "ately seek to become licensed under this act.  SECTION 5. This act is effective when it becomes law.\n",
      "\n",
      "\n",
      "GENERAL ASSEMBLY OF NORTH CAROLINA  SESSION 2015  H D  HOUSE DRH40096-ST-4A (10/30)        Short   T\n",
      " among the permanent records of that office.  SECTION 15. This act is effective when it becomes law.\n",
      "\n",
      "\n",
      "GENERAL ASSEMBLY OF NORTH CAROLINA  SESSION 2015  H D  HOUSE DRH20091-MC-99A* (03/09)        Short  \n",
      "e used for purposes consistent with this act.  SECTION 3. This act is effective when it becomes law.\n",
      "\n",
      "\n",
      "GENERAL ASSEMBLY OF NORTH CAROLINA  SESSION 2015  S D  SENATE BILL DRS15313-RW-18 (04/01)        Sho\n",
      "equal or greater funding from the applicant.\"  SECTION 3. This act is effective when it becomes law.\n",
      "\n",
      "\n",
      "GENERAL ASSEMBLY OF NORTH CAROLINA  SESSION 2015  H D  HOUSE BILL DRH30495-MHa-162A (01/20)        S\n",
      "4 of this act is effective July 1, 2016. The remainder of the 0act is effective when it becomes law.\n",
      "\n",
      "\n",
      "GENERAL ASSEMBLY OF NORTH CAROLINA  SESSION 2015  S D  SENATE DRS45161-MC-136 (03/17)        Short  \n",
      "ON 2. This act is effective for investments for taxable years beginning on or after January 1, 2015.\n",
      "\n",
      "\n",
      "GENERAL ASSEMBLY OF NORTH CAROLINA  SESSION 2015  H D  HOUSE DRH20101-MK-102 (03/10)        Short   \n",
      "ON 2. This act is effective when it becomes law and applies beginning with the 20152016 school year.\n",
      "\n",
      "\n",
      "GENERAL ASSEMBLY OF NORTH CAROLINA  SESSION 2015  H D  HOUSE DRH40076-LMx-21 (01/14)        Short   \n",
      " corporate limits of the Town of Maggie Valley.  SECTION 3. This act becomes effective July 1, 2015.\n",
      "\n",
      "\n",
      "GENERAL ASSEMBLY OF NORTH CAROLINA  SESSION 2015  H D  HOUSE DRH20196-LL-149 (03/25)        Short   \n",
      "h year and January 2 of each subsequent year.  SECTION 2. This act is effective when it becomes law.\n",
      "\n",
      "\n",
      "GENERAL ASSEMBLY OF NORTH CAROLINA  SESSION 2015  H D  HOUSE DRH10185-TD-13 (03/02)        Short   T\n",
      "for all other nonliquid alternative fuels.\"  SECTION 3. This section becomes effective July 1, 2015.\n",
      "\n",
      "\n",
      "GENERAL ASSEMBLY OF NORTH CAROLINA  SESSION 2015  H D  HOUSE DRH30049-MH-27 (01/20)        Short   T\n",
      "ission appointments made on or after that date. The remainder of this act is effective July 1, 2015.\n",
      "\n",
      "\n",
      "GENERAL ASSEMBLY OF NORTH CAROLINA  SESSION 2015  S D  SENATE JOINT RESOLUTION DRSJR35301-LG-117 (06\n",
      "esolution to the family of Harris Blake.  SECTION 4. This resolution is effective upon ratification.\n",
      "\n",
      "\n",
      "GENERAL ASSEMBLY OF NORTH CAROLINA  SESSION 2015  H D  HOUSE DRH30316-MLf-229 (04/06)        Short  \n",
      "rules pursuant to Section 8 of this act. The remainder of this act is effective when it becomes law.\n",
      "\n",
      "\n"
     ]
    }
   ],
   "source": [
    "for crt in crts:\n",
    "    print(crt[:100])\n",
    "    print(crt[-100:])\n",
    "    print('\\n')"
   ]
  },
  {
   "cell_type": "markdown",
   "metadata": {},
   "source": [
    "### Long Titles"
   ]
  },
  {
   "cell_type": "code",
   "execution_count": 144,
   "metadata": {
    "collapsed": true
   },
   "outputs": [],
   "source": [
    "lts = [extractLongTitle(soup) for soup in soups]"
   ]
  },
  {
   "cell_type": "code",
   "execution_count": 147,
   "metadata": {
    "collapsed": false
   },
   "outputs": [
    {
     "name": "stdout",
     "output_type": "stream",
     "text": [
      "AN ACT to appropriate funds to the department of public safety for ret\n",
      "\n",
      "\n",
      "AN ACT clarifying the authority and duties of industrial commission fr\n",
      "\n",
      "\n",
      "AN ACT ALLOWING PATIENTS WITH terminal or chronic ILLNESS TO LAWFULLY \n",
      "\n",
      "\n",
      "AN ACT to allow a local government to set the minimum wage within its \n",
      "\n",
      "\n",
      "AN ACT to make a technical and clarifying change to the limited liabil\n",
      "\n",
      "\n",
      "AN ACT to amend the process by which the city councils receive citizen\n",
      "\n",
      "\n",
      "AN ACT to increase the contributory death benefit payable on behalf of\n",
      "\n",
      "\n",
      "AN ACT to (1) prohibit the use of discriminatory profiling by law enfo\n",
      "\n",
      "\n",
      "AN ACT to amend provisions of the justice reinvestment act.\n",
      "\n",
      "\n",
      "AN ACT to enact the eligible leave for employee caregiving time act.\n",
      "\n",
      "\n",
      "AN ACT to include per transaction rates paid to license plate agency c\n",
      "\n",
      "\n",
      "AN ACT to direct the division of child development and early education\n",
      "\n",
      "\n",
      "AN ACT to establish licensure and education standards for the practice\n",
      "\n",
      "\n",
      "AN ACT to provide FOR fouryear terms for members of the general assemb\n",
      "\n",
      "\n",
      "AN ACT to enact the corner store initiative act to assist healthy food\n",
      "\n",
      "\n",
      "AN ACT to CLARIFY that the freight rail and rail crossing safety impro\n",
      "\n",
      "\n",
      "AN ACT to provide for a referendum to limit marine net fishing.\n",
      "\n",
      "\n",
      "AN ACT to reenact the tax credit for qualified business investments.\n",
      "\n",
      "\n",
      "AN ACT to allow local boards of education to set a school calendar tha\n",
      "\n",
      "\n",
      "AN ACT to remove certain described property from the corporate limits \n",
      "\n",
      "\n",
      "AN ACT TO provide that STATE WILDLIFE LAWS do not apply TO OPOSSUMS BE\n",
      "\n",
      "\n",
      "AN ACT to equalize the taxation of LIQUEFIED propane gas when used as \n",
      "\n",
      "\n",
      "AN ACT TO update the membership of the FIRE AND RESCUE COMMISSION to r\n",
      "\n",
      "\n",
      "A JOINT RESOLUTION honoring the life and memory of harris blake, forme\n",
      "\n",
      "\n",
      "AN ACT to authorize and regulate the sale of antique spirituous liquor\n",
      "\n",
      "\n"
     ]
    }
   ],
   "source": [
    "for lt in lts:\n",
    "    print(lt[:70])\n",
    "    print('\\n')"
   ]
  },
  {
   "cell_type": "markdown",
   "metadata": {},
   "source": [
    "### Info Tables"
   ]
  },
  {
   "cell_type": "code",
   "execution_count": 152,
   "metadata": {
    "collapsed": false
   },
   "outputs": [],
   "source": [
    "tabs = [extractTableContent(soup) for soup in soups]"
   ]
  },
  {
   "cell_type": "code",
   "execution_count": 154,
   "metadata": {
    "collapsed": false
   },
   "outputs": [
    {
     "name": "stdout",
     "output_type": "stream",
     "text": [
      "Representative Whitmire.\n",
      "Senator Lee (Primary Sponsor).\n",
      "Representative Alexander.\n",
      "Representative L. Hall.\n",
      "Senators Barringer and Lee (Primary Sponsors).\n",
      "Representatives Stam, Goodman, Jackson, and Fraley   (Primary Sponsors).\n",
      "Representative L. Bell.\n",
      "Senators McKissick and Bryant (Primary Sponsors).\n",
      "Representatives Faircloth, Daughtry, Boles, and Hurley   (Primary Sponsors).\n",
      "Representatives R. Turner and Meyer (Primary   Sponsors).\n",
      "Senator Tillman (Primary Sponsor).\n",
      "Senator Pate (Primary Sponsor).\n",
      "Representatives Collins and Fisher (Primary Sponsors).\n",
      "Representatives Warren, Hardister, Malone, and Glazier   (Primary Sponsors).\n",
      "Representatives Holley, Whitmire, B. Brown, and   Lambeth (Primary Sponsors).\n",
      "Senators J. Davis and Rabon (Primary Sponsors).\n",
      "Representative W. Richardson.\n",
      "Senator Lowe (Primary Sponsor).\n",
      "Representative Holloway.\n",
      "Representative Presnell.\n",
      "Representatives West, Hager, McElraft, and Lucas   (Primary Sponsors).\n",
      "Representative Collins.\n",
      "Representatives Ross, Saine, Boles, and J. Bell   (Primary Sponsors).\n",
      "Senator Tillman (Primary Sponsor).\n",
      "Representatives Hager and J. Bell (Primary Sponsors).\n"
     ]
    }
   ],
   "source": [
    "for tab in tabs:\n",
    "    print(tab['Sponsors'])"
   ]
  },
  {
   "cell_type": "code",
   "execution_count": 156,
   "metadata": {
    "collapsed": false
   },
   "outputs": [
    {
     "name": "stdout",
     "output_type": "stream",
     "text": [
      "Help on method apply in module pandas.core.frame:\n",
      "\n",
      "apply(func, axis=0, broadcast=False, raw=False, reduce=None, args=(), **kwds) method of pandas.core.frame.DataFrame instance\n",
      "    Applies function along input axis of DataFrame.\n",
      "    \n",
      "    Objects passed to functions are Series objects having index\n",
      "    either the DataFrame's index (axis=0) or the columns (axis=1).\n",
      "    Return type depends on whether passed function aggregates, or the\n",
      "    reduce argument if the DataFrame is empty.\n",
      "    \n",
      "    Parameters\n",
      "    ----------\n",
      "    func : function\n",
      "        Function to apply to each column/row\n",
      "    axis : {0 or 'index', 1 or 'columns'}, default 0\n",
      "        * 0 or 'index': apply function to each column\n",
      "        * 1 or 'columns': apply function to each row\n",
      "    broadcast : boolean, default False\n",
      "        For aggregation functions, return object of same size with values\n",
      "        propagated\n",
      "    raw : boolean, default False\n",
      "        If False, convert each row or column into a Series. If raw=True the\n",
      "        passed function will receive ndarray objects instead. If you are\n",
      "        just applying a NumPy reduction function this will achieve much\n",
      "        better performance\n",
      "    reduce : boolean or None, default None\n",
      "        Try to apply reduction procedures. If the DataFrame is empty,\n",
      "        apply will use reduce to determine whether the result should be a\n",
      "        Series or a DataFrame. If reduce is None (the default), apply's\n",
      "        return value will be guessed by calling func an empty Series (note:\n",
      "        while guessing, exceptions raised by func will be ignored). If\n",
      "        reduce is True a Series will always be returned, and if False a\n",
      "        DataFrame will always be returned.\n",
      "    args : tuple\n",
      "        Positional arguments to pass to function in addition to the\n",
      "        array/series\n",
      "    Additional keyword arguments will be passed as keywords to the function\n",
      "    \n",
      "    Notes\n",
      "    -----\n",
      "    In the current implementation apply calls func twice on the\n",
      "    first column/row to decide whether it can take a fast or slow\n",
      "    code path. This can lead to unexpected behavior if func has\n",
      "    side-effects, as they will take effect twice for the first\n",
      "    column/row.\n",
      "    \n",
      "    Examples\n",
      "    --------\n",
      "    >>> df.apply(numpy.sqrt) # returns DataFrame\n",
      "    >>> df.apply(numpy.sum, axis=0) # equiv to df.sum(0)\n",
      "    >>> df.apply(numpy.sum, axis=1) # equiv to df.sum(1)\n",
      "    \n",
      "    See also\n",
      "    --------\n",
      "    DataFrame.applymap: For elementwise operations\n",
      "    \n",
      "    Returns\n",
      "    -------\n",
      "    applied : Series or DataFrame\n",
      "\n"
     ]
    }
   ],
   "source": [
    "help(bill_texts_filed.apply)"
   ]
  },
  {
   "cell_type": "markdown",
   "metadata": {
    "collapsed": true
   },
   "source": [
    "## Process"
   ]
  },
  {
   "cell_type": "code",
   "execution_count": 158,
   "metadata": {
    "collapsed": false
   },
   "outputs": [],
   "source": [
    "bill_texts_filed['soup'] = bill_texts_filed.apply(lambda x: bs(x.text, 'html.parser'), axis=1)"
   ]
  },
  {
   "cell_type": "code",
   "execution_count": 159,
   "metadata": {
    "collapsed": false
   },
   "outputs": [
    {
     "data": {
      "text/html": [
       "<div>\n",
       "<table border=\"1\" class=\"dataframe\">\n",
       "  <thead>\n",
       "    <tr style=\"text-align: right;\">\n",
       "      <th></th>\n",
       "      <th>bill</th>\n",
       "      <th>house</th>\n",
       "      <th>session</th>\n",
       "      <th>text</th>\n",
       "      <th>soup</th>\n",
       "    </tr>\n",
       "  </thead>\n",
       "  <tbody>\n",
       "    <tr>\n",
       "      <th>0</th>\n",
       "      <td>1</td>\n",
       "      <td>H</td>\n",
       "      <td>2015E4</td>\n",
       "      <td>b'&lt;html&gt;\\r\\n\\r\\n&lt;head&gt;\\r\\n&lt;meta http-equiv=Con...</td>\n",
       "      <td>&lt;html&gt;\n",
       "&lt;head&gt;\n",
       "&lt;meta content=\"text/html; charse...</td>\n",
       "    </tr>\n",
       "    <tr>\n",
       "      <th>1</th>\n",
       "      <td>2</td>\n",
       "      <td>H</td>\n",
       "      <td>2015E4</td>\n",
       "      <td>b'&lt;html&gt;\\r\\n\\r\\n&lt;head&gt;\\r\\n&lt;meta http-equiv=Con...</td>\n",
       "      <td>&lt;html&gt;\n",
       "&lt;head&gt;\n",
       "&lt;meta content=\"text/html; charse...</td>\n",
       "    </tr>\n",
       "    <tr>\n",
       "      <th>2</th>\n",
       "      <td>3</td>\n",
       "      <td>H</td>\n",
       "      <td>2015E4</td>\n",
       "      <td>b'&lt;html&gt;\\r\\n\\r\\n&lt;head&gt;\\r\\n&lt;meta http-equiv=Con...</td>\n",
       "      <td>&lt;html&gt;\n",
       "&lt;head&gt;\n",
       "&lt;meta content=\"text/html; charse...</td>\n",
       "    </tr>\n",
       "    <tr>\n",
       "      <th>3</th>\n",
       "      <td>4</td>\n",
       "      <td>H</td>\n",
       "      <td>2015E4</td>\n",
       "      <td>b'&lt;html&gt;\\r\\n\\r\\n&lt;head&gt;\\r\\n&lt;meta http-equiv=Con...</td>\n",
       "      <td>&lt;html&gt;\n",
       "&lt;head&gt;\n",
       "&lt;meta content=\"text/html; charse...</td>\n",
       "    </tr>\n",
       "    <tr>\n",
       "      <th>4</th>\n",
       "      <td>5</td>\n",
       "      <td>H</td>\n",
       "      <td>2015E4</td>\n",
       "      <td>b'&lt;html&gt;\\r\\n\\r\\n&lt;head&gt;\\r\\n&lt;meta http-equiv=Con...</td>\n",
       "      <td>&lt;html&gt;\n",
       "&lt;head&gt;\n",
       "&lt;meta content=\"text/html; charse...</td>\n",
       "    </tr>\n",
       "  </tbody>\n",
       "</table>\n",
       "</div>"
      ],
      "text/plain": [
       "   bill house session                                               text  \\\n",
       "0     1     H  2015E4  b'<html>\\r\\n\\r\\n<head>\\r\\n<meta http-equiv=Con...   \n",
       "1     2     H  2015E4  b'<html>\\r\\n\\r\\n<head>\\r\\n<meta http-equiv=Con...   \n",
       "2     3     H  2015E4  b'<html>\\r\\n\\r\\n<head>\\r\\n<meta http-equiv=Con...   \n",
       "3     4     H  2015E4  b'<html>\\r\\n\\r\\n<head>\\r\\n<meta http-equiv=Con...   \n",
       "4     5     H  2015E4  b'<html>\\r\\n\\r\\n<head>\\r\\n<meta http-equiv=Con...   \n",
       "\n",
       "                                                soup  \n",
       "0  <html>\n",
       "<head>\n",
       "<meta content=\"text/html; charse...  \n",
       "1  <html>\n",
       "<head>\n",
       "<meta content=\"text/html; charse...  \n",
       "2  <html>\n",
       "<head>\n",
       "<meta content=\"text/html; charse...  \n",
       "3  <html>\n",
       "<head>\n",
       "<meta content=\"text/html; charse...  \n",
       "4  <html>\n",
       "<head>\n",
       "<meta content=\"text/html; charse...  "
      ]
     },
     "execution_count": 159,
     "metadata": {},
     "output_type": "execute_result"
    }
   ],
   "source": [
    "bill_texts_filed.head()"
   ]
  },
  {
   "cell_type": "code",
   "execution_count": 179,
   "metadata": {
    "collapsed": true
   },
   "outputs": [],
   "source": [
    "bill_texts_filed['content'] = bill_texts_filed.apply(lambda x: extractRawText(x['soup'].body), axis=1)"
   ]
  },
  {
   "cell_type": "code",
   "execution_count": 180,
   "metadata": {
    "collapsed": true
   },
   "outputs": [],
   "source": [
    "bill_texts_filed['long_title'] = bill_texts_filed.apply(lambda x: extractLongTitle(x['soup'].body), axis=1)"
   ]
  },
  {
   "cell_type": "code",
   "execution_count": 181,
   "metadata": {
    "collapsed": false
   },
   "outputs": [],
   "source": [
    "bill_texts_filed['table_info'] = bill_texts_filed.apply(lambda x: extractTableContent(x['soup'].body), axis=1)"
   ]
  },
  {
   "cell_type": "code",
   "execution_count": 182,
   "metadata": {
    "collapsed": false
   },
   "outputs": [
    {
     "data": {
      "text/html": [
       "<div>\n",
       "<table border=\"1\" class=\"dataframe\">\n",
       "  <thead>\n",
       "    <tr style=\"text-align: right;\">\n",
       "      <th></th>\n",
       "      <th>bill</th>\n",
       "      <th>house</th>\n",
       "      <th>session</th>\n",
       "      <th>text</th>\n",
       "      <th>soup</th>\n",
       "      <th>content</th>\n",
       "      <th>long_title</th>\n",
       "      <th>table_info</th>\n",
       "    </tr>\n",
       "  </thead>\n",
       "  <tbody>\n",
       "    <tr>\n",
       "      <th>0</th>\n",
       "      <td>1</td>\n",
       "      <td>H</td>\n",
       "      <td>2015E4</td>\n",
       "      <td>b'&lt;html&gt;\\r\\n\\r\\n&lt;head&gt;\\r\\n&lt;meta http-equiv=Con...</td>\n",
       "      <td>&lt;html&gt;\n",
       "&lt;head&gt;\n",
       "&lt;meta content=\"text/html; charse...</td>\n",
       "      <td>GENERAL ASSEMBLY OF NORTH CAROLINA  FOURTH EXT...</td>\n",
       "      <td>A HOUSE RESOLUTION adopting the permanent rule...</td>\n",
       "      <td>{'Referred to': '', 'Sponsors': 'Representativ...</td>\n",
       "    </tr>\n",
       "    <tr>\n",
       "      <th>1</th>\n",
       "      <td>2</td>\n",
       "      <td>H</td>\n",
       "      <td>2015E4</td>\n",
       "      <td>b'&lt;html&gt;\\r\\n\\r\\n&lt;head&gt;\\r\\n&lt;meta http-equiv=Con...</td>\n",
       "      <td>&lt;html&gt;\n",
       "&lt;head&gt;\n",
       "&lt;meta content=\"text/html; charse...</td>\n",
       "      <td>GENERAL ASSEMBLY OF NORTH CAROLINA  FOURTH EXT...</td>\n",
       "      <td>A JOINT RESOLUTIOn providing for adjournment s...</td>\n",
       "      <td>{'Referred to': '', 'Sponsors': 'Representativ...</td>\n",
       "    </tr>\n",
       "    <tr>\n",
       "      <th>2</th>\n",
       "      <td>3</td>\n",
       "      <td>H</td>\n",
       "      <td>2015E4</td>\n",
       "      <td>b'&lt;html&gt;\\r\\n\\r\\n&lt;head&gt;\\r\\n&lt;meta http-equiv=Con...</td>\n",
       "      <td>&lt;html&gt;\n",
       "&lt;head&gt;\n",
       "&lt;meta content=\"text/html; charse...</td>\n",
       "      <td>GENERAL ASSEMBLY OF NORTH CAROLINA  FOURTH EXT...</td>\n",
       "      <td>AN ACT to provide further REGULATORY RELIEF TO...</td>\n",
       "      <td>{'Referred to': '', 'Short   Title': 'Regulato...</td>\n",
       "    </tr>\n",
       "    <tr>\n",
       "      <th>3</th>\n",
       "      <td>4</td>\n",
       "      <td>H</td>\n",
       "      <td>2015E4</td>\n",
       "      <td>b'&lt;html&gt;\\r\\n\\r\\n&lt;head&gt;\\r\\n&lt;meta http-equiv=Con...</td>\n",
       "      <td>&lt;html&gt;\n",
       "&lt;head&gt;\n",
       "&lt;meta content=\"text/html; charse...</td>\n",
       "      <td>GENERAL ASSEMBLY OF NORTH CAROLINA  FOURTH EXT...</td>\n",
       "      <td>AN ACT directing the department of transportat...</td>\n",
       "      <td>{'Referred to': '', 'Short   Title': 'Terminat...</td>\n",
       "    </tr>\n",
       "    <tr>\n",
       "      <th>4</th>\n",
       "      <td>5</td>\n",
       "      <td>H</td>\n",
       "      <td>2015E4</td>\n",
       "      <td>b'&lt;html&gt;\\r\\n\\r\\n&lt;head&gt;\\r\\n&lt;meta http-equiv=Con...</td>\n",
       "      <td>&lt;html&gt;\n",
       "&lt;head&gt;\n",
       "&lt;meta content=\"text/html; charse...</td>\n",
       "      <td>GENERAL ASSEMBLY OF NORTH CAROLINA  FOURTH EXT...</td>\n",
       "      <td>AN ACT to clarify the service area for communi...</td>\n",
       "      <td>{'Referred to': '', 'Short   Title': 'Municipa...</td>\n",
       "    </tr>\n",
       "  </tbody>\n",
       "</table>\n",
       "</div>"
      ],
      "text/plain": [
       "   bill house session                                               text  \\\n",
       "0     1     H  2015E4  b'<html>\\r\\n\\r\\n<head>\\r\\n<meta http-equiv=Con...   \n",
       "1     2     H  2015E4  b'<html>\\r\\n\\r\\n<head>\\r\\n<meta http-equiv=Con...   \n",
       "2     3     H  2015E4  b'<html>\\r\\n\\r\\n<head>\\r\\n<meta http-equiv=Con...   \n",
       "3     4     H  2015E4  b'<html>\\r\\n\\r\\n<head>\\r\\n<meta http-equiv=Con...   \n",
       "4     5     H  2015E4  b'<html>\\r\\n\\r\\n<head>\\r\\n<meta http-equiv=Con...   \n",
       "\n",
       "                                                soup  \\\n",
       "0  <html>\n",
       "<head>\n",
       "<meta content=\"text/html; charse...   \n",
       "1  <html>\n",
       "<head>\n",
       "<meta content=\"text/html; charse...   \n",
       "2  <html>\n",
       "<head>\n",
       "<meta content=\"text/html; charse...   \n",
       "3  <html>\n",
       "<head>\n",
       "<meta content=\"text/html; charse...   \n",
       "4  <html>\n",
       "<head>\n",
       "<meta content=\"text/html; charse...   \n",
       "\n",
       "                                             content  \\\n",
       "0  GENERAL ASSEMBLY OF NORTH CAROLINA  FOURTH EXT...   \n",
       "1  GENERAL ASSEMBLY OF NORTH CAROLINA  FOURTH EXT...   \n",
       "2  GENERAL ASSEMBLY OF NORTH CAROLINA  FOURTH EXT...   \n",
       "3  GENERAL ASSEMBLY OF NORTH CAROLINA  FOURTH EXT...   \n",
       "4  GENERAL ASSEMBLY OF NORTH CAROLINA  FOURTH EXT...   \n",
       "\n",
       "                                          long_title  \\\n",
       "0  A HOUSE RESOLUTION adopting the permanent rule...   \n",
       "1  A JOINT RESOLUTIOn providing for adjournment s...   \n",
       "2  AN ACT to provide further REGULATORY RELIEF TO...   \n",
       "3  AN ACT directing the department of transportat...   \n",
       "4  AN ACT to clarify the service area for communi...   \n",
       "\n",
       "                                          table_info  \n",
       "0  {'Referred to': '', 'Sponsors': 'Representativ...  \n",
       "1  {'Referred to': '', 'Sponsors': 'Representativ...  \n",
       "2  {'Referred to': '', 'Short   Title': 'Regulato...  \n",
       "3  {'Referred to': '', 'Short   Title': 'Terminat...  \n",
       "4  {'Referred to': '', 'Short   Title': 'Municipa...  "
      ]
     },
     "execution_count": 182,
     "metadata": {},
     "output_type": "execute_result"
    }
   ],
   "source": [
    "bill_texts_filed.head()"
   ]
  },
  {
   "cell_type": "code",
   "execution_count": 183,
   "metadata": {
    "collapsed": true
   },
   "outputs": [],
   "source": [
    "bill_texts_filed_content = bill_texts_filed[['session', 'house', 'bill', 'content', 'long_title', 'table_info']]"
   ]
  },
  {
   "cell_type": "code",
   "execution_count": 184,
   "metadata": {
    "collapsed": false
   },
   "outputs": [
    {
     "data": {
      "text/html": [
       "<div>\n",
       "<table border=\"1\" class=\"dataframe\">\n",
       "  <thead>\n",
       "    <tr style=\"text-align: right;\">\n",
       "      <th></th>\n",
       "      <th>session</th>\n",
       "      <th>house</th>\n",
       "      <th>bill</th>\n",
       "      <th>content</th>\n",
       "      <th>long_title</th>\n",
       "      <th>table_info</th>\n",
       "    </tr>\n",
       "  </thead>\n",
       "  <tbody>\n",
       "    <tr>\n",
       "      <th>0</th>\n",
       "      <td>2015E4</td>\n",
       "      <td>H</td>\n",
       "      <td>1</td>\n",
       "      <td>GENERAL ASSEMBLY OF NORTH CAROLINA  FOURTH EXT...</td>\n",
       "      <td>A HOUSE RESOLUTION adopting the permanent rule...</td>\n",
       "      <td>{'Referred to': '', 'Sponsors': 'Representativ...</td>\n",
       "    </tr>\n",
       "    <tr>\n",
       "      <th>1</th>\n",
       "      <td>2015E4</td>\n",
       "      <td>H</td>\n",
       "      <td>2</td>\n",
       "      <td>GENERAL ASSEMBLY OF NORTH CAROLINA  FOURTH EXT...</td>\n",
       "      <td>A JOINT RESOLUTIOn providing for adjournment s...</td>\n",
       "      <td>{'Referred to': '', 'Sponsors': 'Representativ...</td>\n",
       "    </tr>\n",
       "    <tr>\n",
       "      <th>2</th>\n",
       "      <td>2015E4</td>\n",
       "      <td>H</td>\n",
       "      <td>3</td>\n",
       "      <td>GENERAL ASSEMBLY OF NORTH CAROLINA  FOURTH EXT...</td>\n",
       "      <td>AN ACT to provide further REGULATORY RELIEF TO...</td>\n",
       "      <td>{'Referred to': '', 'Short   Title': 'Regulato...</td>\n",
       "    </tr>\n",
       "    <tr>\n",
       "      <th>3</th>\n",
       "      <td>2015E4</td>\n",
       "      <td>H</td>\n",
       "      <td>4</td>\n",
       "      <td>GENERAL ASSEMBLY OF NORTH CAROLINA  FOURTH EXT...</td>\n",
       "      <td>AN ACT directing the department of transportat...</td>\n",
       "      <td>{'Referred to': '', 'Short   Title': 'Terminat...</td>\n",
       "    </tr>\n",
       "    <tr>\n",
       "      <th>4</th>\n",
       "      <td>2015E4</td>\n",
       "      <td>H</td>\n",
       "      <td>5</td>\n",
       "      <td>GENERAL ASSEMBLY OF NORTH CAROLINA  FOURTH EXT...</td>\n",
       "      <td>AN ACT to clarify the service area for communi...</td>\n",
       "      <td>{'Referred to': '', 'Short   Title': 'Municipa...</td>\n",
       "    </tr>\n",
       "  </tbody>\n",
       "</table>\n",
       "</div>"
      ],
      "text/plain": [
       "  session house  bill                                            content  \\\n",
       "0  2015E4     H     1  GENERAL ASSEMBLY OF NORTH CAROLINA  FOURTH EXT...   \n",
       "1  2015E4     H     2  GENERAL ASSEMBLY OF NORTH CAROLINA  FOURTH EXT...   \n",
       "2  2015E4     H     3  GENERAL ASSEMBLY OF NORTH CAROLINA  FOURTH EXT...   \n",
       "3  2015E4     H     4  GENERAL ASSEMBLY OF NORTH CAROLINA  FOURTH EXT...   \n",
       "4  2015E4     H     5  GENERAL ASSEMBLY OF NORTH CAROLINA  FOURTH EXT...   \n",
       "\n",
       "                                          long_title  \\\n",
       "0  A HOUSE RESOLUTION adopting the permanent rule...   \n",
       "1  A JOINT RESOLUTIOn providing for adjournment s...   \n",
       "2  AN ACT to provide further REGULATORY RELIEF TO...   \n",
       "3  AN ACT directing the department of transportat...   \n",
       "4  AN ACT to clarify the service area for communi...   \n",
       "\n",
       "                                          table_info  \n",
       "0  {'Referred to': '', 'Sponsors': 'Representativ...  \n",
       "1  {'Referred to': '', 'Sponsors': 'Representativ...  \n",
       "2  {'Referred to': '', 'Short   Title': 'Regulato...  \n",
       "3  {'Referred to': '', 'Short   Title': 'Terminat...  \n",
       "4  {'Referred to': '', 'Short   Title': 'Municipa...  "
      ]
     },
     "execution_count": 184,
     "metadata": {},
     "output_type": "execute_result"
    }
   ],
   "source": [
    "bill_texts_filed_content.head()"
   ]
  },
  {
   "cell_type": "code",
   "execution_count": 185,
   "metadata": {
    "collapsed": true
   },
   "outputs": [],
   "source": [
    "with open('data/bill_texts_filed_content.pkl', 'wb') as f1:\n",
    "    pickle.dump(bill_texts_filed_content, f1)"
   ]
  },
  {
   "cell_type": "code",
   "execution_count": null,
   "metadata": {
    "collapsed": true
   },
   "outputs": [],
   "source": []
  }
 ],
 "metadata": {
  "kernelspec": {
   "display_name": "Python 3",
   "language": "python",
   "name": "python3"
  },
  "language_info": {
   "codemirror_mode": {
    "name": "ipython",
    "version": 3
   },
   "file_extension": ".py",
   "mimetype": "text/x-python",
   "name": "python",
   "nbconvert_exporter": "python",
   "pygments_lexer": "ipython3",
   "version": "3.5.2"
  },
  "widgets": {
   "state": {},
   "version": "1.1.2"
  }
 },
 "nbformat": 4,
 "nbformat_minor": 2
}
