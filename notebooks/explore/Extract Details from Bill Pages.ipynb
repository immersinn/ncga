{
 "cells": [
  {
   "cell_type": "code",
   "execution_count": 2,
   "metadata": {
    "collapsed": true
   },
   "outputs": [],
   "source": [
    "import os\n",
    "import sys"
   ]
  },
  {
   "cell_type": "code",
   "execution_count": 7,
   "metadata": {
    "collapsed": false
   },
   "outputs": [],
   "source": [
    "sys.path.append(os.path.join(os.path.abspath('../..'), 'src'))"
   ]
  },
  {
   "cell_type": "code",
   "execution_count": 8,
   "metadata": {
    "collapsed": true
   },
   "outputs": [],
   "source": [
    "from bs4 import BeautifulSoup as bs"
   ]
  },
  {
   "cell_type": "code",
   "execution_count": 52,
   "metadata": {
    "collapsed": true
   },
   "outputs": [],
   "source": [
    "import mysql_utils\n",
    "import mongo_utils"
   ]
  },
  {
   "cell_type": "code",
   "execution_count": 9,
   "metadata": {
    "collapsed": true
   },
   "outputs": [],
   "source": [
    "with mongo_utils.collWithBP() as coll:\n",
    "    pdf = mongo_utils.dfDocsFromCursor(coll.find(filter = {'html' : {'$ne' : ''}}, limit=25))"
   ]
  },
  {
   "cell_type": "code",
   "execution_count": 10,
   "metadata": {
    "collapsed": true
   },
   "outputs": [],
   "source": [
    "pdf['soup'] = pdf.html.apply(lambda x: bs(x, 'html.parser'))"
   ]
  },
  {
   "cell_type": "code",
   "execution_count": 56,
   "metadata": {
    "collapsed": false
   },
   "outputs": [],
   "source": [
    "soup = pdf['soup'][0]"
   ]
  },
  {
   "cell_type": "code",
   "execution_count": 57,
   "metadata": {
    "collapsed": true
   },
   "outputs": [],
   "source": [
    "tables = soup.find_all('table')"
   ]
  },
  {
   "cell_type": "code",
   "execution_count": 58,
   "metadata": {
    "collapsed": false
   },
   "outputs": [
    {
     "data": {
      "text/plain": [
       "18"
      ]
     },
     "execution_count": 58,
     "metadata": {},
     "output_type": "execute_result"
    }
   ],
   "source": [
    "len(tables)"
   ]
  },
  {
   "cell_type": "code",
   "execution_count": 61,
   "metadata": {
    "collapsed": false
   },
   "outputs": [
    {
     "data": {
      "text/plain": [
       "<table align=\"center\" cellpadding=\"0\" cellspacing=\"0\" style=\"margin-right:0px; margin-top: 10px; margin-bottom: 10px; width: 100%;\">\n",
       "<tr>\n",
       "<td style=\"vertical-align: top; width: 35%; border: 1px solid #999;padding:0px;\">\n",
       "<table cellspacing=\"0\" style=\"width: 100%; margin: 0px; padding: 0px;\">\n",
       "<tr><td colspan=\"2\" style=\"background-color: #ced0d2; padding: 0px; text-align: center; font-weight: bold;border-bottom: 1px solid #555;border-top: 1px solid #555;\"><a href=\"/gascripts/billsummaries/billsummaries.pl?Session=2017&amp;BillID=H1\">View Available Bill Summaries</a> </td></tr>\n",
       "<tr class=\"sectionBG1\">\n",
       "<th class=\"tableHeader\" style=\"border-bottom: 1px solid #555; padding-left: 5px;\">Bill Text</th><th class=\"tableHeader\" nowrap=\"\" style=\"border-bottom: 1px solid #555;\">Fiscal Note</th>\n",
       "</tr>\n",
       "<tr>\n",
       "<td nowrap=\"\" style=\"border-bottom: 1px dotted #DCDCDC; padding-left:4px; padding-bottom:4px; vertical-align: top;\"><a href=\"/Sessions/2017/Bills/House/PDF/H1v0.pdf\">Filed</a> <span style=\"font: 9px Arial;\">[<a href=\"/Sessions/2017/Bills/House/HTML/H1v0.html\">HTML</a>]</span></td>\n",
       "<td style=\"border-bottom: 1px dotted #DCDCDC; padding-left:4px; padding-bottom:4px; vertical-align: top;\"><a href=\"\"></a><div style=\"text-align: center;\"></div><a></a></td>\n",
       "</tr>\n",
       "<tr>\n",
       "<td nowrap=\"\" style=\"border-bottom: 1px dotted #DCDCDC; padding-left:4px; padding-bottom:4px; vertical-align: top;\"><a href=\"/Sessions/2017/Bills/House/PDF/H1v1.pdf\">Edition 1</a> <span style=\"font: 9px Arial;\">[<a href=\"/Sessions/2017/Bills/House/HTML/H1v1.html\">HTML</a>]</span></td>\n",
       "<td style=\"border-bottom: 1px dotted #DCDCDC; padding-left:4px; padding-bottom:4px; vertical-align: top;\"><a href=\"\"></a><div style=\"text-align: center;\"></div><a></a></td>\n",
       "</tr>\n",
       "<tr>\n",
       "<td nowrap=\"\" style=\"padding-bottom:4px; padding-left:4px; vertical-align: top;\"><a href=\"/Sessions/2017/Bills/House/PDF/H1v2.pdf\">Adopted</a> <span style=\"font: 9px Arial;\">[<a href=\"/Sessions/2017/Bills/House/HTML/H1v2.html\">HTML</a>]</span></td>\n",
       "<td style=\"padding-bottom:4px; padding-left:4px; vertical-align: top;\"><a href=\"\"></a><div style=\"text-align: center;\"></div><a></a></td>\n",
       "</tr>\n",
       "</table>\n",
       "</td>\n",
       "<td style=\"width: 10px; padding-left: 5px; padding-right: 5px;\"> </td>\n",
       "<td style=\"vertical-align: top; width: 65%; padding-right: 10px; padding-bottom:0px; border: 1px solid #999;\">\n",
       "<table cellpadding=\"2\" cellspacing=\"0\" style=\"width: 100%;\">\n",
       "<tr>\n",
       "<td class=\"tableHeader\" style=\"background-color: #ced0d2 !important; white-space: nowrap; padding-right: 10px; border-right: 1px solid #999; padding-bottom: 10px; vertical-align: top; text-align: right;\">Last Action:</td></tr></table></td></tr></table>"
      ]
     },
     "execution_count": 61,
     "metadata": {},
     "output_type": "execute_result"
    }
   ],
   "source": [
    "t1 = \\\n",
    "soup.find('table', {'style' : \"margin-right:0px; margin-top: 10px; margin-bottom: 10px; width: 100%;\",\n",
    "                    'align' : \"center\"}\n",
    "         )\n",
    "t1"
   ]
  },
  {
   "cell_type": "markdown",
   "metadata": {},
   "source": [
    "## Metadata Stuffs"
   ]
  },
  {
   "cell_type": "code",
   "execution_count": 73,
   "metadata": {
    "collapsed": false
   },
   "outputs": [],
   "source": [
    "la_row = soup.find('td', string='Last Action:')"
   ]
  },
  {
   "cell_type": "code",
   "execution_count": 78,
   "metadata": {
    "collapsed": false
   },
   "outputs": [
    {
     "data": {
      "text/plain": [
       "<td class=\"tableText\" style=\"padding-left: 10px; padding-bottom: 10px; width: 85%; vertical-align: top;\">Adopted on 01/11/2017</td>"
      ]
     },
     "execution_count": 78,
     "metadata": {},
     "output_type": "execute_result"
    }
   ],
   "source": [
    "la_row.find_next('td', {'class' : 'tableText'})"
   ]
  },
  {
   "cell_type": "code",
   "execution_count": 83,
   "metadata": {
    "collapsed": true
   },
   "outputs": [],
   "source": [
    "tds_2_find = ['Last Action:', 'Attributes:', ]\n",
    "ths_2_find = ['Sponsors:', 'Counties:', 'Statutes:', 'Keywords:']"
   ]
  },
  {
   "cell_type": "code",
   "execution_count": 84,
   "metadata": {
    "collapsed": false
   },
   "outputs": [],
   "source": [
    "tds = soup.find_all('td')\n",
    "target_tds = [td for td in tds if td.text in tds_2_find]"
   ]
  },
  {
   "cell_type": "code",
   "execution_count": 86,
   "metadata": {
    "collapsed": false
   },
   "outputs": [],
   "source": [
    "ths = soup.find_all('th')\n",
    "target_ths = [th for th in ths if th.text in ths_2_find]"
   ]
  },
  {
   "cell_type": "code",
   "execution_count": 87,
   "metadata": {
    "collapsed": false
   },
   "outputs": [
    {
     "data": {
      "text/plain": [
       "4"
      ]
     },
     "execution_count": 87,
     "metadata": {},
     "output_type": "execute_result"
    }
   ],
   "source": [
    "len(target_ths)"
   ]
  },
  {
   "cell_type": "code",
   "execution_count": 100,
   "metadata": {
    "collapsed": false
   },
   "outputs": [],
   "source": [
    "meta = []\n",
    "for tag in target_tds:\n",
    "    label = tag.text.strip(':')\n",
    "    content = tag.find_next('td', {'class' : 'tableText'}).text\n",
    "    meta.append({'label' : label,\n",
    "                 'content' : content})\n",
    "for tag in target_ths:\n",
    "    label = tag.text.strip(':')\n",
    "    content = tag.find_next('td', {'class' : 'tableText'})\n",
    "    if label == 'Sponsors':\n",
    "        values = content.find_all('a')\n",
    "        sponsors = []\n",
    "        for v in values:\n",
    "            sponsors.append({'Name' : v.text,\n",
    "                             'Link' : v['href']})\n",
    "        content = sponsors\n",
    "    else:\n",
    "        content = content.text\n",
    "    meta.append({'label' : label,\n",
    "                 'content' : content})"
   ]
  },
  {
   "cell_type": "code",
   "execution_count": 103,
   "metadata": {
    "collapsed": false
   },
   "outputs": [
    {
     "data": {
      "text/plain": [
       "[{'content': 'Adopted on 01/11/2017', 'label': 'Last Action'},\n",
       " {'content': 'Public;       ', 'label': 'Attributes'},\n",
       " {'content': [{'Link': '/gascripts/members/viewMember.pl?sChamber=H&nUserID=389',\n",
       "    'Name': 'Lewis'}],\n",
       "  'label': 'Sponsors'},\n",
       " {'content': 'No counties specifically cited', 'label': 'Counties'},\n",
       " {'content': 'No affected General Statutes\\n', 'label': 'Statutes'},\n",
       " {'content': 'ADOPTED, GENERAL ASSEMBLY, RESOLUTIONS, SIMPLE, RULES, HOUSE & SENATE',\n",
       "  'label': 'Keywords'}]"
      ]
     },
     "execution_count": 103,
     "metadata": {},
     "output_type": "execute_result"
    }
   ],
   "source": [
    "meta"
   ]
  },
  {
   "cell_type": "code",
   "execution_count": 97,
   "metadata": {
    "collapsed": false
   },
   "outputs": [
    {
     "name": "stdout",
     "output_type": "stream",
     "text": [
      "Last Action\n",
      "\tAdopted on 01/11/2017\n",
      "Attributes\n",
      "\tPublic;       \n",
      "Sponsors\n",
      "\tLewis;   (Primary) \n",
      "Counties\n",
      "\tNo counties specifically cited\n",
      "Statutes\n",
      "\tNo affected General Statutes\n",
      "\n",
      "Keywords\n",
      "\tADOPTED, GENERAL ASSEMBLY, RESOLUTIONS, SIMPLE, RULES, HOUSE & SENATE\n"
     ]
    }
   ],
   "source": [
    "for m in meta:\n",
    "    print(m[0].text.strip(':'))\n",
    "    print('\\t' + m[1].text)"
   ]
  },
  {
   "cell_type": "code",
   "execution_count": 107,
   "metadata": {
    "collapsed": true
   },
   "outputs": [],
   "source": [
    "def get_meta(soup):\n",
    "    \n",
    "    tds_2_find = ['Last Action:', 'Attributes:', ]\n",
    "    ths_2_find = ['Sponsors:', 'Counties:', 'Statutes:', 'Keywords:']\n",
    "\n",
    "    tds = soup.find_all('td')\n",
    "    target_tds = [td for td in tds if td.text in tds_2_find]\n",
    "    \n",
    "    ths = soup.find_all('th')\n",
    "    target_ths = [th for th in ths if th.text in ths_2_find]\n",
    "    \n",
    "    meta = []\n",
    "    for tag in target_tds:\n",
    "        label = tag.text.strip(':')\n",
    "        content = tag.find_next('td', {'class' : 'tableText'}).text\n",
    "        meta.append({'label' : label,\n",
    "                     'content' : content})\n",
    "    for tag in target_ths:\n",
    "        label = tag.text.strip(':')\n",
    "        content = tag.find_next('td', {'class' : 'tableText'})\n",
    "        if label == 'Sponsors':\n",
    "            values = content.find_all('a')\n",
    "            sponsors = []\n",
    "            for v in values:\n",
    "                sponsors.append({'name' : v.text,\n",
    "                                 'link' : v['href']})\n",
    "            content = sponsors\n",
    "        else:\n",
    "            content = content.text\n",
    "        meta.append({'label' : label,\n",
    "                     'content' : content})\n",
    "    \n",
    "    return(meta)"
   ]
  },
  {
   "cell_type": "code",
   "execution_count": 108,
   "metadata": {
    "collapsed": true
   },
   "outputs": [],
   "source": [
    "pdf['meta'] = pdf.soup.apply(get_meta)"
   ]
  },
  {
   "cell_type": "code",
   "execution_count": 109,
   "metadata": {
    "collapsed": false
   },
   "outputs": [
    {
     "data": {
      "text/plain": [
       "[{'content': 'Re-ref Com On Finance on 03/08/2017', 'label': 'Last Action'},\n",
       " {'content': 'Public; Text has changed;       ', 'label': 'Attributes'},\n",
       " {'content': [{'link': '/gascripts/members/viewMember.pl?sChamber=H&nUserID=489',\n",
       "    'name': 'Dollar'},\n",
       "   {'link': '/gascripts/members/viewMember.pl?sChamber=H&nUserID=632',\n",
       "    'name': 'Saine'},\n",
       "   {'link': '/gascripts/members/viewMember.pl?sChamber=H&nUserID=645',\n",
       "    'name': 'Hardister'},\n",
       "   {'link': '/gascripts/members/viewMember.pl?sChamber=H&nUserID=658',\n",
       "    'name': 'R.\\xa0Turner'},\n",
       "   {'link': '/gascripts/members/viewMember.pl?sChamber=H&nUserID=688',\n",
       "    'name': 'Adcock'},\n",
       "   {'link': '/gascripts/members/viewMember.pl?sChamber=H&nUserID=661',\n",
       "    'name': 'J.\\xa0Bell'},\n",
       "   {'link': '/gascripts/members/viewMember.pl?sChamber=H&nUserID=690',\n",
       "    'name': 'Bradford'},\n",
       "   {'link': '/gascripts/members/viewMember.pl?sChamber=H&nUserID=691',\n",
       "    'name': 'Brockman'},\n",
       "   {'link': '/gascripts/members/viewMember.pl?sChamber=H&nUserID=582',\n",
       "    'name': 'Burr'},\n",
       "   {'link': '/gascripts/members/viewMember.pl?sChamber=H&nUserID=716',\n",
       "    'name': 'Corbin'},\n",
       "   {'link': '/gascripts/members/viewMember.pl?sChamber=H&nUserID=613',\n",
       "    'name': 'Dixon'},\n",
       "   {'link': '/gascripts/members/viewMember.pl?sChamber=H&nUserID=463',\n",
       "    'name': 'Fisher'},\n",
       "   {'link': '/gascripts/members/viewMember.pl?sChamber=H&nUserID=709',\n",
       "    'name': 'Grange'},\n",
       "   {'link': '/gascripts/members/viewMember.pl?sChamber=H&nUserID=504',\n",
       "    'name': 'Harrison'},\n",
       "   {'link': '/gascripts/members/viewMember.pl?sChamber=H&nUserID=720',\n",
       "    'name': 'Henson'},\n",
       "   {'link': '/gascripts/members/viewMember.pl?sChamber=H&nUserID=650',\n",
       "    'name': 'Holley'},\n",
       "   {'link': '/gascripts/members/viewMember.pl?sChamber=H&nUserID=560',\n",
       "    'name': 'Hurley'},\n",
       "   {'link': '/gascripts/members/viewMember.pl?sChamber=H&nUserID=598',\n",
       "    'name': 'Iler'},\n",
       "   {'link': '/gascripts/members/viewMember.pl?sChamber=H&nUserID=595',\n",
       "    'name': 'Jackson'},\n",
       "   {'link': '/gascripts/members/viewMember.pl?sChamber=H&nUserID=723',\n",
       "    'name': 'Brenden\\xa0Jones'},\n",
       "   {'link': '/gascripts/members/viewMember.pl?sChamber=H&nUserID=667',\n",
       "    'name': 'S.\\xa0Martin'},\n",
       "   {'link': '/gascripts/members/viewMember.pl?sChamber=H&nUserID=635',\n",
       "    'name': 'McNeill'},\n",
       "   {'link': '/gascripts/members/viewMember.pl?sChamber=H&nUserID=497',\n",
       "    'name': 'Pierce'},\n",
       "   {'link': '/gascripts/members/viewMember.pl?sChamber=H&nUserID=393',\n",
       "    'name': 'Sauls'},\n",
       "   {'link': '/gascripts/members/viewMember.pl?sChamber=H&nUserID=706',\n",
       "    'name': 'Stone'},\n",
       "   {'link': '/gascripts/members/viewMember.pl?sChamber=H&nUserID=727',\n",
       "    'name': 'Strickland'},\n",
       "   {'link': '/gascripts/members/viewMember.pl?sChamber=H&nUserID=696',\n",
       "    'name': 'B.\\xa0Turner'},\n",
       "   {'link': '/gascripts/members/viewMember.pl?sChamber=H&nUserID=630',\n",
       "    'name': 'Warren'},\n",
       "   {'link': '/gascripts/members/viewMember.pl?sChamber=H&nUserID=728',\n",
       "    'name': 'White'},\n",
       "   {'link': '/gascripts/members/viewMember.pl?sChamber=H&nUserID=721',\n",
       "    'name': 'Williams'}],\n",
       "  'label': 'Sponsors'},\n",
       " {'content': 'No counties specifically cited', 'label': 'Counties'},\n",
       " {'content': '105 (Chapter); 105-277.1C, 105-277.1E, 105-282.1 (Sections)',\n",
       "  'label': 'Statutes'},\n",
       " {'content': 'ARMED FORCES, EMERGENCY SERVICES, PERSONNEL, PROPERTY, PUBLIC, REAL ESTATE, TAX EXEMPTIONS, TAXATION, TAXES, PROPERTY, VETERANS',\n",
       "  'label': 'Keywords'}]"
      ]
     },
     "execution_count": 109,
     "metadata": {},
     "output_type": "execute_result"
    }
   ],
   "source": [
    "pdf['meta'][3]"
   ]
  },
  {
   "cell_type": "markdown",
   "metadata": {},
   "source": [
    "## Session & Bill Editions"
   ]
  },
  {
   "cell_type": "code",
   "execution_count": 111,
   "metadata": {
    "collapsed": false
   },
   "outputs": [
    {
     "data": {
      "text/plain": [
       "'2017-2018 Session'"
      ]
     },
     "execution_count": 111,
     "metadata": {},
     "output_type": "execute_result"
    }
   ],
   "source": [
    "session = soup.find('div', {'class' : 'titleSub'})\n",
    "session.text"
   ]
  },
  {
   "cell_type": "code",
   "execution_count": 114,
   "metadata": {
    "collapsed": false
   },
   "outputs": [],
   "source": [
    "editions_table = session.next_sibling.find('table')"
   ]
  },
  {
   "cell_type": "code",
   "execution_count": 127,
   "metadata": {
    "collapsed": false
   },
   "outputs": [],
   "source": [
    "entries = editions_table.find_all('tr')"
   ]
  },
  {
   "cell_type": "code",
   "execution_count": 128,
   "metadata": {
    "collapsed": false
   },
   "outputs": [
    {
     "data": {
      "text/plain": [
       "5"
      ]
     },
     "execution_count": 128,
     "metadata": {},
     "output_type": "execute_result"
    }
   ],
   "source": [
    "len(entries)"
   ]
  },
  {
   "cell_type": "code",
   "execution_count": null,
   "metadata": {
    "collapsed": true
   },
   "outputs": [],
   "source": [
    "bill_summaries = entries[0]"
   ]
  },
  {
   "cell_type": "code",
   "execution_count": 132,
   "metadata": {
    "collapsed": false
   },
   "outputs": [
    {
     "data": {
      "text/plain": [
       "['Bill Text', 'Fiscal Note']"
      ]
     },
     "execution_count": 132,
     "metadata": {},
     "output_type": "execute_result"
    }
   ],
   "source": [
    "header = entries[1]\n",
    "header_values = [th.text for th in header.find_all('th')]\n",
    "header_values"
   ]
  },
  {
   "cell_type": "code",
   "execution_count": 133,
   "metadata": {
    "collapsed": true
   },
   "outputs": [],
   "source": [
    "def get_edition_content(target_rows):\n",
    "\n",
    "    edition_content = []\n",
    "\n",
    "    for entry in target_rows:\n",
    "        tmp = []\n",
    "        cols = entry.find_all('td')\n",
    "        for c,h in zip(cols, header_values):\n",
    "            if h == 'Bill Text':\n",
    "                links = {'pdf' : '', 'html' : ''}\n",
    "                vals = c.find_all('a')\n",
    "                for v in vals:\n",
    "                    t = v.text.strip()\n",
    "                    link = v['href']\n",
    "                    if t.lower() == 'html':\n",
    "                        links['html'] = link\n",
    "                    else:\n",
    "                        edition = t\n",
    "                        links['pdf'] = link\n",
    "                tmp.append({'Links' : links})\n",
    "            elif h == 'Fiscal Note':\n",
    "                tmp.append({h : c.text.strip()})\n",
    "        edition_content.append({edition : tmp})\n",
    "        \n",
    "    return(edition_content)"
   ]
  },
  {
   "cell_type": "code",
   "execution_count": 134,
   "metadata": {
    "collapsed": false
   },
   "outputs": [
    {
     "data": {
      "text/plain": [
       "[{'Filed': [{'Links': {'html': '/Sessions/2017/Bills/House/HTML/H1v0.html',\n",
       "     'pdf': '/Sessions/2017/Bills/House/PDF/H1v0.pdf'}},\n",
       "   {'Fiscal Note': ''}]},\n",
       " {'Edition\\xa01': [{'Links': {'html': '/Sessions/2017/Bills/House/HTML/H1v1.html',\n",
       "     'pdf': '/Sessions/2017/Bills/House/PDF/H1v1.pdf'}},\n",
       "   {'Fiscal Note': ''}]},\n",
       " {'Adopted': [{'Links': {'html': '/Sessions/2017/Bills/House/HTML/H1v2.html',\n",
       "     'pdf': '/Sessions/2017/Bills/House/PDF/H1v2.pdf'}},\n",
       "   {'Fiscal Note': ''}]}]"
      ]
     },
     "execution_count": 134,
     "metadata": {},
     "output_type": "execute_result"
    }
   ],
   "source": [
    "edition_content"
   ]
  },
  {
   "cell_type": "code",
   "execution_count": 140,
   "metadata": {
    "collapsed": true
   },
   "outputs": [],
   "source": [
    "def get_session_and_editions(soup):\n",
    "    \n",
    "    def get_edition_content(target_rows, header_values):\n",
    "\n",
    "        edition_content = []\n",
    "\n",
    "        for entry in target_rows:\n",
    "            tmp = []\n",
    "            cols = entry.find_all('td')\n",
    "            for c,h in zip(cols, header_values):\n",
    "                if h == 'Bill Text':\n",
    "                    links = {'pdf' : '', 'html' : ''}\n",
    "                    vals = c.find_all('a')\n",
    "                    for v in vals:\n",
    "                        t = v.text.strip()\n",
    "                        link = v['href']\n",
    "                        if t.lower() == 'html':\n",
    "                            links['html'] = link\n",
    "                        else:\n",
    "                            edition = t\n",
    "                            links['pdf'] = link\n",
    "                    tmp.append({'Links' : links})\n",
    "                elif h == 'Fiscal Note':\n",
    "                    tmp.append({h : c.text.strip()})\n",
    "            edition_content.append({edition : tmp})\n",
    "\n",
    "        return(edition_content)\n",
    "\n",
    "\n",
    "    content = []\n",
    "    \n",
    "    # Session Info\n",
    "    session = soup.find('div', {'class' : 'titleSub'})\n",
    "    content.append({'label' : 'Session',\n",
    "                    'content' : session.text.strip()})\n",
    "    \n",
    "    # Bill Editions, Summary\n",
    "    editions_table = session.next_sibling.find('table')\n",
    "    entries = editions_table.find_all('tr')\n",
    "    \n",
    "    bill_summaries = entries[0]\n",
    "    content.append({'label' : 'SummaryLink',\n",
    "                    'content' : bill_summaries.find('a')['href']})\n",
    "    \n",
    "    header = entries[1]\n",
    "    header_values = [th.text for th in header.find_all('th')]    \n",
    "    edition_content = get_edition_content(entries[2:], header_values)\n",
    "    content.append({'label' : 'EditionsInfo',\n",
    "                    'content' : edition_content})\n",
    "    \n",
    "    return(content)"
   ]
  },
  {
   "cell_type": "code",
   "execution_count": 143,
   "metadata": {
    "collapsed": false
   },
   "outputs": [
    {
     "name": "stdout",
     "output_type": "stream",
     "text": [
      "Session\n",
      "\t2017-2018 Session\n",
      "SummaryLink\n",
      "\t/gascripts/billsummaries/billsummaries.pl?Session=2017&BillID=H1\n",
      "EditionsInfo\n",
      "\t[{'Filed': [{'Links': {'html': '/Sessions/2017/Bills/House/HTML/H1v0.html', 'pdf': '/Sessions/2017/Bills/House/PDF/H1v0.pdf'}}, {'Fiscal Note': ''}]}, {'Edition\\xa01': [{'Links': {'html': '/Sessions/2017/Bills/House/HTML/H1v1.html', 'pdf': '/Sessions/2017/Bills/House/PDF/H1v1.pdf'}}, {'Fiscal Note': ''}]}, {'Adopted': [{'Links': {'html': '/Sessions/2017/Bills/House/HTML/H1v2.html', 'pdf': '/Sessions/2017/Bills/House/PDF/H1v2.pdf'}}, {'Fiscal Note': ''}]}]\n"
     ]
    }
   ],
   "source": [
    "for v in get_session_and_editions(soup):\n",
    "    print(v['label'])\n",
    "    print('\\t' + str(v['content']))"
   ]
  },
  {
   "cell_type": "code",
   "execution_count": 144,
   "metadata": {
    "collapsed": true
   },
   "outputs": [],
   "source": [
    "pdf['editions'] = pdf.soup.apply(get_session_and_editions)"
   ]
  },
  {
   "cell_type": "code",
   "execution_count": 145,
   "metadata": {
    "collapsed": false
   },
   "outputs": [
    {
     "data": {
      "text/plain": [
       "[{'content': '2017-2018 Session', 'label': 'Session'},\n",
       " {'content': '/gascripts/billsummaries/billsummaries.pl?Session=2017&BillID=H1',\n",
       "  'label': 'SummaryLink'},\n",
       " {'content': [{'Filed': [{'Links': {'html': '/Sessions/2017/Bills/House/HTML/H1v0.html',\n",
       "       'pdf': '/Sessions/2017/Bills/House/PDF/H1v0.pdf'}},\n",
       "     {'Fiscal Note': ''}]},\n",
       "   {'Edition\\xa01': [{'Links': {'html': '/Sessions/2017/Bills/House/HTML/H1v1.html',\n",
       "       'pdf': '/Sessions/2017/Bills/House/PDF/H1v1.pdf'}},\n",
       "     {'Fiscal Note': ''}]},\n",
       "   {'Adopted': [{'Links': {'html': '/Sessions/2017/Bills/House/HTML/H1v2.html',\n",
       "       'pdf': '/Sessions/2017/Bills/House/PDF/H1v2.pdf'}},\n",
       "     {'Fiscal Note': ''}]}],\n",
       "  'label': 'EditionsInfo'}]"
      ]
     },
     "execution_count": 145,
     "metadata": {},
     "output_type": "execute_result"
    }
   ],
   "source": [
    "pdf['editions'][3]"
   ]
  },
  {
   "cell_type": "code",
   "execution_count": null,
   "metadata": {
    "collapsed": true
   },
   "outputs": [],
   "source": []
  }
 ],
 "metadata": {
  "kernelspec": {
   "display_name": "ncga (P3)",
   "language": "python",
   "name": "ncga (p3)"
  },
  "language_info": {
   "codemirror_mode": {
    "name": "ipython",
    "version": 3
   },
   "file_extension": ".py",
   "mimetype": "text/x-python",
   "name": "python",
   "nbconvert_exporter": "python",
   "pygments_lexer": "ipython3",
   "version": "3.5.2"
  }
 },
 "nbformat": 4,
 "nbformat_minor": 2
}
