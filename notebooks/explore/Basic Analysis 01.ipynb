{
 "cells": [
  {
   "cell_type": "code",
   "execution_count": 1,
   "metadata": {
    "collapsed": true
   },
   "outputs": [],
   "source": [
    "import pickle"
   ]
  },
  {
   "cell_type": "code",
   "execution_count": 4,
   "metadata": {
    "collapsed": true
   },
   "outputs": [],
   "source": [
    "import numpy\n",
    "import scipy\n",
    "import pandas\n",
    "import ipyparallel as ipp"
   ]
  },
  {
   "cell_type": "code",
   "execution_count": 5,
   "metadata": {
    "collapsed": false
   },
   "outputs": [
    {
     "ename": "ImportError",
     "evalue": "No module named 'spacy'",
     "output_type": "error",
     "traceback": [
      "\u001b[0;31m---------------------------------------------------------------------------\u001b[0m",
      "\u001b[0;31mImportError\u001b[0m                               Traceback (most recent call last)",
      "\u001b[0;32m<ipython-input-5-c080f6458562>\u001b[0m in \u001b[0;36m<module>\u001b[0;34m()\u001b[0m\n\u001b[0;32m----> 1\u001b[0;31m \u001b[0;32mimport\u001b[0m \u001b[0mspacy\u001b[0m\u001b[0;34m\u001b[0m\u001b[0m\n\u001b[0m",
      "\u001b[0;31mImportError\u001b[0m: No module named 'spacy'"
     ]
    }
   ],
   "source": [
    "import spacy"
   ]
  },
  {
   "cell_type": "code",
   "execution_count": 6,
   "metadata": {
    "collapsed": true
   },
   "outputs": [],
   "source": [
    "%matplotlib inline\n",
    "\n",
    "import matplotlib as mpl\n",
    "import matplotlib.pyplot as plt\n",
    "\n",
    "import seaborn as sns\n",
    "sns.set(style=\"whitegrid\", color_codes=True)"
   ]
  },
  {
   "cell_type": "markdown",
   "metadata": {},
   "source": [
    "# Load Data"
   ]
  },
  {
   "cell_type": "code",
   "execution_count": 7,
   "metadata": {
    "collapsed": true
   },
   "outputs": [],
   "source": [
    "with open('data/bill_texts_filed_content.pkl', 'rb') as f1:\n",
    "    btfc = pickle.load(f1)"
   ]
  },
  {
   "cell_type": "code",
   "execution_count": 8,
   "metadata": {
    "collapsed": true
   },
   "outputs": [],
   "source": [
    "with open('data/bill_page_keywords.pkl', 'rb') as f1:\n",
    "    keywords = pickle.load(f1)"
   ]
  },
  {
   "cell_type": "code",
   "execution_count": 9,
   "metadata": {
    "collapsed": false
   },
   "outputs": [
    {
     "data": {
      "text/html": [
       "<div>\n",
       "<table border=\"1\" class=\"dataframe\">\n",
       "  <thead>\n",
       "    <tr style=\"text-align: right;\">\n",
       "      <th></th>\n",
       "      <th>session</th>\n",
       "      <th>house</th>\n",
       "      <th>bill</th>\n",
       "      <th>content</th>\n",
       "      <th>long_title</th>\n",
       "      <th>table_info</th>\n",
       "    </tr>\n",
       "  </thead>\n",
       "  <tbody>\n",
       "    <tr>\n",
       "      <th>0</th>\n",
       "      <td>2015E4</td>\n",
       "      <td>H</td>\n",
       "      <td>1</td>\n",
       "      <td>GENERAL ASSEMBLY OF NORTH CAROLINA  FOURTH EXT...</td>\n",
       "      <td>A HOUSE RESOLUTION adopting the permanent rule...</td>\n",
       "      <td>{'Sponsors': 'Representative Lewis.', 'Referre...</td>\n",
       "    </tr>\n",
       "    <tr>\n",
       "      <th>1</th>\n",
       "      <td>2015E4</td>\n",
       "      <td>H</td>\n",
       "      <td>2</td>\n",
       "      <td>GENERAL ASSEMBLY OF NORTH CAROLINA  FOURTH EXT...</td>\n",
       "      <td>A JOINT RESOLUTIOn providing for adjournment s...</td>\n",
       "      <td>{'Sponsors': 'Representative Lewis.', 'Referre...</td>\n",
       "    </tr>\n",
       "    <tr>\n",
       "      <th>2</th>\n",
       "      <td>2015E4</td>\n",
       "      <td>H</td>\n",
       "      <td>3</td>\n",
       "      <td>GENERAL ASSEMBLY OF NORTH CAROLINA  FOURTH EXT...</td>\n",
       "      <td>AN ACT to provide further REGULATORY RELIEF TO...</td>\n",
       "      <td>{'Short   Title': 'Regulatory Reform Act of 20...</td>\n",
       "    </tr>\n",
       "    <tr>\n",
       "      <th>3</th>\n",
       "      <td>2015E4</td>\n",
       "      <td>H</td>\n",
       "      <td>4</td>\n",
       "      <td>GENERAL ASSEMBLY OF NORTH CAROLINA  FOURTH EXT...</td>\n",
       "      <td>AN ACT directing the department of transportat...</td>\n",
       "      <td>{'Short   Title': 'Terminate Agreement for Tol...</td>\n",
       "    </tr>\n",
       "    <tr>\n",
       "      <th>4</th>\n",
       "      <td>2015E4</td>\n",
       "      <td>H</td>\n",
       "      <td>5</td>\n",
       "      <td>GENERAL ASSEMBLY OF NORTH CAROLINA  FOURTH EXT...</td>\n",
       "      <td>AN ACT to clarify the service area for communi...</td>\n",
       "      <td>{'Short   Title': 'Municipal Broadband Service...</td>\n",
       "    </tr>\n",
       "  </tbody>\n",
       "</table>\n",
       "</div>"
      ],
      "text/plain": [
       "  session house  bill                                            content  \\\n",
       "0  2015E4     H     1  GENERAL ASSEMBLY OF NORTH CAROLINA  FOURTH EXT...   \n",
       "1  2015E4     H     2  GENERAL ASSEMBLY OF NORTH CAROLINA  FOURTH EXT...   \n",
       "2  2015E4     H     3  GENERAL ASSEMBLY OF NORTH CAROLINA  FOURTH EXT...   \n",
       "3  2015E4     H     4  GENERAL ASSEMBLY OF NORTH CAROLINA  FOURTH EXT...   \n",
       "4  2015E4     H     5  GENERAL ASSEMBLY OF NORTH CAROLINA  FOURTH EXT...   \n",
       "\n",
       "                                          long_title  \\\n",
       "0  A HOUSE RESOLUTION adopting the permanent rule...   \n",
       "1  A JOINT RESOLUTIOn providing for adjournment s...   \n",
       "2  AN ACT to provide further REGULATORY RELIEF TO...   \n",
       "3  AN ACT directing the department of transportat...   \n",
       "4  AN ACT to clarify the service area for communi...   \n",
       "\n",
       "                                          table_info  \n",
       "0  {'Sponsors': 'Representative Lewis.', 'Referre...  \n",
       "1  {'Sponsors': 'Representative Lewis.', 'Referre...  \n",
       "2  {'Short   Title': 'Regulatory Reform Act of 20...  \n",
       "3  {'Short   Title': 'Terminate Agreement for Tol...  \n",
       "4  {'Short   Title': 'Municipal Broadband Service...  "
      ]
     },
     "execution_count": 9,
     "metadata": {},
     "output_type": "execute_result"
    }
   ],
   "source": [
    "btfc.head()"
   ]
  },
  {
   "cell_type": "code",
   "execution_count": 10,
   "metadata": {
    "collapsed": false
   },
   "outputs": [
    {
     "data": {
      "text/html": [
       "<div>\n",
       "<table border=\"1\" class=\"dataframe\">\n",
       "  <thead>\n",
       "    <tr style=\"text-align: right;\">\n",
       "      <th></th>\n",
       "      <th>bill</th>\n",
       "      <th>house</th>\n",
       "      <th>session</th>\n",
       "      <th>keywords</th>\n",
       "    </tr>\n",
       "  </thead>\n",
       "  <tbody>\n",
       "    <tr>\n",
       "      <th>0</th>\n",
       "      <td>1</td>\n",
       "      <td>H</td>\n",
       "      <td>2015E4</td>\n",
       "      <td>[ADOPTED, GENERAL ASSEMBLY, RESOLUTIONS, SIMPL...</td>\n",
       "    </tr>\n",
       "    <tr>\n",
       "      <th>1</th>\n",
       "      <td>2</td>\n",
       "      <td>H</td>\n",
       "      <td>2015E4</td>\n",
       "      <td>[ADJOURNMENT, GENERAL ASSEMBLY, RESOLUTIONS, J...</td>\n",
       "    </tr>\n",
       "    <tr>\n",
       "      <th>2</th>\n",
       "      <td>3</td>\n",
       "      <td>H</td>\n",
       "      <td>2015E4</td>\n",
       "      <td>[ADMINISTRATION DEPT., ADMINISTRATIVE CODE, AD...</td>\n",
       "    </tr>\n",
       "    <tr>\n",
       "      <th>3</th>\n",
       "      <td>4</td>\n",
       "      <td>H</td>\n",
       "      <td>2015E4</td>\n",
       "      <td>[BRIDGES, CONTRACTS, COUNTIES, INFRASTRUCTURE,...</td>\n",
       "    </tr>\n",
       "    <tr>\n",
       "      <th>4</th>\n",
       "      <td>5</td>\n",
       "      <td>H</td>\n",
       "      <td>2015E4</td>\n",
       "      <td>[COUNTIES, EDGECOMBE COUNTY, INFORMATION TECHN...</td>\n",
       "    </tr>\n",
       "  </tbody>\n",
       "</table>\n",
       "</div>"
      ],
      "text/plain": [
       "   bill house session                                           keywords\n",
       "0     1     H  2015E4  [ADOPTED, GENERAL ASSEMBLY, RESOLUTIONS, SIMPL...\n",
       "1     2     H  2015E4  [ADJOURNMENT, GENERAL ASSEMBLY, RESOLUTIONS, J...\n",
       "2     3     H  2015E4  [ADMINISTRATION DEPT., ADMINISTRATIVE CODE, AD...\n",
       "3     4     H  2015E4  [BRIDGES, CONTRACTS, COUNTIES, INFRASTRUCTURE,...\n",
       "4     5     H  2015E4  [COUNTIES, EDGECOMBE COUNTY, INFORMATION TECHN..."
      ]
     },
     "execution_count": 10,
     "metadata": {},
     "output_type": "execute_result"
    }
   ],
   "source": [
    "keywords.head()"
   ]
  },
  {
   "cell_type": "code",
   "execution_count": null,
   "metadata": {
    "collapsed": true
   },
   "outputs": [],
   "source": []
  }
 ],
 "metadata": {
  "kernelspec": {
   "display_name": "Python 3",
   "language": "python",
   "name": "python3"
  },
  "language_info": {
   "codemirror_mode": {
    "name": "ipython",
    "version": 3
   },
   "file_extension": ".py",
   "mimetype": "text/x-python",
   "name": "python",
   "nbconvert_exporter": "python",
   "pygments_lexer": "ipython3",
   "version": "3.5.2"
  },
  "widgets": {
   "state": {},
   "version": "1.1.2"
  }
 },
 "nbformat": 4,
 "nbformat_minor": 2
}
