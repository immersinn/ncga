{
 "cells": [
  {
   "cell_type": "code",
   "execution_count": 1,
   "metadata": {
    "collapsed": true
   },
   "outputs": [],
   "source": [
    "import numpy\n",
    "import scipy\n",
    "import pandas"
   ]
  },
  {
   "cell_type": "code",
   "execution_count": 2,
   "metadata": {
    "collapsed": false
   },
   "outputs": [],
   "source": [
    "import matplotlib as mpl\n",
    "import matplotlib.pyplot as plt\n",
    "\n",
    "import seaborn as sns\n",
    "sns.set(style=\"whitegrid\", color_codes=True)\n",
    "\n",
    "%matplotlib inline"
   ]
  },
  {
   "cell_type": "code",
   "execution_count": 3,
   "metadata": {
    "collapsed": false
   },
   "outputs": [],
   "source": [
    "sys.path.append(os.path.join(os.path.abspath('../..'), 'src'))\n",
    "sys.path.append(os.path.join(os.path.abspath('../..'), 'data'))"
   ]
  },
  {
   "cell_type": "code",
   "execution_count": 4,
   "metadata": {
    "collapsed": true
   },
   "outputs": [],
   "source": [
    "from importlib import reload"
   ]
  },
  {
   "cell_type": "code",
   "execution_count": 5,
   "metadata": {
    "collapsed": true
   },
   "outputs": [],
   "source": [
    "import utils"
   ]
  },
  {
   "cell_type": "code",
   "execution_count": 110,
   "metadata": {
    "collapsed": false
   },
   "outputs": [
    {
     "data": {
      "text/plain": [
       "<module 'utils' from '/home/immersinn/gits/ncga/src/utils.py'>"
      ]
     },
     "execution_count": 110,
     "metadata": {},
     "output_type": "execute_result"
    }
   ],
   "source": [
    "reload(utils)"
   ]
  },
  {
   "cell_type": "code",
   "execution_count": 113,
   "metadata": {
    "collapsed": false
   },
   "outputs": [],
   "source": [
    "all_reps = utils.load_repr_data('2014')"
   ]
  },
  {
   "cell_type": "code",
   "execution_count": 114,
   "metadata": {
    "collapsed": false
   },
   "outputs": [
    {
     "data": {
      "text/plain": [
       "(182, 6)"
      ]
     },
     "execution_count": 114,
     "metadata": {},
     "output_type": "execute_result"
    }
   ],
   "source": [
    "all_reps.shape"
   ]
  },
  {
   "cell_type": "code",
   "execution_count": 115,
   "metadata": {
    "collapsed": false
   },
   "outputs": [
    {
     "data": {
      "text/html": [
       "<div>\n",
       "<table border=\"1\" class=\"dataframe\">\n",
       "  <thead>\n",
       "    <tr style=\"text-align: right;\">\n",
       "      <th></th>\n",
       "      <th>District</th>\n",
       "      <th>Session</th>\n",
       "      <th>Chamber</th>\n",
       "      <th>Name</th>\n",
       "      <th>Party</th>\n",
       "      <th>Incombant</th>\n",
       "    </tr>\n",
       "  </thead>\n",
       "  <tbody>\n",
       "    <tr>\n",
       "      <th>0</th>\n",
       "      <td>1</td>\n",
       "      <td>2014</td>\n",
       "      <td>S</td>\n",
       "      <td>Bill Cook</td>\n",
       "      <td>R</td>\n",
       "      <td>NA</td>\n",
       "    </tr>\n",
       "    <tr>\n",
       "      <th>1</th>\n",
       "      <td>2</td>\n",
       "      <td>2014</td>\n",
       "      <td>S</td>\n",
       "      <td>Norman Sanderson</td>\n",
       "      <td>R</td>\n",
       "      <td>NA</td>\n",
       "    </tr>\n",
       "    <tr>\n",
       "      <th>2</th>\n",
       "      <td>3</td>\n",
       "      <td>2014</td>\n",
       "      <td>S</td>\n",
       "      <td>Erica Smith-Ingram</td>\n",
       "      <td>D</td>\n",
       "      <td>NA</td>\n",
       "    </tr>\n",
       "    <tr>\n",
       "      <th>3</th>\n",
       "      <td>4</td>\n",
       "      <td>2014</td>\n",
       "      <td>S</td>\n",
       "      <td>Angela Bryant</td>\n",
       "      <td>D</td>\n",
       "      <td>NA</td>\n",
       "    </tr>\n",
       "    <tr>\n",
       "      <th>4</th>\n",
       "      <td>5</td>\n",
       "      <td>2014</td>\n",
       "      <td>S</td>\n",
       "      <td>Donald Davis</td>\n",
       "      <td>D</td>\n",
       "      <td>NA</td>\n",
       "    </tr>\n",
       "  </tbody>\n",
       "</table>\n",
       "</div>"
      ],
      "text/plain": [
       "  District Session Chamber                Name Party Incombant\n",
       "0        1    2014       S           Bill Cook     R        NA\n",
       "1        2    2014       S    Norman Sanderson     R        NA\n",
       "2        3    2014       S  Erica Smith-Ingram     D        NA\n",
       "3        4    2014       S       Angela Bryant     D        NA\n",
       "4        5    2014       S        Donald Davis     D        NA"
      ]
     },
     "execution_count": 115,
     "metadata": {},
     "output_type": "execute_result"
    }
   ],
   "source": [
    "all_reps.head()"
   ]
  },
  {
   "cell_type": "code",
   "execution_count": 98,
   "metadata": {
    "collapsed": true
   },
   "outputs": [],
   "source": [
    "btfc = utils.load_filed_bill_data()"
   ]
  },
  {
   "cell_type": "code",
   "execution_count": 99,
   "metadata": {
    "collapsed": false
   },
   "outputs": [
    {
     "data": {
      "text/html": [
       "<div>\n",
       "<table border=\"1\" class=\"dataframe\">\n",
       "  <thead>\n",
       "    <tr style=\"text-align: right;\">\n",
       "      <th></th>\n",
       "      <th>session</th>\n",
       "      <th>house</th>\n",
       "      <th>bill</th>\n",
       "      <th>content</th>\n",
       "      <th>long_title</th>\n",
       "      <th>table_info</th>\n",
       "      <th>keywords</th>\n",
       "    </tr>\n",
       "  </thead>\n",
       "  <tbody>\n",
       "    <tr>\n",
       "      <th>0</th>\n",
       "      <td>2015E4</td>\n",
       "      <td>H</td>\n",
       "      <td>1</td>\n",
       "      <td>GENERAL ASSEMBLY OF NORTH CAROLINA  FOURTH EXT...</td>\n",
       "      <td>A HOUSE RESOLUTION adopting the permanent rule...</td>\n",
       "      <td>{'Sponsors': 'Representative Lewis.', 'Referre...</td>\n",
       "      <td>[ADOPTED, GENERAL ASSEMBLY, RESOLUTIONS, SIMPL...</td>\n",
       "    </tr>\n",
       "    <tr>\n",
       "      <th>1</th>\n",
       "      <td>2015E4</td>\n",
       "      <td>H</td>\n",
       "      <td>2</td>\n",
       "      <td>GENERAL ASSEMBLY OF NORTH CAROLINA  FOURTH EXT...</td>\n",
       "      <td>A JOINT RESOLUTIOn providing for adjournment s...</td>\n",
       "      <td>{'Sponsors': 'Representative Lewis.', 'Referre...</td>\n",
       "      <td>[ADJOURNMENT, GENERAL ASSEMBLY, RESOLUTIONS, J...</td>\n",
       "    </tr>\n",
       "    <tr>\n",
       "      <th>2</th>\n",
       "      <td>2015E4</td>\n",
       "      <td>H</td>\n",
       "      <td>3</td>\n",
       "      <td>GENERAL ASSEMBLY OF NORTH CAROLINA  FOURTH EXT...</td>\n",
       "      <td>AN ACT to provide further REGULATORY RELIEF TO...</td>\n",
       "      <td>{'Sponsors': 'Representatives McGrady and Dixo...</td>\n",
       "      <td>[ADMINISTRATION DEPT., ADMINISTRATIVE CODE, AD...</td>\n",
       "    </tr>\n",
       "    <tr>\n",
       "      <th>3</th>\n",
       "      <td>2015E4</td>\n",
       "      <td>H</td>\n",
       "      <td>4</td>\n",
       "      <td>GENERAL ASSEMBLY OF NORTH CAROLINA  FOURTH EXT...</td>\n",
       "      <td>AN ACT directing the department of transportat...</td>\n",
       "      <td>{'Sponsors': 'Representatives Cotham, Bradford...</td>\n",
       "      <td>[BRIDGES, CONTRACTS, COUNTIES, INFRASTRUCTURE,...</td>\n",
       "    </tr>\n",
       "    <tr>\n",
       "      <th>4</th>\n",
       "      <td>2015E4</td>\n",
       "      <td>H</td>\n",
       "      <td>5</td>\n",
       "      <td>GENERAL ASSEMBLY OF NORTH CAROLINA  FOURTH EXT...</td>\n",
       "      <td>AN ACT to clarify the service area for communi...</td>\n",
       "      <td>{'Sponsors': 'Representative S. Martin.', 'Ref...</td>\n",
       "      <td>[COUNTIES, EDGECOMBE COUNTY, INFORMATION TECHN...</td>\n",
       "    </tr>\n",
       "  </tbody>\n",
       "</table>\n",
       "</div>"
      ],
      "text/plain": [
       "  session house  bill                                            content  \\\n",
       "0  2015E4     H     1  GENERAL ASSEMBLY OF NORTH CAROLINA  FOURTH EXT...   \n",
       "1  2015E4     H     2  GENERAL ASSEMBLY OF NORTH CAROLINA  FOURTH EXT...   \n",
       "2  2015E4     H     3  GENERAL ASSEMBLY OF NORTH CAROLINA  FOURTH EXT...   \n",
       "3  2015E4     H     4  GENERAL ASSEMBLY OF NORTH CAROLINA  FOURTH EXT...   \n",
       "4  2015E4     H     5  GENERAL ASSEMBLY OF NORTH CAROLINA  FOURTH EXT...   \n",
       "\n",
       "                                          long_title  \\\n",
       "0  A HOUSE RESOLUTION adopting the permanent rule...   \n",
       "1  A JOINT RESOLUTIOn providing for adjournment s...   \n",
       "2  AN ACT to provide further REGULATORY RELIEF TO...   \n",
       "3  AN ACT directing the department of transportat...   \n",
       "4  AN ACT to clarify the service area for communi...   \n",
       "\n",
       "                                          table_info  \\\n",
       "0  {'Sponsors': 'Representative Lewis.', 'Referre...   \n",
       "1  {'Sponsors': 'Representative Lewis.', 'Referre...   \n",
       "2  {'Sponsors': 'Representatives McGrady and Dixo...   \n",
       "3  {'Sponsors': 'Representatives Cotham, Bradford...   \n",
       "4  {'Sponsors': 'Representative S. Martin.', 'Ref...   \n",
       "\n",
       "                                            keywords  \n",
       "0  [ADOPTED, GENERAL ASSEMBLY, RESOLUTIONS, SIMPL...  \n",
       "1  [ADJOURNMENT, GENERAL ASSEMBLY, RESOLUTIONS, J...  \n",
       "2  [ADMINISTRATION DEPT., ADMINISTRATIVE CODE, AD...  \n",
       "3  [BRIDGES, CONTRACTS, COUNTIES, INFRASTRUCTURE,...  \n",
       "4  [COUNTIES, EDGECOMBE COUNTY, INFORMATION TECHN...  "
      ]
     },
     "execution_count": 99,
     "metadata": {},
     "output_type": "execute_result"
    }
   ],
   "source": [
    "btfc.head()"
   ]
  },
  {
   "cell_type": "code",
   "execution_count": 100,
   "metadata": {
    "collapsed": false
   },
   "outputs": [
    {
     "data": {
      "text/plain": [
       "(2098, 7)"
      ]
     },
     "execution_count": 100,
     "metadata": {},
     "output_type": "execute_result"
    }
   ],
   "source": [
    "btfc.shape"
   ]
  },
  {
   "cell_type": "markdown",
   "metadata": {},
   "source": [
    "## Sponsor Names from Bill Info"
   ]
  },
  {
   "cell_type": "code",
   "execution_count": 60,
   "metadata": {
    "collapsed": true
   },
   "outputs": [],
   "source": [
    "import re"
   ]
  },
  {
   "cell_type": "code",
   "execution_count": 61,
   "metadata": {
    "collapsed": false
   },
   "outputs": [],
   "source": [
    "sponsor_split = re.compile(r';|,| and')\n",
    "known_modifiers = {'By Request', 'Primary   Sponsors', 'Primary Sponsor', 'Primary Sponsors'}\n",
    "\n",
    "def extract_sponsors(table_info):\n",
    "    \n",
    "    def strip_modifiers(s):\n",
    "        if s.endswith(')'):\n",
    "            s = s.split('(')[0].strip()\n",
    "        return(s)\n",
    "    \n",
    "    def parse_sponsor_string(sponsors_str, base_token):\n",
    "    \n",
    "        if sponsors_str[:(len(base_token) + 1)] == base_token + 's':\n",
    "            nl = len(base_token) + 1\n",
    "            sponsors_str = sponsors_str[nl:].strip()\n",
    "            sponsors_toks = re.split(sponsor_split, sponsors_str)\n",
    "            sponsors_toks = [s.strip() for s in sponsors_toks]\n",
    "            sponsors_toks = [s for s in sponsors_toks if s]\n",
    "\n",
    "        else:\n",
    "            nl = len(base_token)\n",
    "            sponsors_str = sponsors_str[nl:].strip()\n",
    "            sponsors_toks = [sponsors_str]\n",
    "            \n",
    "        sponsors_toks = [strip_modifiers(s) for s in sponsors_toks]\n",
    "        sponsors_toks = [s.replace(' ', '').strip() for s in sponsors_toks]\n",
    "            \n",
    "        return(sponsors_toks)\n",
    "    \n",
    "    def main(sponsors):\n",
    "        sponsors = sponsors.strip('.')\n",
    "\n",
    "        if sponsors[:14] =='Representative':\n",
    "            base_token = 'Representative'\n",
    "        elif sponsors[:7] =='Senator':\n",
    "            base_token = 'Senator'\n",
    "    \n",
    "        if base_token:    \n",
    "            sponsors = parse_sponsor_string(sponsors, base_token)\n",
    "            \n",
    "        return(sponsors)\n",
    "            \n",
    "    \n",
    "    sponsors_raw = table_info['Sponsors']\n",
    "    \n",
    "    if sponsors_raw.strip()[:9] == 'Committee':\n",
    "        sponsors = [sponsors_raw.strip()]\n",
    "    elif sponsors_raw.find('/') > -1:\n",
    "        sponsors_raw = sponsors_raw.split('/')\n",
    "        sponsors = []\n",
    "        for s in sponsors_raw:\n",
    "            sponsors.extend(main(s))\n",
    "    else:\n",
    "        sponsors = main(sponsors_raw)\n",
    "    \n",
    "    return(sponsors)"
   ]
  },
  {
   "cell_type": "code",
   "execution_count": 101,
   "metadata": {
    "collapsed": false
   },
   "outputs": [],
   "source": [
    "btfc['sponsors'] = btfc.table_info.apply(lambda x: extract_sponsors(x))"
   ]
  },
  {
   "cell_type": "code",
   "execution_count": 102,
   "metadata": {
    "collapsed": false
   },
   "outputs": [],
   "source": [
    "sponsors_info = btfc.apply(lambda x: [{'bill_ix' : x.name,\n",
    "                                       'name' : s,\n",
    "                                       'chamber' : x.house} for s in x.sponsors], axis=1)\n",
    "sponsors_info = pandas.DataFrame([s for l in sponsors_info for s in l])"
   ]
  },
  {
   "cell_type": "markdown",
   "metadata": {},
   "source": [
    "## Match Bill Sponsor Data to Sen, Rep Data"
   ]
  },
  {
   "cell_type": "code",
   "execution_count": 103,
   "metadata": {
    "collapsed": true
   },
   "outputs": [],
   "source": [
    "name_suffix_list = ['Jr', 'Sr', 'II', 'III', 'IV']\n",
    "\n",
    "def get_last_name(full_name):\n",
    "    name_parts = [p.strip() for p in full_name.split()]\n",
    "    name_parts = [p for p in name_parts if p]\n",
    "    \n",
    "    last = ''\n",
    "    if name_parts[-1].strip('.') not in name_suffix_list:\n",
    "        last = name_parts[-1]\n",
    "    else:\n",
    "        last = name_parts[-2].strip(',')\n",
    "    return(last)\n",
    "\n",
    "def get_firstinit(full_name):\n",
    "    return(full_name[0])"
   ]
  },
  {
   "cell_type": "code",
   "execution_count": 104,
   "metadata": {
    "collapsed": false
   },
   "outputs": [],
   "source": [
    "last_names = [get_last_name(n) for n in all_reps.Name]\n",
    "firstinits = [get_firstinit(n) for n in all_reps.Name]\n",
    "name_info = pandas.DataFrame(data={'LN':last_names,\n",
    "                                   'FILN':[f+'.'+l for l,f in zip(last_names, firstinits)],\n",
    "                                   'Chamber':all_reps.Chamber},\n",
    "                             index=all_reps.index)"
   ]
  },
  {
   "cell_type": "code",
   "execution_count": 105,
   "metadata": {
    "collapsed": true
   },
   "outputs": [],
   "source": [
    "ln_dict = {ln+'-'+c : ind for ln,c,ind in zip(name_info.LN, name_info.Chamber, name_info.index)}\n",
    "filn_dict = {filn+'-'+c : ind for filn,c,ind in zip(name_info.FILN, name_info.Chamber, name_info.index)}\n",
    "\n",
    "# Hand correct some issues\n",
    "ln_dict['Adcock-S'] = ln_dict['Adcock-H']\n",
    "ln_dict['Robinson-H'] = ln_dict['Robinson-S']\n",
    "\n",
    "def name_lookup(name, chamber):\n",
    "    key = name + '-' + chamber\n",
    "    try:\n",
    "        return(filn_dict[key])\n",
    "    except KeyError:\n",
    "        try:\n",
    "            return(ln_dict[key])\n",
    "        except KeyError:\n",
    "            return(-1)"
   ]
  },
  {
   "cell_type": "code",
   "execution_count": 106,
   "metadata": {
    "collapsed": false
   },
   "outputs": [],
   "source": [
    "sponsors_info['sponsor_ix'] = [name_lookup(sponsors_info.name[i], sponsors_info.chamber[i]) \\\n",
    "                             for i in sponsors_info.index]"
   ]
  },
  {
   "cell_type": "code",
   "execution_count": 108,
   "metadata": {
    "collapsed": true
   },
   "outputs": [],
   "source": [
    "missing = sponsors_info[sponsors_info.sponsor_ix==-1]\n",
    "missing_names = set(missing.name)"
   ]
  },
  {
   "cell_type": "code",
   "execution_count": 109,
   "metadata": {
    "collapsed": false
   },
   "outputs": [
    {
     "data": {
      "text/plain": [
       "{'Committee on Ethics.',\n",
       " 'Committee on Rules, Calendar, and Operations of the   House.'}"
      ]
     },
     "execution_count": 109,
     "metadata": {},
     "output_type": "execute_result"
    }
   ],
   "source": [
    "missing_names"
   ]
  },
  {
   "cell_type": "code",
   "execution_count": 125,
   "metadata": {
    "collapsed": true
   },
   "outputs": [],
   "source": [
    "sponsors_info = sponsors_info[sponsors_info.sponsor_ix != -1]"
   ]
  },
  {
   "cell_type": "code",
   "execution_count": 126,
   "metadata": {
    "collapsed": false
   },
   "outputs": [
    {
     "data": {
      "text/html": [
       "<div>\n",
       "<table border=\"1\" class=\"dataframe\">\n",
       "  <thead>\n",
       "    <tr style=\"text-align: right;\">\n",
       "      <th></th>\n",
       "      <th>bill_ix</th>\n",
       "      <th>chamber</th>\n",
       "      <th>name</th>\n",
       "      <th>sponsor_ix</th>\n",
       "    </tr>\n",
       "  </thead>\n",
       "  <tbody>\n",
       "    <tr>\n",
       "      <th>0</th>\n",
       "      <td>0</td>\n",
       "      <td>H</td>\n",
       "      <td>Lewis</td>\n",
       "      <td>160</td>\n",
       "    </tr>\n",
       "    <tr>\n",
       "      <th>1</th>\n",
       "      <td>1</td>\n",
       "      <td>H</td>\n",
       "      <td>Lewis</td>\n",
       "      <td>160</td>\n",
       "    </tr>\n",
       "    <tr>\n",
       "      <th>2</th>\n",
       "      <td>2</td>\n",
       "      <td>H</td>\n",
       "      <td>McGrady</td>\n",
       "      <td>255</td>\n",
       "    </tr>\n",
       "    <tr>\n",
       "      <th>3</th>\n",
       "      <td>2</td>\n",
       "      <td>H</td>\n",
       "      <td>Dixon</td>\n",
       "      <td>87</td>\n",
       "    </tr>\n",
       "    <tr>\n",
       "      <th>4</th>\n",
       "      <td>3</td>\n",
       "      <td>H</td>\n",
       "      <td>Cotham</td>\n",
       "      <td>232</td>\n",
       "    </tr>\n",
       "  </tbody>\n",
       "</table>\n",
       "</div>"
      ],
      "text/plain": [
       "   bill_ix chamber     name  sponsor_ix\n",
       "0        0       H    Lewis         160\n",
       "1        1       H    Lewis         160\n",
       "2        2       H  McGrady         255\n",
       "3        2       H    Dixon          87\n",
       "4        3       H   Cotham         232"
      ]
     },
     "execution_count": 126,
     "metadata": {},
     "output_type": "execute_result"
    }
   ],
   "source": [
    "sponsors_info.head()"
   ]
  },
  {
   "cell_type": "code",
   "execution_count": 119,
   "metadata": {
    "collapsed": true
   },
   "outputs": [],
   "source": [
    "import bill_sponsor_analysis_pipeline"
   ]
  },
  {
   "cell_type": "code",
   "execution_count": 120,
   "metadata": {
    "collapsed": false
   },
   "outputs": [
    {
     "data": {
      "text/plain": [
       "<module 'bill_sponsor_analysis_pipeline' from '/home/immersinn/gits/ncga/src/bill_sponsor_analysis_pipeline.py'>"
      ]
     },
     "execution_count": 120,
     "metadata": {},
     "output_type": "execute_result"
    }
   ],
   "source": [
    "reload(bill_sponsor_analysis_pipeline)"
   ]
  },
  {
   "cell_type": "code",
   "execution_count": 121,
   "metadata": {
    "collapsed": true
   },
   "outputs": [],
   "source": [
    "ar, bi, si = bill_sponsor_analysis_pipeline.main('2014')"
   ]
  },
  {
   "cell_type": "code",
   "execution_count": 122,
   "metadata": {
    "collapsed": false
   },
   "outputs": [
    {
     "data": {
      "text/html": [
       "<div>\n",
       "<table border=\"1\" class=\"dataframe\">\n",
       "  <thead>\n",
       "    <tr style=\"text-align: right;\">\n",
       "      <th></th>\n",
       "      <th>District</th>\n",
       "      <th>Session</th>\n",
       "      <th>Chamber</th>\n",
       "      <th>Name</th>\n",
       "      <th>Party</th>\n",
       "      <th>Incombant</th>\n",
       "    </tr>\n",
       "  </thead>\n",
       "  <tbody>\n",
       "    <tr>\n",
       "      <th>0</th>\n",
       "      <td>1</td>\n",
       "      <td>2014</td>\n",
       "      <td>S</td>\n",
       "      <td>Bill Cook</td>\n",
       "      <td>R</td>\n",
       "      <td>NA</td>\n",
       "    </tr>\n",
       "    <tr>\n",
       "      <th>1</th>\n",
       "      <td>2</td>\n",
       "      <td>2014</td>\n",
       "      <td>S</td>\n",
       "      <td>Norman Sanderson</td>\n",
       "      <td>R</td>\n",
       "      <td>NA</td>\n",
       "    </tr>\n",
       "    <tr>\n",
       "      <th>2</th>\n",
       "      <td>3</td>\n",
       "      <td>2014</td>\n",
       "      <td>S</td>\n",
       "      <td>Erica Smith-Ingram</td>\n",
       "      <td>D</td>\n",
       "      <td>NA</td>\n",
       "    </tr>\n",
       "    <tr>\n",
       "      <th>3</th>\n",
       "      <td>4</td>\n",
       "      <td>2014</td>\n",
       "      <td>S</td>\n",
       "      <td>Angela Bryant</td>\n",
       "      <td>D</td>\n",
       "      <td>NA</td>\n",
       "    </tr>\n",
       "    <tr>\n",
       "      <th>4</th>\n",
       "      <td>5</td>\n",
       "      <td>2014</td>\n",
       "      <td>S</td>\n",
       "      <td>Donald Davis</td>\n",
       "      <td>D</td>\n",
       "      <td>NA</td>\n",
       "    </tr>\n",
       "  </tbody>\n",
       "</table>\n",
       "</div>"
      ],
      "text/plain": [
       "  District Session Chamber                Name Party Incombant\n",
       "0        1    2014       S           Bill Cook     R        NA\n",
       "1        2    2014       S    Norman Sanderson     R        NA\n",
       "2        3    2014       S  Erica Smith-Ingram     D        NA\n",
       "3        4    2014       S       Angela Bryant     D        NA\n",
       "4        5    2014       S        Donald Davis     D        NA"
      ]
     },
     "execution_count": 122,
     "metadata": {},
     "output_type": "execute_result"
    }
   ],
   "source": [
    "ar.head()"
   ]
  },
  {
   "cell_type": "code",
   "execution_count": 123,
   "metadata": {
    "collapsed": false
   },
   "outputs": [
    {
     "data": {
      "text/html": [
       "<div>\n",
       "<table border=\"1\" class=\"dataframe\">\n",
       "  <thead>\n",
       "    <tr style=\"text-align: right;\">\n",
       "      <th></th>\n",
       "      <th>session</th>\n",
       "      <th>house</th>\n",
       "      <th>bill</th>\n",
       "      <th>content</th>\n",
       "      <th>long_title</th>\n",
       "      <th>table_info</th>\n",
       "      <th>keywords</th>\n",
       "      <th>sponsors</th>\n",
       "    </tr>\n",
       "  </thead>\n",
       "  <tbody>\n",
       "    <tr>\n",
       "      <th>0</th>\n",
       "      <td>2015E4</td>\n",
       "      <td>H</td>\n",
       "      <td>1</td>\n",
       "      <td>GENERAL ASSEMBLY OF NORTH CAROLINA  FOURTH EXT...</td>\n",
       "      <td>A HOUSE RESOLUTION adopting the permanent rule...</td>\n",
       "      <td>{'Sponsors': 'Representative Lewis.', 'Referre...</td>\n",
       "      <td>[ADOPTED, GENERAL ASSEMBLY, RESOLUTIONS, SIMPL...</td>\n",
       "      <td>[Lewis]</td>\n",
       "    </tr>\n",
       "    <tr>\n",
       "      <th>1</th>\n",
       "      <td>2015E4</td>\n",
       "      <td>H</td>\n",
       "      <td>2</td>\n",
       "      <td>GENERAL ASSEMBLY OF NORTH CAROLINA  FOURTH EXT...</td>\n",
       "      <td>A JOINT RESOLUTIOn providing for adjournment s...</td>\n",
       "      <td>{'Sponsors': 'Representative Lewis.', 'Referre...</td>\n",
       "      <td>[ADJOURNMENT, GENERAL ASSEMBLY, RESOLUTIONS, J...</td>\n",
       "      <td>[Lewis]</td>\n",
       "    </tr>\n",
       "    <tr>\n",
       "      <th>2</th>\n",
       "      <td>2015E4</td>\n",
       "      <td>H</td>\n",
       "      <td>3</td>\n",
       "      <td>GENERAL ASSEMBLY OF NORTH CAROLINA  FOURTH EXT...</td>\n",
       "      <td>AN ACT to provide further REGULATORY RELIEF TO...</td>\n",
       "      <td>{'Sponsors': 'Representatives McGrady and Dixo...</td>\n",
       "      <td>[ADMINISTRATION DEPT., ADMINISTRATIVE CODE, AD...</td>\n",
       "      <td>[McGrady, Dixon]</td>\n",
       "    </tr>\n",
       "    <tr>\n",
       "      <th>3</th>\n",
       "      <td>2015E4</td>\n",
       "      <td>H</td>\n",
       "      <td>4</td>\n",
       "      <td>GENERAL ASSEMBLY OF NORTH CAROLINA  FOURTH EXT...</td>\n",
       "      <td>AN ACT directing the department of transportat...</td>\n",
       "      <td>{'Sponsors': 'Representatives Cotham, Bradford...</td>\n",
       "      <td>[BRIDGES, CONTRACTS, COUNTIES, INFRASTRUCTURE,...</td>\n",
       "      <td>[Cotham, Bradford, J.Moore]</td>\n",
       "    </tr>\n",
       "    <tr>\n",
       "      <th>4</th>\n",
       "      <td>2015E4</td>\n",
       "      <td>H</td>\n",
       "      <td>5</td>\n",
       "      <td>GENERAL ASSEMBLY OF NORTH CAROLINA  FOURTH EXT...</td>\n",
       "      <td>AN ACT to clarify the service area for communi...</td>\n",
       "      <td>{'Sponsors': 'Representative S. Martin.', 'Ref...</td>\n",
       "      <td>[COUNTIES, EDGECOMBE COUNTY, INFORMATION TECHN...</td>\n",
       "      <td>[S.Martin]</td>\n",
       "    </tr>\n",
       "  </tbody>\n",
       "</table>\n",
       "</div>"
      ],
      "text/plain": [
       "  session house  bill                                            content  \\\n",
       "0  2015E4     H     1  GENERAL ASSEMBLY OF NORTH CAROLINA  FOURTH EXT...   \n",
       "1  2015E4     H     2  GENERAL ASSEMBLY OF NORTH CAROLINA  FOURTH EXT...   \n",
       "2  2015E4     H     3  GENERAL ASSEMBLY OF NORTH CAROLINA  FOURTH EXT...   \n",
       "3  2015E4     H     4  GENERAL ASSEMBLY OF NORTH CAROLINA  FOURTH EXT...   \n",
       "4  2015E4     H     5  GENERAL ASSEMBLY OF NORTH CAROLINA  FOURTH EXT...   \n",
       "\n",
       "                                          long_title  \\\n",
       "0  A HOUSE RESOLUTION adopting the permanent rule...   \n",
       "1  A JOINT RESOLUTIOn providing for adjournment s...   \n",
       "2  AN ACT to provide further REGULATORY RELIEF TO...   \n",
       "3  AN ACT directing the department of transportat...   \n",
       "4  AN ACT to clarify the service area for communi...   \n",
       "\n",
       "                                          table_info  \\\n",
       "0  {'Sponsors': 'Representative Lewis.', 'Referre...   \n",
       "1  {'Sponsors': 'Representative Lewis.', 'Referre...   \n",
       "2  {'Sponsors': 'Representatives McGrady and Dixo...   \n",
       "3  {'Sponsors': 'Representatives Cotham, Bradford...   \n",
       "4  {'Sponsors': 'Representative S. Martin.', 'Ref...   \n",
       "\n",
       "                                            keywords  \\\n",
       "0  [ADOPTED, GENERAL ASSEMBLY, RESOLUTIONS, SIMPL...   \n",
       "1  [ADJOURNMENT, GENERAL ASSEMBLY, RESOLUTIONS, J...   \n",
       "2  [ADMINISTRATION DEPT., ADMINISTRATIVE CODE, AD...   \n",
       "3  [BRIDGES, CONTRACTS, COUNTIES, INFRASTRUCTURE,...   \n",
       "4  [COUNTIES, EDGECOMBE COUNTY, INFORMATION TECHN...   \n",
       "\n",
       "                      sponsors  \n",
       "0                      [Lewis]  \n",
       "1                      [Lewis]  \n",
       "2             [McGrady, Dixon]  \n",
       "3  [Cotham, Bradford, J.Moore]  \n",
       "4                   [S.Martin]  "
      ]
     },
     "execution_count": 123,
     "metadata": {},
     "output_type": "execute_result"
    }
   ],
   "source": [
    "bi.head()"
   ]
  },
  {
   "cell_type": "code",
   "execution_count": 124,
   "metadata": {
    "collapsed": false
   },
   "outputs": [
    {
     "data": {
      "text/html": [
       "<div>\n",
       "<table border=\"1\" class=\"dataframe\">\n",
       "  <thead>\n",
       "    <tr style=\"text-align: right;\">\n",
       "      <th></th>\n",
       "      <th>bill_ix</th>\n",
       "      <th>chamber</th>\n",
       "      <th>name</th>\n",
       "      <th>sponsor_ix</th>\n",
       "    </tr>\n",
       "  </thead>\n",
       "  <tbody>\n",
       "    <tr>\n",
       "      <th>0</th>\n",
       "      <td>0</td>\n",
       "      <td>H</td>\n",
       "      <td>Lewis</td>\n",
       "      <td>102</td>\n",
       "    </tr>\n",
       "    <tr>\n",
       "      <th>1</th>\n",
       "      <td>1</td>\n",
       "      <td>H</td>\n",
       "      <td>Lewis</td>\n",
       "      <td>102</td>\n",
       "    </tr>\n",
       "    <tr>\n",
       "      <th>2</th>\n",
       "      <td>2</td>\n",
       "      <td>H</td>\n",
       "      <td>McGrady</td>\n",
       "      <td>166</td>\n",
       "    </tr>\n",
       "    <tr>\n",
       "      <th>3</th>\n",
       "      <td>2</td>\n",
       "      <td>H</td>\n",
       "      <td>Dixon</td>\n",
       "      <td>53</td>\n",
       "    </tr>\n",
       "    <tr>\n",
       "      <th>4</th>\n",
       "      <td>3</td>\n",
       "      <td>H</td>\n",
       "      <td>Cotham</td>\n",
       "      <td>149</td>\n",
       "    </tr>\n",
       "  </tbody>\n",
       "</table>\n",
       "</div>"
      ],
      "text/plain": [
       "   bill_ix chamber     name  sponsor_ix\n",
       "0        0       H    Lewis         102\n",
       "1        1       H    Lewis         102\n",
       "2        2       H  McGrady         166\n",
       "3        2       H    Dixon          53\n",
       "4        3       H   Cotham         149"
      ]
     },
     "execution_count": 124,
     "metadata": {},
     "output_type": "execute_result"
    }
   ],
   "source": [
    "si.head()"
   ]
  },
  {
   "cell_type": "code",
   "execution_count": null,
   "metadata": {
    "collapsed": true
   },
   "outputs": [],
   "source": []
  }
 ],
 "metadata": {
  "kernelspec": {
   "display_name": "ncga (P3)",
   "language": "python",
   "name": "ncga (p3)"
  },
  "language_info": {
   "codemirror_mode": {
    "name": "ipython",
    "version": 3
   },
   "file_extension": ".py",
   "mimetype": "text/x-python",
   "name": "python",
   "nbconvert_exporter": "python",
   "pygments_lexer": "ipython3",
   "version": "3.5.2"
  }
 },
 "nbformat": 4,
 "nbformat_minor": 2
}
