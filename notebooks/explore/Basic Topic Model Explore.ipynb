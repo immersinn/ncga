{
 "cells": [
  {
   "cell_type": "code",
   "execution_count": 1,
   "metadata": {
    "collapsed": true
   },
   "outputs": [],
   "source": [
    "import numpy\n",
    "import scipy\n",
    "import pandas\n",
    "import spacy\n",
    "import textacy"
   ]
  },
  {
   "cell_type": "code",
   "execution_count": 2,
   "metadata": {
    "collapsed": true
   },
   "outputs": [],
   "source": [
    "%matplotlib inline\n",
    "\n",
    "import matplotlib as mpl\n",
    "import matplotlib.pyplot as plt\n",
    "\n",
    "import seaborn as sns\n",
    "sns.set(style=\"whitegrid\", color_codes=True)"
   ]
  },
  {
   "cell_type": "code",
   "execution_count": 3,
   "metadata": {
    "collapsed": true
   },
   "outputs": [],
   "source": [
    "corpus = textacy.Corpus.load(path='/home/immersinn/gits/ncga/data/processed/CORPUS_bills_filed_pipe01/',\n",
    "                           name='CORPUS_bills_filed_pipe01',\n",
    "                           compression='gzip')"
   ]
  },
  {
   "cell_type": "markdown",
   "metadata": {},
   "source": [
    "### Tokenize and Vectorize Corpus"
   ]
  },
  {
   "cell_type": "code",
   "execution_count": 6,
   "metadata": {
    "collapsed": false
   },
   "outputs": [
    {
     "data": {
      "text/plain": [
       "<2098x1000 sparse matrix of type '<class 'numpy.float64'>'\n",
       "\twith 247765 stored elements in Compressed Sparse Row format>"
      ]
     },
     "execution_count": 6,
     "metadata": {},
     "output_type": "execute_result"
    }
   ],
   "source": [
    "terms_lists = (doc.to_terms_list(ngrams=1, named_entities=True, as_strings=True) for doc in corpus)\n",
    "doc_term_matrix, id2term = textacy.vsm.doc_term_matrix(\\\n",
    "                                                       terms_lists, \n",
    "                                                       weighting='tfidf', normalize=True, smooth_idf=True,\n",
    "                                                       min_df=3, max_df=0.95, max_n_terms=1000)\n",
    "doc_term_matrix"
   ]
  },
  {
   "cell_type": "markdown",
   "metadata": {},
   "source": [
    "### Topic Model"
   ]
  },
  {
   "cell_type": "code",
   "execution_count": 83,
   "metadata": {
    "collapsed": true
   },
   "outputs": [],
   "source": [
    "models = {}\n",
    "for n in range(2,20):\n",
    "    model = textacy.tm.TopicModel('lda', n_topics=n)\n",
    "    model.fit(doc_term_matrix)\n",
    "    models[n] = model"
   ]
  },
  {
   "cell_type": "code",
   "execution_count": 94,
   "metadata": {
    "collapsed": true
   },
   "outputs": [],
   "source": [
    "perplex = {}\n",
    "for i in models:\n",
    "    perplex[i] = models[i].model.perplexity(doc_term_matrix)"
   ]
  },
  {
   "cell_type": "code",
   "execution_count": 96,
   "metadata": {
    "collapsed": false
   },
   "outputs": [
    {
     "data": {
      "text/plain": [
       "{2: 1430.1864400469474,\n",
       " 3: 2827.8161827641475,\n",
       " 4: 6272.5030497747548,\n",
       " 5: 15934.908496879447,\n",
       " 6: 36600.007525626272,\n",
       " 7: 74907.573165759444,\n",
       " 8: 146728.35641135511,\n",
       " 9: 297812.59956085897,\n",
       " 10: 619162.11230097502,\n",
       " 11: 1304322.6565713866,\n",
       " 12: 2662087.5674209734,\n",
       " 13: 5244250.9785775589,\n",
       " 14: 10552345.667645756,\n",
       " 15: 22265191.540630952,\n",
       " 16: 45055216.468628302,\n",
       " 17: 87031707.79531166,\n",
       " 18: 196917646.10981026,\n",
       " 19: 357422111.80390805}"
      ]
     },
     "execution_count": 96,
     "metadata": {},
     "output_type": "execute_result"
    }
   ],
   "source": [
    "perplex"
   ]
  },
  {
   "cell_type": "code",
   "execution_count": 100,
   "metadata": {
    "collapsed": true
   },
   "outputs": [],
   "source": [
    "n_topics = 4\n",
    "model = models[n_topics]"
   ]
  },
  {
   "cell_type": "markdown",
   "metadata": {},
   "source": [
    "#### Transform the corpus and Interpret the Model:"
   ]
  },
  {
   "cell_type": "code",
   "execution_count": 101,
   "metadata": {
    "collapsed": true
   },
   "outputs": [],
   "source": [
    "doc_topic_matrix = model.transform(doc_term_matrix)"
   ]
  },
  {
   "cell_type": "code",
   "execution_count": 115,
   "metadata": {
    "collapsed": false
   },
   "outputs": [
    {
     "data": {
      "text/plain": [
       "(2098, 4)"
      ]
     },
     "execution_count": 115,
     "metadata": {},
     "output_type": "execute_result"
    }
   ],
   "source": [
    "doc_topic_matrix.shape"
   ]
  },
  {
   "cell_type": "code",
   "execution_count": 116,
   "metadata": {
    "collapsed": false
   },
   "outputs": [
    {
     "data": {
      "text/plain": [
       "array([[ 0.87789927,  0.04000221,  0.04185012,  0.0402484 ],\n",
       "       [ 0.78584883,  0.07202284,  0.07105155,  0.07107679],\n",
       "       [ 0.01644671,  0.01682715,  0.95049358,  0.01623256],\n",
       "       [ 0.05354897,  0.05337645,  0.8403571 ,  0.05271748],\n",
       "       [ 0.04846911,  0.04658629,  0.85820091,  0.04674369],\n",
       "       [ 0.1851266 ,  0.0281551 ,  0.75838843,  0.02832987],\n",
       "       [ 0.04757388,  0.04503149,  0.86168051,  0.04571412],\n",
       "       [ 0.02975781,  0.03088225,  0.52167538,  0.41768456],\n",
       "       [ 0.02572517,  0.02507037,  0.77626385,  0.17294062],\n",
       "       [ 0.03307557,  0.19271051,  0.74182157,  0.03239234]])"
      ]
     },
     "execution_count": 116,
     "metadata": {},
     "output_type": "execute_result"
    }
   ],
   "source": [
    "# Rows sum to unity...\n",
    "doc_topic_matrix[:10,:]"
   ]
  },
  {
   "cell_type": "markdown",
   "metadata": {},
   "source": [
    "#### View Top Terms, Top Keywords from Top Documents"
   ]
  },
  {
   "cell_type": "code",
   "execution_count": 103,
   "metadata": {
    "collapsed": false
   },
   "outputs": [
    {
     "data": {
      "text/plain": [
       "count    8392.000000\n",
       "mean        0.250000\n",
       "std         0.315964\n",
       "min         0.016233\n",
       "50%         0.051009\n",
       "75%         0.445956\n",
       "80%         0.608934\n",
       "90%         0.855764\n",
       "95%         0.882560\n",
       "97.5%       0.899533\n",
       "99%         0.914462\n",
       "max         0.950494\n",
       "dtype: float64"
      ]
     },
     "execution_count": 103,
     "metadata": {},
     "output_type": "execute_result"
    }
   ],
   "source": [
    "pandas.Series(doc_topic_matrix.reshape((doc_topic_matrix.shape[0]*doc_topic_matrix.shape[1],))).describe(percentiles=[0.75, 0.80, 0.90, 0.95, 0.975, 0.99])"
   ]
  },
  {
   "cell_type": "code",
   "execution_count": 104,
   "metadata": {
    "collapsed": false
   },
   "outputs": [
    {
     "data": {
      "text/plain": [
       "array([ 612,  319, 1717,  413])"
      ]
     },
     "execution_count": 104,
     "metadata": {},
     "output_type": "execute_result"
    }
   ],
   "source": [
    "sum(doc_topic_matrix > 0.1)"
   ]
  },
  {
   "cell_type": "code",
   "execution_count": 105,
   "metadata": {
    "collapsed": false
   },
   "outputs": [],
   "source": [
    "top_term_table = []\n",
    "index = []\n",
    "for topic_idx, top_terms in model.top_topic_terms(id2term, top_n = 15, topics=range(n_topics)):\n",
    "    index.append('topic ' + str(topic_idx))\n",
    "    top_term_table.append({i : tt for i,tt in enumerate(top_terms)})\n",
    "top_term_table = pandas.DataFrame(data=top_term_table, index=index)"
   ]
  },
  {
   "cell_type": "code",
   "execution_count": 106,
   "metadata": {
    "collapsed": false
   },
   "outputs": [
    {
     "data": {
      "text/html": [
       "<div>\n",
       "<table border=\"1\" class=\"dataframe\">\n",
       "  <thead>\n",
       "    <tr style=\"text-align: right;\">\n",
       "      <th></th>\n",
       "      <th>topic 0</th>\n",
       "      <th>topic 1</th>\n",
       "      <th>topic 2</th>\n",
       "      <th>topic 3</th>\n",
       "    </tr>\n",
       "  </thead>\n",
       "  <tbody>\n",
       "    <tr>\n",
       "      <th>0</th>\n",
       "      <td>district</td>\n",
       "      <td>school</td>\n",
       "      <td>shall</td>\n",
       "      <td>court</td>\n",
       "    </tr>\n",
       "    <tr>\n",
       "      <th>1</th>\n",
       "      <td>member</td>\n",
       "      <td>student</td>\n",
       "      <td>state</td>\n",
       "      <td>person</td>\n",
       "    </tr>\n",
       "    <tr>\n",
       "      <th>2</th>\n",
       "      <td>resolution</td>\n",
       "      <td>education</td>\n",
       "      <td>fund</td>\n",
       "      <td>offense</td>\n",
       "    </tr>\n",
       "    <tr>\n",
       "      <th>3</th>\n",
       "      <td>senate</td>\n",
       "      <td>board</td>\n",
       "      <td>service</td>\n",
       "      <td>enforcement</td>\n",
       "    </tr>\n",
       "    <tr>\n",
       "      <th>4</th>\n",
       "      <td>election</td>\n",
       "      <td>teacher</td>\n",
       "      <td>department</td>\n",
       "      <td>defendant</td>\n",
       "    </tr>\n",
       "    <tr>\n",
       "      <th>5</th>\n",
       "      <td>board</td>\n",
       "      <td>close</td>\n",
       "      <td>tax</td>\n",
       "      <td>shall</td>\n",
       "    </tr>\n",
       "    <tr>\n",
       "      <th>6</th>\n",
       "      <td>shall</td>\n",
       "      <td>opening</td>\n",
       "      <td>property</td>\n",
       "      <td>criminal</td>\n",
       "    </tr>\n",
       "    <tr>\n",
       "      <th>7</th>\n",
       "      <td>state</td>\n",
       "      <td>local</td>\n",
       "      <td>county</td>\n",
       "      <td>officer</td>\n",
       "    </tr>\n",
       "    <tr>\n",
       "      <th>8</th>\n",
       "      <td>local</td>\n",
       "      <td>college</td>\n",
       "      <td>health</td>\n",
       "      <td>judge</td>\n",
       "    </tr>\n",
       "    <tr>\n",
       "      <th>9</th>\n",
       "      <td>relate</td>\n",
       "      <td>year</td>\n",
       "      <td>public</td>\n",
       "      <td>violation</td>\n",
       "    </tr>\n",
       "    <tr>\n",
       "      <th>10</th>\n",
       "      <td>committee</td>\n",
       "      <td>program</td>\n",
       "      <td>provide</td>\n",
       "      <td>commit</td>\n",
       "    </tr>\n",
       "    <tr>\n",
       "      <th>11</th>\n",
       "      <td>commission</td>\n",
       "      <td>scholarship</td>\n",
       "      <td>include</td>\n",
       "      <td>attorney</td>\n",
       "    </tr>\n",
       "    <tr>\n",
       "      <th>12</th>\n",
       "      <td>appoint</td>\n",
       "      <td>calendar</td>\n",
       "      <td>article</td>\n",
       "      <td>justice</td>\n",
       "    </tr>\n",
       "    <tr>\n",
       "      <th>13</th>\n",
       "      <td>joint</td>\n",
       "      <td>grade</td>\n",
       "      <td>'s</td>\n",
       "      <td>felony</td>\n",
       "    </tr>\n",
       "    <tr>\n",
       "      <th>14</th>\n",
       "      <td>house</td>\n",
       "      <td>unit</td>\n",
       "      <td>board</td>\n",
       "      <td>order</td>\n",
       "    </tr>\n",
       "  </tbody>\n",
       "</table>\n",
       "</div>"
      ],
      "text/plain": [
       "       topic 0      topic 1     topic 2      topic 3\n",
       "0     district       school       shall        court\n",
       "1       member      student       state       person\n",
       "2   resolution    education        fund      offense\n",
       "3       senate        board     service  enforcement\n",
       "4     election      teacher  department    defendant\n",
       "5        board        close         tax        shall\n",
       "6        shall      opening    property     criminal\n",
       "7        state        local      county      officer\n",
       "8        local      college      health        judge\n",
       "9       relate         year      public    violation\n",
       "10   committee      program     provide       commit\n",
       "11  commission  scholarship     include     attorney\n",
       "12     appoint     calendar     article      justice\n",
       "13       joint        grade          's       felony\n",
       "14       house         unit       board        order"
      ]
     },
     "execution_count": 106,
     "metadata": {},
     "output_type": "execute_result"
    }
   ],
   "source": [
    "top_term_table.transpose()"
   ]
  },
  {
   "cell_type": "markdown",
   "metadata": {
    "collapsed": true
   },
   "source": [
    "## Density-based Method for Adaptive LDA Model Selection"
   ]
  },
  {
   "cell_type": "code",
   "execution_count": null,
   "metadata": {
    "collapsed": true
   },
   "outputs": [],
   "source": []
  },
  {
   "cell_type": "code",
   "execution_count": 114,
   "metadata": {
    "collapsed": false
   },
   "outputs": [
    {
     "data": {
      "text/plain": [
       "array([[  30.05015004,    3.57920361,    8.17694721,   10.24565258],\n",
       "       [  10.72089208,    1.22379688,    0.25878505,    0.25630825],\n",
       "       [ 111.48732977,   12.13275677,    2.78352654,    1.70384573],\n",
       "       [  14.4967847 ,    1.71215637,    0.33399709,    0.2757228 ]])"
      ]
     },
     "execution_count": 114,
     "metadata": {},
     "output_type": "execute_result"
    }
   ],
   "source": [
    "model.model.components_[:,:4]"
   ]
  },
  {
   "cell_type": "code",
   "execution_count": 108,
   "metadata": {
    "collapsed": true
   },
   "outputs": [],
   "source": [
    "# Calculate correlations between Topics in a given Model via the Topic - Term Weighting Vectors\n",
    "def calc_p_topic_given_word(model):\n",
    "    # 01: Convert model components to a distribution --> p(w|t)\n",
    "    # 02: Calculate estimate of p(t) from corpus\n",
    "    # 03: p(t|w) = p(w|t) * p(t) / p(w)\n",
    "    pass\n",
    "\n",
    "\n",
    "def topic_cosdists(model):\n",
    "    cos_dists = scipy.spatial.distance.pdist(model.model.components_, 'cosine')\n",
    "    return(cos_dists)"
   ]
  },
  {
   "cell_type": "code",
   "execution_count": 109,
   "metadata": {
    "collapsed": false
   },
   "outputs": [
    {
     "data": {
      "text/plain": [
       "array([ 0.80333408,  0.54682641,  0.7489354 ,  0.7718644 ,  0.89350818,\n",
       "        0.59276996])"
      ]
     },
     "execution_count": 109,
     "metadata": {},
     "output_type": "execute_result"
    }
   ],
   "source": [
    "cds = topic_cosdists(model)\n",
    "cds"
   ]
  },
  {
   "cell_type": "code",
   "execution_count": 110,
   "metadata": {
    "collapsed": false
   },
   "outputs": [
    {
     "data": {
      "text/plain": [
       "array([[ 0.        ,  0.80333408,  0.54682641,  0.7489354 ],\n",
       "       [ 0.80333408,  0.        ,  0.7718644 ,  0.89350818],\n",
       "       [ 0.54682641,  0.7718644 ,  0.        ,  0.59276996],\n",
       "       [ 0.7489354 ,  0.89350818,  0.59276996,  0.        ]])"
      ]
     },
     "execution_count": 110,
     "metadata": {},
     "output_type": "execute_result"
    }
   ],
   "source": [
    "scipy.spatial.distance.squareform(cds)"
   ]
  },
  {
   "cell_type": "code",
   "execution_count": 92,
   "metadata": {
    "collapsed": false
   },
   "outputs": [
    {
     "data": {
      "text/plain": [
       "sklearn.decomposition.online_lda.LatentDirichletAllocation"
      ]
     },
     "execution_count": 92,
     "metadata": {},
     "output_type": "execute_result"
    }
   ],
   "source": [
    "type(model.model)"
   ]
  },
  {
   "cell_type": "code",
   "execution_count": 54,
   "metadata": {
    "collapsed": false
   },
   "outputs": [],
   "source": [
    "top_keywords = {}\n",
    "for topic_idx, top_docs in model.top_topic_docs(doc_topic_matrix, topics=range(n_topics), top_n=10):\n",
    "    topic = 'topic ' + str(topic_idx)\n",
    "    keywords = []\n",
    "    for j in top_docs:\n",
    "        keywords.extend(corpus[j].metadata['keywords'])\n",
    "    top_keywords[topic] = set(keywords)"
   ]
  },
  {
   "cell_type": "code",
   "execution_count": 55,
   "metadata": {
    "collapsed": true
   },
   "outputs": [
    {
     "name": "stdout",
     "output_type": "stream",
     "text": [
      "\n",
      "\n",
      "topic 0:\n",
      "{'BUILDING CODES', 'IMMIGRATION', 'PERSONNEL', 'NAME CHANGE', 'NOTIFICATION', 'LOCAL GOVERNMENT COMN.', 'AIRPORTS', 'DARE COUNTY', 'TEXTBOOK COMN.', 'ROADS & HIGHWAYS', 'OPTICIANS & OPTOMETRISTS', 'CIVIL PROCEDURE', 'AQUARIUMS', 'ENVIRONMENT', 'STATE EMPLOYEES', 'MORTGAGES', 'DISCRIMINATION', 'SMALL BUSINESSES', 'TEXTBOOKS', 'AIDS', 'SUBSTANCE ABUSE', 'PROPERTY', 'SALARIES & BENEFITS', 'BUILDING CODE COUNCIL', 'COLLEGES & UNIVERSITIES', 'EMERGENCY SERVICES', 'TRANSPORTATION', 'SHERIFFS', 'HIGHWAY FUND', 'INFORMATION TECHNOLOGY DEPT.', 'PSYCHOLOGY', 'EDUCATION BOARDS', 'INTERSTATE COOPERATION', 'ADAP', 'EXCISE', 'FISHERIES PRODUCTS', 'TAXES', 'COURTS', 'FEES', 'JUDICIAL DEPT.', 'INDUSTRIAL COMN.', 'CATAWBA COUNTY', 'ADVERTISING', 'SOLID WASTE', 'UNREGULATED VEHICLES', 'INDIAN AFFAIRS COMN.', 'COMMUNITY COLLEGES OFFICE', 'FOREST PRODUCTS', 'HUMAN RELATIONS COMN.', 'BUDGETING', 'REPORTS', 'INSURANCE DEPT.', 'TELEVISION', 'EROSION', 'ALIENS', 'PUBLIC HEALTH COMN.', 'STORAGE SYSTEMS', 'FUEL', 'DHHS', 'LIABILITY', 'FISH & WILDLIFE', 'LICENSES & PERMITS', 'ALTERNATIVE ENERGY', 'TAX COLLECTION', 'SCHOOL OF GOVERNMENT', 'MIGRANT WORKERS', 'HIGHWAY TRUST FUND', 'HHS OVERSIGHT COMM.', 'RATIFIED', 'VETERINARY MEDICINE', 'STATE HEALTH PLAN', 'FAMILY  ISSUES', 'VETERANS', 'TIMBER', 'CORPORATIONS', 'SENTINEL LANDSCAPES COMM.', 'BICYCLES', 'WILDLIFE RESOURCES COMN.', 'HISTORIC SITES & MONUMENTS', 'HORSE COUNCIL', 'STATUTE OF LIMITATIONS', 'LAKES & RIVERS', 'SENTENCING', 'LANDSCAPING', 'WATER RESOURCES', 'LT. GOVERNOR', 'HISTORIC PRESERVATION', 'JORDAN LAKE', \"GOVERNOR'S CRIME COMN.\", 'LABORATORIES', 'APPRENTICESHIPS', 'MEDICAL EQUIPMENT', 'MANUFACTURING', 'HOME HEALTH CARE', 'GOVERNMENT EMPLOYEES', 'MEDICAL EXAMINERS', 'POLLUTION', 'DEBT/STATE GOVERNMENT', 'CHILDREN WITH SPECIAL NEEDS', 'VOUCHERS', 'PHARMACISTS', 'LAW ENFORCEMENT', 'PSYCHOLOGY BOARD', 'RETIREMENT', 'TELECOMMUNICATIONS', 'COMMUNITY COLLEGES', 'ARMED FORCES', 'COMPACTS', 'OBSOLETE STATUTES', 'CORRECTIONAL INSTITUTIONS', 'CRIMINAL RECORDS', 'GENERAL CONTRACTORS BOARD', 'BEACH EROSION', 'LIVESTOCK & POULTRY', 'COUNSELING', 'ETHICS', 'ESCHEATS', 'AUCTIONS', 'PUBLIC RECORDS', 'MOTOR FLEET', 'ZOOLOGICAL PARK COUNCIL', 'TAX WITHHOLDING', 'COMMISSIONS', 'MEDICAL CARE COMN.', 'DATA SYSTEMS', 'SPAYING & NEUTERING', 'FUNDING', 'MUNICIPALITIES', 'WORKFORCE DEVELOPMENT COMN.', 'DOMESTIC ANIMALS', 'BOARDS', 'MANAGEMENT', 'CURRICULUM', 'SECRETARY OF STATE', 'MILITARY AFFAIRS DEPT.', 'WAKE COUNTY', 'RURAL DEVELOPMENT', 'RECORDS', 'BARBER EXAMINERS BOARD', 'CRIMINAL PROCEDURE', 'CRIMES', 'GRANTS', 'LDC', 'TELESERVICES', 'ADMIN. HEARINGS OFFICE', 'CONSERVATION', 'SBI', 'HIGHER EDUCATION', 'STUDIES', 'MILITARY AFFAIRS COMN.', 'MOTOR VEHICLE', 'AGRICULTURAL LAND', 'EDUCATION ASSISTANCE AUTHORITY', 'PROGRAM EVALUATION COMM.', 'DURHAM', 'LMES', 'PRESIDENT PRO TEMPORE', 'COMPUTERS', 'FOODS & BEVERAGES', 'TAX REFUNDS', 'TEACHERS', 'LOTTERY', 'MEDIA', 'ELECTRICITY', 'HORSES & MULES', 'PUBLIC LIBRARIAN COMN.', 'AUTHORITIES', 'CHARTER SCHOOLS', 'SALES & CONVEYANCES', 'TITLE CHANGE', 'DEQ', 'ARTS', 'PUBLIC SAFETY DEPT.', 'UNC BOARD OF GOVERNORS', 'CHILD CUSTODY', 'DMV', 'JUSTICE DEPT.', 'WOMEN', 'DOMESTIC VIOLENCE COMN.', 'AGRICULTURAL EQUIPMENT', 'GOVERNOR', 'ADMINISTRATION DEPT.', 'HOSPITALS', 'HEALTH EDUCATION', 'TSERS', 'LEGISLATIVE SERVICES OFFICE', 'CIVIL ACTIONS', 'HISTORICAL COMN.', 'BARBERS & COSMETOLOGISTS', 'SEDIMENTATION CONTROL COMN.', 'PUBLIC BUILDINGS', 'EVIDENCE', 'TRAVEL & TOURISM BOARD', 'FUNDS & ACCOUNTS', 'ZOO FUND', 'AGRICULTURE', 'OCCUPATIONS', 'PUBLIC INSTRUCTION DEPT.', 'DRIVERS LICENSES', 'AUDITING & AUDITS', 'TRAFFIC OFFENSES', 'BUDGET & MANAGEMENT OFFICE', 'ALCOHOLIC BEVERAGES', 'ABANDONED PROPERTY', 'FUELS', 'OBSCENITY', 'CONTROLLED SUBSTANCES', 'EMERGENCY MEDICAL SERVICES', 'ADMINISTRATIVE CODE', 'ELECTIONS', 'UTILITIES COMN.', 'BOATS & WATERCRAFT', 'JUDGES', 'RALEIGH', 'DAIRY PRODUCTS', 'LANDLORD & TENANT', 'FRANCHISES', 'CAPITAL SPENDING', 'GENERAL STATUTES', 'SOCIAL SERVICES', 'INDUSTRIAL EQUIPMENT', 'HOUSING FINANCE AGENCY', 'WOMENS COUNCIL', 'DISTANCE EDUCATION', 'COAL ASH COMN', 'INDIGENT DEFENSE SERVICES OFFICE', 'WORKERS COMPENSATION', 'SPEAKER', 'TRANSPORTATION DEPT.', 'MOTORCYCLES', 'LEASING', 'PUBLIC HEALTH', 'HEALTH SERVICES', 'MINORS', 'CHILD CARE COMN.', 'LOTTERY FUND', 'TOLL ROADS & BRIDGES', 'CONFIDENTIALITY', 'TOBACCO', 'BIDS & BIDDING', 'PUBLIC OFFICIALS', 'CHILD ABUSE', 'TUITION', 'HEALTH CHOICE', 'COMMUNITY COLLEGES BOARD', 'PHARMACEUTICALS', 'TOBACCO TRUST FUND', 'AGING', 'PLANNING & ZONING', 'EDUCATION', 'PRIVACY', 'INDIGENTS', 'FINES & PENALTIES', 'ROANOKE ISLAND COMN.', 'STATE AUDITOR', 'HIGHWAY USE', 'ADMINISTRATIVE RULES', 'CHIEF JUSTICE', 'TURNPIKE AUTHORITY BOARD', 'NEWBORNS & INFANTS', 'INFRASTRUCTURE', 'FORESTRY', 'DISEASES & HEALTH DISORDERS', 'ELECTROLYSIS BOARD', 'DOMESTIC VIOLENCE', 'STATE VETERINARIAN', 'WATER & SEWER SYSTEMS', 'COUNTIES', 'MEMBERSHIP', 'MARINE FISHERIES COMN.', 'WINERIES & BREWERIES', 'APPOINTMENTS', 'REAL ESTATE', 'GENERAL ASSEMBLY', 'AVIATION', 'MOTOR VEHICLES', 'JUSTICE REINVESTMENT COUNCIL', 'STORAGE TANKS', 'AGRICULTURAL WASTE', 'COUNCIL OF STATE', 'CULTURAL RESOURCES', 'TELEPHONES', 'SAFETY EQUIPMENT', 'FARMLAND PRESERVATION FUND', 'AGRICULTURE COMMISSIONER', 'MINORITIES', 'AIRPORT AUTHORITIES', 'KINDERGARTEN', 'GEOGRAPHY', 'CONTRACTS', 'COMMERCE', 'NURSING HOMES', 'STATE BUILDINGS', 'RAILROADS', 'PRIVATE SCHOOLS', 'INTERNSHIPS', 'REPORTING', 'STATE PROPERTY', 'LOANS', 'COASTAL RESOURCES', 'FRAUD', 'ANIMALS', 'PARKS & RECREATION AUTHORITY', 'ECONOMIC DEVELOPMENT OVERSIGHT COMM.', 'FOR-PROFIT', 'JUVENILE CODE', 'TRAILERS', 'DENTISTRY', 'VOCATIONAL EDUCATION', 'BURKE COUNTY', 'REFRIGERATION EXAMINERS BOARD', 'STATE HEALTH DIRECTOR', 'FOREST CITY', 'RECYCLING', 'HEALTH', 'SOILS', 'COUNCILS', 'SECONDARY EDUCATION', 'NAMED LAWS', 'SUPREME COURT', 'UTILITIES', 'INSPECTIONS', 'POVERTY', 'DEBTOR & CREDITOR', 'YOUTH ADVOCACY COUNCIL', 'TRIBAL GOVERNMENT', 'PARKING & PARKING STRUCTURES', 'SPEED LIMIT', 'LICENSE PLATES', 'PUBLIC', 'STATE BOARD OF', 'INSURANCE', 'INTERNET', 'WASTE MANAGEMENT', 'BUILDINGS', 'CORPORATE INCOME', 'ENVIRONMENTAL MANAGEMENT COMN.', 'LICENSING & CERTIFICATION', 'INMATES', 'UNC', 'HAZARDOUS WASTE', 'PUBLIC DEFENDERS', 'HORTICULTURE', 'SOCIAL SERVICES DEPTS.', 'PRINCIPALS', 'SOIL & WATER CONSERVATION COMN.', 'PREGNANCY', 'PURCHASING', 'ELEMENTARY EDUCATION', 'COSMETIC ART EXAMINERS BOARD', 'TRAVEL & TOURISM', 'ALARM SYSTEMS', 'FOSTER CARE', 'INDIVIDUAL INCOME', 'ZOOS', 'SCHOLARSHIPS', 'OPTICIANS BOARD', 'PROFESSIONAL EDUCATION', 'INTERNSHIP COUNCIL', 'REMEDIATION & CLEANUP', 'PARKS & RECREATION AREAS', 'WETLANDS', 'LAKE JAMES', 'LABOR DEPT.', 'SEATBELTS & RESTRAINTS', 'GEOGRAPHIC BOUNDARIES', 'WELFARE', 'LIBRARIES', 'PILOT PROGRAMS', 'STATE TREASURER', 'COMMITTEES', 'AGRICULTURE DEPT.', 'DAY CARE', 'MOBILE PHONES & DEVICES', 'DEFINITIONS', 'MEDICAID', 'EDUCATION ADMINISTRATION', 'ECONOMIC DEVELOPMENT', 'CHIEF INFORMATION OFFICER', 'NONPROFIT', 'LOCAL GOVERNMENT', 'HOUSING', 'CONSTRUCTION', 'REVENUE DEPT.', 'BEER & WINE', 'FOOD SERVICES', 'ABC COMN.', 'PORTS', 'PROGRAM EVALUATION DIVISION', 'MUSEUMS', 'SAFETY', 'FISHERIES', 'STATE CONTROLLER', 'RENEWABLE ENERGY STUDY COMM.', 'PESTICIDES & HERBICIDES', 'PRESENTED', 'TAXATION', 'PESTICIDE BOARD', 'APPROPRIATIONS', 'INFORMATION TECHNOLOGY', 'DURHAM COUNTY', 'TAX CREDITS', 'COMMUNICATIONS', 'ARCHAEOLOGY', 'WEATHER', 'MENTAL HEALTH', 'DEATH & DYING', 'COMMERCE DEPT.', 'WORKFORCE DEVELOPMENT BOARDS', 'SESSION LAWS', 'EMPLOYMENT', 'ELECTRONIC GOVERNMENT', 'EROSION STRUCTURES', 'MILITARY BASES', 'HAZARDOUS SUBSTANCES', 'LABOR COMMISSIONER', 'DISABLED PERSONS', 'NATURAL & CULTURAL RESOURCES DEPT.', 'CHAPTERED', 'AUCTIONEERS COMN.', 'AQUACULTURE', 'PRODUCE', 'PAROLE & PROBATION', 'FINANCIAL SERVICES', 'MINING & MINERAL EXTRACTION', 'COASTAL RESOURCES COMN.', 'LANDOWNERS'}\n",
      "\n",
      "\n",
      "topic 1:\n",
      "{'GATES COUNTY', 'BEAUFORT COUNTY', 'BOARDS', 'CRAVEN COUNTY', 'LOCAL GOVERNMENT', 'TYRRELL COUNTY', 'NASH COUNTY', 'GASTON COUNTY', 'MITCHELL COUNTY', 'EDENTON', 'CASWELL COUNTY', 'STOKES COUNTY', 'KINDERGARTEN', 'CHOWAN COUNTY', 'PASQUOTANK COUNTY', 'HAYWOOD COUNTY', 'PAMLICO COUNTY', 'SECONDARY EDUCATION', 'CURRITUCK COUNTY', 'ELIZABETH CITY', 'FRANKLIN COUNTY', 'YANCEY COUNTY', 'WASHINGTON COUNTY', 'CALENDAR', 'ELEMENTARY EDUCATION', 'MADISON COUNTY', 'PERQUIMANS COUNTY', 'MARTIN COUNTY', 'CAMDEN COUNTY', 'NORTHAMPTON COUNTY', 'EDUCATION', 'LOCAL', 'PUBLIC', 'EDGECOMBE COUNTY', 'ROCKY MOUNT', 'COUNTIES', 'BERTIE COUNTY', 'HERTFORD COUNTY', 'ROCKINGHAM COUNTY', 'AVERY COUNTY', 'MUNICIPALITIES', 'EDUCATION BOARDS'}\n",
      "\n",
      "\n",
      "topic 2:\n",
      "{'YADKIN COUNTY', 'CUMBERLAND COUNTY', 'STANLY COUNTY', 'WAKE COUNTY', 'ANSON COUNTY', 'UNION COUNTY', 'GRAHAM COUNTY', 'HAYWOOD COUNTY', 'SCOTLAND COUNTY', 'JACKSON COUNTY', 'CHEROKEE COUNTY', 'CABARRUS COUNTY', 'MECKLENBURG COUNTY', 'MACON COUNTY', 'ROWAN COUNTY', 'BUNCOMBE COUNTY', 'ALAMANCE COUNTY', 'RANDOLPH COUNTY', 'LOCAL', 'SWAIN COUNTY', 'COUNTIES', 'CLAY COUNTY', 'FORSYTH COUNTY', 'RICHMOND COUNTY', 'BLANK BILL'}\n"
     ]
    }
   ],
   "source": [
    "for topic_idx in range(n_topics):\n",
    "    k = \"topic \" + str(topic_idx)\n",
    "    print(\"\\n\")\n",
    "    print(k + \":\")\n",
    "    print(top_keywords[k])"
   ]
  }
 ],
 "metadata": {
  "anaconda-cloud": {},
  "kernelspec": {
   "display_name": "ncga (P3)",
   "language": "python",
   "name": "ncga (p3)"
  },
  "language_info": {
   "codemirror_mode": {
    "name": "ipython",
    "version": 3
   },
   "file_extension": ".py",
   "mimetype": "text/x-python",
   "name": "python",
   "nbconvert_exporter": "python",
   "pygments_lexer": "ipython3",
   "version": "3.5.2"
  }
 },
 "nbformat": 4,
 "nbformat_minor": 2
}
