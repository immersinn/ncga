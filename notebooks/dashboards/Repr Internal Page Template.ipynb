{
 "cells": [
  {
   "cell_type": "code",
   "execution_count": 1,
   "metadata": {
    "collapsed": false
   },
   "outputs": [],
   "source": [
    "from importlib import reload"
   ]
  },
  {
   "cell_type": "code",
   "execution_count": 2,
   "metadata": {
    "collapsed": true
   },
   "outputs": [],
   "source": [
    "sys.path.append(os.path.join(os.path.abspath('../..'), 'src'))\n",
    "sys.path.append(os.path.join(os.path.abspath('../..'), 'data'))"
   ]
  },
  {
   "cell_type": "code",
   "execution_count": 58,
   "metadata": {
    "collapsed": true
   },
   "outputs": [],
   "source": [
    "import utils\n",
    "import bill_proc_utils\n",
    "import bill_sponsor_analysis_pipeline\n",
    "import build_repr_report_pages"
   ]
  },
  {
   "cell_type": "code",
   "execution_count": 79,
   "metadata": {
    "collapsed": false
   },
   "outputs": [
    {
     "data": {
      "text/plain": [
       "<module 'build_repr_report_pages' from '/home/immersinn/gits/ncga/src/build_repr_report_pages.py'>"
      ]
     },
     "execution_count": 79,
     "metadata": {},
     "output_type": "execute_result"
    }
   ],
   "source": [
    "reload(bill_proc_utils)\n",
    "reload(bill_sponsor_analysis_pipeline)\n",
    "reload(build_repr_report_pages)"
   ]
  },
  {
   "cell_type": "code",
   "execution_count": 17,
   "metadata": {
    "collapsed": true
   },
   "outputs": [],
   "source": [
    "main_repo_dir = utils.get_main_dir()"
   ]
  },
  {
   "cell_type": "markdown",
   "metadata": {},
   "source": [
    "## Load Data"
   ]
  },
  {
   "cell_type": "code",
   "execution_count": 18,
   "metadata": {
    "collapsed": false
   },
   "outputs": [],
   "source": [
    "reprs_info, bill_info, sponsor_info = bill_sponsor_analysis_pipeline.main('2014')"
   ]
  },
  {
   "cell_type": "code",
   "execution_count": 19,
   "metadata": {
    "collapsed": false
   },
   "outputs": [
    {
     "data": {
      "text/html": [
       "<div>\n",
       "<table border=\"1\" class=\"dataframe\">\n",
       "  <thead>\n",
       "    <tr style=\"text-align: right;\">\n",
       "      <th></th>\n",
       "      <th>District</th>\n",
       "      <th>Session</th>\n",
       "      <th>Chamber</th>\n",
       "      <th>Name</th>\n",
       "      <th>Party</th>\n",
       "      <th>Incombant</th>\n",
       "      <th>Label</th>\n",
       "      <th>BillCount</th>\n",
       "    </tr>\n",
       "  </thead>\n",
       "  <tbody>\n",
       "    <tr>\n",
       "      <th>35</th>\n",
       "      <td>36</td>\n",
       "      <td>2014</td>\n",
       "      <td>S</td>\n",
       "      <td>Fletcher L. Hartsell, Jr.</td>\n",
       "      <td>R</td>\n",
       "      <td>NA</td>\n",
       "      <td>F.Hartsell (R)</td>\n",
       "      <td>69</td>\n",
       "    </tr>\n",
       "    <tr>\n",
       "      <th>93</th>\n",
       "      <td>44</td>\n",
       "      <td>2014</td>\n",
       "      <td>H</td>\n",
       "      <td>Rick Glazier</td>\n",
       "      <td>D</td>\n",
       "      <td>NA</td>\n",
       "      <td>R.Glazier (D)</td>\n",
       "      <td>69</td>\n",
       "    </tr>\n",
       "    <tr>\n",
       "      <th>9</th>\n",
       "      <td>10</td>\n",
       "      <td>2014</td>\n",
       "      <td>S</td>\n",
       "      <td>Brent Jackson</td>\n",
       "      <td>R</td>\n",
       "      <td>NA</td>\n",
       "      <td>B.Jackson (R)</td>\n",
       "      <td>62</td>\n",
       "    </tr>\n",
       "    <tr>\n",
       "      <th>47</th>\n",
       "      <td>48</td>\n",
       "      <td>2014</td>\n",
       "      <td>S</td>\n",
       "      <td>Tom Apodaca</td>\n",
       "      <td>R</td>\n",
       "      <td>NA</td>\n",
       "      <td>T.Apodaca (R)</td>\n",
       "      <td>57</td>\n",
       "    </tr>\n",
       "    <tr>\n",
       "      <th>40</th>\n",
       "      <td>41</td>\n",
       "      <td>2014</td>\n",
       "      <td>S</td>\n",
       "      <td>Jeff Tarte</td>\n",
       "      <td>R</td>\n",
       "      <td>NA</td>\n",
       "      <td>J.Tarte (R)</td>\n",
       "      <td>54</td>\n",
       "    </tr>\n",
       "  </tbody>\n",
       "</table>\n",
       "</div>"
      ],
      "text/plain": [
       "   District Session Chamber                       Name Party Incombant  \\\n",
       "35       36    2014       S  Fletcher L. Hartsell, Jr.     R        NA   \n",
       "93       44    2014       H               Rick Glazier     D        NA   \n",
       "9        10    2014       S              Brent Jackson     R        NA   \n",
       "47       48    2014       S                Tom Apodaca     R        NA   \n",
       "40       41    2014       S                 Jeff Tarte     R        NA   \n",
       "\n",
       "             Label  BillCount  \n",
       "35  F.Hartsell (R)         69  \n",
       "93   R.Glazier (D)         69  \n",
       "9    B.Jackson (R)         62  \n",
       "47   T.Apodaca (R)         57  \n",
       "40     J.Tarte (R)         54  "
      ]
     },
     "execution_count": 19,
     "metadata": {},
     "output_type": "execute_result"
    }
   ],
   "source": [
    "reprs_info.head()"
   ]
  },
  {
   "cell_type": "code",
   "execution_count": 20,
   "metadata": {
    "collapsed": false
   },
   "outputs": [
    {
     "data": {
      "text/html": [
       "<div>\n",
       "<table border=\"1\" class=\"dataframe\">\n",
       "  <thead>\n",
       "    <tr style=\"text-align: right;\">\n",
       "      <th></th>\n",
       "      <th>Session</th>\n",
       "      <th>Chamber</th>\n",
       "      <th>Bill</th>\n",
       "      <th>Content</th>\n",
       "      <th>LongTitle</th>\n",
       "      <th>TableInfo</th>\n",
       "      <th>Keywords</th>\n",
       "      <th>Sponsors</th>\n",
       "    </tr>\n",
       "  </thead>\n",
       "  <tbody>\n",
       "    <tr>\n",
       "      <th>0</th>\n",
       "      <td>2015E4</td>\n",
       "      <td>H</td>\n",
       "      <td>1</td>\n",
       "      <td>GENERAL ASSEMBLY OF NORTH CAROLINA  FOURTH EXT...</td>\n",
       "      <td>A HOUSE RESOLUTION adopting the permanent rule...</td>\n",
       "      <td>{'Referred to': '', 'Sponsors': 'Representativ...</td>\n",
       "      <td>[ADOPTED, GENERAL ASSEMBLY, RESOLUTIONS, SIMPL...</td>\n",
       "      <td>[Lewis]</td>\n",
       "    </tr>\n",
       "    <tr>\n",
       "      <th>1</th>\n",
       "      <td>2015E4</td>\n",
       "      <td>H</td>\n",
       "      <td>2</td>\n",
       "      <td>GENERAL ASSEMBLY OF NORTH CAROLINA  FOURTH EXT...</td>\n",
       "      <td>A JOINT RESOLUTIOn providing for adjournment s...</td>\n",
       "      <td>{'Referred to': '', 'Sponsors': 'Representativ...</td>\n",
       "      <td>[ADJOURNMENT, GENERAL ASSEMBLY, RESOLUTIONS, J...</td>\n",
       "      <td>[Lewis]</td>\n",
       "    </tr>\n",
       "    <tr>\n",
       "      <th>2</th>\n",
       "      <td>2015E4</td>\n",
       "      <td>H</td>\n",
       "      <td>3</td>\n",
       "      <td>GENERAL ASSEMBLY OF NORTH CAROLINA  FOURTH EXT...</td>\n",
       "      <td>AN ACT to provide further REGULATORY RELIEF TO...</td>\n",
       "      <td>{'Referred to': '', 'Short   Title': 'Regulato...</td>\n",
       "      <td>[ADMINISTRATION DEPT., ADMINISTRATIVE CODE, AD...</td>\n",
       "      <td>[McGrady, Dixon]</td>\n",
       "    </tr>\n",
       "    <tr>\n",
       "      <th>3</th>\n",
       "      <td>2015E4</td>\n",
       "      <td>H</td>\n",
       "      <td>4</td>\n",
       "      <td>GENERAL ASSEMBLY OF NORTH CAROLINA  FOURTH EXT...</td>\n",
       "      <td>AN ACT directing the department of transportat...</td>\n",
       "      <td>{'Referred to': '', 'Short   Title': 'Terminat...</td>\n",
       "      <td>[BRIDGES, CONTRACTS, COUNTIES, INFRASTRUCTURE,...</td>\n",
       "      <td>[Cotham, Bradford, J.Moore]</td>\n",
       "    </tr>\n",
       "    <tr>\n",
       "      <th>4</th>\n",
       "      <td>2015E4</td>\n",
       "      <td>H</td>\n",
       "      <td>5</td>\n",
       "      <td>GENERAL ASSEMBLY OF NORTH CAROLINA  FOURTH EXT...</td>\n",
       "      <td>AN ACT to clarify the service area for communi...</td>\n",
       "      <td>{'Referred to': '', 'Short   Title': 'Municipa...</td>\n",
       "      <td>[COUNTIES, EDGECOMBE COUNTY, INFORMATION TECHN...</td>\n",
       "      <td>[S.Martin]</td>\n",
       "    </tr>\n",
       "  </tbody>\n",
       "</table>\n",
       "</div>"
      ],
      "text/plain": [
       "  Session Chamber  Bill                                            Content  \\\n",
       "0  2015E4       H     1  GENERAL ASSEMBLY OF NORTH CAROLINA  FOURTH EXT...   \n",
       "1  2015E4       H     2  GENERAL ASSEMBLY OF NORTH CAROLINA  FOURTH EXT...   \n",
       "2  2015E4       H     3  GENERAL ASSEMBLY OF NORTH CAROLINA  FOURTH EXT...   \n",
       "3  2015E4       H     4  GENERAL ASSEMBLY OF NORTH CAROLINA  FOURTH EXT...   \n",
       "4  2015E4       H     5  GENERAL ASSEMBLY OF NORTH CAROLINA  FOURTH EXT...   \n",
       "\n",
       "                                           LongTitle  \\\n",
       "0  A HOUSE RESOLUTION adopting the permanent rule...   \n",
       "1  A JOINT RESOLUTIOn providing for adjournment s...   \n",
       "2  AN ACT to provide further REGULATORY RELIEF TO...   \n",
       "3  AN ACT directing the department of transportat...   \n",
       "4  AN ACT to clarify the service area for communi...   \n",
       "\n",
       "                                           TableInfo  \\\n",
       "0  {'Referred to': '', 'Sponsors': 'Representativ...   \n",
       "1  {'Referred to': '', 'Sponsors': 'Representativ...   \n",
       "2  {'Referred to': '', 'Short   Title': 'Regulato...   \n",
       "3  {'Referred to': '', 'Short   Title': 'Terminat...   \n",
       "4  {'Referred to': '', 'Short   Title': 'Municipa...   \n",
       "\n",
       "                                            Keywords  \\\n",
       "0  [ADOPTED, GENERAL ASSEMBLY, RESOLUTIONS, SIMPL...   \n",
       "1  [ADJOURNMENT, GENERAL ASSEMBLY, RESOLUTIONS, J...   \n",
       "2  [ADMINISTRATION DEPT., ADMINISTRATIVE CODE, AD...   \n",
       "3  [BRIDGES, CONTRACTS, COUNTIES, INFRASTRUCTURE,...   \n",
       "4  [COUNTIES, EDGECOMBE COUNTY, INFORMATION TECHN...   \n",
       "\n",
       "                      Sponsors  \n",
       "0                      [Lewis]  \n",
       "1                      [Lewis]  \n",
       "2             [McGrady, Dixon]  \n",
       "3  [Cotham, Bradford, J.Moore]  \n",
       "4                   [S.Martin]  "
      ]
     },
     "execution_count": 20,
     "metadata": {},
     "output_type": "execute_result"
    }
   ],
   "source": [
    "bill_info.head()"
   ]
  },
  {
   "cell_type": "code",
   "execution_count": 22,
   "metadata": {
    "collapsed": false
   },
   "outputs": [
    {
     "data": {
      "text/html": [
       "<div>\n",
       "<table border=\"1\" class=\"dataframe\">\n",
       "  <thead>\n",
       "    <tr style=\"text-align: right;\">\n",
       "      <th></th>\n",
       "      <th>BillID</th>\n",
       "      <th>Chamber</th>\n",
       "      <th>Name</th>\n",
       "      <th>SponsorID</th>\n",
       "    </tr>\n",
       "  </thead>\n",
       "  <tbody>\n",
       "    <tr>\n",
       "      <th>0</th>\n",
       "      <td>0</td>\n",
       "      <td>H</td>\n",
       "      <td>Lewis</td>\n",
       "      <td>102</td>\n",
       "    </tr>\n",
       "    <tr>\n",
       "      <th>1</th>\n",
       "      <td>1</td>\n",
       "      <td>H</td>\n",
       "      <td>Lewis</td>\n",
       "      <td>102</td>\n",
       "    </tr>\n",
       "    <tr>\n",
       "      <th>2</th>\n",
       "      <td>2</td>\n",
       "      <td>H</td>\n",
       "      <td>McGrady</td>\n",
       "      <td>166</td>\n",
       "    </tr>\n",
       "    <tr>\n",
       "      <th>3</th>\n",
       "      <td>2</td>\n",
       "      <td>H</td>\n",
       "      <td>Dixon</td>\n",
       "      <td>53</td>\n",
       "    </tr>\n",
       "    <tr>\n",
       "      <th>4</th>\n",
       "      <td>3</td>\n",
       "      <td>H</td>\n",
       "      <td>Cotham</td>\n",
       "      <td>149</td>\n",
       "    </tr>\n",
       "  </tbody>\n",
       "</table>\n",
       "</div>"
      ],
      "text/plain": [
       "   BillID Chamber     Name  SponsorID\n",
       "0       0       H    Lewis        102\n",
       "1       1       H    Lewis        102\n",
       "2       2       H  McGrady        166\n",
       "3       2       H    Dixon         53\n",
       "4       3       H   Cotham        149"
      ]
     },
     "execution_count": 22,
     "metadata": {},
     "output_type": "execute_result"
    }
   ],
   "source": [
    "sponsor_info.head()"
   ]
  },
  {
   "cell_type": "markdown",
   "metadata": {},
   "source": [
    "## Data for Individual Represenatatives"
   ]
  },
  {
   "cell_type": "code",
   "execution_count": 36,
   "metadata": {
    "collapsed": false
   },
   "outputs": [],
   "source": [
    "# These are our lookup tables\n",
    "reprs_bills = sponsor_info.groupby('SponsorID')\n",
    "bills_reprs = sponsor_info.groupby('BillID')"
   ]
  },
  {
   "cell_type": "code",
   "execution_count": 37,
   "metadata": {
    "collapsed": false
   },
   "outputs": [
    {
     "data": {
      "text/plain": [
       "[35, 93, 9, 47, 40, 117, 146, 28, 45, 137]"
      ]
     },
     "execution_count": 37,
     "metadata": {},
     "output_type": "execute_result"
    }
   ],
   "source": [
    "s_ixs = list(reprs_info.index)\n",
    "s_ixs[:10]"
   ]
  },
  {
   "cell_type": "code",
   "execution_count": 38,
   "metadata": {
    "collapsed": true
   },
   "outputs": [],
   "source": [
    "repr_id = s_ixs[0]"
   ]
  },
  {
   "cell_type": "markdown",
   "metadata": {},
   "source": [
    "### List of Bills"
   ]
  },
  {
   "cell_type": "code",
   "execution_count": 52,
   "metadata": {
    "collapsed": false
   },
   "outputs": [
    {
     "data": {
      "text/plain": [
       "[1285, 1286, 1313, 1314, 1317]"
      ]
     },
     "execution_count": 52,
     "metadata": {},
     "output_type": "execute_result"
    }
   ],
   "source": [
    "repr_bills = list(reprs_bills.get_group(repr_id)['BillID'])\n",
    "repr_bills[:5]"
   ]
  },
  {
   "cell_type": "markdown",
   "metadata": {},
   "source": [
    "### Subset of Bills"
   ]
  },
  {
   "cell_type": "code",
   "execution_count": 54,
   "metadata": {
    "collapsed": true
   },
   "outputs": [],
   "source": [
    "sub_bi = build_repr_report_pages.get_repr_bi(bill_info, repr_bills)"
   ]
  },
  {
   "cell_type": "code",
   "execution_count": 55,
   "metadata": {
    "collapsed": false
   },
   "outputs": [
    {
     "data": {
      "text/html": [
       "<div>\n",
       "<table border=\"1\" class=\"dataframe\">\n",
       "  <thead>\n",
       "    <tr style=\"text-align: right;\">\n",
       "      <th></th>\n",
       "      <th>Session</th>\n",
       "      <th>Chamber</th>\n",
       "      <th>Bill</th>\n",
       "      <th>Title</th>\n",
       "      <th>Keywords</th>\n",
       "      <th>Sponsors</th>\n",
       "    </tr>\n",
       "  </thead>\n",
       "  <tbody>\n",
       "    <tr>\n",
       "      <th>1285</th>\n",
       "      <td>2015</td>\n",
       "      <td>S</td>\n",
       "      <td>91</td>\n",
       "      <td>SOG Pilot Project Standards. (Public)</td>\n",
       "      <td>[PILOT PROGRAMS, PUBLIC, REPORTS, SCHOOL OF GO...</td>\n",
       "      <td>[Hartsell]</td>\n",
       "    </tr>\n",
       "    <tr>\n",
       "      <th>1286</th>\n",
       "      <td>2015</td>\n",
       "      <td>S</td>\n",
       "      <td>92</td>\n",
       "      <td>Codifier of Rules appointment. (Public)</td>\n",
       "      <td>[ADMIN. HEARINGS OFFICE, ADMINISTRATIVE CODE, ...</td>\n",
       "      <td>[Hartsell]</td>\n",
       "    </tr>\n",
       "    <tr>\n",
       "      <th>1313</th>\n",
       "      <td>2015</td>\n",
       "      <td>S</td>\n",
       "      <td>119</td>\n",
       "      <td>GSC Technical Corrections 2015. (Public)</td>\n",
       "      <td>[ADMIN. PROCEDURE OVERSIGHT COMM., ADMINISTRAT...</td>\n",
       "      <td>[Hartsell]</td>\n",
       "    </tr>\n",
       "    <tr>\n",
       "      <th>1314</th>\n",
       "      <td>2015</td>\n",
       "      <td>S</td>\n",
       "      <td>120</td>\n",
       "      <td>DOI License Processing Fees. (Public)</td>\n",
       "      <td>[CONTRACTS, FEES, INSURANCE, INSURANCE DEPT., ...</td>\n",
       "      <td>[Hartsell]</td>\n",
       "    </tr>\n",
       "    <tr>\n",
       "      <th>1317</th>\n",
       "      <td>2015</td>\n",
       "      <td>S</td>\n",
       "      <td>123</td>\n",
       "      <td>Uniform Fraudulent Transfer Act. (Public)</td>\n",
       "      <td>[CHAPTERED, COMMERCE, CORPORATIONS, FOR-PROFIT...</td>\n",
       "      <td>[Hartsell]</td>\n",
       "    </tr>\n",
       "  </tbody>\n",
       "</table>\n",
       "</div>"
      ],
      "text/plain": [
       "     Session Chamber  Bill                                      Title  \\\n",
       "1285    2015       S    91      SOG Pilot Project Standards. (Public)   \n",
       "1286    2015       S    92    Codifier of Rules appointment. (Public)   \n",
       "1313    2015       S   119   GSC Technical Corrections 2015. (Public)   \n",
       "1314    2015       S   120      DOI License Processing Fees. (Public)   \n",
       "1317    2015       S   123  Uniform Fraudulent Transfer Act. (Public)   \n",
       "\n",
       "                                               Keywords    Sponsors  \n",
       "1285  [PILOT PROGRAMS, PUBLIC, REPORTS, SCHOOL OF GO...  [Hartsell]  \n",
       "1286  [ADMIN. HEARINGS OFFICE, ADMINISTRATIVE CODE, ...  [Hartsell]  \n",
       "1313  [ADMIN. PROCEDURE OVERSIGHT COMM., ADMINISTRAT...  [Hartsell]  \n",
       "1314  [CONTRACTS, FEES, INSURANCE, INSURANCE DEPT., ...  [Hartsell]  \n",
       "1317  [CHAPTERED, COMMERCE, CORPORATIONS, FOR-PROFIT...  [Hartsell]  "
      ]
     },
     "execution_count": 55,
     "metadata": {},
     "output_type": "execute_result"
    }
   ],
   "source": [
    "sub_bi.head()"
   ]
  },
  {
   "cell_type": "markdown",
   "metadata": {},
   "source": [
    "### Bill Co-sponsor Info"
   ]
  },
  {
   "cell_type": "code",
   "execution_count": 56,
   "metadata": {
    "collapsed": false
   },
   "outputs": [],
   "source": [
    "repr_cosponsors =  build_repr_report_pages.build_cos_df(repr_bills, repr_id,\n",
    "                 reprs_info,\n",
    "                 reprs_bills, bills_reprs)"
   ]
  },
  {
   "cell_type": "code",
   "execution_count": 57,
   "metadata": {
    "collapsed": false
   },
   "outputs": [
    {
     "data": {
      "text/html": [
       "<div>\n",
       "<table border=\"1\" class=\"dataframe\">\n",
       "  <thead>\n",
       "    <tr style=\"text-align: right;\">\n",
       "      <th></th>\n",
       "      <th>ID</th>\n",
       "      <th>Name</th>\n",
       "      <th>Count</th>\n",
       "    </tr>\n",
       "  </thead>\n",
       "  <tbody>\n",
       "    <tr>\n",
       "      <th>15</th>\n",
       "      <td>35</td>\n",
       "      <td>Fletcher L. Hartsell, Jr.</td>\n",
       "      <td>53</td>\n",
       "    </tr>\n",
       "    <tr>\n",
       "      <th>19</th>\n",
       "      <td>45</td>\n",
       "      <td>Warren Daniel</td>\n",
       "      <td>3</td>\n",
       "    </tr>\n",
       "    <tr>\n",
       "      <th>7</th>\n",
       "      <td>19</td>\n",
       "      <td>Floyd McKissick</td>\n",
       "      <td>3</td>\n",
       "    </tr>\n",
       "    <tr>\n",
       "      <th>13</th>\n",
       "      <td>30</td>\n",
       "      <td>Joyce Krawiec</td>\n",
       "      <td>3</td>\n",
       "    </tr>\n",
       "    <tr>\n",
       "      <th>20</th>\n",
       "      <td>29</td>\n",
       "      <td>Shirley Randleman</td>\n",
       "      <td>2</td>\n",
       "    </tr>\n",
       "  </tbody>\n",
       "</table>\n",
       "</div>"
      ],
      "text/plain": [
       "    ID                       Name  Count\n",
       "15  35  Fletcher L. Hartsell, Jr.     53\n",
       "19  45              Warren Daniel      3\n",
       "7   19            Floyd McKissick      3\n",
       "13  30              Joyce Krawiec      3\n",
       "20  29          Shirley Randleman      2"
      ]
     },
     "execution_count": 57,
     "metadata": {},
     "output_type": "execute_result"
    }
   ],
   "source": [
    "repr_cosponsors.head()"
   ]
  },
  {
   "cell_type": "markdown",
   "metadata": {},
   "source": [
    "### Bill Keyword Info"
   ]
  },
  {
   "cell_type": "code",
   "execution_count": 72,
   "metadata": {
    "collapsed": false
   },
   "outputs": [],
   "source": [
    "repr_keywords = bill_proc_utils.build_keywords_df(sub_bi, cutoff=5)"
   ]
  },
  {
   "cell_type": "code",
   "execution_count": 73,
   "metadata": {
    "collapsed": false
   },
   "outputs": [
    {
     "data": {
      "text/plain": [
       "(50, 3)"
      ]
     },
     "execution_count": 73,
     "metadata": {},
     "output_type": "execute_result"
    }
   ],
   "source": [
    "repr_keywords.shape"
   ]
  },
  {
   "cell_type": "code",
   "execution_count": 74,
   "metadata": {
    "collapsed": false
   },
   "outputs": [
    {
     "data": {
      "text/html": [
       "<div>\n",
       "<table border=\"1\" class=\"dataframe\">\n",
       "  <thead>\n",
       "    <tr style=\"text-align: right;\">\n",
       "      <th></th>\n",
       "      <th>Keyword</th>\n",
       "      <th>Count</th>\n",
       "      <th>Rank</th>\n",
       "    </tr>\n",
       "  </thead>\n",
       "  <tbody>\n",
       "    <tr>\n",
       "      <th>12</th>\n",
       "      <td>PUBLIC</td>\n",
       "      <td>67</td>\n",
       "      <td>1</td>\n",
       "    </tr>\n",
       "    <tr>\n",
       "      <th>364</th>\n",
       "      <td>EMPLOYMENT</td>\n",
       "      <td>18</td>\n",
       "      <td>2</td>\n",
       "    </tr>\n",
       "    <tr>\n",
       "      <th>238</th>\n",
       "      <td>BOARDS</td>\n",
       "      <td>17</td>\n",
       "      <td>3</td>\n",
       "    </tr>\n",
       "    <tr>\n",
       "      <th>146</th>\n",
       "      <td>LOCAL GOVERNMENT</td>\n",
       "      <td>15</td>\n",
       "      <td>4</td>\n",
       "    </tr>\n",
       "    <tr>\n",
       "      <th>360</th>\n",
       "      <td>INSURANCE</td>\n",
       "      <td>15</td>\n",
       "      <td>5</td>\n",
       "    </tr>\n",
       "  </tbody>\n",
       "</table>\n",
       "</div>"
      ],
      "text/plain": [
       "              Keyword  Count  Rank\n",
       "12             PUBLIC     67     1\n",
       "364        EMPLOYMENT     18     2\n",
       "238            BOARDS     17     3\n",
       "146  LOCAL GOVERNMENT     15     4\n",
       "360         INSURANCE     15     5"
      ]
     },
     "execution_count": 74,
     "metadata": {},
     "output_type": "execute_result"
    }
   ],
   "source": [
    "repr_keywords.head()"
   ]
  },
  {
   "cell_type": "markdown",
   "metadata": {},
   "source": [
    "### All"
   ]
  },
  {
   "cell_type": "code",
   "execution_count": 80,
   "metadata": {
    "collapsed": false
   },
   "outputs": [],
   "source": [
    "repr_data = build_repr_report_pages.get_repr_data(repr_id, bill_info, reprs_info, reprs_bills, bills_reprs)"
   ]
  },
  {
   "cell_type": "code",
   "execution_count": 81,
   "metadata": {
    "collapsed": false
   },
   "outputs": [
    {
     "data": {
      "text/plain": [
       "dict_keys(['BillKeywords', 'Cosponsors', 'Bills'])"
      ]
     },
     "execution_count": 81,
     "metadata": {},
     "output_type": "execute_result"
    }
   ],
   "source": [
    "repr_data.keys()"
   ]
  },
  {
   "cell_type": "code",
   "execution_count": null,
   "metadata": {
    "collapsed": true
   },
   "outputs": [],
   "source": []
  }
 ],
 "metadata": {
  "kernelspec": {
   "display_name": "ncga (P3)",
   "language": "python",
   "name": "ncga (p3)"
  },
  "language_info": {
   "codemirror_mode": {
    "name": "ipython",
    "version": 3
   },
   "file_extension": ".py",
   "mimetype": "text/x-python",
   "name": "python",
   "nbconvert_exporter": "python",
   "pygments_lexer": "ipython3",
   "version": "3.5.2"
  }
 },
 "nbformat": 4,
 "nbformat_minor": 2
}
